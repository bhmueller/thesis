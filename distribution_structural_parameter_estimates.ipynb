{
 "cells": [
  {
   "cell_type": "markdown",
   "metadata": {},
   "source": [
    "# Shapley effects for the Rust Model"
   ]
  },
  {
   "cell_type": "code",
   "execution_count": 82,
   "metadata": {},
   "outputs": [],
   "source": [
    "# Import statements as in simulation_convergence.ipynb.\n",
    "import matplotlib.pyplot as plt\n",
    "#import yaml\n",
    "import numpy as np\n",
    "from ruspy.simulation.simulation import simulate\n",
    "from ruspy.model_code.fix_point_alg import calc_fixp\n",
    "from ruspy.model_code.cost_functions import lin_cost\n",
    "from ruspy.model_code.cost_functions import calc_obs_costs\n",
    "from ruspy.estimation.estimation_transitions import create_transition_matrix\n",
    "\n",
    "# Additional imports from get_demand module.\n",
    "from ruspy.estimation.estimation_interface import select_model_parameters\n",
    "from ruspy.model_code.choice_probabilities import choice_prob_gumbel\n",
    "\n",
    "# Additional import from tutorial uncertainty propagation.\n",
    "import matplotlib as mpl\n",
    "\n",
    "# My imports.\n",
    "import chaospy as cp\n",
    "import seaborn as sns\n",
    "import pandas as pd\n",
    "import matplotlib.pyplot as plt\n",
    "from ruspy.estimation.estimation import estimate\n",
    "from ruspy.model_code.demand_function import get_demand\n",
    "from python.econsa_shapley import get_shapley"
   ]
  },
  {
   "cell_type": "markdown",
   "metadata": {},
   "source": [
    "## Understand simulation capabilities of `ruspy`\n",
    "The below code is taken from the notebook simulation_convergence provided as promotional material for `ruspy`."
   ]
  },
  {
   "cell_type": "code",
   "execution_count": 2,
   "metadata": {},
   "outputs": [],
   "source": [
    "# Set simulating variables\n",
    "disc_fac = 0.9999\n",
    "num_buses = 50\n",
    "num_periods = 120\n",
    "gridsize = 1000\n",
    "# We use the cost parameters and transition probabilities from the replication\n",
    "params = np.array([10.07780762, 2.29417622])\n",
    "trans_probs = np.array([0.39189182, 0.59529371, 0.01281447])\n",
    "scale = 1e-3\n",
    "\n",
    "init_dict_sim = {\n",
    "    \"simulation\": {\n",
    "        \"discount_factor\": disc_fac,\n",
    "        \"periods\": num_periods,\n",
    "        \"seed\": 123,\n",
    "        \"buses\": num_buses,\n",
    "    },\n",
    "    \"plot\": {\"gridsize\": gridsize},\n",
    "}"
   ]
  },
  {
   "cell_type": "code",
   "execution_count": 3,
   "metadata": {},
   "outputs": [],
   "source": [
    "# Calucalte objects necessary for the simulation process. See documentation for details.\n",
    "num_states = 200\n",
    "costs = calc_obs_costs(num_states, lin_cost, params, scale)\n",
    "\n",
    "trans_mat = create_transition_matrix(num_states, trans_probs)\n",
    "ev = calc_fixp(trans_mat, costs, disc_fac)[0]"
   ]
  },
  {
   "cell_type": "code",
   "execution_count": 4,
   "metadata": {},
   "outputs": [],
   "source": [
    "# Can use one init_dict for get_demand() and estimate().\n",
    "init_dict_estimation = {\n",
    "    'model_specifications': {\n",
    "        'discount_factor': disc_fac,\n",
    "        'number_states': num_states,\n",
    "        'maint_cost_func': 'linear',\n",
    "        'cost_scale': 1e-3\n",
    "    },\n",
    "    'optimizer': {\n",
    "        'approach': 'NFXP',\n",
    "        'algorithm': 'scipy_L-BFGS-B',\n",
    "        'gradient': 'Yes'\n",
    "    },\n",
    "    \n",
    "}"
   ]
  },
  {
   "cell_type": "code",
   "execution_count": 5,
   "metadata": {},
   "outputs": [
    {
     "name": "stdout",
     "output_type": "stream",
     "text": [
      "Wall time: 4min 33s\n"
     ]
    }
   ],
   "source": [
    "%%time\n",
    "\n",
    "# Define number of simulations.\n",
    "num_sim = 100\n",
    "\n",
    "# Initialize array to save parameter estimates.\n",
    "parameter_estimates = np.zeros((num_sim, len(trans_probs) + len(params) -1))\n",
    "\n",
    "for i in np.arange(num_sim):\n",
    "    \n",
    "    init_dict_sim['simulation']['seed'] = +i\n",
    "    \n",
    "    df = simulate(init_dict_sim[\"simulation\"], ev, costs, trans_mat)\n",
    "    data = df[['state', 'decision', 'usage']].copy()\n",
    "    \n",
    "    result_transitions_nfxp, result_fixp_nfxp = estimate(init_dict_estimation, data)\n",
    "    \n",
    "    # Record only two of three transition probabilities i.o.t. avoid singularity of the covariance matrix.\n",
    "    parameter_estimates[i, :] = np.concatenate((result_transitions_nfxp['x'][:2], result_fixp_nfxp['x']))"
   ]
  },
  {
   "cell_type": "code",
   "execution_count": 6,
   "metadata": {},
   "outputs": [],
   "source": [
    "cov = np.cov(parameter_estimates.T)"
   ]
  },
  {
   "cell_type": "code",
   "execution_count": 7,
   "metadata": {},
   "outputs": [],
   "source": [
    "mean = np.mean(parameter_estimates, axis=0)"
   ]
  },
  {
   "cell_type": "code",
   "execution_count": 8,
   "metadata": {},
   "outputs": [],
   "source": [
    "distribution = cp.MvNormal(mean, cov)\n",
    "parameter_samples = pd.DataFrame(data=(distribution.sample(1000).T),\n",
    "                                 columns=('t_30', 't_31', 'RC', 't_11'),\n",
    "                                )"
   ]
  },
  {
   "cell_type": "code",
   "execution_count": 9,
   "metadata": {},
   "outputs": [
    {
     "data": {
      "text/html": [
       "<div>\n",
       "<style scoped>\n",
       "    .dataframe tbody tr th:only-of-type {\n",
       "        vertical-align: middle;\n",
       "    }\n",
       "\n",
       "    .dataframe tbody tr th {\n",
       "        vertical-align: top;\n",
       "    }\n",
       "\n",
       "    .dataframe thead th {\n",
       "        text-align: right;\n",
       "    }\n",
       "</style>\n",
       "<table border=\"1\" class=\"dataframe\">\n",
       "  <thead>\n",
       "    <tr style=\"text-align: right;\">\n",
       "      <th></th>\n",
       "      <th>t_30</th>\n",
       "      <th>t_31</th>\n",
       "      <th>RC</th>\n",
       "      <th>t_11</th>\n",
       "    </tr>\n",
       "  </thead>\n",
       "  <tbody>\n",
       "    <tr>\n",
       "      <th>0</th>\n",
       "      <td>0.396667</td>\n",
       "      <td>0.591867</td>\n",
       "      <td>11.238178</td>\n",
       "      <td>2.733353</td>\n",
       "    </tr>\n",
       "    <tr>\n",
       "      <th>1</th>\n",
       "      <td>0.384778</td>\n",
       "      <td>0.600740</td>\n",
       "      <td>6.455390</td>\n",
       "      <td>1.250078</td>\n",
       "    </tr>\n",
       "    <tr>\n",
       "      <th>2</th>\n",
       "      <td>0.379826</td>\n",
       "      <td>0.608713</td>\n",
       "      <td>8.532692</td>\n",
       "      <td>1.513996</td>\n",
       "    </tr>\n",
       "    <tr>\n",
       "      <th>3</th>\n",
       "      <td>0.404034</td>\n",
       "      <td>0.580344</td>\n",
       "      <td>9.673084</td>\n",
       "      <td>2.034186</td>\n",
       "    </tr>\n",
       "    <tr>\n",
       "      <th>4</th>\n",
       "      <td>0.393743</td>\n",
       "      <td>0.591214</td>\n",
       "      <td>9.142665</td>\n",
       "      <td>1.391308</td>\n",
       "    </tr>\n",
       "    <tr>\n",
       "      <th>...</th>\n",
       "      <td>...</td>\n",
       "      <td>...</td>\n",
       "      <td>...</td>\n",
       "      <td>...</td>\n",
       "    </tr>\n",
       "    <tr>\n",
       "      <th>995</th>\n",
       "      <td>0.387117</td>\n",
       "      <td>0.599726</td>\n",
       "      <td>10.328949</td>\n",
       "      <td>2.161428</td>\n",
       "    </tr>\n",
       "    <tr>\n",
       "      <th>996</th>\n",
       "      <td>0.400130</td>\n",
       "      <td>0.587388</td>\n",
       "      <td>9.950047</td>\n",
       "      <td>2.330865</td>\n",
       "    </tr>\n",
       "    <tr>\n",
       "      <th>997</th>\n",
       "      <td>0.397502</td>\n",
       "      <td>0.590932</td>\n",
       "      <td>8.651674</td>\n",
       "      <td>1.654523</td>\n",
       "    </tr>\n",
       "    <tr>\n",
       "      <th>998</th>\n",
       "      <td>0.384218</td>\n",
       "      <td>0.600816</td>\n",
       "      <td>10.344375</td>\n",
       "      <td>2.042824</td>\n",
       "    </tr>\n",
       "    <tr>\n",
       "      <th>999</th>\n",
       "      <td>0.391219</td>\n",
       "      <td>0.595662</td>\n",
       "      <td>10.002834</td>\n",
       "      <td>2.234667</td>\n",
       "    </tr>\n",
       "  </tbody>\n",
       "</table>\n",
       "<p>1000 rows × 4 columns</p>\n",
       "</div>"
      ],
      "text/plain": [
       "         t_30      t_31         RC      t_11\n",
       "0    0.396667  0.591867  11.238178  2.733353\n",
       "1    0.384778  0.600740   6.455390  1.250078\n",
       "2    0.379826  0.608713   8.532692  1.513996\n",
       "3    0.404034  0.580344   9.673084  2.034186\n",
       "4    0.393743  0.591214   9.142665  1.391308\n",
       "..        ...       ...        ...       ...\n",
       "995  0.387117  0.599726  10.328949  2.161428\n",
       "996  0.400130  0.587388   9.950047  2.330865\n",
       "997  0.397502  0.590932   8.651674  1.654523\n",
       "998  0.384218  0.600816  10.344375  2.042824\n",
       "999  0.391219  0.595662  10.002834  2.234667\n",
       "\n",
       "[1000 rows x 4 columns]"
      ]
     },
     "execution_count": 9,
     "metadata": {},
     "output_type": "execute_result"
    }
   ],
   "source": [
    "parameter_samples"
   ]
  },
  {
   "cell_type": "code",
   "execution_count": 10,
   "metadata": {},
   "outputs": [],
   "source": [
    "# Add third transition probability: t_32 = 1 - t_30 - t_31\n",
    "parameter_samples['t_32'] = 1 - parameter_samples['t_30'] - parameter_samples['t_31']"
   ]
  },
  {
   "cell_type": "code",
   "execution_count": 11,
   "metadata": {},
   "outputs": [
    {
     "data": {
      "text/html": [
       "<div>\n",
       "<style scoped>\n",
       "    .dataframe tbody tr th:only-of-type {\n",
       "        vertical-align: middle;\n",
       "    }\n",
       "\n",
       "    .dataframe tbody tr th {\n",
       "        vertical-align: top;\n",
       "    }\n",
       "\n",
       "    .dataframe thead th {\n",
       "        text-align: right;\n",
       "    }\n",
       "</style>\n",
       "<table border=\"1\" class=\"dataframe\">\n",
       "  <thead>\n",
       "    <tr style=\"text-align: right;\">\n",
       "      <th></th>\n",
       "      <th>t_30</th>\n",
       "      <th>t_31</th>\n",
       "      <th>RC</th>\n",
       "      <th>t_11</th>\n",
       "      <th>t_32</th>\n",
       "    </tr>\n",
       "  </thead>\n",
       "  <tbody>\n",
       "    <tr>\n",
       "      <th>0</th>\n",
       "      <td>0.396667</td>\n",
       "      <td>0.591867</td>\n",
       "      <td>11.238178</td>\n",
       "      <td>2.733353</td>\n",
       "      <td>0.011467</td>\n",
       "    </tr>\n",
       "    <tr>\n",
       "      <th>1</th>\n",
       "      <td>0.384778</td>\n",
       "      <td>0.600740</td>\n",
       "      <td>6.455390</td>\n",
       "      <td>1.250078</td>\n",
       "      <td>0.014482</td>\n",
       "    </tr>\n",
       "    <tr>\n",
       "      <th>2</th>\n",
       "      <td>0.379826</td>\n",
       "      <td>0.608713</td>\n",
       "      <td>8.532692</td>\n",
       "      <td>1.513996</td>\n",
       "      <td>0.011461</td>\n",
       "    </tr>\n",
       "    <tr>\n",
       "      <th>3</th>\n",
       "      <td>0.404034</td>\n",
       "      <td>0.580344</td>\n",
       "      <td>9.673084</td>\n",
       "      <td>2.034186</td>\n",
       "      <td>0.015622</td>\n",
       "    </tr>\n",
       "    <tr>\n",
       "      <th>4</th>\n",
       "      <td>0.393743</td>\n",
       "      <td>0.591214</td>\n",
       "      <td>9.142665</td>\n",
       "      <td>1.391308</td>\n",
       "      <td>0.015043</td>\n",
       "    </tr>\n",
       "    <tr>\n",
       "      <th>...</th>\n",
       "      <td>...</td>\n",
       "      <td>...</td>\n",
       "      <td>...</td>\n",
       "      <td>...</td>\n",
       "      <td>...</td>\n",
       "    </tr>\n",
       "    <tr>\n",
       "      <th>995</th>\n",
       "      <td>0.387117</td>\n",
       "      <td>0.599726</td>\n",
       "      <td>10.328949</td>\n",
       "      <td>2.161428</td>\n",
       "      <td>0.013157</td>\n",
       "    </tr>\n",
       "    <tr>\n",
       "      <th>996</th>\n",
       "      <td>0.400130</td>\n",
       "      <td>0.587388</td>\n",
       "      <td>9.950047</td>\n",
       "      <td>2.330865</td>\n",
       "      <td>0.012482</td>\n",
       "    </tr>\n",
       "    <tr>\n",
       "      <th>997</th>\n",
       "      <td>0.397502</td>\n",
       "      <td>0.590932</td>\n",
       "      <td>8.651674</td>\n",
       "      <td>1.654523</td>\n",
       "      <td>0.011566</td>\n",
       "    </tr>\n",
       "    <tr>\n",
       "      <th>998</th>\n",
       "      <td>0.384218</td>\n",
       "      <td>0.600816</td>\n",
       "      <td>10.344375</td>\n",
       "      <td>2.042824</td>\n",
       "      <td>0.014965</td>\n",
       "    </tr>\n",
       "    <tr>\n",
       "      <th>999</th>\n",
       "      <td>0.391219</td>\n",
       "      <td>0.595662</td>\n",
       "      <td>10.002834</td>\n",
       "      <td>2.234667</td>\n",
       "      <td>0.013119</td>\n",
       "    </tr>\n",
       "  </tbody>\n",
       "</table>\n",
       "<p>1000 rows × 5 columns</p>\n",
       "</div>"
      ],
      "text/plain": [
       "         t_30      t_31         RC      t_11      t_32\n",
       "0    0.396667  0.591867  11.238178  2.733353  0.011467\n",
       "1    0.384778  0.600740   6.455390  1.250078  0.014482\n",
       "2    0.379826  0.608713   8.532692  1.513996  0.011461\n",
       "3    0.404034  0.580344   9.673084  2.034186  0.015622\n",
       "4    0.393743  0.591214   9.142665  1.391308  0.015043\n",
       "..        ...       ...        ...       ...       ...\n",
       "995  0.387117  0.599726  10.328949  2.161428  0.013157\n",
       "996  0.400130  0.587388   9.950047  2.330865  0.012482\n",
       "997  0.397502  0.590932   8.651674  1.654523  0.011566\n",
       "998  0.384218  0.600816  10.344375  2.042824  0.014965\n",
       "999  0.391219  0.595662  10.002834  2.234667  0.013119\n",
       "\n",
       "[1000 rows x 5 columns]"
      ]
     },
     "execution_count": 11,
     "metadata": {},
     "output_type": "execute_result"
    }
   ],
   "source": [
    "parameter_samples"
   ]
  },
  {
   "cell_type": "code",
   "execution_count": 26,
   "metadata": {},
   "outputs": [],
   "source": [
    "# Plot distributions.\n",
    "#sns.jointplot(data=parameter_samples, x='RC', y='t_11')"
   ]
  },
  {
   "cell_type": "code",
   "execution_count": 27,
   "metadata": {},
   "outputs": [],
   "source": [
    "# Plot distributions.\n",
    "#sns.displot(parameter_samples, x='RC', y='t_11')"
   ]
  },
  {
   "cell_type": "code",
   "execution_count": 33,
   "metadata": {},
   "outputs": [],
   "source": [
    "# Plot distributions.\n",
    "#sns.pairplot(parameter_samples)"
   ]
  },
  {
   "cell_type": "markdown",
   "metadata": {},
   "source": [
    "### Calculate demand level from structural parameter estimates"
   ]
  },
  {
   "cell_type": "code",
   "execution_count": 64,
   "metadata": {},
   "outputs": [],
   "source": [
    "# Sample data.\n",
    "n_sim_demand = 100\n",
    "input_variables = cp.MvNormal(mean, cov).sample(n_sim_demand).T"
   ]
  },
  {
   "cell_type": "code",
   "execution_count": 66,
   "metadata": {},
   "outputs": [],
   "source": [
    "#input_variables"
   ]
  },
  {
   "cell_type": "code",
   "execution_count": 67,
   "metadata": {},
   "outputs": [],
   "source": [
    "n_inputs = 5\n",
    "inputs = np.zeros((n_sim_demand, n_inputs))"
   ]
  },
  {
   "cell_type": "code",
   "execution_count": 68,
   "metadata": {},
   "outputs": [],
   "source": [
    "# Fill the inputs array.\n",
    "inputs[:,:2] = input_variables[:,:2]\n",
    "# At third position insert thrid transition probability.\n",
    "inputs[:, 2] = 1 - input_variables[:, 0] - input_variables[:, 1]\n",
    "inputs[:, 3:] = input_variables[:, 2:]"
   ]
  },
  {
   "cell_type": "code",
   "execution_count": 70,
   "metadata": {},
   "outputs": [],
   "source": [
    "#inputs"
   ]
  },
  {
   "cell_type": "code",
   "execution_count": 46,
   "metadata": {},
   "outputs": [],
   "source": [
    "# Need demand at certain value of RC only.\n",
    "demand_dict = {\n",
    "    \"RC_lower_bound\": 4,\n",
    "    \"RC_upper_bound\": 13,\n",
    "    \"demand_evaluations\": 100,\n",
    "    \"tolerance\": 1e-10,\n",
    "    \"num_periods\": num_periods,\n",
    "    \"num_buses\": num_buses,\n",
    "}\n",
    "demand_params = inputs[0, :]"
   ]
  },
  {
   "cell_type": "code",
   "execution_count": 47,
   "metadata": {},
   "outputs": [
    {
     "data": {
      "text/html": [
       "<div>\n",
       "<style scoped>\n",
       "    .dataframe tbody tr th:only-of-type {\n",
       "        vertical-align: middle;\n",
       "    }\n",
       "\n",
       "    .dataframe tbody tr th {\n",
       "        vertical-align: top;\n",
       "    }\n",
       "\n",
       "    .dataframe thead th {\n",
       "        text-align: right;\n",
       "    }\n",
       "</style>\n",
       "<table border=\"1\" class=\"dataframe\">\n",
       "  <thead>\n",
       "    <tr style=\"text-align: right;\">\n",
       "      <th></th>\n",
       "      <th>demand</th>\n",
       "      <th>success</th>\n",
       "    </tr>\n",
       "    <tr>\n",
       "      <th>RC</th>\n",
       "      <th></th>\n",
       "      <th></th>\n",
       "    </tr>\n",
       "  </thead>\n",
       "  <tbody>\n",
       "    <tr>\n",
       "      <th>4.000000</th>\n",
       "      <td>205.126</td>\n",
       "      <td>Yes</td>\n",
       "    </tr>\n",
       "    <tr>\n",
       "      <th>4.090909</th>\n",
       "      <td>196.64</td>\n",
       "      <td>Yes</td>\n",
       "    </tr>\n",
       "    <tr>\n",
       "      <th>4.181818</th>\n",
       "      <td>188.777</td>\n",
       "      <td>Yes</td>\n",
       "    </tr>\n",
       "    <tr>\n",
       "      <th>4.272727</th>\n",
       "      <td>181.481</td>\n",
       "      <td>Yes</td>\n",
       "    </tr>\n",
       "    <tr>\n",
       "      <th>4.363636</th>\n",
       "      <td>174.703</td>\n",
       "      <td>Yes</td>\n",
       "    </tr>\n",
       "  </tbody>\n",
       "</table>\n",
       "</div>"
      ],
      "text/plain": [
       "           demand success\n",
       "RC                       \n",
       "4.000000  205.126     Yes\n",
       "4.090909   196.64     Yes\n",
       "4.181818  188.777     Yes\n",
       "4.272727  181.481     Yes\n",
       "4.363636  174.703     Yes"
      ]
     },
     "execution_count": 47,
     "metadata": {},
     "output_type": "execute_result"
    }
   ],
   "source": [
    "#demand = get_demand(init_dict_estimation, demand_dict, demand_params)\n",
    "#demand.head()"
   ]
  },
  {
   "cell_type": "code",
   "execution_count": 51,
   "metadata": {},
   "outputs": [
    {
     "data": {
      "text/plain": [
       "<seaborn.axisgrid.JointGrid at 0x1efaa898cc0>"
      ]
     },
     "execution_count": 51,
     "metadata": {},
     "output_type": "execute_result"
    },
    {
     "data": {
      "image/png": "[encoded data removed]",
      "text/plain": [
       "<Figure size 432x432 with 3 Axes>"
      ]
     },
     "metadata": {
      "needs_background": "light"
     },
     "output_type": "display_data"
    }
   ],
   "source": [
    "#sns.jointplot(data=demand, x='demand', y='RC')"
   ]
  },
  {
   "cell_type": "code",
   "execution_count": 52,
   "metadata": {},
   "outputs": [
    {
     "data": {
      "text/plain": [
       "Text(0, 0.5, 'Expected Implied Annual Demand')"
      ]
     },
     "execution_count": 52,
     "metadata": {},
     "output_type": "execute_result"
    },
    {
     "data": {
      "image/png": "[encoded data removed]",
      "text/plain": [
       "<Figure size 432x288 with 1 Axes>"
      ]
     },
     "metadata": {
      "needs_background": "light"
     },
     "output_type": "display_data"
    }
   ],
   "source": [
    "#plt.plot(demand.index.to_numpy(), demand[\"demand\"].astype(float).to_numpy())\n",
    "#plt.xlabel(\"Replacement Cost\")\n",
    "#plt.ylabel(\"Expected Implied Annual Demand\")"
   ]
  },
  {
   "cell_type": "markdown",
   "metadata": {},
   "source": [
    "### Demand at certain value of RC. "
   ]
  },
  {
   "cell_type": "code",
   "execution_count": 71,
   "metadata": {},
   "outputs": [],
   "source": [
    "# Need demand at certain value of RC only.\n",
    "demand_dict = {\n",
    "    \"RC_lower_bound\": 11.5,\n",
    "    \"RC_upper_bound\": 11.5,\n",
    "    \"demand_evaluations\": 1,\n",
    "    \"tolerance\": 1e-10,\n",
    "    \"num_periods\": num_periods,\n",
    "    \"num_buses\": num_buses,\n",
    "}"
   ]
  },
  {
   "cell_type": "code",
   "execution_count": 72,
   "metadata": {},
   "outputs": [],
   "source": [
    "# Intitialize for loop for calculating implied demand for input samples.\n",
    "implied_demand = np.zeros(n_sim_demand)\n",
    "for sample in np.arange(n_sim_demand):\n",
    "    demand_params = inputs[sample, :]\n",
    "    demand = get_demand(init_dict_estimation, demand_dict, demand_params)\n",
    "    implied_demand[sample] = demand.iloc[0][0]"
   ]
  },
  {
   "cell_type": "code",
   "execution_count": 88,
   "metadata": {},
   "outputs": [
    {
     "data": {
      "text/plain": [
       "array([10.18789957, 34.02146982, 43.12110883, 43.56098432, 46.58018323,\n",
       "       47.43989192, 48.31628609, 49.06046724, 49.12257827, 49.60174538,\n",
       "       49.93578256, 50.65042433, 50.69043733, 50.7609064 , 51.86430545,\n",
       "       51.88834625, 52.56559329, 52.88341108, 53.50701247, 53.73617829,\n",
       "       54.5221248 , 54.83506097, 54.94573853, 54.94728115, 55.26053535,\n",
       "       55.5714561 , 56.05696913, 56.14267839, 56.38981057, 56.58341467,\n",
       "       56.6228418 , 56.69262082, 56.8356587 , 57.81364794, 57.82768359,\n",
       "       58.09823404, 58.2642117 , 58.31694421, 58.41132998, 58.5060924 ,\n",
       "       58.79302327, 58.99832114, 59.64393482, 59.64965245, 59.99349178,\n",
       "       60.05570592, 60.07538059, 60.1485948 , 60.1586717 , 60.64341302,\n",
       "       60.71627908, 61.12343011, 61.1489739 , 61.1915544 , 61.22175897,\n",
       "       61.74465589, 61.82424028, 62.4207824 , 62.6765352 , 62.82920174,\n",
       "       63.09318713, 63.71722634, 63.86157202, 64.19082534, 64.2602625 ,\n",
       "       64.35428035, 64.37057572, 65.02960259, 65.26957804, 65.55779285,\n",
       "       65.70403074, 66.09475177, 66.4016131 , 66.42937518, 66.4347258 ,\n",
       "       66.57820922, 66.74557954, 66.86356077, 66.96647444, 67.01732315,\n",
       "       68.29450407, 68.53129604, 69.1482633 , 69.23349148, 69.36756273,\n",
       "       69.46663443, 69.75177507, 70.22304347, 70.45815658, 71.01346241,\n",
       "       71.28811678, 71.40104858, 73.35905698, 73.68953342, 74.30950912,\n",
       "       76.20995614, 76.59315074, 76.62405965, 77.17408466, 77.33517227])"
      ]
     },
     "execution_count": 88,
     "metadata": {},
     "output_type": "execute_result"
    }
   ],
   "source": [
    "np.sort(implied_demand)"
   ]
  },
  {
   "cell_type": "code",
   "execution_count": 77,
   "metadata": {},
   "outputs": [
    {
     "data": {
      "text/plain": [
       "10.187899566536812"
      ]
     },
     "execution_count": 77,
     "metadata": {},
     "output_type": "execute_result"
    }
   ],
   "source": [
    "np.min(implied_demand)"
   ]
  },
  {
   "cell_type": "code",
   "execution_count": 89,
   "metadata": {},
   "outputs": [
    {
     "name": "stderr",
     "output_type": "stream",
     "text": [
      "C:\\Users\\admin\\anaconda3\\envs\\thesis-benedikt\\lib\\site-packages\\seaborn\\distributions.py:2551: FutureWarning: `distplot` is a deprecated function and will be removed in a future version. Please adapt your code to use either `displot` (a figure-level function with similar flexibility) or `histplot` (an axes-level function for histograms).\n",
      "  warnings.warn(msg, FutureWarning)\n"
     ]
    },
    {
     "data": {
      "text/plain": [
       "[Text(0, 0.0, ''),\n",
       " Text(0, 0.01, ''),\n",
       " Text(0, 0.02, ''),\n",
       " Text(0, 0.03, ''),\n",
       " Text(0, 0.04, ''),\n",
       " Text(0, 0.05, '')]"
      ]
     },
     "execution_count": 89,
     "metadata": {},
     "output_type": "execute_result"
    },
    {
     "data": {
      "image/png": "[encoded data removed]",
      "text/plain": [
       "<Figure size 432x288 with 1 Axes>"
      ]
     },
     "metadata": {
      "needs_background": "light"
     },
     "output_type": "display_data"
    }
   ],
   "source": [
    "fig, ax = plt.subplots()\n",
    "\n",
    "sns.distplot(implied_demand)\n",
    "\n",
    "ax.set_xlabel(r\"$Y$\")\n",
    "ax.set_ylabel(r\"$f_Y$\")\n",
    "\n",
    "ax.xaxis.set_major_formatter(mpl.ticker.StrMethodFormatter(\"{x:,.0f}\"))\n",
    "ax.axes.get_yaxis().set_ticklabels([])"
   ]
  },
  {
   "cell_type": "markdown",
   "metadata": {},
   "source": [
    "### Shapley effects for the Rust model\n",
    " 1. Define functions `rust_model()`, `x_all()`, and `x_cond()`.\n",
    " 2. Set parameters for `get_shapley()`.\n",
    " 3. Run `get_shapley()`."
   ]
  },
  {
   "cell_type": "code",
   "execution_count": 96,
   "metadata": {},
   "outputs": [],
   "source": [
    "# Define x_all and x_cond. Can use functions from tutorial of Shapley effects and adapt them.\n",
    "def x_all(n):\n",
    "    sampled_parameters = cp.MvNormal(mean, cov).sample(n)\n",
    "    out = np.zeros((n_inputs, n))\n",
    "    out[:2, :] = sampled_parameters[:2, :]\n",
    "    out[2, :] = 1- sampled_parameters[0, :] - sampled_parameters[1, :]\n",
    "    out[3:, :] = sampled_parameters[2:, :]\n",
    "    return out"
   ]
  },
  {
   "cell_type": "code",
   "execution_count": 100,
   "metadata": {},
   "outputs": [],
   "source": [
    "test_sample = x_all(10)"
   ]
  },
  {
   "cell_type": "code",
   "execution_count": 110,
   "metadata": {},
   "outputs": [
    {
     "data": {
      "text/plain": [
       "array([1., 1., 1., 1., 1., 1., 1., 1., 1., 1.])"
      ]
     },
     "execution_count": 110,
     "metadata": {},
     "output_type": "execute_result"
    }
   ],
   "source": [
    "# Test whether first elements sum up to one.\n",
    "np.sum(test_sample[:3, :], axis=0)"
   ]
  },
  {
   "cell_type": "code",
   "execution_count": null,
   "metadata": {},
   "outputs": [],
   "source": [
    "def x_cond(n, subset_j, subsetj_conditional, xjc):\n",
    "    if subsetj_conditional is None:\n",
    "        cov_int = np.array(cov)\n",
    "        cov_int = cov_int.take(subset_j, axis = 1)\n",
    "        cov_int = cov_int[subset_j]\n",
    "        distribution = cp.MvNormal(mean[subset_j], cov_int)\n",
    "        return distribution.sample(n)\n",
    "    else:\n",
    "        return _r_condmvn(n, mean = mean, cov = cov, dependent_ind = subset_j, given_ind = subsetj_conditional, x_given = xjc)"
   ]
  },
  {
   "cell_type": "code",
   "execution_count": null,
   "metadata": {},
   "outputs": [],
   "source": []
  }
 ],
 "metadata": {
  "kernelspec": {
   "display_name": "Python 3",
   "language": "python",
   "name": "python3"
  },
  "language_info": {
   "codemirror_mode": {
    "name": "ipython",
    "version": 3
   },
   "file_extension": ".py",
   "mimetype": "text/x-python",
   "name": "python",
   "nbconvert_exporter": "python",
   "pygments_lexer": "ipython3",
   "version": "3.7.0"
  }
 },
 "nbformat": 4,
 "nbformat_minor": 4
}
