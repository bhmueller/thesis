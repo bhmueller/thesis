{
 "cells": [
  {
   "cell_type": "markdown",
   "metadata": {},
   "source": [
    "# Shapley effects for the Rust Model"
   ]
  },
  {
   "cell_type": "code",
   "execution_count": 53,
   "metadata": {},
   "outputs": [],
   "source": [
    "# Import statements as in simulation_convergence.ipynb.\n",
    "import matplotlib.pyplot as plt\n",
    "#import yaml\n",
    "import numpy as np\n",
    "from ruspy.simulation.simulation import simulate\n",
    "from ruspy.model_code.fix_point_alg import calc_fixp\n",
    "from ruspy.model_code.cost_functions import lin_cost\n",
    "from ruspy.model_code.cost_functions import calc_obs_costs\n",
    "from ruspy.estimation.estimation_transitions import create_transition_matrix\n",
    "\n",
    "# My imports.\n",
    "import chaospy as cp\n",
    "import seaborn as sns\n",
    "import pandas as pd\n",
    "import matplotlib.pyplot as plt\n",
    "from ruspy.estimation.estimation import estimate\n",
    "from ruspy.model_code.demand_function import get_demand \n",
    "from python.econsa_shapley import get_shapley"
   ]
  },
  {
   "cell_type": "markdown",
   "metadata": {},
   "source": [
    "## Understand simulation capabilities of `ruspy`\n",
    "The below code is taken from the notebook simulation_convergence provided as promotional material for `ruspy`."
   ]
  },
  {
   "cell_type": "code",
   "execution_count": 23,
   "metadata": {},
   "outputs": [],
   "source": [
    "# Set simulating variables\n",
    "disc_fac = 0.9999\n",
    "num_buses = 50\n",
    "num_periods = 120\n",
    "gridsize = 1000\n",
    "# We use the cost parameters and transition probabilities from the replication\n",
    "params = np.array([10.07780762, 2.29417622])\n",
    "trans_probs = np.array([0.39189182, 0.59529371, 0.01281447])\n",
    "scale = 1e-3\n",
    "\n",
    "init_dict_sim = {\n",
    "    \"simulation\": {\n",
    "        \"discount_factor\": disc_fac,\n",
    "        \"periods\": num_periods,\n",
    "        \"seed\": 123,\n",
    "        \"buses\": num_buses,\n",
    "    },\n",
    "    \"plot\": {\"gridsize\": gridsize},\n",
    "}"
   ]
  },
  {
   "cell_type": "code",
   "execution_count": 24,
   "metadata": {},
   "outputs": [],
   "source": [
    "# Calucalte objects necessary for the simulation process. See documentation for details.\n",
    "num_states = 200\n",
    "costs = calc_obs_costs(num_states, lin_cost, params, scale)\n",
    "\n",
    "trans_mat = create_transition_matrix(num_states, trans_probs)\n",
    "ev = calc_fixp(trans_mat, costs, disc_fac)[0]"
   ]
  },
  {
   "cell_type": "code",
   "execution_count": 25,
   "metadata": {},
   "outputs": [],
   "source": [
    "# Can use one init_dict for get_demand() and estimate().\n",
    "init_dict_estimation = {\n",
    "    'model_specifications': {\n",
    "        'discount_factor': disc_fac,\n",
    "        'number_states': num_states,\n",
    "        'maint_cost_func': 'linear',\n",
    "        'cost_scale': 1e-3\n",
    "    },\n",
    "    'optimizer': {\n",
    "        'approach': 'NFXP',\n",
    "        'algorithm': 'scipy_L-BFGS-B',\n",
    "        'gradient': 'Yes'\n",
    "    },\n",
    "    \n",
    "}"
   ]
  },
  {
   "cell_type": "code",
   "execution_count": 65,
   "metadata": {},
   "outputs": [
    {
     "name": "stdout",
     "output_type": "stream",
     "text": [
      "Wall time: 26.2 s\n"
     ]
    }
   ],
   "source": [
    "%%time\n",
    "\n",
    "# Define number of simulations.\n",
    "num_sim = 10\n",
    "\n",
    "# Initialize array to save parameter estimates.\n",
    "parameter_estimates = np.zeros((num_sim, len(params) + len(trans_probs)))\n",
    "\n",
    "for i in np.arange(num_sim):\n",
    "    \n",
    "    init_dict_sim['simulation']['seed'] = +i\n",
    "    \n",
    "    df = simulate(init_dict_sim[\"simulation\"], ev, costs, trans_mat)\n",
    "    data = df[['state', 'decision', 'usage']].copy()\n",
    "    \n",
    "    result_transitions_nfxp, result_fixp_nfxp = estimate(init_dict_estimation, data)\n",
    "    \n",
    "    parameter_estimates[i, :] = np.concatenate((result_transitions_nfxp['x'], result_fixp_nfxp['x']))"
   ]
  },
  {
   "cell_type": "code",
   "execution_count": 66,
   "metadata": {},
   "outputs": [],
   "source": [
    "#parameter_estimates"
   ]
  },
  {
   "cell_type": "code",
   "execution_count": 67,
   "metadata": {},
   "outputs": [],
   "source": [
    "cov = np.cov(parameter_estimates.T)"
   ]
  },
  {
   "cell_type": "code",
   "execution_count": 68,
   "metadata": {},
   "outputs": [],
   "source": [
    "mean = np.mean(parameter_estimates, axis=0)"
   ]
  },
  {
   "cell_type": "code",
   "execution_count": 89,
   "metadata": {},
   "outputs": [],
   "source": [
    "distribution = cp.MvNormal(mean, cov)\n",
    "parameter_samples = pd.DataFrame(data=(distribution.sample(1000).T),\n",
    "                                 columns=('t_30', 't_31', 't_32', 'RC', 't_11'),\n",
    "                                )"
   ]
  },
  {
   "cell_type": "code",
   "execution_count": 90,
   "metadata": {},
   "outputs": [
    {
     "data": {
      "text/html": [
       "<div>\n",
       "<style scoped>\n",
       "    .dataframe tbody tr th:only-of-type {\n",
       "        vertical-align: middle;\n",
       "    }\n",
       "\n",
       "    .dataframe tbody tr th {\n",
       "        vertical-align: top;\n",
       "    }\n",
       "\n",
       "    .dataframe thead th {\n",
       "        text-align: right;\n",
       "    }\n",
       "</style>\n",
       "<table border=\"1\" class=\"dataframe\">\n",
       "  <thead>\n",
       "    <tr style=\"text-align: right;\">\n",
       "      <th></th>\n",
       "      <th>t_30</th>\n",
       "      <th>t_31</th>\n",
       "      <th>t_32</th>\n",
       "      <th>RC</th>\n",
       "      <th>t_11</th>\n",
       "    </tr>\n",
       "  </thead>\n",
       "  <tbody>\n",
       "    <tr>\n",
       "      <th>0</th>\n",
       "      <td>0.389993</td>\n",
       "      <td>0.601214</td>\n",
       "      <td>0.008793</td>\n",
       "      <td>15.277831</td>\n",
       "      <td>4.184055</td>\n",
       "    </tr>\n",
       "    <tr>\n",
       "      <th>1</th>\n",
       "      <td>0.379289</td>\n",
       "      <td>0.610678</td>\n",
       "      <td>0.010033</td>\n",
       "      <td>13.188973</td>\n",
       "      <td>3.650713</td>\n",
       "    </tr>\n",
       "    <tr>\n",
       "      <th>2</th>\n",
       "      <td>0.390485</td>\n",
       "      <td>0.594396</td>\n",
       "      <td>0.015119</td>\n",
       "      <td>9.062711</td>\n",
       "      <td>1.989339</td>\n",
       "    </tr>\n",
       "    <tr>\n",
       "      <th>3</th>\n",
       "      <td>0.399582</td>\n",
       "      <td>0.585034</td>\n",
       "      <td>0.015383</td>\n",
       "      <td>9.942543</td>\n",
       "      <td>2.163304</td>\n",
       "    </tr>\n",
       "    <tr>\n",
       "      <th>4</th>\n",
       "      <td>0.380437</td>\n",
       "      <td>0.609675</td>\n",
       "      <td>0.009888</td>\n",
       "      <td>11.087023</td>\n",
       "      <td>2.591136</td>\n",
       "    </tr>\n",
       "    <tr>\n",
       "      <th>...</th>\n",
       "      <td>...</td>\n",
       "      <td>...</td>\n",
       "      <td>...</td>\n",
       "      <td>...</td>\n",
       "      <td>...</td>\n",
       "    </tr>\n",
       "    <tr>\n",
       "      <th>995</th>\n",
       "      <td>0.386803</td>\n",
       "      <td>0.603870</td>\n",
       "      <td>0.009327</td>\n",
       "      <td>11.365733</td>\n",
       "      <td>3.157889</td>\n",
       "    </tr>\n",
       "    <tr>\n",
       "      <th>996</th>\n",
       "      <td>0.388454</td>\n",
       "      <td>0.597132</td>\n",
       "      <td>0.014414</td>\n",
       "      <td>6.950470</td>\n",
       "      <td>0.352765</td>\n",
       "    </tr>\n",
       "    <tr>\n",
       "      <th>997</th>\n",
       "      <td>0.390493</td>\n",
       "      <td>0.596468</td>\n",
       "      <td>0.013039</td>\n",
       "      <td>9.742381</td>\n",
       "      <td>1.911871</td>\n",
       "    </tr>\n",
       "    <tr>\n",
       "      <th>998</th>\n",
       "      <td>0.389304</td>\n",
       "      <td>0.595666</td>\n",
       "      <td>0.015030</td>\n",
       "      <td>9.213288</td>\n",
       "      <td>1.822213</td>\n",
       "    </tr>\n",
       "    <tr>\n",
       "      <th>999</th>\n",
       "      <td>0.379425</td>\n",
       "      <td>0.607813</td>\n",
       "      <td>0.012762</td>\n",
       "      <td>9.223447</td>\n",
       "      <td>1.717745</td>\n",
       "    </tr>\n",
       "  </tbody>\n",
       "</table>\n",
       "<p>1000 rows × 5 columns</p>\n",
       "</div>"
      ],
      "text/plain": [
       "         t_30      t_31      t_32         RC      t_11\n",
       "0    0.389993  0.601214  0.008793  15.277831  4.184055\n",
       "1    0.379289  0.610678  0.010033  13.188973  3.650713\n",
       "2    0.390485  0.594396  0.015119   9.062711  1.989339\n",
       "3    0.399582  0.585034  0.015383   9.942543  2.163304\n",
       "4    0.380437  0.609675  0.009888  11.087023  2.591136\n",
       "..        ...       ...       ...        ...       ...\n",
       "995  0.386803  0.603870  0.009327  11.365733  3.157889\n",
       "996  0.388454  0.597132  0.014414   6.950470  0.352765\n",
       "997  0.390493  0.596468  0.013039   9.742381  1.911871\n",
       "998  0.389304  0.595666  0.015030   9.213288  1.822213\n",
       "999  0.379425  0.607813  0.012762   9.223447  1.717745\n",
       "\n",
       "[1000 rows x 5 columns]"
      ]
     },
     "execution_count": 90,
     "metadata": {},
     "output_type": "execute_result"
    }
   ],
   "source": [
    "parameter_samples"
   ]
  },
  {
   "cell_type": "code",
   "execution_count": 91,
   "metadata": {},
   "outputs": [
    {
     "data": {
      "text/plain": [
       "<seaborn.axisgrid.FacetGrid at 0x226572c05f8>"
      ]
     },
     "execution_count": 91,
     "metadata": {},
     "output_type": "execute_result"
    },
    {
     "data": {
      "image/png": "[encoded data removed]",
      "text/plain": [
       "<Figure size 360x360 with 1 Axes>"
      ]
     },
     "metadata": {
      "needs_background": "light"
     },
     "output_type": "display_data"
    }
   ],
   "source": [
    "# Plot distributions.\n",
    "sns.displot(parameter_samples, x='RC', y='t_11')"
   ]
  },
  {
   "cell_type": "code",
   "execution_count": null,
   "metadata": {},
   "outputs": [],
   "source": []
  }
 ],
 "metadata": {
  "kernelspec": {
   "display_name": "Python 3",
   "language": "python",
   "name": "python3"
  },
  "language_info": {
   "codemirror_mode": {
    "name": "ipython",
    "version": 3
   },
   "file_extension": ".py",
   "mimetype": "text/x-python",
   "name": "python",
   "nbconvert_exporter": "python",
   "pygments_lexer": "ipython3",
   "version": "3.7.0"
  }
 },
 "nbformat": 4,
 "nbformat_minor": 4
}
