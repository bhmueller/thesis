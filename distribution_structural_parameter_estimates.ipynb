{
 "cells": [
  {
   "cell_type": "markdown",
   "metadata": {},
   "source": [
    "# Shapley effects for the Rust Model"
   ]
  },
  {
   "cell_type": "code",
   "execution_count": 1,
   "metadata": {},
   "outputs": [],
   "source": [
    "# Import statements as in simulation_convergence.ipynb.\n",
    "import matplotlib.pyplot as plt\n",
    "#import yaml\n",
    "import numpy as np\n",
    "from ruspy.simulation.simulation import simulate\n",
    "from ruspy.model_code.fix_point_alg import calc_fixp\n",
    "from ruspy.model_code.cost_functions import lin_cost\n",
    "from ruspy.model_code.cost_functions import calc_obs_costs\n",
    "from ruspy.estimation.estimation_transitions import create_transition_matrix\n",
    "\n",
    "# Additional imports from get_demand module.\n",
    "from ruspy.estimation.estimation_interface import select_model_parameters\n",
    "from ruspy.model_code.choice_probabilities import choice_prob_gumbel\n",
    "\n",
    "# Additional import from tutorial uncertainty propagation.\n",
    "import matplotlib as mpl\n",
    "\n",
    "# My imports.\n",
    "import chaospy as cp\n",
    "import seaborn as sns\n",
    "import pandas as pd\n",
    "import matplotlib.pyplot as plt\n",
    "from ruspy.estimation.estimation import estimate\n",
    "from ruspy.model_code.demand_function import get_demand\n",
    "from python.econsa_shapley import get_shapley\n",
    "from python.econsa_shapley import _r_condmvn"
   ]
  },
  {
   "cell_type": "markdown",
   "metadata": {},
   "source": [
    "## Understand simulation capabilities of `ruspy`\n",
    "The below code is taken from the notebook simulation_convergence provided as promotional material for `ruspy`."
   ]
  },
  {
   "cell_type": "code",
   "execution_count": 2,
   "metadata": {},
   "outputs": [],
   "source": [
    "# Set simulating variables\n",
    "disc_fac = 0.9999\n",
    "num_buses = 50\n",
    "num_periods = 120\n",
    "gridsize = 1000\n",
    "# We use the cost parameters and transition probabilities from the replication\n",
    "params = np.array([10.07780762, 2.29417622])\n",
    "trans_probs = np.array([0.39189182, 0.59529371, 0.01281447])\n",
    "scale = 1e-3\n",
    "\n",
    "init_dict_sim = {\n",
    "    \"simulation\": {\n",
    "        \"discount_factor\": disc_fac,\n",
    "        \"periods\": num_periods,\n",
    "        \"seed\": 123,\n",
    "        \"buses\": num_buses,\n",
    "    },\n",
    "    \"plot\": {\"gridsize\": gridsize},\n",
    "}"
   ]
  },
  {
   "cell_type": "code",
   "execution_count": 3,
   "metadata": {},
   "outputs": [],
   "source": [
    "# Calucalte objects necessary for the simulation process. See documentation for details.\n",
    "num_states = 200\n",
    "costs = calc_obs_costs(num_states, lin_cost, params, scale)\n",
    "\n",
    "trans_mat = create_transition_matrix(num_states, trans_probs)\n",
    "ev = calc_fixp(trans_mat, costs, disc_fac)[0]"
   ]
  },
  {
   "cell_type": "code",
   "execution_count": 4,
   "metadata": {},
   "outputs": [],
   "source": [
    "# Can use one init_dict for get_demand() and estimate().\n",
    "init_dict_estimation = {\n",
    "    'model_specifications': {\n",
    "        'discount_factor': disc_fac,\n",
    "        'number_states': num_states,\n",
    "        'maint_cost_func': 'linear',\n",
    "        'cost_scale': 1e-3\n",
    "    },\n",
    "    'optimizer': {\n",
    "        'approach': 'NFXP',\n",
    "        'algorithm': 'scipy_L-BFGS-B',\n",
    "        'gradient': 'Yes'\n",
    "    },\n",
    "    \n",
    "}"
   ]
  },
  {
   "cell_type": "code",
   "execution_count": 5,
   "metadata": {},
   "outputs": [
    {
     "name": "stdout",
     "output_type": "stream",
     "text": [
      "Wall time: 4min 41s\n"
     ]
    }
   ],
   "source": [
    "%%time\n",
    "\n",
    "# Define number of simulations.\n",
    "num_sim = 100\n",
    "\n",
    "# Initialize array to save parameter estimates.\n",
    "parameter_estimates = np.zeros((num_sim, len(trans_probs) + len(params) -1))\n",
    "\n",
    "for i in np.arange(num_sim):\n",
    "    \n",
    "    init_dict_sim['simulation']['seed'] = +i\n",
    "    \n",
    "    df = simulate(init_dict_sim[\"simulation\"], ev, costs, trans_mat)\n",
    "    data = df[['state', 'decision', 'usage']].copy()\n",
    "    \n",
    "    result_transitions_nfxp, result_fixp_nfxp = estimate(init_dict_estimation, data)\n",
    "    \n",
    "    # Record only two of three transition probabilities i.o.t. avoid singularity of the covariance matrix.\n",
    "    parameter_estimates[i, :] = np.concatenate((result_transitions_nfxp['x'][:2], result_fixp_nfxp['x']))"
   ]
  },
  {
   "cell_type": "code",
   "execution_count": 6,
   "metadata": {},
   "outputs": [],
   "source": [
    "cov = np.cov(parameter_estimates.T)"
   ]
  },
  {
   "cell_type": "code",
   "execution_count": 7,
   "metadata": {},
   "outputs": [],
   "source": [
    "mean = np.mean(parameter_estimates, axis=0)"
   ]
  },
  {
   "cell_type": "code",
   "execution_count": 8,
   "metadata": {},
   "outputs": [],
   "source": [
    "distribution = cp.MvNormal(mean, cov)\n",
    "parameter_samples = pd.DataFrame(data=(distribution.sample(1000).T),\n",
    "                                 columns=('t_30', 't_31', 'RC', 't_11'),\n",
    "                                )"
   ]
  },
  {
   "cell_type": "code",
   "execution_count": 9,
   "metadata": {},
   "outputs": [
    {
     "data": {
      "text/html": [
       "<div>\n",
       "<style scoped>\n",
       "    .dataframe tbody tr th:only-of-type {\n",
       "        vertical-align: middle;\n",
       "    }\n",
       "\n",
       "    .dataframe tbody tr th {\n",
       "        vertical-align: top;\n",
       "    }\n",
       "\n",
       "    .dataframe thead th {\n",
       "        text-align: right;\n",
       "    }\n",
       "</style>\n",
       "<table border=\"1\" class=\"dataframe\">\n",
       "  <thead>\n",
       "    <tr style=\"text-align: right;\">\n",
       "      <th></th>\n",
       "      <th>t_30</th>\n",
       "      <th>t_31</th>\n",
       "      <th>RC</th>\n",
       "      <th>t_11</th>\n",
       "    </tr>\n",
       "  </thead>\n",
       "  <tbody>\n",
       "    <tr>\n",
       "      <th>0</th>\n",
       "      <td>0.390771</td>\n",
       "      <td>0.594243</td>\n",
       "      <td>13.020443</td>\n",
       "      <td>3.563283</td>\n",
       "    </tr>\n",
       "    <tr>\n",
       "      <th>1</th>\n",
       "      <td>0.401584</td>\n",
       "      <td>0.583803</td>\n",
       "      <td>10.207463</td>\n",
       "      <td>2.195900</td>\n",
       "    </tr>\n",
       "    <tr>\n",
       "      <th>2</th>\n",
       "      <td>0.390502</td>\n",
       "      <td>0.597463</td>\n",
       "      <td>7.274183</td>\n",
       "      <td>0.490257</td>\n",
       "    </tr>\n",
       "    <tr>\n",
       "      <th>3</th>\n",
       "      <td>0.390628</td>\n",
       "      <td>0.595334</td>\n",
       "      <td>8.862660</td>\n",
       "      <td>1.868585</td>\n",
       "    </tr>\n",
       "    <tr>\n",
       "      <th>4</th>\n",
       "      <td>0.391315</td>\n",
       "      <td>0.596972</td>\n",
       "      <td>11.486418</td>\n",
       "      <td>2.573254</td>\n",
       "    </tr>\n",
       "    <tr>\n",
       "      <th>...</th>\n",
       "      <td>...</td>\n",
       "      <td>...</td>\n",
       "      <td>...</td>\n",
       "      <td>...</td>\n",
       "    </tr>\n",
       "    <tr>\n",
       "      <th>995</th>\n",
       "      <td>0.391268</td>\n",
       "      <td>0.596045</td>\n",
       "      <td>11.387166</td>\n",
       "      <td>2.611934</td>\n",
       "    </tr>\n",
       "    <tr>\n",
       "      <th>996</th>\n",
       "      <td>0.388125</td>\n",
       "      <td>0.600327</td>\n",
       "      <td>9.894432</td>\n",
       "      <td>2.186753</td>\n",
       "    </tr>\n",
       "    <tr>\n",
       "      <th>997</th>\n",
       "      <td>0.391980</td>\n",
       "      <td>0.595824</td>\n",
       "      <td>9.365398</td>\n",
       "      <td>2.047078</td>\n",
       "    </tr>\n",
       "    <tr>\n",
       "      <th>998</th>\n",
       "      <td>0.401313</td>\n",
       "      <td>0.585264</td>\n",
       "      <td>11.873053</td>\n",
       "      <td>3.039995</td>\n",
       "    </tr>\n",
       "    <tr>\n",
       "      <th>999</th>\n",
       "      <td>0.397486</td>\n",
       "      <td>0.588648</td>\n",
       "      <td>11.301771</td>\n",
       "      <td>2.832372</td>\n",
       "    </tr>\n",
       "  </tbody>\n",
       "</table>\n",
       "<p>1000 rows × 4 columns</p>\n",
       "</div>"
      ],
      "text/plain": [
       "         t_30      t_31         RC      t_11\n",
       "0    0.390771  0.594243  13.020443  3.563283\n",
       "1    0.401584  0.583803  10.207463  2.195900\n",
       "2    0.390502  0.597463   7.274183  0.490257\n",
       "3    0.390628  0.595334   8.862660  1.868585\n",
       "4    0.391315  0.596972  11.486418  2.573254\n",
       "..        ...       ...        ...       ...\n",
       "995  0.391268  0.596045  11.387166  2.611934\n",
       "996  0.388125  0.600327   9.894432  2.186753\n",
       "997  0.391980  0.595824   9.365398  2.047078\n",
       "998  0.401313  0.585264  11.873053  3.039995\n",
       "999  0.397486  0.588648  11.301771  2.832372\n",
       "\n",
       "[1000 rows x 4 columns]"
      ]
     },
     "execution_count": 9,
     "metadata": {},
     "output_type": "execute_result"
    }
   ],
   "source": [
    "parameter_samples"
   ]
  },
  {
   "cell_type": "code",
   "execution_count": 10,
   "metadata": {},
   "outputs": [],
   "source": [
    "# Add third transition probability: t_32 = 1 - t_30 - t_31\n",
    "parameter_samples['t_32'] = 1 - parameter_samples['t_30'] - parameter_samples['t_31']"
   ]
  },
  {
   "cell_type": "code",
   "execution_count": 11,
   "metadata": {},
   "outputs": [
    {
     "data": {
      "text/html": [
       "<div>\n",
       "<style scoped>\n",
       "    .dataframe tbody tr th:only-of-type {\n",
       "        vertical-align: middle;\n",
       "    }\n",
       "\n",
       "    .dataframe tbody tr th {\n",
       "        vertical-align: top;\n",
       "    }\n",
       "\n",
       "    .dataframe thead th {\n",
       "        text-align: right;\n",
       "    }\n",
       "</style>\n",
       "<table border=\"1\" class=\"dataframe\">\n",
       "  <thead>\n",
       "    <tr style=\"text-align: right;\">\n",
       "      <th></th>\n",
       "      <th>t_30</th>\n",
       "      <th>t_31</th>\n",
       "      <th>RC</th>\n",
       "      <th>t_11</th>\n",
       "      <th>t_32</th>\n",
       "    </tr>\n",
       "  </thead>\n",
       "  <tbody>\n",
       "    <tr>\n",
       "      <th>0</th>\n",
       "      <td>0.390771</td>\n",
       "      <td>0.594243</td>\n",
       "      <td>13.020443</td>\n",
       "      <td>3.563283</td>\n",
       "      <td>0.014987</td>\n",
       "    </tr>\n",
       "    <tr>\n",
       "      <th>1</th>\n",
       "      <td>0.401584</td>\n",
       "      <td>0.583803</td>\n",
       "      <td>10.207463</td>\n",
       "      <td>2.195900</td>\n",
       "      <td>0.014613</td>\n",
       "    </tr>\n",
       "    <tr>\n",
       "      <th>2</th>\n",
       "      <td>0.390502</td>\n",
       "      <td>0.597463</td>\n",
       "      <td>7.274183</td>\n",
       "      <td>0.490257</td>\n",
       "      <td>0.012036</td>\n",
       "    </tr>\n",
       "    <tr>\n",
       "      <th>3</th>\n",
       "      <td>0.390628</td>\n",
       "      <td>0.595334</td>\n",
       "      <td>8.862660</td>\n",
       "      <td>1.868585</td>\n",
       "      <td>0.014038</td>\n",
       "    </tr>\n",
       "    <tr>\n",
       "      <th>4</th>\n",
       "      <td>0.391315</td>\n",
       "      <td>0.596972</td>\n",
       "      <td>11.486418</td>\n",
       "      <td>2.573254</td>\n",
       "      <td>0.011712</td>\n",
       "    </tr>\n",
       "    <tr>\n",
       "      <th>...</th>\n",
       "      <td>...</td>\n",
       "      <td>...</td>\n",
       "      <td>...</td>\n",
       "      <td>...</td>\n",
       "      <td>...</td>\n",
       "    </tr>\n",
       "    <tr>\n",
       "      <th>995</th>\n",
       "      <td>0.391268</td>\n",
       "      <td>0.596045</td>\n",
       "      <td>11.387166</td>\n",
       "      <td>2.611934</td>\n",
       "      <td>0.012687</td>\n",
       "    </tr>\n",
       "    <tr>\n",
       "      <th>996</th>\n",
       "      <td>0.388125</td>\n",
       "      <td>0.600327</td>\n",
       "      <td>9.894432</td>\n",
       "      <td>2.186753</td>\n",
       "      <td>0.011549</td>\n",
       "    </tr>\n",
       "    <tr>\n",
       "      <th>997</th>\n",
       "      <td>0.391980</td>\n",
       "      <td>0.595824</td>\n",
       "      <td>9.365398</td>\n",
       "      <td>2.047078</td>\n",
       "      <td>0.012196</td>\n",
       "    </tr>\n",
       "    <tr>\n",
       "      <th>998</th>\n",
       "      <td>0.401313</td>\n",
       "      <td>0.585264</td>\n",
       "      <td>11.873053</td>\n",
       "      <td>3.039995</td>\n",
       "      <td>0.013423</td>\n",
       "    </tr>\n",
       "    <tr>\n",
       "      <th>999</th>\n",
       "      <td>0.397486</td>\n",
       "      <td>0.588648</td>\n",
       "      <td>11.301771</td>\n",
       "      <td>2.832372</td>\n",
       "      <td>0.013866</td>\n",
       "    </tr>\n",
       "  </tbody>\n",
       "</table>\n",
       "<p>1000 rows × 5 columns</p>\n",
       "</div>"
      ],
      "text/plain": [
       "         t_30      t_31         RC      t_11      t_32\n",
       "0    0.390771  0.594243  13.020443  3.563283  0.014987\n",
       "1    0.401584  0.583803  10.207463  2.195900  0.014613\n",
       "2    0.390502  0.597463   7.274183  0.490257  0.012036\n",
       "3    0.390628  0.595334   8.862660  1.868585  0.014038\n",
       "4    0.391315  0.596972  11.486418  2.573254  0.011712\n",
       "..        ...       ...        ...       ...       ...\n",
       "995  0.391268  0.596045  11.387166  2.611934  0.012687\n",
       "996  0.388125  0.600327   9.894432  2.186753  0.011549\n",
       "997  0.391980  0.595824   9.365398  2.047078  0.012196\n",
       "998  0.401313  0.585264  11.873053  3.039995  0.013423\n",
       "999  0.397486  0.588648  11.301771  2.832372  0.013866\n",
       "\n",
       "[1000 rows x 5 columns]"
      ]
     },
     "execution_count": 11,
     "metadata": {},
     "output_type": "execute_result"
    }
   ],
   "source": [
    "parameter_samples"
   ]
  },
  {
   "cell_type": "code",
   "execution_count": 12,
   "metadata": {},
   "outputs": [],
   "source": [
    "# Plot distributions.\n",
    "#sns.jointplot(data=parameter_samples, x='RC', y='t_11')"
   ]
  },
  {
   "cell_type": "code",
   "execution_count": 13,
   "metadata": {},
   "outputs": [],
   "source": [
    "# Plot distributions.\n",
    "#sns.displot(parameter_samples, x='RC', y='t_11')"
   ]
  },
  {
   "cell_type": "code",
   "execution_count": 14,
   "metadata": {},
   "outputs": [],
   "source": [
    "# Plot distributions.\n",
    "#sns.pairplot(parameter_samples)"
   ]
  },
  {
   "cell_type": "markdown",
   "metadata": {},
   "source": [
    "### Calculate demand level from structural parameter estimates"
   ]
  },
  {
   "cell_type": "code",
   "execution_count": 15,
   "metadata": {},
   "outputs": [],
   "source": [
    "# Sample data.\n",
    "n_sim_demand = 100\n",
    "input_variables = cp.MvNormal(mean, cov).sample(n_sim_demand).T"
   ]
  },
  {
   "cell_type": "code",
   "execution_count": 16,
   "metadata": {},
   "outputs": [],
   "source": [
    "#input_variables"
   ]
  },
  {
   "cell_type": "code",
   "execution_count": 17,
   "metadata": {},
   "outputs": [],
   "source": [
    "n_inputs = 5\n",
    "inputs = np.zeros((n_sim_demand, n_inputs))"
   ]
  },
  {
   "cell_type": "code",
   "execution_count": 18,
   "metadata": {},
   "outputs": [],
   "source": [
    "# Fill the inputs array.\n",
    "inputs[:,:2] = input_variables[:,:2]\n",
    "# At third position insert thrid transition probability.\n",
    "inputs[:, 2] = 1 - input_variables[:, 0] - input_variables[:, 1]\n",
    "inputs[:, 3:] = input_variables[:, 2:]"
   ]
  },
  {
   "cell_type": "code",
   "execution_count": 19,
   "metadata": {},
   "outputs": [],
   "source": [
    "#inputs"
   ]
  },
  {
   "cell_type": "code",
   "execution_count": 20,
   "metadata": {},
   "outputs": [],
   "source": [
    "# Need demand at certain value of RC only.\n",
    "demand_dict = {\n",
    "    \"RC_lower_bound\": 4,\n",
    "    \"RC_upper_bound\": 13,\n",
    "    \"demand_evaluations\": 100,\n",
    "    \"tolerance\": 1e-10,\n",
    "    \"num_periods\": num_periods,\n",
    "    \"num_buses\": num_buses,\n",
    "}\n",
    "demand_params = inputs[0, :]"
   ]
  },
  {
   "cell_type": "code",
   "execution_count": 21,
   "metadata": {},
   "outputs": [],
   "source": [
    "#demand = get_demand(init_dict_estimation, demand_dict, demand_params)\n",
    "#demand.head()"
   ]
  },
  {
   "cell_type": "code",
   "execution_count": 22,
   "metadata": {},
   "outputs": [],
   "source": [
    "#sns.jointplot(data=demand, x='demand', y='RC')"
   ]
  },
  {
   "cell_type": "code",
   "execution_count": 23,
   "metadata": {},
   "outputs": [],
   "source": [
    "#plt.plot(demand.index.to_numpy(), demand[\"demand\"].astype(float).to_numpy())\n",
    "#plt.xlabel(\"Replacement Cost\")\n",
    "#plt.ylabel(\"Expected Implied Annual Demand\")"
   ]
  },
  {
   "cell_type": "markdown",
   "metadata": {},
   "source": [
    "### Demand at certain value of RC. "
   ]
  },
  {
   "cell_type": "code",
   "execution_count": 24,
   "metadata": {},
   "outputs": [],
   "source": [
    "# Need demand at certain value of RC only.\n",
    "demand_dict = {\n",
    "    \"RC_lower_bound\": 11.5,\n",
    "    \"RC_upper_bound\": 11.5,\n",
    "    \"demand_evaluations\": 1,\n",
    "    \"tolerance\": 1e-10,\n",
    "    \"num_periods\": num_periods,\n",
    "    \"num_buses\": num_buses,\n",
    "}"
   ]
  },
  {
   "cell_type": "code",
   "execution_count": 25,
   "metadata": {},
   "outputs": [
    {
     "name": "stdout",
     "output_type": "stream",
     "text": [
      "Wall time: 35.4 s\n"
     ]
    }
   ],
   "source": [
    "%%time\n",
    "# Intitialize for loop for calculating implied demand for input samples.\n",
    "implied_demand = np.zeros(n_sim_demand)\n",
    "for sample in np.arange(n_sim_demand):\n",
    "    demand_params = inputs[sample, :]\n",
    "    demand = get_demand(init_dict_estimation, demand_dict, demand_params)\n",
    "    implied_demand[sample] = demand.iloc[0][0]"
   ]
  },
  {
   "cell_type": "code",
   "execution_count": 26,
   "metadata": {},
   "outputs": [
    {
     "data": {
      "text/plain": [
       "array([41.18559702, 44.54044713, 46.56648892, 47.58220213, 48.11767983,\n",
       "       49.22227188, 50.60436546, 50.90399001, 51.22387004, 52.13633698,\n",
       "       52.26752485, 52.42001878, 53.42812719, 54.23622818, 54.74377466,\n",
       "       54.77252748, 55.53678424, 55.83960776, 55.90795572, 56.08738928,\n",
       "       56.20753005, 56.34998858, 57.01994904, 57.90630887, 58.02332479,\n",
       "       58.40109446, 58.61928379, 58.91691161, 59.04503965, 59.29468616,\n",
       "       59.46854242, 59.6148217 , 59.79397906, 60.29246091, 60.61076408,\n",
       "       60.84555446, 60.90083081, 60.93471647, 61.04195285, 61.08285999,\n",
       "       61.1932676 , 61.36481111, 61.48134575, 61.54250744, 61.58737669,\n",
       "       61.73655516, 61.89650386, 62.09615642, 62.38349671, 62.41809089,\n",
       "       62.66193403, 63.12522208, 63.20830227, 63.28989014, 63.35008356,\n",
       "       63.38870638, 63.39381818, 63.56741141, 63.57755807, 64.10003303,\n",
       "       64.31294351, 64.50909021, 64.99216649, 65.00801817, 65.08926379,\n",
       "       65.10452277, 65.26532359, 65.34809481, 65.79684157, 65.99262952,\n",
       "       66.04785469, 66.59534692, 66.59918858, 66.77219283, 66.79689461,\n",
       "       66.82148257, 66.84339926, 66.8744912 , 67.02833027, 67.35881422,\n",
       "       67.43755083, 67.5243567 , 67.70221724, 67.92682955, 67.9545333 ,\n",
       "       67.97196308, 68.16027636, 68.17033112, 68.75074061, 68.89736991,\n",
       "       69.22742492, 69.50481644, 69.69954002, 70.42977542, 70.6669292 ,\n",
       "       71.07032047, 71.43554576, 73.03196644, 73.23631441, 76.84560776])"
      ]
     },
     "execution_count": 26,
     "metadata": {},
     "output_type": "execute_result"
    }
   ],
   "source": [
    "np.sort(implied_demand)"
   ]
  },
  {
   "cell_type": "code",
   "execution_count": 27,
   "metadata": {},
   "outputs": [
    {
     "data": {
      "text/plain": [
       "41.185597024788095"
      ]
     },
     "execution_count": 27,
     "metadata": {},
     "output_type": "execute_result"
    }
   ],
   "source": [
    "np.min(implied_demand)"
   ]
  },
  {
   "cell_type": "code",
   "execution_count": 28,
   "metadata": {},
   "outputs": [
    {
     "name": "stderr",
     "output_type": "stream",
     "text": [
      "C:\\Users\\admin\\anaconda3\\envs\\thesis-benedikt\\lib\\site-packages\\seaborn\\distributions.py:2551: FutureWarning: `distplot` is a deprecated function and will be removed in a future version. Please adapt your code to use either `displot` (a figure-level function with similar flexibility) or `histplot` (an axes-level function for histograms).\n",
      "  warnings.warn(msg, FutureWarning)\n"
     ]
    },
    {
     "data": {
      "text/plain": [
       "[Text(0, 0.0, ''),\n",
       " Text(0, 0.01, ''),\n",
       " Text(0, 0.02, ''),\n",
       " Text(0, 0.03, ''),\n",
       " Text(0, 0.04, ''),\n",
       " Text(0, 0.05, ''),\n",
       " Text(0, 0.06, ''),\n",
       " Text(0, 0.07, '')]"
      ]
     },
     "execution_count": 28,
     "metadata": {},
     "output_type": "execute_result"
    },
    {
     "data": {
      "image/png": "[encoded data removed]",
      "text/plain": [
       "<Figure size 432x288 with 1 Axes>"
      ]
     },
     "metadata": {
      "needs_background": "light"
     },
     "output_type": "display_data"
    }
   ],
   "source": [
    "fig, ax = plt.subplots()\n",
    "\n",
    "sns.distplot(implied_demand)\n",
    "\n",
    "ax.set_xlabel(r\"$Y$\")\n",
    "ax.set_ylabel(r\"$f_Y$\")\n",
    "\n",
    "ax.xaxis.set_major_formatter(mpl.ticker.StrMethodFormatter(\"{x:,.0f}\"))\n",
    "ax.axes.get_yaxis().set_ticklabels([])"
   ]
  },
  {
   "cell_type": "markdown",
   "metadata": {},
   "source": [
    "### Shapley effects for the Rust model\n",
    " 1. Define functions `rust_model()`, `x_all()`, and `x_cond()`.\n",
    " 2. Set parameters for `get_shapley()`.\n",
    " 3. Run `get_shapley()`."
   ]
  },
  {
   "cell_type": "code",
   "execution_count": 29,
   "metadata": {},
   "outputs": [],
   "source": [
    "# Define x_all and x_cond. Can use functions from tutorial of Shapley effects and adapt them.\n",
    "#def x_all(n):\n",
    "#    sampled_parameters = cp.MvNormal(mean, cov).sample(n)\n",
    "#    out = np.zeros((n_inputs, n))\n",
    "#    # Due to singularity of cov one transition prob. needed to be left out which is now reintroduced.\n",
    "#    out[:2, :] = sampled_parameters[:2, :]\n",
    "#    out[2, :] = 1- sampled_parameters[0, :] - sampled_parameters[1, :]\n",
    "#    out[3:, :] = sampled_parameters[2:, :]\n",
    "#    return out"
   ]
  },
  {
   "cell_type": "code",
   "execution_count": 30,
   "metadata": {},
   "outputs": [],
   "source": [
    "#test_sample = x_all(10)"
   ]
  },
  {
   "cell_type": "code",
   "execution_count": 31,
   "metadata": {},
   "outputs": [],
   "source": [
    "# Test whether first elements sum up to one.\n",
    "#np.sum(test_sample[:3, :], axis=0)"
   ]
  },
  {
   "cell_type": "code",
   "execution_count": 32,
   "metadata": {},
   "outputs": [],
   "source": [
    "#def x_cond(n, subset_j, subsetj_conditional, xjc):\n",
    "#    if subsetj_conditional is None:\n",
    "#        if 2 in subset_j:\n",
    "            #  Position of 2 in subsetj_conditional.\n",
    "            # Calc theta_32 (input with index 2) as lin. comb. of index 1 and 2.\n",
    "            # return statement.\n",
    "#        else:\n",
    "            \n",
    "#        cov_int = np.array(cov)\n",
    "#        cov_int = cov_int.take(subset_j, axis = 1)\n",
    "#        cov_int = cov_int[subset_j]\n",
    "#        sampled_parameters = cp.MvNormal(mean[subset_j], cov_int).sample(n)\n",
    "\n",
    "        \n",
    "#    else:\n",
    "#        return _r_condmvn(n, mean = mean, cov = cov, dependent_ind = subset_j, given_ind = subsetj_conditional, x_given = xjc)"
   ]
  },
  {
   "cell_type": "markdown",
   "metadata": {},
   "source": [
    "#### 1. Define functions "
   ]
  },
  {
   "cell_type": "code",
   "execution_count": 33,
   "metadata": {},
   "outputs": [],
   "source": [
    "def x_all(n):\n",
    "    distribution = cp.MvNormal(mean, cov)\n",
    "    return distribution.sample(n)\n",
    "\n",
    "def x_cond(n, subset_j, subsetj_conditional, xjc):\n",
    "    if subsetj_conditional is None:\n",
    "        cov_int = np.array(cov)\n",
    "        cov_int = cov_int.take(subset_j, axis = 1)\n",
    "        cov_int = cov_int[subset_j]\n",
    "        distribution = cp.MvNormal(mean[subset_j], cov_int)\n",
    "        return distribution.sample(n)\n",
    "    else:\n",
    "        return _r_condmvn(n, mean = mean, cov = cov, dependent_ind = subset_j, given_ind = subsetj_conditional, x_given = xjc)"
   ]
  },
  {
   "cell_type": "code",
   "execution_count": 34,
   "metadata": {},
   "outputs": [],
   "source": [
    "n = 10\n",
    "data = x_all(n).T"
   ]
  },
  {
   "cell_type": "code",
   "execution_count": 35,
   "metadata": {},
   "outputs": [
    {
     "data": {
      "text/plain": [
       "array([[ 0.38976975,  0.59688056, 11.68727717,  2.97892115],\n",
       "       [ 0.38709299,  0.59999667,  9.43919183,  1.94814229],\n",
       "       [ 0.3911731 ,  0.59560434, 10.9126508 ,  2.53879817],\n",
       "       [ 0.396003  ,  0.59149601, 10.3458738 ,  2.29048956],\n",
       "       [ 0.3819229 ,  0.60589899, 12.41598313,  3.1726499 ],\n",
       "       [ 0.39089175,  0.59641157, 10.99567023,  2.8091748 ],\n",
       "       [ 0.38207904,  0.60563963,  8.75648868,  1.66918129],\n",
       "       [ 0.38752426,  0.59878595, 12.30003547,  2.77411385],\n",
       "       [ 0.39200792,  0.59548125, 10.43534727,  2.15669   ],\n",
       "       [ 0.38236847,  0.60408797, 10.8487714 ,  2.47537998]])"
      ]
     },
     "execution_count": 35,
     "metadata": {},
     "output_type": "execute_result"
    }
   ],
   "source": [
    "data"
   ]
  },
  {
   "cell_type": "code",
   "execution_count": 67,
   "metadata": {},
   "outputs": [],
   "source": [
    "def rust_model(x):\n",
    "    if method == 'exact':\n",
    "        n_evaluations = n_output + np.math.factorial(n_inputs) * (n_inputs -1) * n_outer * n_inner\n",
    "    elif method == 'random':\n",
    "        n_evaluations = n_output + n_perms * (n_inputs -1) * n_outer * n_inner\n",
    "    demand_inputs = np.zeros((n_evaluations, 5))\n",
    "    demand_inputs[:, :2] = x[:, :2]\n",
    "    demand_inputs[:, 2] = 1 - x[:, 0] - x[:, 1]\n",
    "    demand_inputs[:, 3:] = x[:, 2:]\n",
    "    \n",
    "    demand_output = np.zeros((n_evaluations, 1))\n",
    "    \n",
    "    for sample in np.arange(n_evaluations):\n",
    "        demand_params = demand_inputs[sample, :]\n",
    "        demand_output[sample] = get_demand(init_dict_estimation, demand_dict, demand_params).iloc[0][0]\n",
    "        \n",
    "    return demand_output"
   ]
  },
  {
   "cell_type": "code",
   "execution_count": 41,
   "metadata": {},
   "outputs": [
    {
     "name": "stdout",
     "output_type": "stream",
     "text": [
      "Wall time: 0 ns\n"
     ]
    }
   ],
   "source": [
    "%%time\n",
    "#rust_model(data)"
   ]
  },
  {
   "cell_type": "markdown",
   "metadata": {},
   "source": [
    "#### 2. Set parameters for `get_shapley()` "
   ]
  },
  {
   "cell_type": "code",
   "execution_count": 81,
   "metadata": {},
   "outputs": [],
   "source": [
    "n_inputs = 4\n",
    "method = 'random'\n",
    "np.random.seed(1234)\n",
    "n_perms = 10\n",
    "n_output = 10**2\n",
    "n_outer = 10\n",
    "n_inner = 3"
   ]
  },
  {
   "cell_type": "code",
   "execution_count": 64,
   "metadata": {},
   "outputs": [
    {
     "data": {
      "text/plain": [
       "2260"
      ]
     },
     "execution_count": 64,
     "metadata": {},
     "output_type": "execute_result"
    }
   ],
   "source": [
    "n_output + np.math.factorial(n_inputs) * (n_inputs -1) * n_outer * n_inner"
   ]
  },
  {
   "cell_type": "code",
   "execution_count": 80,
   "metadata": {},
   "outputs": [
    {
     "name": "stdout",
     "output_type": "stream",
     "text": [
      " 0.21972222222222224 hours \n",
      " 13.183333333333334 minutes\n"
     ]
    }
   ],
   "source": [
    "# Approximate time for computation in hours (approx. 35 s per 100 model evaluations).\n",
    "if method == 'random':\n",
    "    time = (35 * (n_output + n_perms * (n_inputs -1) * n_outer * n_inner) / 100) / 3600\n",
    "elif method == 'exact':\n",
    "    time = (35 * (n_output + np.math.factorial(n_inputs) * (n_inputs -1) * n_outer * n_inner) / 100) / 3600\n",
    "print('', time, 'hours', '\\n', time * 60, 'minutes')"
   ]
  },
  {
   "cell_type": "markdown",
   "metadata": {},
   "source": [
    "#### 3. Run `get_shapley()` "
   ]
  },
  {
   "cell_type": "code",
   "execution_count": 68,
   "metadata": {},
   "outputs": [
    {
     "name": "stdout",
     "output_type": "stream",
     "text": [
      "Wall time: 6min 5s\n"
     ]
    }
   ],
   "source": [
    "%%time\n",
    "random_shapley = get_shapley(method, rust_model, x_all, x_cond, n_perms, n_inputs, n_output, n_outer, n_inner)"
   ]
  },
  {
   "cell_type": "code",
   "execution_count": 69,
   "metadata": {},
   "outputs": [
    {
     "data": {
      "text/html": [
       "<div>\n",
       "<style scoped>\n",
       "    .dataframe tbody tr th:only-of-type {\n",
       "        vertical-align: middle;\n",
       "    }\n",
       "\n",
       "    .dataframe tbody tr th {\n",
       "        vertical-align: top;\n",
       "    }\n",
       "\n",
       "    .dataframe thead th {\n",
       "        text-align: right;\n",
       "    }\n",
       "</style>\n",
       "<table border=\"1\" class=\"dataframe\">\n",
       "  <thead>\n",
       "    <tr style=\"text-align: right;\">\n",
       "      <th></th>\n",
       "      <th>Shapley effects</th>\n",
       "      <th>std. errors</th>\n",
       "      <th>CI_min</th>\n",
       "      <th>CI_max</th>\n",
       "    </tr>\n",
       "  </thead>\n",
       "  <tbody>\n",
       "    <tr>\n",
       "      <th>X1</th>\n",
       "      <td>-0.077030</td>\n",
       "      <td>0.084621</td>\n",
       "      <td>-0.242887</td>\n",
       "      <td>0.088828</td>\n",
       "    </tr>\n",
       "    <tr>\n",
       "      <th>X2</th>\n",
       "      <td>-0.202446</td>\n",
       "      <td>0.133868</td>\n",
       "      <td>-0.464826</td>\n",
       "      <td>0.059935</td>\n",
       "    </tr>\n",
       "    <tr>\n",
       "      <th>X3</th>\n",
       "      <td>0.720530</td>\n",
       "      <td>0.172884</td>\n",
       "      <td>0.381677</td>\n",
       "      <td>1.059382</td>\n",
       "    </tr>\n",
       "    <tr>\n",
       "      <th>X4</th>\n",
       "      <td>0.558946</td>\n",
       "      <td>0.224862</td>\n",
       "      <td>0.118215</td>\n",
       "      <td>0.999676</td>\n",
       "    </tr>\n",
       "  </tbody>\n",
       "</table>\n",
       "</div>"
      ],
      "text/plain": [
       "    Shapley effects  std. errors    CI_min    CI_max\n",
       "X1        -0.077030     0.084621 -0.242887  0.088828\n",
       "X2        -0.202446     0.133868 -0.464826  0.059935\n",
       "X3         0.720530     0.172884  0.381677  1.059382\n",
       "X4         0.558946     0.224862  0.118215  0.999676"
      ]
     },
     "execution_count": 69,
     "metadata": {},
     "output_type": "execute_result"
    }
   ],
   "source": [
    "random_shapley"
   ]
  },
  {
   "cell_type": "code",
   "execution_count": 70,
   "metadata": {},
   "outputs": [],
   "source": [
    "shapley_effects_rust = random_shapley.copy()"
   ]
  },
  {
   "cell_type": "code",
   "execution_count": 74,
   "metadata": {},
   "outputs": [],
   "source": [
    "shapley_effects_rust.rename(index={'X1': 'theta_30', 'X2': 'theta_31', 'X3': 'RC', 'X4': 'theta_11'}, inplace=True)"
   ]
  },
  {
   "cell_type": "code",
   "execution_count": 75,
   "metadata": {},
   "outputs": [
    {
     "data": {
      "text/html": [
       "<div>\n",
       "<style scoped>\n",
       "    .dataframe tbody tr th:only-of-type {\n",
       "        vertical-align: middle;\n",
       "    }\n",
       "\n",
       "    .dataframe tbody tr th {\n",
       "        vertical-align: top;\n",
       "    }\n",
       "\n",
       "    .dataframe thead th {\n",
       "        text-align: right;\n",
       "    }\n",
       "</style>\n",
       "<table border=\"1\" class=\"dataframe\">\n",
       "  <thead>\n",
       "    <tr style=\"text-align: right;\">\n",
       "      <th></th>\n",
       "      <th>Shapley effects</th>\n",
       "      <th>std. errors</th>\n",
       "      <th>CI_min</th>\n",
       "      <th>CI_max</th>\n",
       "    </tr>\n",
       "  </thead>\n",
       "  <tbody>\n",
       "    <tr>\n",
       "      <th>theta_30</th>\n",
       "      <td>-0.077030</td>\n",
       "      <td>0.084621</td>\n",
       "      <td>-0.242887</td>\n",
       "      <td>0.088828</td>\n",
       "    </tr>\n",
       "    <tr>\n",
       "      <th>theta_31</th>\n",
       "      <td>-0.202446</td>\n",
       "      <td>0.133868</td>\n",
       "      <td>-0.464826</td>\n",
       "      <td>0.059935</td>\n",
       "    </tr>\n",
       "    <tr>\n",
       "      <th>RC</th>\n",
       "      <td>0.720530</td>\n",
       "      <td>0.172884</td>\n",
       "      <td>0.381677</td>\n",
       "      <td>1.059382</td>\n",
       "    </tr>\n",
       "    <tr>\n",
       "      <th>theta_11</th>\n",
       "      <td>0.558946</td>\n",
       "      <td>0.224862</td>\n",
       "      <td>0.118215</td>\n",
       "      <td>0.999676</td>\n",
       "    </tr>\n",
       "  </tbody>\n",
       "</table>\n",
       "</div>"
      ],
      "text/plain": [
       "          Shapley effects  std. errors    CI_min    CI_max\n",
       "theta_30        -0.077030     0.084621 -0.242887  0.088828\n",
       "theta_31        -0.202446     0.133868 -0.464826  0.059935\n",
       "RC               0.720530     0.172884  0.381677  1.059382\n",
       "theta_11         0.558946     0.224862  0.118215  0.999676"
      ]
     },
     "execution_count": 75,
     "metadata": {},
     "output_type": "execute_result"
    }
   ],
   "source": [
    "shapley_effects_rust"
   ]
  },
  {
   "cell_type": "code",
   "execution_count": 78,
   "metadata": {},
   "outputs": [
    {
     "data": {
      "text/plain": [
       "1.0"
      ]
     },
     "execution_count": 78,
     "metadata": {},
     "output_type": "execute_result"
    }
   ],
   "source": [
    "shapley_effects_rust['Shapley effects'].sum()"
   ]
  },
  {
   "cell_type": "code",
   "execution_count": null,
   "metadata": {},
   "outputs": [],
   "source": []
  }
 ],
 "metadata": {
  "kernelspec": {
   "display_name": "Python 3",
   "language": "python",
   "name": "python3"
  },
  "language_info": {
   "codemirror_mode": {
    "name": "ipython",
    "version": 3
   },
   "file_extension": ".py",
   "mimetype": "text/x-python",
   "name": "python",
   "nbconvert_exporter": "python",
   "pygments_lexer": "ipython3",
   "version": "3.7.0"
  }
 },
 "nbformat": 4,
 "nbformat_minor": 4
}
