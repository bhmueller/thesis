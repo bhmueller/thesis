{
 "cells": [
  {
   "cell_type": "markdown",
   "metadata": {},
   "source": [
    "# Shapley effects for the Rust Model"
   ]
  },
  {
   "cell_type": "code",
   "execution_count": 1,
   "metadata": {},
   "outputs": [],
   "source": [
    "# Import statements as in simulation_convergence.ipynb.\n",
    "import matplotlib.pyplot as plt\n",
    "#import yaml\n",
    "import numpy as np\n",
    "from ruspy.simulation.simulation import simulate\n",
    "from ruspy.model_code.fix_point_alg import calc_fixp\n",
    "from ruspy.model_code.cost_functions import lin_cost\n",
    "from ruspy.model_code.cost_functions import calc_obs_costs\n",
    "from ruspy.estimation.estimation_transitions import create_transition_matrix\n",
    "\n",
    "# Additional imports from get_demand module.\n",
    "from ruspy.estimation.estimation_interface import select_model_parameters\n",
    "from ruspy.model_code.choice_probabilities import choice_prob_gumbel\n",
    "\n",
    "# Additional import from tutorial uncertainty propagation.\n",
    "import matplotlib as mpl\n",
    "\n",
    "# My imports.\n",
    "import chaospy as cp\n",
    "import seaborn as sns\n",
    "import pandas as pd\n",
    "import matplotlib.pyplot as plt\n",
    "from ruspy.estimation.estimation import estimate\n",
    "from ruspy.model_code.demand_function import get_demand\n",
    "from python.econsa_shapley import get_shapley\n",
    "from python.econsa_shapley import _r_condmvn"
   ]
  },
  {
   "cell_type": "markdown",
   "metadata": {},
   "source": [
    "## Understand simulation capabilities of `ruspy`\n",
    "The below code is taken from the notebook simulation_convergence provided as promotional material for `ruspy`."
   ]
  },
  {
   "cell_type": "code",
   "execution_count": 2,
   "metadata": {},
   "outputs": [],
   "source": [
    "# Set simulating variables\n",
    "disc_fac = 0.9999\n",
    "num_buses = 50\n",
    "num_periods = 120\n",
    "gridsize = 1000\n",
    "# We use the cost parameters and transition probabilities from the replication\n",
    "params = np.array([10.07780762, 2.29417622])\n",
    "trans_probs = np.array([0.39189182, 0.59529371, 0.01281447])\n",
    "scale = 1e-3\n",
    "\n",
    "init_dict_sim = {\n",
    "    \"simulation\": {\n",
    "        \"discount_factor\": disc_fac,\n",
    "        \"periods\": num_periods,\n",
    "        \"seed\": 123,\n",
    "        \"buses\": num_buses,\n",
    "    },\n",
    "    \"plot\": {\"gridsize\": gridsize},\n",
    "}"
   ]
  },
  {
   "cell_type": "code",
   "execution_count": 3,
   "metadata": {},
   "outputs": [],
   "source": [
    "# Calucalte objects necessary for the simulation process. See documentation for details.\n",
    "num_states = 200\n",
    "costs = calc_obs_costs(num_states, lin_cost, params, scale)\n",
    "\n",
    "trans_mat = create_transition_matrix(num_states, trans_probs)\n",
    "ev = calc_fixp(trans_mat, costs, disc_fac)[0]"
   ]
  },
  {
   "cell_type": "code",
   "execution_count": 4,
   "metadata": {},
   "outputs": [],
   "source": [
    "# Can use one init_dict for get_demand() and estimate().\n",
    "init_dict_estimation = {\n",
    "    'model_specifications': {\n",
    "        'discount_factor': disc_fac,\n",
    "        'number_states': num_states,\n",
    "        'maint_cost_func': 'linear',\n",
    "        'cost_scale': 1e-3\n",
    "    },\n",
    "    'optimizer': {\n",
    "        'approach': 'NFXP',\n",
    "        'algorithm': 'scipy_L-BFGS-B',\n",
    "        'gradient': 'Yes'\n",
    "    },\n",
    "    \n",
    "}"
   ]
  },
  {
   "cell_type": "code",
   "execution_count": 5,
   "metadata": {},
   "outputs": [
    {
     "name": "stdout",
     "output_type": "stream",
     "text": [
      "Wall time: 4min 16s\n"
     ]
    }
   ],
   "source": [
    "%%time\n",
    "\n",
    "# Define number of simulations.\n",
    "num_sim = 100\n",
    "\n",
    "# Initialize array to save parameter estimates.\n",
    "parameter_estimates = np.zeros((num_sim, len(trans_probs) + len(params) -1))\n",
    "\n",
    "for i in np.arange(num_sim):\n",
    "    \n",
    "    init_dict_sim['simulation']['seed'] = +i\n",
    "    \n",
    "    df = simulate(init_dict_sim[\"simulation\"], ev, costs, trans_mat)\n",
    "    data = df[['state', 'decision', 'usage']].copy()\n",
    "    \n",
    "    result_transitions_nfxp, result_fixp_nfxp = estimate(init_dict_estimation, data)\n",
    "    \n",
    "    # Record only two of three transition probabilities i.o.t. avoid singularity of the covariance matrix.\n",
    "    parameter_estimates[i, :] = np.concatenate((result_transitions_nfxp['x'][:2], result_fixp_nfxp['x']))"
   ]
  },
  {
   "cell_type": "code",
   "execution_count": 6,
   "metadata": {},
   "outputs": [],
   "source": [
    "cov = np.cov(parameter_estimates.T)"
   ]
  },
  {
   "cell_type": "code",
   "execution_count": 7,
   "metadata": {},
   "outputs": [],
   "source": [
    "mean = np.mean(parameter_estimates, axis=0)"
   ]
  },
  {
   "cell_type": "code",
   "execution_count": 8,
   "metadata": {},
   "outputs": [],
   "source": [
    "distribution = cp.MvNormal(mean, cov)\n",
    "parameter_samples = pd.DataFrame(data=(distribution.sample(1000).T),\n",
    "                                 columns=('t_30', 't_31', 'RC', 't_11'),\n",
    "                                )"
   ]
  },
  {
   "cell_type": "code",
   "execution_count": 9,
   "metadata": {},
   "outputs": [
    {
     "data": {
      "text/html": [
       "<div>\n",
       "<style scoped>\n",
       "    .dataframe tbody tr th:only-of-type {\n",
       "        vertical-align: middle;\n",
       "    }\n",
       "\n",
       "    .dataframe tbody tr th {\n",
       "        vertical-align: top;\n",
       "    }\n",
       "\n",
       "    .dataframe thead th {\n",
       "        text-align: right;\n",
       "    }\n",
       "</style>\n",
       "<table border=\"1\" class=\"dataframe\">\n",
       "  <thead>\n",
       "    <tr style=\"text-align: right;\">\n",
       "      <th></th>\n",
       "      <th>t_30</th>\n",
       "      <th>t_31</th>\n",
       "      <th>RC</th>\n",
       "      <th>t_11</th>\n",
       "    </tr>\n",
       "  </thead>\n",
       "  <tbody>\n",
       "    <tr>\n",
       "      <th>0</th>\n",
       "      <td>0.390771</td>\n",
       "      <td>0.594243</td>\n",
       "      <td>13.020443</td>\n",
       "      <td>3.563283</td>\n",
       "    </tr>\n",
       "    <tr>\n",
       "      <th>1</th>\n",
       "      <td>0.401584</td>\n",
       "      <td>0.583803</td>\n",
       "      <td>10.207463</td>\n",
       "      <td>2.195900</td>\n",
       "    </tr>\n",
       "    <tr>\n",
       "      <th>2</th>\n",
       "      <td>0.390502</td>\n",
       "      <td>0.597463</td>\n",
       "      <td>7.274183</td>\n",
       "      <td>0.490257</td>\n",
       "    </tr>\n",
       "    <tr>\n",
       "      <th>3</th>\n",
       "      <td>0.390628</td>\n",
       "      <td>0.595334</td>\n",
       "      <td>8.862660</td>\n",
       "      <td>1.868585</td>\n",
       "    </tr>\n",
       "    <tr>\n",
       "      <th>4</th>\n",
       "      <td>0.391315</td>\n",
       "      <td>0.596972</td>\n",
       "      <td>11.486418</td>\n",
       "      <td>2.573254</td>\n",
       "    </tr>\n",
       "    <tr>\n",
       "      <th>...</th>\n",
       "      <td>...</td>\n",
       "      <td>...</td>\n",
       "      <td>...</td>\n",
       "      <td>...</td>\n",
       "    </tr>\n",
       "    <tr>\n",
       "      <th>995</th>\n",
       "      <td>0.391268</td>\n",
       "      <td>0.596045</td>\n",
       "      <td>11.387166</td>\n",
       "      <td>2.611934</td>\n",
       "    </tr>\n",
       "    <tr>\n",
       "      <th>996</th>\n",
       "      <td>0.388125</td>\n",
       "      <td>0.600327</td>\n",
       "      <td>9.894432</td>\n",
       "      <td>2.186753</td>\n",
       "    </tr>\n",
       "    <tr>\n",
       "      <th>997</th>\n",
       "      <td>0.391980</td>\n",
       "      <td>0.595824</td>\n",
       "      <td>9.365398</td>\n",
       "      <td>2.047078</td>\n",
       "    </tr>\n",
       "    <tr>\n",
       "      <th>998</th>\n",
       "      <td>0.401313</td>\n",
       "      <td>0.585264</td>\n",
       "      <td>11.873053</td>\n",
       "      <td>3.039995</td>\n",
       "    </tr>\n",
       "    <tr>\n",
       "      <th>999</th>\n",
       "      <td>0.397486</td>\n",
       "      <td>0.588648</td>\n",
       "      <td>11.301771</td>\n",
       "      <td>2.832372</td>\n",
       "    </tr>\n",
       "  </tbody>\n",
       "</table>\n",
       "<p>1000 rows × 4 columns</p>\n",
       "</div>"
      ],
      "text/plain": [
       "         t_30      t_31         RC      t_11\n",
       "0    0.390771  0.594243  13.020443  3.563283\n",
       "1    0.401584  0.583803  10.207463  2.195900\n",
       "2    0.390502  0.597463   7.274183  0.490257\n",
       "3    0.390628  0.595334   8.862660  1.868585\n",
       "4    0.391315  0.596972  11.486418  2.573254\n",
       "..        ...       ...        ...       ...\n",
       "995  0.391268  0.596045  11.387166  2.611934\n",
       "996  0.388125  0.600327   9.894432  2.186753\n",
       "997  0.391980  0.595824   9.365398  2.047078\n",
       "998  0.401313  0.585264  11.873053  3.039995\n",
       "999  0.397486  0.588648  11.301771  2.832372\n",
       "\n",
       "[1000 rows x 4 columns]"
      ]
     },
     "execution_count": 9,
     "metadata": {},
     "output_type": "execute_result"
    }
   ],
   "source": [
    "parameter_samples"
   ]
  },
  {
   "cell_type": "code",
   "execution_count": 10,
   "metadata": {},
   "outputs": [],
   "source": [
    "# Add third transition probability: t_32 = 1 - t_30 - t_31\n",
    "parameter_samples['t_32'] = 1 - parameter_samples['t_30'] - parameter_samples['t_31']"
   ]
  },
  {
   "cell_type": "code",
   "execution_count": 11,
   "metadata": {},
   "outputs": [
    {
     "data": {
      "text/html": [
       "<div>\n",
       "<style scoped>\n",
       "    .dataframe tbody tr th:only-of-type {\n",
       "        vertical-align: middle;\n",
       "    }\n",
       "\n",
       "    .dataframe tbody tr th {\n",
       "        vertical-align: top;\n",
       "    }\n",
       "\n",
       "    .dataframe thead th {\n",
       "        text-align: right;\n",
       "    }\n",
       "</style>\n",
       "<table border=\"1\" class=\"dataframe\">\n",
       "  <thead>\n",
       "    <tr style=\"text-align: right;\">\n",
       "      <th></th>\n",
       "      <th>t_30</th>\n",
       "      <th>t_31</th>\n",
       "      <th>RC</th>\n",
       "      <th>t_11</th>\n",
       "      <th>t_32</th>\n",
       "    </tr>\n",
       "  </thead>\n",
       "  <tbody>\n",
       "    <tr>\n",
       "      <th>0</th>\n",
       "      <td>0.390771</td>\n",
       "      <td>0.594243</td>\n",
       "      <td>13.020443</td>\n",
       "      <td>3.563283</td>\n",
       "      <td>0.014987</td>\n",
       "    </tr>\n",
       "    <tr>\n",
       "      <th>1</th>\n",
       "      <td>0.401584</td>\n",
       "      <td>0.583803</td>\n",
       "      <td>10.207463</td>\n",
       "      <td>2.195900</td>\n",
       "      <td>0.014613</td>\n",
       "    </tr>\n",
       "    <tr>\n",
       "      <th>2</th>\n",
       "      <td>0.390502</td>\n",
       "      <td>0.597463</td>\n",
       "      <td>7.274183</td>\n",
       "      <td>0.490257</td>\n",
       "      <td>0.012036</td>\n",
       "    </tr>\n",
       "    <tr>\n",
       "      <th>3</th>\n",
       "      <td>0.390628</td>\n",
       "      <td>0.595334</td>\n",
       "      <td>8.862660</td>\n",
       "      <td>1.868585</td>\n",
       "      <td>0.014038</td>\n",
       "    </tr>\n",
       "    <tr>\n",
       "      <th>4</th>\n",
       "      <td>0.391315</td>\n",
       "      <td>0.596972</td>\n",
       "      <td>11.486418</td>\n",
       "      <td>2.573254</td>\n",
       "      <td>0.011712</td>\n",
       "    </tr>\n",
       "    <tr>\n",
       "      <th>...</th>\n",
       "      <td>...</td>\n",
       "      <td>...</td>\n",
       "      <td>...</td>\n",
       "      <td>...</td>\n",
       "      <td>...</td>\n",
       "    </tr>\n",
       "    <tr>\n",
       "      <th>995</th>\n",
       "      <td>0.391268</td>\n",
       "      <td>0.596045</td>\n",
       "      <td>11.387166</td>\n",
       "      <td>2.611934</td>\n",
       "      <td>0.012687</td>\n",
       "    </tr>\n",
       "    <tr>\n",
       "      <th>996</th>\n",
       "      <td>0.388125</td>\n",
       "      <td>0.600327</td>\n",
       "      <td>9.894432</td>\n",
       "      <td>2.186753</td>\n",
       "      <td>0.011549</td>\n",
       "    </tr>\n",
       "    <tr>\n",
       "      <th>997</th>\n",
       "      <td>0.391980</td>\n",
       "      <td>0.595824</td>\n",
       "      <td>9.365398</td>\n",
       "      <td>2.047078</td>\n",
       "      <td>0.012196</td>\n",
       "    </tr>\n",
       "    <tr>\n",
       "      <th>998</th>\n",
       "      <td>0.401313</td>\n",
       "      <td>0.585264</td>\n",
       "      <td>11.873053</td>\n",
       "      <td>3.039995</td>\n",
       "      <td>0.013423</td>\n",
       "    </tr>\n",
       "    <tr>\n",
       "      <th>999</th>\n",
       "      <td>0.397486</td>\n",
       "      <td>0.588648</td>\n",
       "      <td>11.301771</td>\n",
       "      <td>2.832372</td>\n",
       "      <td>0.013866</td>\n",
       "    </tr>\n",
       "  </tbody>\n",
       "</table>\n",
       "<p>1000 rows × 5 columns</p>\n",
       "</div>"
      ],
      "text/plain": [
       "         t_30      t_31         RC      t_11      t_32\n",
       "0    0.390771  0.594243  13.020443  3.563283  0.014987\n",
       "1    0.401584  0.583803  10.207463  2.195900  0.014613\n",
       "2    0.390502  0.597463   7.274183  0.490257  0.012036\n",
       "3    0.390628  0.595334   8.862660  1.868585  0.014038\n",
       "4    0.391315  0.596972  11.486418  2.573254  0.011712\n",
       "..        ...       ...        ...       ...       ...\n",
       "995  0.391268  0.596045  11.387166  2.611934  0.012687\n",
       "996  0.388125  0.600327   9.894432  2.186753  0.011549\n",
       "997  0.391980  0.595824   9.365398  2.047078  0.012196\n",
       "998  0.401313  0.585264  11.873053  3.039995  0.013423\n",
       "999  0.397486  0.588648  11.301771  2.832372  0.013866\n",
       "\n",
       "[1000 rows x 5 columns]"
      ]
     },
     "execution_count": 11,
     "metadata": {},
     "output_type": "execute_result"
    }
   ],
   "source": [
    "parameter_samples"
   ]
  },
  {
   "cell_type": "code",
   "execution_count": 12,
   "metadata": {},
   "outputs": [],
   "source": [
    "# Plot distributions.\n",
    "#sns.jointplot(data=parameter_samples, x='RC', y='t_11')"
   ]
  },
  {
   "cell_type": "code",
   "execution_count": 13,
   "metadata": {},
   "outputs": [],
   "source": [
    "# Plot distributions.\n",
    "#sns.displot(parameter_samples, x='RC', y='t_11')"
   ]
  },
  {
   "cell_type": "code",
   "execution_count": 14,
   "metadata": {},
   "outputs": [],
   "source": [
    "# Plot distributions.\n",
    "#sns.pairplot(parameter_samples)"
   ]
  },
  {
   "cell_type": "markdown",
   "metadata": {},
   "source": [
    "### Calculate demand level from structural parameter estimates"
   ]
  },
  {
   "cell_type": "code",
   "execution_count": 9,
   "metadata": {},
   "outputs": [],
   "source": [
    "# Sample data.\n",
    "n_sim_demand = 100\n",
    "input_variables = cp.MvNormal(mean, cov).sample(n_sim_demand).T"
   ]
  },
  {
   "cell_type": "code",
   "execution_count": 10,
   "metadata": {},
   "outputs": [],
   "source": [
    "#input_variables"
   ]
  },
  {
   "cell_type": "code",
   "execution_count": 11,
   "metadata": {},
   "outputs": [],
   "source": [
    "n_inputs = 5\n",
    "inputs = np.zeros((n_sim_demand, n_inputs))"
   ]
  },
  {
   "cell_type": "code",
   "execution_count": 12,
   "metadata": {},
   "outputs": [],
   "source": [
    "# Fill the inputs array.\n",
    "inputs[:,:2] = input_variables[:,:2]\n",
    "# At third position insert thrid transition probability.\n",
    "inputs[:, 2] = 1 - input_variables[:, 0] - input_variables[:, 1]\n",
    "inputs[:, 3:] = input_variables[:, 2:]"
   ]
  },
  {
   "cell_type": "code",
   "execution_count": 13,
   "metadata": {},
   "outputs": [],
   "source": [
    "#inputs"
   ]
  },
  {
   "cell_type": "code",
   "execution_count": 14,
   "metadata": {},
   "outputs": [],
   "source": [
    "# Need demand at certain value of RC only.\n",
    "demand_dict = {\n",
    "    \"RC_lower_bound\": 4,\n",
    "    \"RC_upper_bound\": 13,\n",
    "    \"demand_evaluations\": 100,\n",
    "    \"tolerance\": 1e-10,\n",
    "    \"num_periods\": num_periods,\n",
    "    \"num_buses\": num_buses,\n",
    "}\n",
    "demand_params = inputs[0, :]"
   ]
  },
  {
   "cell_type": "code",
   "execution_count": 21,
   "metadata": {},
   "outputs": [],
   "source": [
    "#demand = get_demand(init_dict_estimation, demand_dict, demand_params)\n",
    "#demand.head()"
   ]
  },
  {
   "cell_type": "code",
   "execution_count": 22,
   "metadata": {},
   "outputs": [],
   "source": [
    "#sns.jointplot(data=demand, x='demand', y='RC')"
   ]
  },
  {
   "cell_type": "code",
   "execution_count": 23,
   "metadata": {},
   "outputs": [],
   "source": [
    "#plt.plot(demand.index.to_numpy(), demand[\"demand\"].astype(float).to_numpy())\n",
    "#plt.xlabel(\"Replacement Cost\")\n",
    "#plt.ylabel(\"Expected Implied Annual Demand\")"
   ]
  },
  {
   "cell_type": "markdown",
   "metadata": {},
   "source": [
    "### Demand at certain value of RC. "
   ]
  },
  {
   "cell_type": "code",
   "execution_count": 15,
   "metadata": {},
   "outputs": [],
   "source": [
    "# Need demand at certain value of RC only.\n",
    "demand_dict = {\n",
    "    \"RC_lower_bound\": 11.5,\n",
    "    \"RC_upper_bound\": 11.5,\n",
    "    \"demand_evaluations\": 1,\n",
    "    \"tolerance\": 1e-10,\n",
    "    \"num_periods\": num_periods,\n",
    "    \"num_buses\": num_buses,\n",
    "}"
   ]
  },
  {
   "cell_type": "code",
   "execution_count": 16,
   "metadata": {},
   "outputs": [
    {
     "name": "stdout",
     "output_type": "stream",
     "text": [
      "Wall time: 32.6 s\n"
     ]
    }
   ],
   "source": [
    "%%time\n",
    "# Intitialize for loop for calculating implied demand for input samples.\n",
    "implied_demand = np.zeros(n_sim_demand)\n",
    "for sample in np.arange(n_sim_demand):\n",
    "    demand_params = inputs[sample, :]\n",
    "    demand = get_demand(init_dict_estimation, demand_dict, demand_params)\n",
    "    implied_demand[sample] = demand.iloc[0][0]"
   ]
  },
  {
   "cell_type": "code",
   "execution_count": 17,
   "metadata": {},
   "outputs": [
    {
     "data": {
      "text/plain": [
       "array([35.04230215, 41.88034302, 42.64067456, 45.59410022, 47.80651827,\n",
       "       50.02376909, 50.10301415, 52.04350143, 53.43128727, 53.60646851,\n",
       "       53.80956257, 54.4911433 , 55.63695809, 55.82170223, 55.95243882,\n",
       "       55.97641429, 56.04551306, 56.05254705, 56.0945256 , 56.20395564,\n",
       "       56.29037144, 57.05534104, 57.54018426, 57.89618455, 57.9204514 ,\n",
       "       58.09008281, 58.09449981, 58.30642652, 58.39574797, 58.53444473,\n",
       "       58.71251992, 58.80280632, 58.98127857, 59.1630933 , 59.61019991,\n",
       "       59.6245555 , 59.73455001, 59.84999009, 60.08056045, 60.18126924,\n",
       "       60.72751246, 60.73588006, 60.89954444, 61.08706835, 61.13499965,\n",
       "       61.45795866, 61.47505363, 61.85111155, 62.0336802 , 62.16544369,\n",
       "       62.21180033, 62.25265346, 62.43536728, 62.46685938, 62.5373798 ,\n",
       "       62.84901364, 62.9556479 , 63.00832052, 63.04875169, 63.08124651,\n",
       "       63.46735209, 63.5679971 , 63.63316544, 63.72592514, 64.07962778,\n",
       "       64.27479722, 64.31393835, 64.49327853, 64.60885411, 64.79801634,\n",
       "       64.82355578, 64.89122839, 64.95308355, 65.92219897, 66.01852643,\n",
       "       66.03060616, 66.15321087, 66.29027398, 66.30809042, 66.76925092,\n",
       "       66.81795885, 66.85046242, 67.16049521, 68.70092592, 68.71789436,\n",
       "       68.81786656, 69.25771241, 69.39100205, 69.64315663, 69.8161647 ,\n",
       "       70.51311233, 70.82983786, 71.48383317, 71.62250021, 72.0483184 ,\n",
       "       73.79874513, 74.05414808, 74.29599746, 81.03082456, 83.73949432])"
      ]
     },
     "execution_count": 17,
     "metadata": {},
     "output_type": "execute_result"
    }
   ],
   "source": [
    "np.sort(implied_demand)"
   ]
  },
  {
   "cell_type": "code",
   "execution_count": 18,
   "metadata": {},
   "outputs": [
    {
     "data": {
      "text/plain": [
       "35.04230215481491"
      ]
     },
     "execution_count": 18,
     "metadata": {},
     "output_type": "execute_result"
    }
   ],
   "source": [
    "np.min(implied_demand)"
   ]
  },
  {
   "cell_type": "code",
   "execution_count": 19,
   "metadata": {},
   "outputs": [
    {
     "name": "stderr",
     "output_type": "stream",
     "text": [
      "C:\\Users\\admin\\anaconda3\\envs\\thesis-benedikt\\lib\\site-packages\\seaborn\\distributions.py:2551: FutureWarning: `distplot` is a deprecated function and will be removed in a future version. Please adapt your code to use either `displot` (a figure-level function with similar flexibility) or `histplot` (an axes-level function for histograms).\n",
      "  warnings.warn(msg, FutureWarning)\n"
     ]
    },
    {
     "data": {
      "text/plain": [
       "[Text(0, 0.0, ''),\n",
       " Text(0, 0.01, ''),\n",
       " Text(0, 0.02, ''),\n",
       " Text(0, 0.03, ''),\n",
       " Text(0, 0.04, ''),\n",
       " Text(0, 0.05, ''),\n",
       " Text(0, 0.06, ''),\n",
       " Text(0, 0.07, ''),\n",
       " Text(0, 0.08, '')]"
      ]
     },
     "execution_count": 19,
     "metadata": {},
     "output_type": "execute_result"
    },
    {
     "data": {
      "image/png": "[encoded data removed]",
      "text/plain": [
       "<Figure size 432x288 with 1 Axes>"
      ]
     },
     "metadata": {
      "needs_background": "light"
     },
     "output_type": "display_data"
    }
   ],
   "source": [
    "fig, ax = plt.subplots()\n",
    "\n",
    "sns.distplot(implied_demand)\n",
    "\n",
    "ax.set_xlabel(r\"$Y$\")\n",
    "ax.set_ylabel(r\"$f_Y$\")\n",
    "\n",
    "ax.xaxis.set_major_formatter(mpl.ticker.StrMethodFormatter(\"{x:,.0f}\"))\n",
    "ax.axes.get_yaxis().set_ticklabels([])"
   ]
  },
  {
   "cell_type": "markdown",
   "metadata": {},
   "source": [
    "### Shapley effects for the Rust model\n",
    " 1. Define functions `rust_model()`, `x_all()`, and `x_cond()`.\n",
    " 2. Set parameters for `get_shapley()`.\n",
    " 3. Run `get_shapley()`."
   ]
  },
  {
   "cell_type": "code",
   "execution_count": 20,
   "metadata": {},
   "outputs": [],
   "source": [
    "# Define x_all and x_cond. Can use functions from tutorial of Shapley effects and adapt them.\n",
    "#def x_all(n):\n",
    "#    sampled_parameters = cp.MvNormal(mean, cov).sample(n)\n",
    "#    out = np.zeros((n_inputs, n))\n",
    "#    # Due to singularity of cov one transition prob. needed to be left out which is now reintroduced.\n",
    "#    out[:2, :] = sampled_parameters[:2, :]\n",
    "#    out[2, :] = 1- sampled_parameters[0, :] - sampled_parameters[1, :]\n",
    "#    out[3:, :] = sampled_parameters[2:, :]\n",
    "#    return out"
   ]
  },
  {
   "cell_type": "code",
   "execution_count": 21,
   "metadata": {},
   "outputs": [],
   "source": [
    "#test_sample = x_all(10)"
   ]
  },
  {
   "cell_type": "code",
   "execution_count": 22,
   "metadata": {},
   "outputs": [],
   "source": [
    "# Test whether first elements sum up to one.\n",
    "#np.sum(test_sample[:3, :], axis=0)"
   ]
  },
  {
   "cell_type": "code",
   "execution_count": 23,
   "metadata": {},
   "outputs": [],
   "source": [
    "#def x_cond(n, subset_j, subsetj_conditional, xjc):\n",
    "#    if subsetj_conditional is None:\n",
    "#        if 2 in subset_j:\n",
    "            #  Position of 2 in subsetj_conditional.\n",
    "            # Calc theta_32 (input with index 2) as lin. comb. of index 1 and 2.\n",
    "            # return statement.\n",
    "#        else:\n",
    "            \n",
    "#        cov_int = np.array(cov)\n",
    "#        cov_int = cov_int.take(subset_j, axis = 1)\n",
    "#        cov_int = cov_int[subset_j]\n",
    "#        sampled_parameters = cp.MvNormal(mean[subset_j], cov_int).sample(n)\n",
    "\n",
    "        \n",
    "#    else:\n",
    "#        return _r_condmvn(n, mean = mean, cov = cov, dependent_ind = subset_j, given_ind = subsetj_conditional, x_given = xjc)"
   ]
  },
  {
   "cell_type": "markdown",
   "metadata": {},
   "source": [
    "#### 1. Define functions "
   ]
  },
  {
   "cell_type": "code",
   "execution_count": 24,
   "metadata": {},
   "outputs": [],
   "source": [
    "def x_all(n):\n",
    "    distribution = cp.MvNormal(mean, cov)\n",
    "    return distribution.sample(n)\n",
    "\n",
    "def x_cond(n, subset_j, subsetj_conditional, xjc):\n",
    "    if subsetj_conditional is None:\n",
    "        cov_int = np.array(cov)\n",
    "        cov_int = cov_int.take(subset_j, axis = 1)\n",
    "        cov_int = cov_int[subset_j]\n",
    "        distribution = cp.MvNormal(mean[subset_j], cov_int)\n",
    "        return distribution.sample(n)\n",
    "    else:\n",
    "        return _r_condmvn(n, mean = mean, cov = cov, dependent_ind = subset_j, given_ind = subsetj_conditional, x_given = xjc)"
   ]
  },
  {
   "cell_type": "code",
   "execution_count": 25,
   "metadata": {},
   "outputs": [],
   "source": [
    "n = 10\n",
    "data = x_all(n).T"
   ]
  },
  {
   "cell_type": "code",
   "execution_count": 26,
   "metadata": {},
   "outputs": [
    {
     "data": {
      "text/plain": [
       "array([[ 0.38890322,  0.59556471, 13.21106872,  3.4034898 ],\n",
       "       [ 0.39819594,  0.59044541,  9.52843744,  2.12263132],\n",
       "       [ 0.38507203,  0.6023184 , 10.86064373,  2.75341043],\n",
       "       [ 0.3924663 ,  0.59444855, 10.95391304,  2.57123023],\n",
       "       [ 0.39709037,  0.59092618, 12.4104734 ,  2.66315015],\n",
       "       [ 0.38501003,  0.60292912, 10.70708816,  2.80285084],\n",
       "       [ 0.38787287,  0.60117241,  9.46499128,  2.20424118],\n",
       "       [ 0.38767889,  0.59898503, 13.9486157 ,  4.15443668],\n",
       "       [ 0.39332757,  0.59315912, 11.57837838,  2.93125402],\n",
       "       [ 0.3844487 ,  0.60339814,  6.48788792,  0.83773295]])"
      ]
     },
     "execution_count": 26,
     "metadata": {},
     "output_type": "execute_result"
    }
   ],
   "source": [
    "data"
   ]
  },
  {
   "cell_type": "code",
   "execution_count": 27,
   "metadata": {},
   "outputs": [],
   "source": [
    "def rust_model(x):\n",
    "    if method == 'exact':\n",
    "        n_evaluations = n_output + np.math.factorial(n_inputs) * (n_inputs -1) * n_outer * n_inner\n",
    "    elif method == 'random':\n",
    "        n_evaluations = n_output + n_perms * (n_inputs -1) * n_outer * n_inner\n",
    "    demand_inputs = np.zeros((n_evaluations, 5))\n",
    "    demand_inputs[:, :2] = x[:, :2]\n",
    "    demand_inputs[:, 2] = 1 - x[:, 0] - x[:, 1]\n",
    "    demand_inputs[:, 3:] = x[:, 2:]\n",
    "    \n",
    "    demand_output = np.zeros((n_evaluations, 1))\n",
    "    \n",
    "    for sample in np.arange(n_evaluations):\n",
    "        demand_params = demand_inputs[sample, :]\n",
    "        demand_output[sample] = get_demand(init_dict_estimation, demand_dict, demand_params).iloc[0][0]\n",
    "        \n",
    "    return demand_output"
   ]
  },
  {
   "cell_type": "code",
   "execution_count": 41,
   "metadata": {},
   "outputs": [
    {
     "name": "stdout",
     "output_type": "stream",
     "text": [
      "Wall time: 0 ns\n"
     ]
    }
   ],
   "source": [
    "%%time\n",
    "#rust_model(data)"
   ]
  },
  {
   "cell_type": "markdown",
   "metadata": {},
   "source": [
    "#### 2. Set parameters for `get_shapley()` "
   ]
  },
  {
   "cell_type": "code",
   "execution_count": 51,
   "metadata": {},
   "outputs": [],
   "source": [
    "n_inputs = 4\n",
    "method = 'exact'\n",
    "np.random.seed(1234)\n",
    "\n",
    "if method == 'exact':\n",
    "    n_perms = None\n",
    "elif method == 'random':\n",
    "    n_perms = 10\n",
    "n_output = 10**3\n",
    "n_outer = 15\n",
    "n_inner = 3"
   ]
  },
  {
   "cell_type": "code",
   "execution_count": 52,
   "metadata": {},
   "outputs": [
    {
     "name": "stdout",
     "output_type": "stream",
     "text": [
      " 4240 model evaluations \n",
      " approx.  0.4122222222222222 hours \n",
      " approx. 24.733333333333334 minutes\n"
     ]
    }
   ],
   "source": [
    "# Approximate time for computation in hours (approx. 35 s per 100 model evaluations).\n",
    "if method == 'random':\n",
    "    n_evals = n_output + n_perms * (n_inputs -1) * n_outer * n_inner\n",
    "    time = (35 * (n_evals) / 100) / 3600\n",
    "elif method == 'exact':\n",
    "    n_evals = n_output + np.math.factorial(n_inputs) * (n_inputs -1) * n_outer * n_inner\n",
    "    time = (35 * (n_evals) / 100) / 3600\n",
    "\n",
    "print('', n_evals, 'model evaluations', \n",
    "      '\\n', 'approx. ', time, 'hours', \n",
    "      '\\n', 'approx.', time * 60, 'minutes'\n",
    "     )"
   ]
  },
  {
   "cell_type": "markdown",
   "metadata": {},
   "source": [
    "#### 3. Run `get_shapley()` "
   ]
  },
  {
   "cell_type": "markdown",
   "metadata": {},
   "source": [
    "#### Exact permutation "
   ]
  },
  {
   "cell_type": "markdown",
   "metadata": {},
   "source": [
    "$N_V = 1000, N_O = 15, N_I = 3$"
   ]
  },
  {
   "cell_type": "code",
   "execution_count": 53,
   "metadata": {},
   "outputs": [
    {
     "name": "stdout",
     "output_type": "stream",
     "text": [
      "Wall time: 27min 27s\n"
     ]
    }
   ],
   "source": [
    "%%time\n",
    "# 4,240 model evaluations\n",
    "exact_shapley_4240 = get_shapley(method, rust_model, x_all, x_cond, \n",
    "                                 n_perms, n_inputs, n_output, n_outer, n_inner)\n",
    "exact_shapley_4240.rename(index={'X1': 'theta_30', 'X2': 'theta_31', 'X3': 'RC', 'X4': 'theta_11'}, \n",
    "                          inplace=True)"
   ]
  },
  {
   "cell_type": "code",
   "execution_count": 54,
   "metadata": {},
   "outputs": [
    {
     "data": {
      "text/html": [
       "<div>\n",
       "<style scoped>\n",
       "    .dataframe tbody tr th:only-of-type {\n",
       "        vertical-align: middle;\n",
       "    }\n",
       "\n",
       "    .dataframe tbody tr th {\n",
       "        vertical-align: top;\n",
       "    }\n",
       "\n",
       "    .dataframe thead th {\n",
       "        text-align: right;\n",
       "    }\n",
       "</style>\n",
       "<table border=\"1\" class=\"dataframe\">\n",
       "  <thead>\n",
       "    <tr style=\"text-align: right;\">\n",
       "      <th></th>\n",
       "      <th>Shapley effects</th>\n",
       "      <th>std. errors</th>\n",
       "      <th>CI_min</th>\n",
       "      <th>CI_max</th>\n",
       "    </tr>\n",
       "  </thead>\n",
       "  <tbody>\n",
       "    <tr>\n",
       "      <th>theta_30</th>\n",
       "      <td>0.026636</td>\n",
       "      <td>0.026675</td>\n",
       "      <td>-0.025648</td>\n",
       "      <td>0.078919</td>\n",
       "    </tr>\n",
       "    <tr>\n",
       "      <th>theta_31</th>\n",
       "      <td>0.056872</td>\n",
       "      <td>0.035241</td>\n",
       "      <td>-0.012200</td>\n",
       "      <td>0.125943</td>\n",
       "    </tr>\n",
       "    <tr>\n",
       "      <th>RC</th>\n",
       "      <td>0.416654</td>\n",
       "      <td>0.085906</td>\n",
       "      <td>0.248279</td>\n",
       "      <td>0.585030</td>\n",
       "    </tr>\n",
       "    <tr>\n",
       "      <th>theta_11</th>\n",
       "      <td>0.499838</td>\n",
       "      <td>0.086751</td>\n",
       "      <td>0.329807</td>\n",
       "      <td>0.669869</td>\n",
       "    </tr>\n",
       "  </tbody>\n",
       "</table>\n",
       "</div>"
      ],
      "text/plain": [
       "          Shapley effects  std. errors    CI_min    CI_max\n",
       "theta_30         0.026636     0.026675 -0.025648  0.078919\n",
       "theta_31         0.056872     0.035241 -0.012200  0.125943\n",
       "RC               0.416654     0.085906  0.248279  0.585030\n",
       "theta_11         0.499838     0.086751  0.329807  0.669869"
      ]
     },
     "execution_count": 54,
     "metadata": {},
     "output_type": "execute_result"
    }
   ],
   "source": [
    "exact_shapley_4240"
   ]
  },
  {
   "cell_type": "code",
   "execution_count": 55,
   "metadata": {},
   "outputs": [
    {
     "data": {
      "text/plain": [
       "1.0"
      ]
     },
     "execution_count": 55,
     "metadata": {},
     "output_type": "execute_result"
    }
   ],
   "source": [
    "# Test sum of Shapley effects.\n",
    "exact_shapley_4240['Shapley effects'].sum()"
   ]
  },
  {
   "cell_type": "markdown",
   "metadata": {},
   "source": [
    "$N_V = 100, N_O = 10, N_I = 3$"
   ]
  },
  {
   "cell_type": "code",
   "execution_count": 41,
   "metadata": {},
   "outputs": [
    {
     "name": "stdout",
     "output_type": "stream",
     "text": [
      "Wall time: 13min 29s\n"
     ]
    }
   ],
   "source": [
    "%%time\n",
    "exact_shapley = get_shapley(method, rust_model, x_all, x_cond, n_perms, n_inputs, n_output, n_outer, n_inner)"
   ]
  },
  {
   "cell_type": "code",
   "execution_count": 44,
   "metadata": {},
   "outputs": [
    {
     "data": {
      "text/html": [
       "<div>\n",
       "<style scoped>\n",
       "    .dataframe tbody tr th:only-of-type {\n",
       "        vertical-align: middle;\n",
       "    }\n",
       "\n",
       "    .dataframe tbody tr th {\n",
       "        vertical-align: top;\n",
       "    }\n",
       "\n",
       "    .dataframe thead th {\n",
       "        text-align: right;\n",
       "    }\n",
       "</style>\n",
       "<table border=\"1\" class=\"dataframe\">\n",
       "  <thead>\n",
       "    <tr style=\"text-align: right;\">\n",
       "      <th></th>\n",
       "      <th>Shapley effects</th>\n",
       "      <th>std. errors</th>\n",
       "      <th>CI_min</th>\n",
       "      <th>CI_max</th>\n",
       "    </tr>\n",
       "  </thead>\n",
       "  <tbody>\n",
       "    <tr>\n",
       "      <th>theta_30</th>\n",
       "      <td>0.065391</td>\n",
       "      <td>0.036733</td>\n",
       "      <td>-0.006605</td>\n",
       "      <td>0.137387</td>\n",
       "    </tr>\n",
       "    <tr>\n",
       "      <th>theta_31</th>\n",
       "      <td>-0.032281</td>\n",
       "      <td>0.037893</td>\n",
       "      <td>-0.106550</td>\n",
       "      <td>0.041988</td>\n",
       "    </tr>\n",
       "    <tr>\n",
       "      <th>RC</th>\n",
       "      <td>0.437508</td>\n",
       "      <td>0.095247</td>\n",
       "      <td>0.250825</td>\n",
       "      <td>0.624191</td>\n",
       "    </tr>\n",
       "    <tr>\n",
       "      <th>theta_11</th>\n",
       "      <td>0.529382</td>\n",
       "      <td>0.095781</td>\n",
       "      <td>0.341651</td>\n",
       "      <td>0.717113</td>\n",
       "    </tr>\n",
       "  </tbody>\n",
       "</table>\n",
       "</div>"
      ],
      "text/plain": [
       "          Shapley effects  std. errors    CI_min    CI_max\n",
       "theta_30         0.065391     0.036733 -0.006605  0.137387\n",
       "theta_31        -0.032281     0.037893 -0.106550  0.041988\n",
       "RC               0.437508     0.095247  0.250825  0.624191\n",
       "theta_11         0.529382     0.095781  0.341651  0.717113"
      ]
     },
     "execution_count": 44,
     "metadata": {},
     "output_type": "execute_result"
    }
   ],
   "source": [
    "shapley_effects_exact = exact_shapley.copy()\n",
    "shapley_effects_exact.rename(index={'X1': 'theta_30', 'X2': 'theta_31', 'X3': 'RC', 'X4': 'theta_11'}, inplace=True)\n",
    "shapley_effects_exact"
   ]
  },
  {
   "cell_type": "code",
   "execution_count": 46,
   "metadata": {},
   "outputs": [
    {
     "data": {
      "text/plain": [
       "1.0"
      ]
     },
     "execution_count": 46,
     "metadata": {},
     "output_type": "execute_result"
    }
   ],
   "source": [
    "shapley_effects_exact['Shapley effects'].sum()"
   ]
  },
  {
   "cell_type": "markdown",
   "metadata": {},
   "source": [
    "#### Random permutation "
   ]
  },
  {
   "cell_type": "markdown",
   "metadata": {},
   "source": [
    "$m = 10, N_V = 100, N_O = 10, N_I = 3$"
   ]
  },
  {
   "cell_type": "code",
   "execution_count": 68,
   "metadata": {},
   "outputs": [
    {
     "name": "stdout",
     "output_type": "stream",
     "text": [
      "Wall time: 6min 5s\n"
     ]
    }
   ],
   "source": [
    "%%time\n",
    "random_shapley = get_shapley(method, rust_model, x_all, x_cond, n_perms, n_inputs, n_output, n_outer, n_inner)"
   ]
  },
  {
   "cell_type": "code",
   "execution_count": 69,
   "metadata": {},
   "outputs": [
    {
     "data": {
      "text/html": [
       "<div>\n",
       "<style scoped>\n",
       "    .dataframe tbody tr th:only-of-type {\n",
       "        vertical-align: middle;\n",
       "    }\n",
       "\n",
       "    .dataframe tbody tr th {\n",
       "        vertical-align: top;\n",
       "    }\n",
       "\n",
       "    .dataframe thead th {\n",
       "        text-align: right;\n",
       "    }\n",
       "</style>\n",
       "<table border=\"1\" class=\"dataframe\">\n",
       "  <thead>\n",
       "    <tr style=\"text-align: right;\">\n",
       "      <th></th>\n",
       "      <th>Shapley effects</th>\n",
       "      <th>std. errors</th>\n",
       "      <th>CI_min</th>\n",
       "      <th>CI_max</th>\n",
       "    </tr>\n",
       "  </thead>\n",
       "  <tbody>\n",
       "    <tr>\n",
       "      <th>X1</th>\n",
       "      <td>-0.077030</td>\n",
       "      <td>0.084621</td>\n",
       "      <td>-0.242887</td>\n",
       "      <td>0.088828</td>\n",
       "    </tr>\n",
       "    <tr>\n",
       "      <th>X2</th>\n",
       "      <td>-0.202446</td>\n",
       "      <td>0.133868</td>\n",
       "      <td>-0.464826</td>\n",
       "      <td>0.059935</td>\n",
       "    </tr>\n",
       "    <tr>\n",
       "      <th>X3</th>\n",
       "      <td>0.720530</td>\n",
       "      <td>0.172884</td>\n",
       "      <td>0.381677</td>\n",
       "      <td>1.059382</td>\n",
       "    </tr>\n",
       "    <tr>\n",
       "      <th>X4</th>\n",
       "      <td>0.558946</td>\n",
       "      <td>0.224862</td>\n",
       "      <td>0.118215</td>\n",
       "      <td>0.999676</td>\n",
       "    </tr>\n",
       "  </tbody>\n",
       "</table>\n",
       "</div>"
      ],
      "text/plain": [
       "    Shapley effects  std. errors    CI_min    CI_max\n",
       "X1        -0.077030     0.084621 -0.242887  0.088828\n",
       "X2        -0.202446     0.133868 -0.464826  0.059935\n",
       "X3         0.720530     0.172884  0.381677  1.059382\n",
       "X4         0.558946     0.224862  0.118215  0.999676"
      ]
     },
     "execution_count": 69,
     "metadata": {},
     "output_type": "execute_result"
    }
   ],
   "source": [
    "random_shapley"
   ]
  },
  {
   "cell_type": "code",
   "execution_count": 43,
   "metadata": {},
   "outputs": [
    {
     "ename": "NameError",
     "evalue": "name 'random_shapley' is not defined",
     "output_type": "error",
     "traceback": [
      "\u001b[1;31m---------------------------------------------------------------------------\u001b[0m",
      "\u001b[1;31mNameError\u001b[0m                                 Traceback (most recent call last)",
      "\u001b[1;32m<ipython-input-43-d1918ce67d13>\u001b[0m in \u001b[0;36m<module>\u001b[1;34m\u001b[0m\n\u001b[1;32m----> 1\u001b[1;33m \u001b[0mshapley_effects_random\u001b[0m \u001b[1;33m=\u001b[0m \u001b[0mrandom_shapley\u001b[0m\u001b[1;33m.\u001b[0m\u001b[0mcopy\u001b[0m\u001b[1;33m(\u001b[0m\u001b[1;33m)\u001b[0m\u001b[1;33m\u001b[0m\u001b[0m\n\u001b[0m",
      "\u001b[1;31mNameError\u001b[0m: name 'random_shapley' is not defined"
     ]
    }
   ],
   "source": [
    "shapley_effects_random = random_shapley.copy()"
   ]
  },
  {
   "cell_type": "code",
   "execution_count": 74,
   "metadata": {},
   "outputs": [],
   "source": [
    "shapley_effects_rust.rename(index={'X1': 'theta_30', 'X2': 'theta_31', 'X3': 'RC', 'X4': 'theta_11'}, inplace=True)"
   ]
  },
  {
   "cell_type": "code",
   "execution_count": 75,
   "metadata": {},
   "outputs": [
    {
     "data": {
      "text/html": [
       "<div>\n",
       "<style scoped>\n",
       "    .dataframe tbody tr th:only-of-type {\n",
       "        vertical-align: middle;\n",
       "    }\n",
       "\n",
       "    .dataframe tbody tr th {\n",
       "        vertical-align: top;\n",
       "    }\n",
       "\n",
       "    .dataframe thead th {\n",
       "        text-align: right;\n",
       "    }\n",
       "</style>\n",
       "<table border=\"1\" class=\"dataframe\">\n",
       "  <thead>\n",
       "    <tr style=\"text-align: right;\">\n",
       "      <th></th>\n",
       "      <th>Shapley effects</th>\n",
       "      <th>std. errors</th>\n",
       "      <th>CI_min</th>\n",
       "      <th>CI_max</th>\n",
       "    </tr>\n",
       "  </thead>\n",
       "  <tbody>\n",
       "    <tr>\n",
       "      <th>theta_30</th>\n",
       "      <td>-0.077030</td>\n",
       "      <td>0.084621</td>\n",
       "      <td>-0.242887</td>\n",
       "      <td>0.088828</td>\n",
       "    </tr>\n",
       "    <tr>\n",
       "      <th>theta_31</th>\n",
       "      <td>-0.202446</td>\n",
       "      <td>0.133868</td>\n",
       "      <td>-0.464826</td>\n",
       "      <td>0.059935</td>\n",
       "    </tr>\n",
       "    <tr>\n",
       "      <th>RC</th>\n",
       "      <td>0.720530</td>\n",
       "      <td>0.172884</td>\n",
       "      <td>0.381677</td>\n",
       "      <td>1.059382</td>\n",
       "    </tr>\n",
       "    <tr>\n",
       "      <th>theta_11</th>\n",
       "      <td>0.558946</td>\n",
       "      <td>0.224862</td>\n",
       "      <td>0.118215</td>\n",
       "      <td>0.999676</td>\n",
       "    </tr>\n",
       "  </tbody>\n",
       "</table>\n",
       "</div>"
      ],
      "text/plain": [
       "          Shapley effects  std. errors    CI_min    CI_max\n",
       "theta_30        -0.077030     0.084621 -0.242887  0.088828\n",
       "theta_31        -0.202446     0.133868 -0.464826  0.059935\n",
       "RC               0.720530     0.172884  0.381677  1.059382\n",
       "theta_11         0.558946     0.224862  0.118215  0.999676"
      ]
     },
     "execution_count": 75,
     "metadata": {},
     "output_type": "execute_result"
    }
   ],
   "source": [
    "shapley_effects_random"
   ]
  },
  {
   "cell_type": "code",
   "execution_count": 78,
   "metadata": {},
   "outputs": [
    {
     "data": {
      "text/plain": [
       "1.0"
      ]
     },
     "execution_count": 78,
     "metadata": {},
     "output_type": "execute_result"
    }
   ],
   "source": [
    "shapley_effects_random['Shapley effects'].sum()"
   ]
  },
  {
   "cell_type": "markdown",
   "metadata": {},
   "source": [
    "### Alternative specifications for `x_all()`, `x_cond()` and `rust_model()`\n",
    "The idea is to include all five input variables, i.e. $\\theta_{32}$ as well.\n",
    " - `x_all()` will need another specification working with the 4x4 covariance matrix only ($\\theta_{32}$ is calculated by $\\theta_{30}$ and $\\theta_{31}$).\n",
    " - `x_cond()` will need to change. If none or all indices of the transition probabilities are included in sj or sjc, one need to perform sampling differently. In all other cases sampling will work with a 5x5 covariance matrix. \n",
    " - `rust_model()` will be simplified since it now takes five inputs. No need of calculating $\\theta_{32}$ within the function as this is done in the sampling functions."
   ]
  },
  {
   "cell_type": "code",
   "execution_count": 86,
   "metadata": {},
   "outputs": [
    {
     "name": "stdout",
     "output_type": "stream",
     "text": [
      "Sir, no, sir!\n"
     ]
    }
   ],
   "source": [
    "perm = [0, 3, 0, 2]\n",
    "if all(x in perm for x in [0, 1, 2]) == True:\n",
    "    print('Sir, yes, sir!')\n",
    "else:\n",
    "    print('Sir, no, sir!')"
   ]
  },
  {
   "cell_type": "markdown",
   "metadata": {},
   "source": [
    "We need two different covariance matrices and mean vectors: one including and one excluding $\\theta_{32}$."
   ]
  },
  {
   "cell_type": "code",
   "execution_count": null,
   "metadata": {},
   "outputs": [],
   "source": [
    "mean_4\n",
    "cov_4\n",
    "mean_5\n",
    "cov_5"
   ]
  },
  {
   "cell_type": "code",
   "execution_count": 87,
   "metadata": {},
   "outputs": [],
   "source": [
    "example = np.array([1, 2, 3])"
   ]
  },
  {
   "cell_type": "markdown",
   "metadata": {},
   "source": [
    "Define functions for conditional sampling."
   ]
  },
  {
   "cell_type": "code",
   "execution_count": 97,
   "metadata": {},
   "outputs": [
    {
     "data": {
      "text/plain": [
       "array([[ 0.39007815,  0.40418427,  0.39001362,  0.39671705,  0.39506676,\n",
       "         0.38666628,  0.39565331,  0.39575605,  0.38206644,  0.39301869],\n",
       "       [ 0.59569175,  0.58153166,  0.59590548,  0.58966695,  0.59274228,\n",
       "         0.60028636,  0.59050156,  0.58927583,  0.60189373,  0.59465002],\n",
       "       [ 9.62119438,  9.14140648, 11.6342228 , 11.64745158, 12.13901704,\n",
       "        12.56740743, 11.75844636,  9.90365654,  9.95667748, 11.0209438 ],\n",
       "       [ 1.96230976,  1.93556824,  2.74161081,  2.88752059,  2.75535914,\n",
       "         3.09764134,  2.57283193,  2.80823517,  2.0648753 ,  3.11072665]])"
      ]
     },
     "execution_count": 97,
     "metadata": {},
     "output_type": "execute_result"
    }
   ],
   "source": [
    "example_data = x_all(10)\n",
    "example_data"
   ]
  },
  {
   "cell_type": "code",
   "execution_count": 98,
   "metadata": {},
   "outputs": [
    {
     "data": {
      "text/plain": [
       "(4, 10)"
      ]
     },
     "execution_count": 98,
     "metadata": {},
     "output_type": "execute_result"
    }
   ],
   "source": [
    "example_data.shape"
   ]
  },
  {
   "cell_type": "code",
   "execution_count": 99,
   "metadata": {},
   "outputs": [
    {
     "data": {
      "text/plain": [
       "array([[0.39007815, 0.40418427, 0.39001362, 0.39671705, 0.39506676,\n",
       "        0.38666628, 0.39565331, 0.39575605, 0.38206644, 0.39301869],\n",
       "       [0.59569175, 0.58153166, 0.59590548, 0.58966695, 0.59274228,\n",
       "        0.60028636, 0.59050156, 0.58927583, 0.60189373, 0.59465002]])"
      ]
     },
     "execution_count": 99,
     "metadata": {},
     "output_type": "execute_result"
    }
   ],
   "source": [
    "example_data[:2, :]"
   ]
  },
  {
   "cell_type": "code",
   "execution_count": null,
   "metadata": {},
   "outputs": [],
   "source": [
    "def x_all(n):\n",
    "    samples = np.zeros((5, n))  # Or (5, n)?\n",
    "    parameter_samples = cp.MvNormal(mean_4, cov_4).sample(n)\n",
    "    samples[:2, :] = parameter_samples[:2, :]\n",
    "    samples[2, :] = 1 - np.sum(parameter_samples[:2, :])\n",
    "    samples[3:, :] = parameter_samples[2:, :]\n",
    "    return samples\n",
    "\n",
    "def x_cond(n, subset_j, subsetj_conditional, xjc):\n",
    "    if subsetj_conditional is None:\n",
    "        if all(x in subset_j for x in [0, 1, 2]) == True:\n",
    "            subset_j_new = subset_j.copy()\n",
    "            for i in subset_j:\n",
    "                if i >= 2:\n",
    "                    subset_j_new[i] = i -1\n",
    "                else:\n",
    "                    pass\n",
    "        else:\n",
    "            cov_int = np.array(cov)\n",
    "            cov_int = cov_int.take(subset_j, axis = 1)\n",
    "            cov_int = cov_int[subset_j]\n",
    "            distribution = cp.MvNormal(mean[subset_j], cov_int)\n",
    "        return distribution.sample(n)\n",
    "    else:\n",
    "        if all(x in subset_j for x in [0, 1, 2]) == True:\n",
    "            \n",
    "        elif all(x in subsetj_conditional for x in [0, 1, 2]) == True:\n",
    "            \n",
    "        else:\n",
    "            return _r_condmvn(n, mean = mean_5, cov = cov_5, dependent_ind = subset_j, given_ind = subsetj_conditional, x_given = xjc)"
   ]
  },
  {
   "cell_type": "code",
   "execution_count": 180,
   "metadata": {},
   "outputs": [],
   "source": [
    "subset_j = np.array([2, 0, 3, 1, 4])\n",
    "subset_j_new = subset_j.copy()"
   ]
  },
  {
   "cell_type": "code",
   "execution_count": 181,
   "metadata": {},
   "outputs": [
    {
     "data": {
      "text/plain": [
       "array([2, 0, 3, 1, 4])"
      ]
     },
     "execution_count": 181,
     "metadata": {},
     "output_type": "execute_result"
    }
   ],
   "source": [
    "subset_j_new"
   ]
  },
  {
   "cell_type": "code",
   "execution_count": 182,
   "metadata": {},
   "outputs": [],
   "source": [
    "subset_j_new = subset_j_new[subset_j_new != 2]"
   ]
  },
  {
   "cell_type": "code",
   "execution_count": 183,
   "metadata": {},
   "outputs": [
    {
     "data": {
      "text/plain": [
       "array([0, 3, 1, 4])"
      ]
     },
     "execution_count": 183,
     "metadata": {},
     "output_type": "execute_result"
    }
   ],
   "source": [
    "subset_j_new"
   ]
  },
  {
   "cell_type": "code",
   "execution_count": 197,
   "metadata": {},
   "outputs": [
    {
     "data": {
      "text/plain": [
       "array([0, 3, 1, 4])"
      ]
     },
     "execution_count": 197,
     "metadata": {},
     "output_type": "execute_result"
    }
   ],
   "source": [
    "subset_j_new"
   ]
  },
  {
   "cell_type": "code",
   "execution_count": 200,
   "metadata": {},
   "outputs": [],
   "source": [
    "#[subset_j_new[i] -1 if subset_j_new[i] > 2 else subset_j_new[i] for i in np.arange(4)]"
   ]
  },
  {
   "cell_type": "code",
   "execution_count": 198,
   "metadata": {},
   "outputs": [],
   "source": [
    "subset_j_new[np.where(subset_j_new==0)] = 1"
   ]
  },
  {
   "cell_type": "code",
   "execution_count": 199,
   "metadata": {},
   "outputs": [
    {
     "data": {
      "text/plain": [
       "array([1, 3, 1, 4])"
      ]
     },
     "execution_count": 199,
     "metadata": {},
     "output_type": "execute_result"
    }
   ],
   "source": [
    "subset_j_new"
   ]
  },
  {
   "cell_type": "code",
   "execution_count": null,
   "metadata": {},
   "outputs": [],
   "source": []
  }
 ],
 "metadata": {
  "kernelspec": {
   "display_name": "Python 3",
   "language": "python",
   "name": "python3"
  },
  "language_info": {
   "codemirror_mode": {
    "name": "ipython",
    "version": 3
   },
   "file_extension": ".py",
   "mimetype": "text/x-python",
   "name": "python",
   "nbconvert_exporter": "python",
   "pygments_lexer": "ipython3",
   "version": "3.7.0"
  }
 },
 "nbformat": 4,
 "nbformat_minor": 4
}
