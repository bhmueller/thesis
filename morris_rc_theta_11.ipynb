{
 "cells": [
  {
   "cell_type": "markdown",
   "metadata": {},
   "source": [
    "## Elementary Effects for the Rust Model"
   ]
  },
  {
   "cell_type": "code",
   "execution_count": 1,
   "metadata": {},
   "outputs": [],
   "source": [
    "import os\n",
    "import numpy as np\n",
    "import pandas as pd\n",
    "from functools import partial\n",
    "# from multiprocessing import cpu_count\n",
    "# Just as long as PR is not accepted.\n",
    "from python.morris import elementary_effects\n",
    "# Just as long as rust_model_morris is not defined in auxiliary.py.\n",
    "from ruspy.model_code.demand_function import get_demand\n",
    "\n",
    "# from python.auxiliary import rust_model_morris\n",
    "from python.auxiliary import setup_rust_model_001"
   ]
  },
  {
   "cell_type": "code",
   "execution_count": 2,
   "metadata": {},
   "outputs": [],
   "source": [
    "# Version 01.\n",
    "def rust_model_morris(x, n_draws, trans_probs, init_dict_estimation, demand_dict):\n",
    "    \n",
    "    n_evaluations = n_draws\n",
    "    \n",
    "    # Adapt function to work with changed number of trans_probs as well.\n",
    "    n_trans_probs = len(trans_probs)\n",
    "    \n",
    "    demand_inputs = np.zeros((n_evaluations, n_trans_probs +2))\n",
    "    demand_inputs[:, :n_trans_probs] = trans_probs\n",
    "    demand_inputs[:, n_trans_probs:] = x['value'][:]\n",
    "    \n",
    "    demand_output = np.zeros((n_evaluations, 1))\n",
    "    \n",
    "    get_demand_partial = partial(get_demand, init_dict=init_dict_estimation, demand_dict=demand_dict)\n",
    "    def _get_demand_mapping(x):\n",
    "        return get_demand_partial(demand_params=x).iloc[0]['demand']\n",
    "    \n",
    "    demand_output = np.array(list(map(_get_demand_mapping, demand_inputs)))\n",
    "    \n",
    "    return demand_output"
   ]
  },
  {
   "cell_type": "code",
   "execution_count": 3,
   "metadata": {},
   "outputs": [],
   "source": [
    "# Version 02.\n",
    "# Handle one sample at a time. Also: check that values in df are accessed in the right way.\n",
    "def rust_model_morris(x, trans_probs, init_dict_estimation, demand_dict):\n",
    "    \n",
    "    # n_evaluations = n_draws\n",
    "    \n",
    "    # Adapt function to work with changed number of trans_probs as well.\n",
    "    n_trans_probs = len(trans_probs)\n",
    "    \n",
    "    # demand_inputs now 1d array.\n",
    "    demand_inputs = np.zeros(n_trans_probs +2)\n",
    "    demand_inputs[:n_trans_probs] = trans_probs\n",
    "    \n",
    "    demand_inputs[n_trans_probs] = x['value'][0]\n",
    "    demand_inputs[n_trans_probs + 1] = x['value'][1]\n",
    "    \n",
    "    # demand_output = np.zeros((n_evaluations, 1))\n",
    "    \n",
    "    # get_demand_partial = partial(get_demand, init_dict=init_dict_estimation, demand_dict=demand_dict)\n",
    "    # def _get_demand_mapping(x):\n",
    "    #     return get_demand_partial(demand_params=x).iloc[0]['demand']\n",
    "    \n",
    "    # demand_output = np.array(list(map(_get_demand_mapping, demand_inputs)))\n",
    "    demand_output = get_demand(init_dict_estimation, demand_dict, demand_inputs).iloc[0]['demand']\n",
    "    return demand_output"
   ]
  },
  {
   "cell_type": "code",
   "execution_count": 4,
   "metadata": {},
   "outputs": [],
   "source": [
    "# Get model specs.\n",
    "model_setup = setup_rust_model_001()\n",
    "params = model_setup['params']\n",
    "ev = model_setup['ev']\n",
    "costs = model_setup['costs']\n",
    "trans_probs = model_setup['trans_probs']\n",
    "trans_mat = model_setup['trans_mat']\n",
    "init_dict_simulation = model_setup['init_dict_simulation']\n",
    "init_dict_estimation = model_setup['init_dict_estimation']\n",
    "demand_dict = model_setup['demand_dict']"
   ]
  },
  {
   "cell_type": "code",
   "execution_count": 6,
   "metadata": {},
   "outputs": [],
   "source": [
    "n_draws = 1000\n",
    "\n",
    "# Choose largest num_sim for which I simulated cov and mean of RC/theta_11.\n",
    "num_sim = 5000\n",
    "cov_data = np.load(os.path.join('data', f'cov_rc_theta_11_{num_sim}.npy'))\n",
    "# mean = np.load(os.path.join('data', f'mean_rc_theta_11_{num_sim}.npy'))\n",
    "\n",
    "# Use mean (simulated) or params (true values)?\n",
    "params = pd.DataFrame(data=params, columns=['value'])\n",
    "cov = pd.DataFrame(data=cov_data)\n",
    "\n",
    "model = partial(\n",
    "    rust_model_morris, trans_probs=trans_probs, \n",
    "    init_dict_estimation=init_dict_estimation, demand_dict=demand_dict,\n",
    "    )"
   ]
  },
  {
   "cell_type": "code",
   "execution_count": 7,
   "metadata": {},
   "outputs": [
    {
     "output_type": "stream",
     "name": "stdout",
     "text": [
      "Wall time: 20min 52s\n"
     ]
    }
   ],
   "source": [
    "%%time\n",
    "# 1,000 samples take 20min 52s.\n",
    "n_cores = os.cpu_count()\n",
    "parallel = 'joblib'\n",
    "\n",
    "morris_indices = elementary_effects(model, params, cov, n_draws, 'sobol', n_cores, parallel)"
   ]
  },
  {
   "cell_type": "code",
   "execution_count": 36,
   "metadata": {},
   "outputs": [
    {
     "output_type": "stream",
     "name": "stdout",
     "text": [
      "mu_ind \n ----------- \n 0    0.000000\n1    8.626172\ndtype: float64 \n\nmu_corr \n ----------- \n 0    193.595770\n1    421.323963\ndtype: float64 \n\nsigma_ind \n ----------- \n 0    0.000000\n1    2.862762\ndtype: float64 \n\nsigma_corr \n ----------- \n 0     69.841372\n1    808.983145\ndtype: float64 \n\nmu_ind_cum \n ----------- \n        0         1\n1    NaN       NaN\n2    0.0  6.425311\n3    0.0  6.803662\n4    0.0  6.954638\n5    0.0  6.956427\n..   ...       ...\n96   0.0  8.652078\n97   0.0  8.672290\n98   0.0  8.662116\n99   0.0  8.637241\n100  0.0  8.626172\n\n[100 rows x 2 columns] \n\nmu_corr_cum \n ----------- \n               0           1\n1           NaN         NaN\n2    145.403936  134.101378\n3    168.933786  115.343929\n4    143.287394  115.365823\n5    158.855970  120.408771\n..          ...         ...\n96   191.425946  425.724125\n97   192.293764  422.091268\n98   192.814843  422.629617\n99   193.312184  423.760763\n100  193.595770  421.323963\n\n[100 rows x 2 columns] \n\nsigma_ind_cum \n ----------- \n        0         1\n1    NaN       NaN\n2    0.0  0.248882\n3    0.0  0.678542\n4    0.0  0.630969\n5    0.0  0.546450\n..   ...       ...\n96   0.0  2.915542\n97   0.0  2.907140\n98   0.0  2.893869\n99   0.0  2.889685\n100  0.0  2.877184\n\n[100 rows x 2 columns] \n\nsigma_corr_cum \n ----------- \n               0           1\n1           NaN         NaN\n2    112.714648   13.799935\n3     89.516800   33.922630\n4     89.292337   27.697746\n5     84.804150   26.505291\n..          ...         ...\n96    70.710064  828.749988\n97    70.858183  825.198322\n98    70.680477  820.951002\n99    70.492839  816.829277\n100   70.193220  813.058652\n\n[100 rows x 2 columns] \n\n"
     ]
    }
   ],
   "source": [
    "for key, value in morris_indices.items():\n",
    "    print(key, '\\n', '-----------', '\\n', value, '\\n')"
   ]
  }
 ],
 "metadata": {
  "kernelspec": {
   "name": "python370jvsc74a57bd0d89e2721f98c1df3868e6784986dc10ee38e72585cfa58f4adb5d8075f4e0acf",
   "display_name": "Python 3.7.0 64-bit ('thesis-benedikt': conda)"
  },
  "language_info": {
   "codemirror_mode": {
    "name": "ipython",
    "version": 3
   },
   "file_extension": ".py",
   "mimetype": "text/x-python",
   "name": "python",
   "nbconvert_exporter": "python",
   "pygments_lexer": "ipython3",
   "version": "3.7.0"
  }
 },
 "nbformat": 4,
 "nbformat_minor": 4
}