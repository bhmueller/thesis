{
 "cells": [
  {
   "cell_type": "markdown",
   "metadata": {},
   "source": [
    "## Elementary Effects for the Rust Model"
   ]
  },
  {
   "cell_type": "code",
   "execution_count": 2,
   "metadata": {},
   "outputs": [],
   "source": [
    "import os\n",
    "import numpy as np\n",
    "import pandas as pd\n",
    "from functools import partial\n",
    "from econsa.morris import elementary_effects\n",
    "# from python.auxiliary import rust_model_morris"
   ]
  },
  {
   "cell_type": "code",
   "execution_count": 2,
   "metadata": {},
   "outputs": [],
   "source": [
    "def rust_model_morris(x, n_draws, trans_probs, init_dict_estimation, demand_dict):\n",
    "    \n",
    "    n_evaluations = n_draws.copy()\n",
    "    \n",
    "    # Adapt function to work with changed number of trans_probs as well.\n",
    "    n_trans_probs = len(trans_probs)\n",
    "    \n",
    "    demand_inputs = np.zeros((n_evaluations, n_trans_probs +2))\n",
    "    demand_inputs[:, :n_trans_probs] = trans_probs\n",
    "    demand_inputs[:, n_trans_probs:] = x[:, :]\n",
    "    \n",
    "    demand_output = np.zeros((n_evaluations, 1))\n",
    "    \n",
    "    get_demand_partial = partial(get_demand, init_dict=init_dict_estimation, demand_dict=demand_dict)\n",
    "    def _get_demand_mapping(x):\n",
    "        return get_demand_partial(demand_params=x).iloc[0]['demand']\n",
    "    \n",
    "    demand_output = np.array(list(map(_get_demand_mapping, demand_inputs)))\n",
    "    \n",
    "    return demand_output"
   ]
  },
  {
   "cell_type": "code",
   "execution_count": 3,
   "metadata": {},
   "outputs": [],
   "source": [
    "# Get model.\n",
    "\n",
    "# Set simulating variables.\n",
    "disc_fac = 0.9999\n",
    "num_buses = 50\n",
    "num_periods = 120  # Ten years.\n",
    "gridsize = 1000  # For plotting.\n",
    "# We use the cost parameters and transition probabilities from the replication.\n",
    "params = np.array([10.07780762, 2.29417622])  # Table X in Rust (1987): 11.7257, 2.4569\n",
    "# Old values used before February 15th: 0.39189182, 0.59529371, 0.01281447\n",
    "trans_probs = np.array([0.39189182, 0.59529371, 0.01281447])\n",
    "#trans_probs = np.array([0.0937, 0.4475, 0.4459, 0.0127])  # Four in table X of Rust (1987): 0.0937, 0.4475, 0.4459, 0.0127\n",
    "scale = 1e-3\n",
    "\n",
    "num_states = 175\n",
    "\n",
    "init_dict_estimation = {\n",
    "    'model_specifications': {\n",
    "        'discount_factor': disc_fac,\n",
    "        'number_states': num_states,\n",
    "        'maint_cost_func': 'linear',\n",
    "        'cost_scale': 1e-3\n",
    "    },\n",
    "    'optimizer': {\n",
    "        'approach': 'NFXP',\n",
    "        'algorithm': 'scipy_L-BFGS-B',\n",
    "        'gradient': 'Yes'\n",
    "    },\n",
    "    \n",
    "}\n",
    "\n",
    "demand_dict = {\n",
    "    \"RC_lower_bound\": 11.5,\n",
    "    \"RC_upper_bound\": 11.5,\n",
    "    \"demand_evaluations\": 1,\n",
    "    \"tolerance\": 1e-10,\n",
    "    \"num_periods\": num_periods,\n",
    "    \"num_buses\": num_buses,\n",
    "}"
   ]
  },
  {
   "cell_type": "code",
   "execution_count": 4,
   "metadata": {},
   "outputs": [],
   "source": [
    "n_draws = 10\n",
    "\n",
    "cov_data = np.load(os.path.join('data', 'cov_rc_theta_11.npy'))\n",
    "mean = np.load(os.path.join('data', 'mean_rc_theta_11.npy'))\n",
    "\n",
    "params = pd.DataFrame(data=mean, columns=['value'])\n",
    "cov = pd.DataFrame(data=cov_data)\n",
    "\n",
    "model = partial(\n",
    "    rust_model_morris, n_draws=n_draws, trans_probs=trans_probs, \n",
    "    init_dict_estimation=init_dict_estimation, demand_dict=demand_dict,\n",
    "    )"
   ]
  },
  {
   "cell_type": "code",
   "execution_count": null,
   "metadata": {},
   "outputs": [],
   "source": [
    "%%time\n",
    "\n",
    "n_cores = 5\n",
    "\n",
    "elementary_effects(model, params, cov, n_draws, 'sobol', n_cores)"
   ]
  },
  {
   "cell_type": "code",
   "execution_count": 2,
   "metadata": {},
   "outputs": [
    {
     "ename": "NameError",
     "evalue": "name 'model_func' is not defined",
     "output_type": "error",
     "traceback": [
      "\u001b[1;31m---------------------------------------------------------------------------\u001b[0m",
      "\u001b[1;31mNameError\u001b[0m                                 Traceback (most recent call last)",
      "\u001b[1;32m<ipython-input-2-bfb6009bac93>\u001b[0m in \u001b[0;36m<module>\u001b[1;34m\u001b[0m\n\u001b[0;32m      9\u001b[0m \u001b[0mn_draws\u001b[0m \u001b[1;33m=\u001b[0m \u001b[1;36m100\u001b[0m\u001b[1;33m\u001b[0m\u001b[1;33m\u001b[0m\u001b[0m\n\u001b[0;32m     10\u001b[0m \u001b[1;33m\u001b[0m\u001b[0m\n\u001b[1;32m---> 11\u001b[1;33m \u001b[0melementary_effects\u001b[0m\u001b[1;33m(\u001b[0m\u001b[0mmodel_func\u001b[0m\u001b[1;33m,\u001b[0m \u001b[0mparams\u001b[0m\u001b[1;33m,\u001b[0m \u001b[0mcov\u001b[0m\u001b[1;33m,\u001b[0m \u001b[0mn_draws\u001b[0m\u001b[1;33m)\u001b[0m\u001b[1;33m\u001b[0m\u001b[1;33m\u001b[0m\u001b[0m\n\u001b[0m",
      "\u001b[1;31mNameError\u001b[0m: name 'model_func' is not defined"
     ]
    }
   ],
   "source": [
    "def model_func(params):\n",
    "    return 5\n",
    "\n",
    "names = [\"x1\", \"x2\", \"x3\"]\n",
    "params = pd.DataFrame(columns=[\"value\"], data=[0, 0.0, 0], index=names)\n",
    "\n",
    "cov = pd.DataFrame(\n",
    "    data=[[1, 0.9, 0.4], [0.9, 1, 0.01], [0.4, 0.01, 1]],\n",
    "    columns=names,\n",
    "    index=names,\n",
    ")\n",
    "n_draws = 100\n",
    "\n",
    "elementary_effects(model_func, params, cov, n_draws)"
   ]
  },
  {
   "cell_type": "code",
   "execution_count": null,
   "metadata": {},
   "outputs": [],
   "source": []
  }
 ],
 "metadata": {
  "kernelspec": {
   "display_name": "Python 3",
   "language": "python",
   "name": "python3"
  },
  "language_info": {
   "codemirror_mode": {
    "name": "ipython",
    "version": 3
   },
   "file_extension": ".py",
   "mimetype": "text/x-python",
   "name": "python",
   "nbconvert_exporter": "python",
   "pygments_lexer": "ipython3",
   "version": "3.7.0"
  }
 },
 "nbformat": 4,
 "nbformat_minor": 4
}
