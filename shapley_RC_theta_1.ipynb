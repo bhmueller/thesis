{
 "cells": [
  {
   "cell_type": "markdown",
   "metadata": {},
   "source": [
    "## Shapley effects for RC and $\\theta_{11}$"
   ]
  },
  {
   "cell_type": "code",
   "execution_count": null,
   "metadata": {},
   "outputs": [],
   "source": [
    "# Import statements as in simulation_convergence.ipynb.\n",
    "import matplotlib.pyplot as plt\n",
    "#import yaml\n",
    "import numpy as np\n",
    "from numpy.testing import assert_allclose\n",
    "from ruspy.simulation.simulation import simulate\n",
    "from ruspy.model_code.fix_point_alg import calc_fixp\n",
    "from ruspy.model_code.cost_functions import lin_cost\n",
    "from ruspy.model_code.cost_functions import calc_obs_costs\n",
    "from ruspy.estimation.estimation_transitions import create_transition_matrix\n",
    "\n",
    "# My imports.\n",
    "from ruspy.estimation.estimation import estimate\n",
    "from ruspy.model_code.demand_function import get_demand \n",
    "from python.econsa_shapley import get_shapley\n",
    "from python.econsa_shapley import _r_condmvn"
   ]
  },
  {
   "cell_type": "code",
   "execution_count": null,
   "metadata": {},
   "outputs": [],
   "source": [
    "# Function for simulating variance-covariance matrices and mean vectors.\n",
    "def get_cov_and_mean(num_sim,\n",
    "                     ev, \n",
    "                     costs, \n",
    "                     trans_mat, \n",
    "                     init_dict_simulation, \n",
    "                     init_dict_estimation\n",
    "                    ):\n",
    "    '''\n",
    "    Calculate variance-covariance matrix (cov) and mean vector (mean) of simulated data.\n",
    "    \n",
    "    Arguments\n",
    "    ----------------\n",
    "    num_sim: int\n",
    "        Number of simulations for the data from which cov and mean are calculated.\n",
    "    num_input_variables: int\n",
    "        Either 4 or 5. Calculate cov and mean for all five or only four variables.\n",
    "        \n",
    "    Returns\n",
    "    ----------------\n",
    "    cov: nd.array\n",
    "        Variance-covariance matrix of simulated data with shape (num_sim, num_input_variables).\n",
    "    mean: n.array\n",
    "        Mean vector of simulated data with shape (, num_input_variables).\n",
    "    '''\n",
    "    \n",
    "    parameter_estimates_4_inputs = np.zeros((num_sim, 4))\n",
    "    parameter_estimates_5_inputs = np.zeros((num_sim, 5))\n",
    "    \n",
    "    for i in np.arange(num_sim):\n",
    "        \n",
    "        init_dict_simulation['simulation']['seed'] = +i\n",
    "        \n",
    "        df = simulate(init_dict_simulation[\"simulation\"], ev, costs, trans_mat)\n",
    "        data = df[['state', 'decision', 'usage']].copy()\n",
    "        \n",
    "        result_transitions_nfxp, result_fixp_nfxp = estimate(init_dict_estimation, data)\n",
    "            \n",
    "        # Record only two of three transition probabilities i.o.t. avoid singularity of the covariance matrix.\n",
    "        parameter_estimates_4_inputs[i, :] = np.concatenate((result_transitions_nfxp['x'][:2], result_fixp_nfxp['x']))\n",
    "        # All five inputs.\n",
    "        parameter_estimates_5_inputs[i, :] = np.concatenate((result_transitions_nfxp['x'], result_fixp_nfxp['x']))\n",
    "        \n",
    "        assert_allclose(parameter_estimates_5_inputs[i, :2].sum(), 1.0, rtol=0.02)\n",
    "            \n",
    "    cov_4_inputs = np.cov(parameter_estimates_4_inputs.T)\n",
    "    mean_4_inputs = np.mean(parameter_estimates_4_inputs, axis=0)\n",
    "    \n",
    "    cov_5_inputs = np.cov(parameter_estimates_5_inputs.T)\n",
    "    mean_5_inputs = np.mean(parameter_estimates_5_inputs, axis=0)\n",
    "            \n",
    "    return cov_4_inputs, mean_4_inputs, cov_5_inputs, mean_5_inputs"
   ]
  }
 ],
 "metadata": {
  "kernelspec": {
   "display_name": "Python 3",
   "language": "python",
   "name": "python3"
  },
  "language_info": {
   "codemirror_mode": {
    "name": "ipython",
    "version": 3
   },
   "file_extension": ".py",
   "mimetype": "text/x-python",
   "name": "python",
   "nbconvert_exporter": "python",
   "pygments_lexer": "ipython3",
   "version": "3.8.3"
  }
 },
 "nbformat": 4,
 "nbformat_minor": 4
}
