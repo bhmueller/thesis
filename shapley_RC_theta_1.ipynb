{
 "cells": [
  {
   "cell_type": "markdown",
   "metadata": {},
   "source": [
    "## Shapley effects for RC and $\\theta_{11}$"
   ]
  },
  {
   "cell_type": "code",
   "execution_count": 80,
   "metadata": {},
   "outputs": [],
   "source": [
    "import os\n",
    "import numpy as np\n",
    "import matplotlib.pyplot as plt\n",
    "import chaospy as cp\n",
    "from functools import partial\n",
    "from ruspy.estimation.estimation import estimate\n",
    "#from ruspy.simulation.simulation import simulate\n",
    "from ruspy.model_code.fix_point_alg import calc_fixp\n",
    "from ruspy.model_code.cost_functions import lin_cost\n",
    "from ruspy.model_code.cost_functions import calc_obs_costs\n",
    "from ruspy.model_code.cost_functions import calc_obs_costs\n",
    "from ruspy.estimation.estimation_transitions import create_transition_matrix\n",
    "from ruspy.model_code.demand_function import get_demand \n",
    "from python.econsa_shapley import get_shapley\n",
    "from python.econsa_shapley import _r_condmvn\n",
    "from python.sampling import get_cov_and_mean_rc_theta_32\n",
    "#from python.conditional_sampling import x_all\n",
    "#from python.conditional_sampling import x_cond"
   ]
  },
  {
   "cell_type": "code",
   "execution_count": 29,
   "metadata": {},
   "outputs": [],
   "source": [
    "run_simulation = False"
   ]
  },
  {
   "cell_type": "code",
   "execution_count": 25,
   "metadata": {},
   "outputs": [],
   "source": [
    "# Set simulating variables.\n",
    "disc_fac = 0.9999\n",
    "num_buses = 50\n",
    "num_periods = 120\n",
    "gridsize = 1000\n",
    "# We use the cost parameters and transition probabilities from the replication.\n",
    "params = np.array([10.07780762, 2.29417622])\n",
    "trans_probs = np.array([0.39189182, 0.59529371, 0.01281447])\n",
    "scale = 1e-3\n",
    "\n",
    "init_dict_simulation = {\n",
    "    \"simulation\": {\n",
    "        \"discount_factor\": disc_fac,\n",
    "        \"periods\": num_periods,\n",
    "        \"seed\": 123,\n",
    "        \"buses\": num_buses,\n",
    "    },\n",
    "    \"plot\": {\"gridsize\": gridsize},\n",
    "}"
   ]
  },
  {
   "cell_type": "code",
   "execution_count": 26,
   "metadata": {},
   "outputs": [],
   "source": [
    "# Calcualte objects necessary for the simulation process. See documentation for details.\n",
    "num_states = 200\n",
    "costs = calc_obs_costs(num_states, lin_cost, params, scale)\n",
    "\n",
    "trans_mat = create_transition_matrix(num_states, trans_probs)\n",
    "ev = calc_fixp(trans_mat, costs, disc_fac)[0]"
   ]
  },
  {
   "cell_type": "code",
   "execution_count": 27,
   "metadata": {},
   "outputs": [],
   "source": [
    "# Use one init_dict for get_demand() and estimate().\n",
    "init_dict_estimation = {\n",
    "    'model_specifications': {\n",
    "        'discount_factor': disc_fac,\n",
    "        'number_states': num_states,\n",
    "        'maint_cost_func': 'linear',\n",
    "        'cost_scale': 1e-3\n",
    "    },\n",
    "    'optimizer': {\n",
    "        'approach': 'NFXP',\n",
    "        'algorithm': 'scipy_L-BFGS-B',\n",
    "        'gradient': 'Yes'\n",
    "    },\n",
    "    \n",
    "}"
   ]
  },
  {
   "cell_type": "code",
   "execution_count": 28,
   "metadata": {},
   "outputs": [],
   "source": [
    "%%time\n",
    "if run_simulation == True:\n",
    "    num_sim = 1000\n",
    "    cov, mean = get_cov_and_mean_rc_theta_32(num_sim, ev, costs, trans_mat, init_dict_simulation, init_dict_estimation)\n",
    "    np.save(os.path.join('data', 'cov_rc_theta_11'), cov)\n",
    "    np.save(os.path.join('data', 'mean_rc_theta_11'), mean)\n",
    "else:\n",
    "    cov = np.load(os.path.join('data', 'cov_rc_theta_11.npy'))\n",
    "    mean = np.load(os.path.join('data', 'mean_rc_theta_11.npy'))"
   ]
  },
  {
   "cell_type": "markdown",
   "metadata": {},
   "source": [
    "Define functions `rust_model()`, and function arguments."
   ]
  },
  {
   "cell_type": "code",
   "execution_count": 32,
   "metadata": {},
   "outputs": [],
   "source": [
    "def x_all(n):\n",
    "    distribution = cp.MvNormal(mean, cov)\n",
    "    return distribution.sample(n)\n",
    "\n",
    "def x_cond(n, subset_j, subsetj_conditional, xjc):\n",
    "    if subsetj_conditional is None:\n",
    "        cov_int = np.array(cov)\n",
    "        cov_int = cov_int.take(subset_j, axis=1)\n",
    "        cov_int = cov_int[subset_j]\n",
    "        distribution = cp.MvNormal(mean[subset_j], cov_int)\n",
    "        return distribution.sample(n)\n",
    "    else:\n",
    "        return _r_condmvn(\n",
    "            n,\n",
    "            mean=mean,\n",
    "            cov=cov,\n",
    "            dependent_ind=subset_j,\n",
    "            given_ind=subsetj_conditional,\n",
    "            x_given=xjc,\n",
    "        )"
   ]
  },
  {
   "cell_type": "code",
   "execution_count": 70,
   "metadata": {},
   "outputs": [],
   "source": [
    "n_evals = 100\n",
    "data = x_all(n_evals).T"
   ]
  },
  {
   "cell_type": "code",
   "execution_count": 49,
   "metadata": {},
   "outputs": [],
   "source": [
    "def get_demand_inputs(x):\n",
    "    demand_inputs = np.zeros((n_evals, 5))\n",
    "    demand_inputs[:, :3] = np.array([0.39189182, 0.59529371, 0.01281447])\n",
    "    demand_inputs[:, 3:] = x[:, :]\n",
    "    return demand_inputs"
   ]
  },
  {
   "cell_type": "code",
   "execution_count": 72,
   "metadata": {},
   "outputs": [],
   "source": [
    "demand_inputs = get_demand_inputs(data)"
   ]
  },
  {
   "cell_type": "code",
   "execution_count": 118,
   "metadata": {},
   "outputs": [
    {
     "name": "stdout",
     "output_type": "stream",
     "text": [
      "Wall time: 40.5 s\n"
     ]
    }
   ],
   "source": [
    "%%time\n",
    "demand_output = np.zeros((n_evals, 1))\n",
    "for sample in np.arange(n_evals):\n",
    "    demand_params = demand_inputs[sample, :]\n",
    "    demand_output[sample] = get_demand(init_dict_estimation, demand_dict, demand_params).iloc[0]['demand']"
   ]
  },
  {
   "cell_type": "code",
   "execution_count": 117,
   "metadata": {},
   "outputs": [
    {
     "name": "stdout",
     "output_type": "stream",
     "text": [
      "Wall time: 37.8 s\n"
     ]
    }
   ],
   "source": [
    "%%time\n",
    "demand_output_list_compr = [get_demand(init_dict_estimation, demand_dict, demand_inputs[sample, :]).iloc[0]['demand']\n",
    "                            for sample in np.arange(n_evals)]"
   ]
  },
  {
   "cell_type": "code",
   "execution_count": 86,
   "metadata": {},
   "outputs": [],
   "source": [
    "get_demand_partial = partial(get_demand, init_dict=init_dict_estimation)\n",
    "get_demand_partial = partial(get_demand_partial, demand_dict=demand_dict)\n",
    "#map(function, iterable)"
   ]
  },
  {
   "cell_type": "code",
   "execution_count": 89,
   "metadata": {},
   "outputs": [
    {
     "data": {
      "text/html": [
       "<div>\n",
       "<style scoped>\n",
       "    .dataframe tbody tr th:only-of-type {\n",
       "        vertical-align: middle;\n",
       "    }\n",
       "\n",
       "    .dataframe tbody tr th {\n",
       "        vertical-align: top;\n",
       "    }\n",
       "\n",
       "    .dataframe thead th {\n",
       "        text-align: right;\n",
       "    }\n",
       "</style>\n",
       "<table border=\"1\" class=\"dataframe\">\n",
       "  <thead>\n",
       "    <tr style=\"text-align: right;\">\n",
       "      <th></th>\n",
       "      <th>demand</th>\n",
       "      <th>success</th>\n",
       "    </tr>\n",
       "    <tr>\n",
       "      <th>RC</th>\n",
       "      <th></th>\n",
       "      <th></th>\n",
       "    </tr>\n",
       "  </thead>\n",
       "  <tbody>\n",
       "    <tr>\n",
       "      <th>11.5</th>\n",
       "      <td>43.0134</td>\n",
       "      <td>Yes</td>\n",
       "    </tr>\n",
       "  </tbody>\n",
       "</table>\n",
       "</div>"
      ],
      "text/plain": [
       "       demand success\n",
       "RC                   \n",
       "11.5  43.0134     Yes"
      ]
     },
     "execution_count": 89,
     "metadata": {},
     "output_type": "execute_result"
    }
   ],
   "source": [
    "get_demand_partial(demand_params=demand_inputs[0])"
   ]
  },
  {
   "cell_type": "code",
   "execution_count": 116,
   "metadata": {},
   "outputs": [
    {
     "name": "stdout",
     "output_type": "stream",
     "text": [
      "Wall time: 0 ns\n"
     ]
    }
   ],
   "source": [
    "get_demand_partial = partial(get_demand, init_dict=init_dict_estimation, demand_dict=demand_dict)\n",
    "def get_demand_mapping(x):\n",
    "    #get_demand_partial = partial(get_demand_partial, demand_dict=demand_dict)\n",
    "    out = get_demand_partial(demand_params=x).iloc[0]['demand']\n",
    "    return out"
   ]
  },
  {
   "cell_type": "code",
   "execution_count": 115,
   "metadata": {},
   "outputs": [
    {
     "name": "stdout",
     "output_type": "stream",
     "text": [
      "Wall time: 34.7 s\n"
     ]
    },
    {
     "data": {
      "text/plain": [
       "[43.01337839214233,\n",
       " 59.04615849320193,\n",
       " 56.183559210020334,\n",
       " 63.97994426339406,\n",
       " 58.9112263777054,\n",
       " 60.43876110996574,\n",
       " 51.82971977452244,\n",
       " 59.201502230398205,\n",
       " 58.771656243285726,\n",
       " 59.539581906463006,\n",
       " 58.8852987524915,\n",
       " 63.67799814888582,\n",
       " 60.345296742720066,\n",
       " 39.11401297286789,\n",
       " 64.6085420513871,\n",
       " 70.15448936669314,\n",
       " 67.2185367977614,\n",
       " 76.38662930481492,\n",
       " 71.24314703492456,\n",
       " 66.00218360123907,\n",
       " 55.31713314830377,\n",
       " 64.14175702919518,\n",
       " 64.83954523980628,\n",
       " 59.144430971401185,\n",
       " 65.45647855720176,\n",
       " 53.46387972651931,\n",
       " 60.63203100710849,\n",
       " 71.86696469544658,\n",
       " 57.318410279066676,\n",
       " 59.06451406022302,\n",
       " 65.21560557389397,\n",
       " 61.46654326377617,\n",
       " 59.4466568912569,\n",
       " 56.507258713675554,\n",
       " 54.30928017804346,\n",
       " 69.45729526709995,\n",
       " 58.911877148599686,\n",
       " 63.66982651190331,\n",
       " 46.53134291282277,\n",
       " 59.32451445741021,\n",
       " 60.92325853013037,\n",
       " 62.649691414710276,\n",
       " 70.81519820886129,\n",
       " 64.24983075960459,\n",
       " 63.781953169526005,\n",
       " 48.900439874916415,\n",
       " 63.94411642993545,\n",
       " 67.77906173567472,\n",
       " 62.85851888630546,\n",
       " 59.09411520337029,\n",
       " 55.7331949753407,\n",
       " 59.11057812785528,\n",
       " 59.01440499625687,\n",
       " 71.34310421266782,\n",
       " 57.76408715720749,\n",
       " 60.23785732459468,\n",
       " 62.25255355665448,\n",
       " 63.11425504475545,\n",
       " 53.48160396895065,\n",
       " 67.31977738472904,\n",
       " 69.76902326410405,\n",
       " 66.92897463952586,\n",
       " 66.44983174078723,\n",
       " 65.4811557405311,\n",
       " 72.06037246679516,\n",
       " 56.17970903718477,\n",
       " 42.47199552887817,\n",
       " 62.04123635786498,\n",
       " 51.7657837707386,\n",
       " 69.00879167822805,\n",
       " 54.50842288101242,\n",
       " 57.715236271417666,\n",
       " 60.49212536232489,\n",
       " 69.62645262251752,\n",
       " 68.23762361657656,\n",
       " 56.10561562600477,\n",
       " 58.36894896363529,\n",
       " 54.87752671706412,\n",
       " 68.00494644483125,\n",
       " 69.03699461528986,\n",
       " 63.68018660219494,\n",
       " 62.78646139506083,\n",
       " 68.61072075012903,\n",
       " 65.25765160614115,\n",
       " 56.70384701520695,\n",
       " 55.61997662486605,\n",
       " 57.530832220100244,\n",
       " 61.39006569133203,\n",
       " 49.40856512756213,\n",
       " 50.12057352253369,\n",
       " 54.250949038349916,\n",
       " 63.324616699826926,\n",
       " 68.44295668572724,\n",
       " 61.570922065082584,\n",
       " 54.34533865830723,\n",
       " 52.57803957018001,\n",
       " 73.61736967036855,\n",
       " 58.02752428488035,\n",
       " 61.56253584907187,\n",
       " 61.58693410948565]"
      ]
     },
     "execution_count": 115,
     "metadata": {},
     "output_type": "execute_result"
    }
   ],
   "source": [
    "%%time\n",
    "list(map(get_demand_mapping, demand_inputs))"
   ]
  },
  {
   "cell_type": "code",
   "execution_count": 67,
   "metadata": {},
   "outputs": [
    {
     "data": {
      "text/plain": [
       "[61.88918492299763,\n",
       " 62.338976424144505,\n",
       " 54.435571086065096,\n",
       " 56.17475895557953,\n",
       " 70.34913289445558,\n",
       " 64.57282897188823,\n",
       " 57.438442998666844,\n",
       " 68.82294219853483,\n",
       " 57.808132649960825,\n",
       " 65.28633848891201]"
      ]
     },
     "execution_count": 67,
     "metadata": {},
     "output_type": "execute_result"
    }
   ],
   "source": [
    "demand_output_list_compr"
   ]
  },
  {
   "cell_type": "code",
   "execution_count": 95,
   "metadata": {},
   "outputs": [],
   "source": [
    "def rust_model(x):\n",
    "    if method == 'exact':\n",
    "        n_evaluations = n_output + np.math.factorial(n_inputs) * (n_inputs -1) * n_outer * n_inner\n",
    "    elif method == 'random':\n",
    "        n_evaluations = n_output + n_perms * (n_inputs -1) * n_outer * n_inner\n",
    "    demand_inputs = np.zeros((n_evaluations, 5))\n",
    "    demand_inputs[:, :3] = np.array([0.39189182, 0.59529371, 0.01281447])\n",
    "    demand_inputs[:, 3:] = x[:, :]\n",
    "    \n",
    "    #demand_output = np.zeros((n_evaluations, 1))\n",
    "    \n",
    "    demand_output = [get_demand(init_dict_estimation, demand_dict, demand_inputs[sample, :]).iloc[0]['demand'] \n",
    "                    for sample in np.arange(n_evaluations)]\n",
    "    \n",
    "    #for sample in np.arange(n_evaluations):\n",
    "    #    demand_params = demand_inputs[sample, :]\n",
    "    #    demand_output[sample] = get_demand(init_dict_estimation, demand_dict, demand_params).iloc[0][0]\n",
    "        \n",
    "    return demand_output"
   ]
  },
  {
   "cell_type": "code",
   "execution_count": 58,
   "metadata": {},
   "outputs": [],
   "source": [
    "# Need demand at certain value of RC only.  Note RC is scaled by 1e-03.\n",
    "demand_dict = {\n",
    "    \"RC_lower_bound\": 11.5,\n",
    "    \"RC_upper_bound\": 11.5,\n",
    "    \"demand_evaluations\": 1,\n",
    "    \"tolerance\": 1e-10,\n",
    "    \"num_periods\": num_periods,\n",
    "    \"num_buses\": num_buses,\n",
    "}"
   ]
  },
  {
   "cell_type": "code",
   "execution_count": 41,
   "metadata": {},
   "outputs": [],
   "source": [
    "n_inputs = 2\n",
    "method = 'exact'\n",
    "np.random.seed(1234)\n",
    "\n",
    "if method == 'exact':\n",
    "    n_perms = None\n",
    "elif method == 'random':\n",
    "    n_perms = 10\n",
    "n_output = 10**3\n",
    "n_outer = 15\n",
    "n_inner = 3"
   ]
  },
  {
   "cell_type": "code",
   "execution_count": null,
   "metadata": {},
   "outputs": [],
   "source": [
    "def estim_shapley_rc_theta_11(method, n_perms, n_output, n_outer, n_inner, cov, mean):\n",
    "    \n",
    "    def x_all(n):\n",
    "        distribution = cp.MvNormal(mean, cov)\n",
    "        return distribution.sample(n)\n",
    "\n",
    "    def x_cond(n, subset_j, subsetj_conditional, xjc):\n",
    "        if subsetj_conditional is None:\n",
    "            cov_int = np.array(cov)\n",
    "            cov_int = cov_int.take(subset_j, axis=1)\n",
    "            cov_int = cov_int[subset_j]\n",
    "            distribution = cp.MvNormal(mean[subset_j], cov_int)\n",
    "            return distribution.sample(n)\n",
    "        else:\n",
    "            return _r_condmvn(\n",
    "                n,\n",
    "                mean=mean,\n",
    "                cov=cov,\n",
    "                dependent_ind=subset_j,\n",
    "                given_ind=subsetj_conditional,\n",
    "                x_given=xjc,\n",
    "            )\n",
    "    "
   ]
  },
  {
   "cell_type": "code",
   "execution_count": 99,
   "metadata": {},
   "outputs": [
    {
     "name": "stdout",
     "output_type": "stream",
     "text": [
      "Wall time: 6min 47s\n"
     ]
    }
   ],
   "source": [
    "%%time\n",
    "\n",
    "exact_shapley = get_shapley(method, rust_model, x_all, x_cond, n_perms, n_inputs, n_output, n_outer, n_inner)\n",
    "exact_shapley.rename(index={'X1': 'RC', 'X2': 'theta_11'}, inplace=True)"
   ]
  },
  {
   "cell_type": "code",
   "execution_count": 106,
   "metadata": {},
   "outputs": [
    {
     "data": {
      "text/html": [
       "<div>\n",
       "<style scoped>\n",
       "    .dataframe tbody tr th:only-of-type {\n",
       "        vertical-align: middle;\n",
       "    }\n",
       "\n",
       "    .dataframe tbody tr th {\n",
       "        vertical-align: top;\n",
       "    }\n",
       "\n",
       "    .dataframe thead th {\n",
       "        text-align: right;\n",
       "    }\n",
       "</style>\n",
       "<table border=\"1\" class=\"dataframe\">\n",
       "  <thead>\n",
       "    <tr style=\"text-align: right;\">\n",
       "      <th></th>\n",
       "      <th>Shapley effects</th>\n",
       "      <th>std. errors</th>\n",
       "      <th>CI_min</th>\n",
       "      <th>CI_max</th>\n",
       "    </tr>\n",
       "  </thead>\n",
       "  <tbody>\n",
       "    <tr>\n",
       "      <th>RC</th>\n",
       "      <td>0.449098</td>\n",
       "      <td>0.31756</td>\n",
       "      <td>-0.173320</td>\n",
       "      <td>1.071515</td>\n",
       "    </tr>\n",
       "    <tr>\n",
       "      <th>theta_11</th>\n",
       "      <td>0.550902</td>\n",
       "      <td>0.31756</td>\n",
       "      <td>-0.071515</td>\n",
       "      <td>1.173320</td>\n",
       "    </tr>\n",
       "  </tbody>\n",
       "</table>\n",
       "</div>"
      ],
      "text/plain": [
       "          Shapley effects  std. errors    CI_min    CI_max\n",
       "RC               0.449098      0.31756 -0.173320  1.071515\n",
       "theta_11         0.550902      0.31756 -0.071515  1.173320"
      ]
     },
     "execution_count": 106,
     "metadata": {},
     "output_type": "execute_result"
    }
   ],
   "source": [
    "exact_shapley"
   ]
  },
  {
   "cell_type": "code",
   "execution_count": null,
   "metadata": {},
   "outputs": [],
   "source": []
  }
 ],
 "metadata": {
  "kernelspec": {
   "display_name": "Python 3",
   "language": "python",
   "name": "python3"
  },
  "language_info": {
   "codemirror_mode": {
    "name": "ipython",
    "version": 3
   },
   "file_extension": ".py",
   "mimetype": "text/x-python",
   "name": "python",
   "nbconvert_exporter": "python",
   "pygments_lexer": "ipython3",
   "version": "3.7.0"
  }
 },
 "nbformat": 4,
 "nbformat_minor": 4
}
