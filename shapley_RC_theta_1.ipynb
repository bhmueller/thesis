{
 "cells": [
  {
   "cell_type": "markdown",
   "metadata": {},
   "source": [
    "## Shapley effects for RC and $\\theta_{11}$"
   ]
  },
  {
   "cell_type": "code",
   "execution_count": 1,
   "metadata": {},
   "outputs": [],
   "source": [
    "import os\n",
    "import numpy as np\n",
    "import matplotlib.pyplot as plt\n",
    "import matplotlib as mpl\n",
    "import pandas as pd\n",
    "import chaospy as cp\n",
    "import seaborn as sns\n",
    "import profile\n",
    "from functools import partial\n",
    "from ruspy.estimation.estimation import estimate\n",
    "#from ruspy.simulation.simulation import simulate\n",
    "from ruspy.model_code.fix_point_alg import calc_fixp\n",
    "from ruspy.model_code.cost_functions import lin_cost\n",
    "from ruspy.model_code.cost_functions import calc_obs_costs\n",
    "from ruspy.model_code.cost_functions import calc_obs_costs\n",
    "from ruspy.estimation.estimation_transitions import create_transition_matrix\n",
    "from ruspy.model_code.demand_function import get_demand \n",
    "from python.econsa_shapley import get_shapley\n",
    "from python.econsa_shapley import _r_condmvn\n",
    "from python.sampling import simulate_cov_and_mean_rc_theta_11\n",
    "from python.sampling import approx_comp_time"
   ]
  },
  {
   "cell_type": "code",
   "execution_count": 2,
   "metadata": {},
   "outputs": [],
   "source": [
    "run_simulation = False"
   ]
  },
  {
   "cell_type": "code",
   "execution_count": 3,
   "metadata": {},
   "outputs": [],
   "source": [
    "# Set simulating variables.\n",
    "disc_fac = 0.9999\n",
    "num_buses = 50\n",
    "num_periods = 120\n",
    "gridsize = 1000\n",
    "# We use the cost parameters and transition probabilities from the replication.\n",
    "params = np.array([10.07780762, 2.29417622])\n",
    "trans_probs = np.array([0.39189182, 0.59529371, 0.01281447])\n",
    "scale = 1e-3\n",
    "\n",
    "init_dict_simulation = {\n",
    "    \"simulation\": {\n",
    "        \"discount_factor\": disc_fac,\n",
    "        \"periods\": num_periods,\n",
    "        \"seed\": 123,\n",
    "        \"buses\": num_buses,\n",
    "    },\n",
    "    \"plot\": {\"gridsize\": gridsize},\n",
    "}"
   ]
  },
  {
   "cell_type": "code",
   "execution_count": 4,
   "metadata": {},
   "outputs": [],
   "source": [
    "# Calcualte objects necessary for the simulation process. See documentation for details.\n",
    "# Discretization of the state space.\n",
    "# Originally 200. 90 (with a size of 5,000 miles each) and 175 (with a size of 2,571) \n",
    "# bins were used by Rust (1987).\n",
    "num_states = 175\n",
    "costs = calc_obs_costs(num_states, lin_cost, params, scale)\n",
    "\n",
    "trans_mat = create_transition_matrix(num_states, trans_probs)\n",
    "ev = calc_fixp(trans_mat, costs, disc_fac)[0]"
   ]
  },
  {
   "cell_type": "code",
   "execution_count": 5,
   "metadata": {},
   "outputs": [],
   "source": [
    "# Use one init_dict for get_demand() and estimate().\n",
    "init_dict_estimation = {\n",
    "    'model_specifications': {\n",
    "        'discount_factor': disc_fac,\n",
    "        'number_states': num_states,\n",
    "        'maint_cost_func': 'linear',\n",
    "        'cost_scale': 1e-3\n",
    "    },\n",
    "    'optimizer': {\n",
    "        'approach': 'NFXP',\n",
    "        'algorithm': 'scipy_L-BFGS-B',\n",
    "        'gradient': 'Yes'\n",
    "    },\n",
    "    \n",
    "}"
   ]
  },
  {
   "cell_type": "code",
   "execution_count": 6,
   "metadata": {},
   "outputs": [
    {
     "name": "stdout",
     "output_type": "stream",
     "text": [
      "Wall time: 4.99 ms\n"
     ]
    }
   ],
   "source": [
    "%%time\n",
    "if run_simulation == True:\n",
    "    num_sim = 5000\n",
    "    cov, mean = simulate_cov_and_mean_rc_theta_11(num_sim, ev, costs, trans_mat, init_dict_simulation, init_dict_estimation)\n",
    "    np.save(os.path.join('data', 'cov_rc_theta_11'), cov)\n",
    "    np.save(os.path.join('data', 'mean_rc_theta_11'), mean)\n",
    "else:\n",
    "    cov = np.load(os.path.join('data', 'cov_rc_theta_11.npy'))\n",
    "    mean = np.load(os.path.join('data', 'mean_rc_theta_11.npy'))"
   ]
  },
  {
   "cell_type": "code",
   "execution_count": 14,
   "metadata": {},
   "outputs": [
    {
     "name": "stdout",
     "output_type": "stream",
     "text": [
      "If n_sim = 10,000, I need 8.333333333333334 hours\n"
     ]
    },
    {
     "data": {
      "text/plain": [
       "10.05"
      ]
     },
     "execution_count": 14,
     "metadata": {},
     "output_type": "execute_result"
    }
   ],
   "source": [
    "# 50 min (conservative estimate) per 1,000 simulations. From 1,000 to 2,000 I did 0.05 better.\n",
    "print('If n_sim = 10,000, I need', 50 * 10 / 60, 'hours')\n",
    "# Assume always by 0.05 closer to true value for 1,000 more sim.s.\n",
    "10.5 - 0.05 * 9\n",
    "# If this was true, should approach true value with 10,000 sim.s."
   ]
  },
  {
   "cell_type": "code",
   "execution_count": 7,
   "metadata": {},
   "outputs": [],
   "source": [
    "cov_nice = pd.DataFrame(data=cov, index= ['$RC$', '$\\theta_{11}$'], columns=['$RC$', '$\\theta_{11}$'])"
   ]
  },
  {
   "cell_type": "code",
   "execution_count": 8,
   "metadata": {},
   "outputs": [
    {
     "data": {
      "text/html": [
       "<div>\n",
       "<style scoped>\n",
       "    .dataframe tbody tr th:only-of-type {\n",
       "        vertical-align: middle;\n",
       "    }\n",
       "\n",
       "    .dataframe tbody tr th {\n",
       "        vertical-align: top;\n",
       "    }\n",
       "\n",
       "    .dataframe thead th {\n",
       "        text-align: right;\n",
       "    }\n",
       "</style>\n",
       "<table border=\"1\" class=\"dataframe\">\n",
       "  <thead>\n",
       "    <tr style=\"text-align: right;\">\n",
       "      <th></th>\n",
       "      <th>$RC$</th>\n",
       "      <th>$\\theta_{11}$</th>\n",
       "    </tr>\n",
       "  </thead>\n",
       "  <tbody>\n",
       "    <tr>\n",
       "      <th>$RC$</th>\n",
       "      <td>1.671083</td>\n",
       "      <td>0.636662</td>\n",
       "    </tr>\n",
       "    <tr>\n",
       "      <th>$\\theta_{11}$</th>\n",
       "      <td>0.636662</td>\n",
       "      <td>0.288380</td>\n",
       "    </tr>\n",
       "  </tbody>\n",
       "</table>\n",
       "</div>"
      ],
      "text/plain": [
       "                   $RC$  $\\theta_{11}$\n",
       "$RC$           1.671083       0.636662\n",
       "$\\theta_{11}$  0.636662       0.288380"
      ]
     },
     "execution_count": 8,
     "metadata": {},
     "output_type": "execute_result"
    }
   ],
   "source": [
    "cov_nice"
   ]
  },
  {
   "cell_type": "code",
   "execution_count": 9,
   "metadata": {},
   "outputs": [],
   "source": [
    "mean_nice = pd.DataFrame(data=np.concatenate((mean, params)).reshape([2, 2], order='F'), \n",
    "                         index= ['$RC$', '$\\theta_{11}$'], columns=['Empirical mean', 'True mean'])"
   ]
  },
  {
   "cell_type": "code",
   "execution_count": 10,
   "metadata": {},
   "outputs": [
    {
     "data": {
      "text/html": [
       "<div>\n",
       "<style scoped>\n",
       "    .dataframe tbody tr th:only-of-type {\n",
       "        vertical-align: middle;\n",
       "    }\n",
       "\n",
       "    .dataframe tbody tr th {\n",
       "        vertical-align: top;\n",
       "    }\n",
       "\n",
       "    .dataframe thead th {\n",
       "        text-align: right;\n",
       "    }\n",
       "</style>\n",
       "<table border=\"1\" class=\"dataframe\">\n",
       "  <thead>\n",
       "    <tr style=\"text-align: right;\">\n",
       "      <th></th>\n",
       "      <th>Empirical mean</th>\n",
       "      <th>True mean</th>\n",
       "    </tr>\n",
       "  </thead>\n",
       "  <tbody>\n",
       "    <tr>\n",
       "      <th>$RC$</th>\n",
       "      <td>10.450362</td>\n",
       "      <td>10.077808</td>\n",
       "    </tr>\n",
       "    <tr>\n",
       "      <th>$\\theta_{11}$</th>\n",
       "      <td>2.439941</td>\n",
       "      <td>2.294176</td>\n",
       "    </tr>\n",
       "  </tbody>\n",
       "</table>\n",
       "</div>"
      ],
      "text/plain": [
       "               Empirical mean  True mean\n",
       "$RC$                10.450362  10.077808\n",
       "$\\theta_{11}$        2.439941   2.294176"
      ]
     },
     "execution_count": 10,
     "metadata": {},
     "output_type": "execute_result"
    }
   ],
   "source": [
    "mean_nice"
   ]
  },
  {
   "cell_type": "code",
   "execution_count": 55,
   "metadata": {},
   "outputs": [],
   "source": [
    "# Test: save data frame as .csv.\n",
    "mean_nice.to_pickle(path_or_buf=os.path.join('data', 'mean_nice'))"
   ]
  },
  {
   "cell_type": "code",
   "execution_count": null,
   "metadata": {},
   "outputs": [],
   "source": []
  },
  {
   "cell_type": "markdown",
   "metadata": {},
   "source": [
    "Define functions `rust_model()`, and function arguments."
   ]
  },
  {
   "cell_type": "code",
   "execution_count": 34,
   "metadata": {},
   "outputs": [],
   "source": [
    "def x_all(n):\n",
    "    distribution = cp.MvNormal(mean, cov)\n",
    "    return distribution.sample(n)\n",
    "\n",
    "def x_cond(n, subset_j, subsetj_conditional, xjc):\n",
    "    if subsetj_conditional is None:\n",
    "        cov_int = np.array(cov)\n",
    "        cov_int = cov_int.take(subset_j, axis=1)\n",
    "        cov_int = cov_int[subset_j]\n",
    "        distribution = cp.MvNormal(mean[subset_j], cov_int)\n",
    "        return distribution.sample(n)\n",
    "    else:\n",
    "        return _r_condmvn(\n",
    "            n,\n",
    "            mean=mean,\n",
    "            cov=cov,\n",
    "            dependent_ind=subset_j,\n",
    "            given_ind=subsetj_conditional,\n",
    "            x_given=xjc,\n",
    "        )"
   ]
  },
  {
   "cell_type": "code",
   "execution_count": 35,
   "metadata": {},
   "outputs": [],
   "source": [
    "def rust_model(x):\n",
    "    if method == 'exact':\n",
    "        n_evaluations = n_output + np.math.factorial(n_inputs) * (n_inputs -1) * n_outer * n_inner\n",
    "    elif method == 'random':\n",
    "        n_evaluations = n_output + n_perms * (n_inputs -1) * n_outer * n_inner\n",
    "        \n",
    "    demand_inputs = np.zeros((n_evaluations, 5))\n",
    "    demand_inputs[:, :3] = trans_probs\n",
    "    demand_inputs[:, 3:] = x[:, :]\n",
    "    \n",
    "    demand_output = np.zeros((n_evaluations, 1))\n",
    "    \n",
    "    # Second, try with list comprehension (do not need to define demand_output first).\n",
    "    #demand_output = [get_demand(init_dict_estimation, demand_dict, demand_inputs[sample, :]).iloc[0]['demand'] \n",
    "    #                for sample in np.arange(n_evaluations)]\n",
    "    \n",
    "    # First try with for loop.\n",
    "    #for sample in np.arange(n_evaluations):\n",
    "    #    demand_params = demand_inputs[sample, :]\n",
    "    #    demand_output[sample] = get_demand(init_dict_estimation, demand_dict, demand_params).iloc[0]['demand']\n",
    "    \n",
    "    get_demand_partial = partial(get_demand, init_dict=init_dict_estimation, demand_dict=demand_dict)\n",
    "    def get_demand_mapping(x):\n",
    "        return get_demand_partial(demand_params=x).iloc[0]['demand']\n",
    "    \n",
    "    demand_output = np.array(list(map(get_demand_mapping, demand_inputs)))\n",
    "    \n",
    "    return demand_output"
   ]
  },
  {
   "cell_type": "code",
   "execution_count": 30,
   "metadata": {},
   "outputs": [],
   "source": [
    "# Need demand at certain value of RC only.  Note RC is scaled by 1e-03.\n",
    "demand_dict = {\n",
    "    \"RC_lower_bound\": 11.5,\n",
    "    \"RC_upper_bound\": 11.5,\n",
    "    \"demand_evaluations\": 1,\n",
    "    \"tolerance\": 1e-10,\n",
    "    \"num_periods\": num_periods,\n",
    "    \"num_buses\": num_buses,\n",
    "}"
   ]
  },
  {
   "cell_type": "code",
   "execution_count": 31,
   "metadata": {},
   "outputs": [],
   "source": [
    "n_inputs = 2\n",
    "method = 'exact'\n",
    "np.random.seed(1234)\n",
    "\n",
    "if method == 'exact':\n",
    "    n_perms = None\n",
    "elif method == 'random':\n",
    "    n_perms = 10\n",
    "n_output = 10**3\n",
    "n_outer = 15\n",
    "n_inner = 3"
   ]
  },
  {
   "cell_type": "markdown",
   "metadata": {},
   "source": [
    "Run `get_shapley()` ten times for small simulation numbers."
   ]
  },
  {
   "cell_type": "code",
   "execution_count": 33,
   "metadata": {},
   "outputs": [],
   "source": [
    "n_inputs = 2\n",
    "method = 'exact'\n",
    "np.random.seed(1234)\n",
    "\n",
    "if method == 'exact':\n",
    "    n_perms = None\n",
    "elif method == 'random':\n",
    "    n_perms = 10\n",
    "n_output = 10**2\n",
    "n_outer = 10\n",
    "n_inner = 3"
   ]
  },
  {
   "cell_type": "code",
   "execution_count": 37,
   "metadata": {},
   "outputs": [
    {
     "name": "stdout",
     "output_type": "stream",
     "text": [
      "Wall time: 51.6 s\n"
     ]
    }
   ],
   "source": [
    "%%time\n",
    "\n",
    "exact_shapley = get_shapley(method, rust_model, x_all, x_cond, n_perms, n_inputs, n_output, n_outer, n_inner)\n",
    "exact_shapley.rename(index={'X1': '$RC$', 'X2': '$\\theta_{11}$'}, inplace=True)"
   ]
  },
  {
   "cell_type": "code",
   "execution_count": 45,
   "metadata": {},
   "outputs": [
    {
     "name": "stdout",
     "output_type": "stream",
     "text": [
      "Run 1 \n",
      "\n",
      "Run 2 \n",
      "\n",
      "Run 3 \n",
      "\n",
      "Run 4 \n",
      "\n",
      "Run 5 \n",
      "\n",
      "Run 6 \n",
      "\n",
      "Run 7 \n",
      "\n",
      "Run 8 \n",
      "\n",
      "Run 9 \n",
      "\n",
      "Run 10 \n",
      "\n",
      "Wall time: 10min 6s\n"
     ]
    }
   ],
   "source": [
    "%%time\n",
    "# For loop. Get a sense of how it works. Later get functions and run for larger number of simulations.\n",
    "shapley_effects = {}\n",
    "for i in np.arange(10):\n",
    "    np.random.seed(i)\n",
    "    exact_shapley = get_shapley(method, rust_model, x_all, x_cond, n_perms, n_inputs, n_output, n_outer, n_inner)\n",
    "    exact_shapley.rename(index={'X1': '$RC$', 'X2': '$\\theta_{11}$'}, inplace=True)\n",
    "    shapley_effects[i] = exact_shapley\n",
    "    print('Run', i + 1)"
   ]
  },
  {
   "cell_type": "code",
   "execution_count": 59,
   "metadata": {},
   "outputs": [
    {
     "data": {
      "text/plain": [
       "0.380728832109027"
      ]
     },
     "execution_count": 59,
     "metadata": {},
     "output_type": "execute_result"
    }
   ],
   "source": [
    "shapley_effects[i]['Shapley effects']['$RC$']"
   ]
  },
  {
   "cell_type": "code",
   "execution_count": 162,
   "metadata": {},
   "outputs": [],
   "source": [
    "# Get data frame suitable for plotting.\n",
    "rc_shapley_effects = [shapley_effects[i]['Shapley effects']['$RC$'] for i in np.arange(10)]\n",
    "theta_shapley_effects = [shapley_effects[i]['Shapley effects']['$\\theta_{11}$'] for i in np.arange(10)]\n",
    "\n",
    "rc_shapley_effects_df = pd.DataFrame(data=rc_shapley_effects)\n",
    "rc_shapley_effects_df['input_variable'] = 'rc'\n",
    "\n",
    "theta_shapley_effects_df = pd.DataFrame(data=theta_shapley_effects)\n",
    "theta_shapley_effects_df['input_variable'] = 'theta'\n",
    "\n",
    "data = pd.concat([rc_shapley_effects_df, theta_shapley_effects_df], ignore_index=True)\n",
    "data.rename(columns={0: 'shapley_effect'}, inplace=True)"
   ]
  },
  {
   "cell_type": "code",
   "execution_count": 165,
   "metadata": {},
   "outputs": [
    {
     "data": {
      "image/png": "[encoded data removed]",
      "text/plain": [
       "<Figure size 432x288 with 1 Axes>"
      ]
     },
     "metadata": {},
     "output_type": "display_data"
    }
   ],
   "source": [
    "fig, ax = plt.subplots()\n",
    "sns.set_theme(style='whitegrid')\n",
    "ax = sns.boxplot(x=data['input_variable'], y=data['shapley_effect'])"
   ]
  },
  {
   "cell_type": "code",
   "execution_count": 166,
   "metadata": {},
   "outputs": [],
   "source": [
    "fig.savefig(fname=os.path.join('figures', 'boxplot_shapley_effects'), dpi=1000)"
   ]
  },
  {
   "cell_type": "markdown",
   "metadata": {},
   "source": [
    "#### Try to run `get_shapley()` ten times in a function."
   ]
  },
  {
   "cell_type": "code",
   "execution_count": null,
   "metadata": {},
   "outputs": [],
   "source": [
    "def shapley_ten(model):\n",
    "    ten_shapley_dict = {}\n",
    "    \n",
    "    # Set simulating variables.\n",
    "    disc_fac = 0.9999\n",
    "    num_buses = 50\n",
    "    num_periods = 120\n",
    "    gridsize = 1000\n",
    "    # We use the cost parameters and transition probabilities from the replication.\n",
    "    params = np.array([10.07780762, 2.29417622])\n",
    "    trans_probs = np.array([0.39189182, 0.59529371, 0.01281447])\n",
    "    scale = 1e-3\n",
    "\n",
    "    init_dict_simulation = {\n",
    "        \"simulation\": {\n",
    "            \"discount_factor\": disc_fac,\n",
    "            \"periods\": num_periods,\n",
    "            \"seed\": 123,\n",
    "            \"buses\": num_buses,\n",
    "        },\n",
    "        \"plot\": {\"gridsize\": gridsize},\n",
    "    }\n",
    "    \n",
    "    # Need demand at certain value of RC only.  Note RC is scaled by 1e-03.\n",
    "    demand_dict = {\n",
    "        \"RC_lower_bound\": 11.5,\n",
    "        \"RC_upper_bound\": 11.5,\n",
    "        \"demand_evaluations\": 1,\n",
    "        \"tolerance\": 1e-10,\n",
    "        \"num_periods\": num_periods,\n",
    "        \"num_buses\": num_buses,\n",
    "    }\n",
    "    \n",
    "    "
   ]
  },
  {
   "cell_type": "markdown",
   "metadata": {},
   "source": [
    "Run for large no. of MC runs."
   ]
  },
  {
   "cell_type": "code",
   "execution_count": 11,
   "metadata": {},
   "outputs": [
    {
     "name": "stdout",
     "output_type": "stream",
     "text": [
      " 5000 model evaluations \n",
      " approx.  0.4861111111111111 hours \n",
      " approx. 29.166666666666668 minutes\n"
     ]
    }
   ],
   "source": [
    "n_output = 10**3\n",
    "n_outer = 10**2\n",
    "n_inner = 20\n",
    "# Time in s for 100 model evaluations.\n",
    "time_model_eval = 35\n",
    "approx_comp_time(time_model_eval, method, n_inputs, n_perms, n_output, n_outer, n_inner)"
   ]
  },
  {
   "cell_type": "code",
   "execution_count": 12,
   "metadata": {},
   "outputs": [
    {
     "name": "stdout",
     "output_type": "stream",
     "text": [
      "Wall time: 33min 15s\n"
     ]
    }
   ],
   "source": [
    "%%time\n",
    "\n",
    "exact_shapley = get_shapley(method, rust_model, x_all, x_cond, n_perms, n_inputs, n_output, n_outer, n_inner)\n",
    "exact_shapley.rename(index={'X1': '$RC$', 'X2': '$\\theta_{11}$'}, inplace=True)"
   ]
  },
  {
   "cell_type": "code",
   "execution_count": 13,
   "metadata": {},
   "outputs": [
    {
     "data": {
      "text/html": [
       "<div>\n",
       "<style scoped>\n",
       "    .dataframe tbody tr th:only-of-type {\n",
       "        vertical-align: middle;\n",
       "    }\n",
       "\n",
       "    .dataframe tbody tr th {\n",
       "        vertical-align: top;\n",
       "    }\n",
       "\n",
       "    .dataframe thead th {\n",
       "        text-align: right;\n",
       "    }\n",
       "</style>\n",
       "<table border=\"1\" class=\"dataframe\">\n",
       "  <thead>\n",
       "    <tr style=\"text-align: right;\">\n",
       "      <th></th>\n",
       "      <th>Shapley effects</th>\n",
       "      <th>std. errors</th>\n",
       "      <th>CI_min</th>\n",
       "      <th>CI_max</th>\n",
       "    </tr>\n",
       "  </thead>\n",
       "  <tbody>\n",
       "    <tr>\n",
       "      <th>RC</th>\n",
       "      <td>0.422186</td>\n",
       "      <td>0.29853</td>\n",
       "      <td>-0.162934</td>\n",
       "      <td>1.007305</td>\n",
       "    </tr>\n",
       "    <tr>\n",
       "      <th>theta_11</th>\n",
       "      <td>0.577814</td>\n",
       "      <td>0.29853</td>\n",
       "      <td>-0.007305</td>\n",
       "      <td>1.162934</td>\n",
       "    </tr>\n",
       "  </tbody>\n",
       "</table>\n",
       "</div>"
      ],
      "text/plain": [
       "          Shapley effects  std. errors    CI_min    CI_max\n",
       "RC               0.422186      0.29853 -0.162934  1.007305\n",
       "theta_11         0.577814      0.29853 -0.007305  1.162934"
      ]
     },
     "execution_count": 13,
     "metadata": {},
     "output_type": "execute_result"
    }
   ],
   "source": [
    "exact_shapley"
   ]
  },
  {
   "cell_type": "markdown",
   "metadata": {},
   "source": [
    "Another try with even larger no.s"
   ]
  },
  {
   "cell_type": "code",
   "execution_count": 20,
   "metadata": {},
   "outputs": [
    {
     "name": "stdout",
     "output_type": "stream",
     "text": [
      " 9000 model evaluations \n",
      " approx.  0.925 hours \n",
      " approx. 55.5 minutes\n"
     ]
    }
   ],
   "source": [
    "n_output = 10**3\n",
    "n_outer = 10**2\n",
    "n_inner = 40\n",
    "# Time in s for 100 model evaluations.\n",
    "time_model_eval = 37\n",
    "approx_comp_time(time_model_eval, method, n_inputs, n_perms, n_output, n_outer, n_inner)"
   ]
  },
  {
   "cell_type": "code",
   "execution_count": 18,
   "metadata": {},
   "outputs": [
    {
     "name": "stdout",
     "output_type": "stream",
     "text": [
      "Wall time: 1h 3min 57s\n"
     ]
    }
   ],
   "source": [
    "%%time\n",
    "\n",
    "exact_shapley = get_shapley(method, rust_model, x_all, x_cond, n_perms, n_inputs, n_output, n_outer, n_inner)\n",
    "exact_shapley.rename(index={'X1': '$RC$', 'X2': '$\\theta_{11}$'}, inplace=True)"
   ]
  },
  {
   "cell_type": "code",
   "execution_count": 19,
   "metadata": {},
   "outputs": [
    {
     "data": {
      "text/html": [
       "<div>\n",
       "<style scoped>\n",
       "    .dataframe tbody tr th:only-of-type {\n",
       "        vertical-align: middle;\n",
       "    }\n",
       "\n",
       "    .dataframe tbody tr th {\n",
       "        vertical-align: top;\n",
       "    }\n",
       "\n",
       "    .dataframe thead th {\n",
       "        text-align: right;\n",
       "    }\n",
       "</style>\n",
       "<table border=\"1\" class=\"dataframe\">\n",
       "  <thead>\n",
       "    <tr style=\"text-align: right;\">\n",
       "      <th></th>\n",
       "      <th>Shapley effects</th>\n",
       "      <th>std. errors</th>\n",
       "      <th>CI_min</th>\n",
       "      <th>CI_max</th>\n",
       "    </tr>\n",
       "  </thead>\n",
       "  <tbody>\n",
       "    <tr>\n",
       "      <th>RC</th>\n",
       "      <td>0.413136</td>\n",
       "      <td>0.292131</td>\n",
       "      <td>-0.159441</td>\n",
       "      <td>0.985713</td>\n",
       "    </tr>\n",
       "    <tr>\n",
       "      <th>theta_11</th>\n",
       "      <td>0.586864</td>\n",
       "      <td>0.292131</td>\n",
       "      <td>0.014287</td>\n",
       "      <td>1.159441</td>\n",
       "    </tr>\n",
       "  </tbody>\n",
       "</table>\n",
       "</div>"
      ],
      "text/plain": [
       "          Shapley effects  std. errors    CI_min    CI_max\n",
       "RC               0.413136     0.292131 -0.159441  0.985713\n",
       "theta_11         0.586864     0.292131  0.014287  1.159441"
      ]
     },
     "execution_count": 19,
     "metadata": {},
     "output_type": "execute_result"
    }
   ],
   "source": [
    "exact_shapley"
   ]
  },
  {
   "cell_type": "code",
   "execution_count": 18,
   "metadata": {},
   "outputs": [],
   "source": [
    "list_num_sim = [{'n_output': 10**3, 'n_outer': 15, 'n_inner': 3}, \n",
    "                {'n_output': 10**3, 'n_outer': 15, 'n_inner': 5}, \n",
    "                {'n_output': 10**3, 'n_outer': 15, 'n_inner': 7}, \n",
    "                {'n_output': 10**3, 'n_outer': 20, 'n_inner': 3}, \n",
    "                {'n_output': 10**3, 'n_outer': 20, 'n_inner': 7}]"
   ]
  },
  {
   "cell_type": "code",
   "execution_count": 12,
   "metadata": {},
   "outputs": [
    {
     "name": "stdout",
     "output_type": "stream",
     "text": [
      "Wall time: 6min 44s\n"
     ]
    }
   ],
   "source": [
    "%%time\n",
    "\n",
    "exact_shapley = get_shapley(method, rust_model, x_all, x_cond, n_perms, n_inputs, n_output, n_outer, n_inner)\n",
    "exact_shapley.rename(index={'X1': '$RC$', 'X2': '$\\theta_{11}$'}, inplace=True)"
   ]
  },
  {
   "cell_type": "code",
   "execution_count": 13,
   "metadata": {},
   "outputs": [
    {
     "data": {
      "text/html": [
       "<div>\n",
       "<style scoped>\n",
       "    .dataframe tbody tr th:only-of-type {\n",
       "        vertical-align: middle;\n",
       "    }\n",
       "\n",
       "    .dataframe tbody tr th {\n",
       "        vertical-align: top;\n",
       "    }\n",
       "\n",
       "    .dataframe thead th {\n",
       "        text-align: right;\n",
       "    }\n",
       "</style>\n",
       "<table border=\"1\" class=\"dataframe\">\n",
       "  <thead>\n",
       "    <tr style=\"text-align: right;\">\n",
       "      <th></th>\n",
       "      <th>Shapley effects</th>\n",
       "      <th>std. errors</th>\n",
       "      <th>CI_min</th>\n",
       "      <th>CI_max</th>\n",
       "    </tr>\n",
       "  </thead>\n",
       "  <tbody>\n",
       "    <tr>\n",
       "      <th>RC</th>\n",
       "      <td>0.425934</td>\n",
       "      <td>0.301181</td>\n",
       "      <td>-0.164381</td>\n",
       "      <td>1.016249</td>\n",
       "    </tr>\n",
       "    <tr>\n",
       "      <th>theta_11</th>\n",
       "      <td>0.574066</td>\n",
       "      <td>0.301181</td>\n",
       "      <td>-0.016249</td>\n",
       "      <td>1.164381</td>\n",
       "    </tr>\n",
       "  </tbody>\n",
       "</table>\n",
       "</div>"
      ],
      "text/plain": [
       "          Shapley effects  std. errors    CI_min    CI_max\n",
       "RC               0.425934     0.301181 -0.164381  1.016249\n",
       "theta_11         0.574066     0.301181 -0.016249  1.164381"
      ]
     },
     "execution_count": 13,
     "metadata": {},
     "output_type": "execute_result"
    }
   ],
   "source": [
    "exact_shapley"
   ]
  },
  {
   "cell_type": "markdown",
   "metadata": {},
   "source": [
    "Try with larger no. of MC runs."
   ]
  },
  {
   "cell_type": "code",
   "execution_count": 29,
   "metadata": {},
   "outputs": [
    {
     "name": "stdout",
     "output_type": "stream",
     "text": [
      "Wall time: 11min 22s\n"
     ]
    }
   ],
   "source": [
    "%%time\n",
    "n_output = 10**2\n",
    "n_outer = 40\n",
    "n_inner = 20\n",
    "exact_shapley = get_shapley(method, rust_model, x_all, x_cond, n_perms, n_inputs, n_output, n_outer, n_inner)\n",
    "exact_shapley.rename(index={'X1': '$RC$', 'X2': '$\\theta_{11}$'}, inplace=True)"
   ]
  },
  {
   "cell_type": "code",
   "execution_count": 30,
   "metadata": {},
   "outputs": [
    {
     "data": {
      "text/html": [
       "<div>\n",
       "<style scoped>\n",
       "    .dataframe tbody tr th:only-of-type {\n",
       "        vertical-align: middle;\n",
       "    }\n",
       "\n",
       "    .dataframe tbody tr th {\n",
       "        vertical-align: top;\n",
       "    }\n",
       "\n",
       "    .dataframe thead th {\n",
       "        text-align: right;\n",
       "    }\n",
       "</style>\n",
       "<table border=\"1\" class=\"dataframe\">\n",
       "  <thead>\n",
       "    <tr style=\"text-align: right;\">\n",
       "      <th></th>\n",
       "      <th>Shapley effects</th>\n",
       "      <th>std. errors</th>\n",
       "      <th>CI_min</th>\n",
       "      <th>CI_max</th>\n",
       "    </tr>\n",
       "  </thead>\n",
       "  <tbody>\n",
       "    <tr>\n",
       "      <th>RC</th>\n",
       "      <td>0.437425</td>\n",
       "      <td>0.309306</td>\n",
       "      <td>-0.168815</td>\n",
       "      <td>1.043666</td>\n",
       "    </tr>\n",
       "    <tr>\n",
       "      <th>theta_11</th>\n",
       "      <td>0.562575</td>\n",
       "      <td>0.309306</td>\n",
       "      <td>-0.043666</td>\n",
       "      <td>1.168815</td>\n",
       "    </tr>\n",
       "  </tbody>\n",
       "</table>\n",
       "</div>"
      ],
      "text/plain": [
       "          Shapley effects  std. errors    CI_min    CI_max\n",
       "RC               0.437425     0.309306 -0.168815  1.043666\n",
       "theta_11         0.562575     0.309306 -0.043666  1.168815"
      ]
     },
     "execution_count": 30,
     "metadata": {},
     "output_type": "execute_result"
    }
   ],
   "source": [
    "exact_shapley"
   ]
  },
  {
   "cell_type": "code",
   "execution_count": 27,
   "metadata": {},
   "outputs": [
    {
     "data": {
      "text/html": [
       "<div>\n",
       "<style scoped>\n",
       "    .dataframe tbody tr th:only-of-type {\n",
       "        vertical-align: middle;\n",
       "    }\n",
       "\n",
       "    .dataframe tbody tr th {\n",
       "        vertical-align: top;\n",
       "    }\n",
       "\n",
       "    .dataframe thead th {\n",
       "        text-align: right;\n",
       "    }\n",
       "</style>\n",
       "<table border=\"1\" class=\"dataframe\">\n",
       "  <thead>\n",
       "    <tr style=\"text-align: right;\">\n",
       "      <th></th>\n",
       "      <th>Shapley effects</th>\n",
       "      <th>std. errors</th>\n",
       "      <th>CI_min</th>\n",
       "      <th>CI_max</th>\n",
       "    </tr>\n",
       "  </thead>\n",
       "  <tbody>\n",
       "    <tr>\n",
       "      <th>RC</th>\n",
       "      <td>0.386826</td>\n",
       "      <td>0.273527</td>\n",
       "      <td>-0.149287</td>\n",
       "      <td>0.922939</td>\n",
       "    </tr>\n",
       "    <tr>\n",
       "      <th>theta_11</th>\n",
       "      <td>0.613174</td>\n",
       "      <td>0.273527</td>\n",
       "      <td>0.077061</td>\n",
       "      <td>1.149287</td>\n",
       "    </tr>\n",
       "  </tbody>\n",
       "</table>\n",
       "</div>"
      ],
      "text/plain": [
       "          Shapley effects  std. errors    CI_min    CI_max\n",
       "RC               0.386826     0.273527 -0.149287  0.922939\n",
       "theta_11         0.613174     0.273527  0.077061  1.149287"
      ]
     },
     "execution_count": 27,
     "metadata": {},
     "output_type": "execute_result"
    }
   ],
   "source": [
    "exact_shapley"
   ]
  },
  {
   "cell_type": "markdown",
   "metadata": {},
   "source": [
    "#### Run the following code over night "
   ]
  },
  {
   "cell_type": "code",
   "execution_count": 54,
   "metadata": {},
   "outputs": [
    {
     "name": "stdout",
     "output_type": "stream",
     "text": [
      " 88000 model evaluations \n",
      " approx.  9.777777777777779 hours \n",
      " approx. 586.6666666666667 minutes\n"
     ]
    }
   ],
   "source": [
    "n_output = 20**3\n",
    "n_outer = 20**2\n",
    "n_inner = 10**2\n",
    "# Time in s for 100 model evaluations.\n",
    "time_model_eval = 40\n",
    "approx_comp_time(time_model_eval, method, n_inputs, n_perms, n_output, n_outer, n_inner)"
   ]
  },
  {
   "cell_type": "code",
   "execution_count": null,
   "metadata": {},
   "outputs": [],
   "source": [
    "exact_shapley = get_shapley(method, rust_model, x_all, x_cond, n_perms, n_inputs, n_output, n_outer, n_inner)\n",
    "exact_shapley.rename(index={'X1': '$RC$', 'X2': '$\\theta_{11}$'}, inplace=True)"
   ]
  },
  {
   "cell_type": "markdown",
   "metadata": {},
   "source": [
    "#### Run for $RC_{fixed}$ close to true $RC$"
   ]
  },
  {
   "cell_type": "code",
   "execution_count": 12,
   "metadata": {},
   "outputs": [],
   "source": [
    "# Need demand at certain value of RC only.  Note RC is scaled by 1e-03.\n",
    "demand_dict = {\n",
    "    \"RC_lower_bound\": 10.0,\n",
    "    \"RC_upper_bound\": 10.0,\n",
    "    \"demand_evaluations\": 1,\n",
    "    \"tolerance\": 1e-10,\n",
    "    \"num_periods\": num_periods,\n",
    "    \"num_buses\": num_buses,\n",
    "}"
   ]
  },
  {
   "cell_type": "code",
   "execution_count": 13,
   "metadata": {},
   "outputs": [
    {
     "name": "stdout",
     "output_type": "stream",
     "text": [
      "Wall time: 5min 10s\n"
     ]
    }
   ],
   "source": [
    "%%time\n",
    "n_output = 10**3\n",
    "n_outer = 15\n",
    "n_inner = 3\n",
    "exact_shapley = get_shapley(method, rust_model, x_all, x_cond, n_perms, n_inputs, n_output, n_outer, n_inner)\n",
    "exact_shapley.rename(index={'X1': '$RC$', 'X2': '$\\theta_{11}$'}, inplace=True)"
   ]
  },
  {
   "cell_type": "code",
   "execution_count": 14,
   "metadata": {},
   "outputs": [
    {
     "data": {
      "text/html": [
       "<div>\n",
       "<style scoped>\n",
       "    .dataframe tbody tr th:only-of-type {\n",
       "        vertical-align: middle;\n",
       "    }\n",
       "\n",
       "    .dataframe tbody tr th {\n",
       "        vertical-align: top;\n",
       "    }\n",
       "\n",
       "    .dataframe thead th {\n",
       "        text-align: right;\n",
       "    }\n",
       "</style>\n",
       "<table border=\"1\" class=\"dataframe\">\n",
       "  <thead>\n",
       "    <tr style=\"text-align: right;\">\n",
       "      <th></th>\n",
       "      <th>Shapley effects</th>\n",
       "      <th>std. errors</th>\n",
       "      <th>CI_min</th>\n",
       "      <th>CI_max</th>\n",
       "    </tr>\n",
       "  </thead>\n",
       "  <tbody>\n",
       "    <tr>\n",
       "      <th>RC</th>\n",
       "      <td>0.425773</td>\n",
       "      <td>0.301067</td>\n",
       "      <td>-0.164318</td>\n",
       "      <td>1.015864</td>\n",
       "    </tr>\n",
       "    <tr>\n",
       "      <th>theta_11</th>\n",
       "      <td>0.574227</td>\n",
       "      <td>0.301067</td>\n",
       "      <td>-0.015864</td>\n",
       "      <td>1.164318</td>\n",
       "    </tr>\n",
       "  </tbody>\n",
       "</table>\n",
       "</div>"
      ],
      "text/plain": [
       "          Shapley effects  std. errors    CI_min    CI_max\n",
       "RC               0.425773     0.301067 -0.164318  1.015864\n",
       "theta_11         0.574227     0.301067 -0.015864  1.164318"
      ]
     },
     "execution_count": 14,
     "metadata": {},
     "output_type": "execute_result"
    }
   ],
   "source": [
    "exact_shapley"
   ]
  },
  {
   "cell_type": "markdown",
   "metadata": {},
   "source": [
    "## Uncertainty Propagation\n",
    "Inspection of the distribution of the implied demand at certain $RC_{fixed}$."
   ]
  },
  {
   "cell_type": "code",
   "execution_count": 7,
   "metadata": {},
   "outputs": [],
   "source": [
    "# Sample data.\n",
    "n_sim_demand = 1000\n",
    "input_variables = cp.MvNormal(mean, cov).sample(n_sim_demand).T"
   ]
  },
  {
   "cell_type": "code",
   "execution_count": 8,
   "metadata": {},
   "outputs": [],
   "source": [
    "# Need demand at certain value of RC only.  Note RC is scaled by 1e-03.\n",
    "demand_dict = {\n",
    "    \"RC_lower_bound\": 11.5,\n",
    "    \"RC_upper_bound\": 11.5,\n",
    "    \"demand_evaluations\": 1,\n",
    "    \"tolerance\": 1e-10,\n",
    "    \"num_periods\": num_periods,\n",
    "    \"num_buses\": num_buses,\n",
    "}"
   ]
  },
  {
   "cell_type": "code",
   "execution_count": 9,
   "metadata": {},
   "outputs": [],
   "source": [
    "get_demand_partial = partial(get_demand, init_dict=init_dict_estimation, demand_dict=demand_dict)\n",
    "def get_demand_mapping(x):\n",
    "    return get_demand_partial(demand_params=x).iloc[0]['demand']"
   ]
  },
  {
   "cell_type": "code",
   "execution_count": 10,
   "metadata": {},
   "outputs": [],
   "source": [
    "demand_inputs = np.zeros((n_sim_demand, 5))\n",
    "demand_inputs[:, :3] = np.array([0.39189182, 0.59529371, 0.01281447])\n",
    "demand_inputs[:, 3:] = input_variables[:, :]"
   ]
  },
  {
   "cell_type": "code",
   "execution_count": 11,
   "metadata": {},
   "outputs": [
    {
     "name": "stdout",
     "output_type": "stream",
     "text": [
      "Wall time: 6min 39s\n"
     ]
    }
   ],
   "source": [
    "%%time\n",
    "implied_demand = np.array(list(map(get_demand_mapping, demand_inputs)))"
   ]
  },
  {
   "cell_type": "code",
   "execution_count": 12,
   "metadata": {},
   "outputs": [],
   "source": [
    "true_demand_params = np.concatenate((trans_probs, params))\n",
    "true_implied_demand = get_demand(init_dict_estimation, demand_dict, true_demand_params).iloc[0]['demand']"
   ]
  },
  {
   "cell_type": "code",
   "execution_count": 13,
   "metadata": {},
   "outputs": [
    {
     "data": {
      "text/plain": [
       "59.08876063087759"
      ]
     },
     "execution_count": 13,
     "metadata": {},
     "output_type": "execute_result"
    }
   ],
   "source": [
    "true_implied_demand"
   ]
  },
  {
   "cell_type": "code",
   "execution_count": 14,
   "metadata": {},
   "outputs": [],
   "source": [
    "mean_implied_demand = np.mean(implied_demand)"
   ]
  },
  {
   "cell_type": "code",
   "execution_count": 16,
   "metadata": {},
   "outputs": [
    {
     "name": "stderr",
     "output_type": "stream",
     "text": [
      "C:\\Users\\admin\\anaconda3\\envs\\thesis-benedikt\\lib\\site-packages\\seaborn\\distributions.py:2551: FutureWarning: `distplot` is a deprecated function and will be removed in a future version. Please adapt your code to use either `displot` (a figure-level function with similar flexibility) or `histplot` (an axes-level function for histograms).\n",
      "  warnings.warn(msg, FutureWarning)\n"
     ]
    },
    {
     "data": {
      "text/plain": [
       "[Text(0, 0.0, ''),\n",
       " Text(0, 0.01, ''),\n",
       " Text(0, 0.02, ''),\n",
       " Text(0, 0.03, ''),\n",
       " Text(0, 0.04, ''),\n",
       " Text(0, 0.05, ''),\n",
       " Text(0, 0.06, ''),\n",
       " Text(0, 0.07, ''),\n",
       " Text(0, 0.08, '')]"
      ]
     },
     "execution_count": 16,
     "metadata": {},
     "output_type": "execute_result"
    },
    {
     "data": {
      "image/png": "[encoded data removed]",
      "text/plain": [
       "<Figure size 432x288 with 1 Axes>"
      ]
     },
     "metadata": {
      "needs_background": "light"
     },
     "output_type": "display_data"
    }
   ],
   "source": [
    "fig, ax = plt.subplots()\n",
    "\n",
    "sns.distplot(implied_demand)\n",
    "\n",
    "ax.set_xlabel(r\"$Y$\")\n",
    "ax.set_ylabel(r\"$f_Y$\")\n",
    "\n",
    "ax.axvline(x=true_implied_demand, ymin=0, ymax=1, color='red')\n",
    "\n",
    "ax.axvline(x=mean_implied_demand, ymin=0, ymax=1, color='grey')\n",
    "\n",
    "ax.xaxis.set_major_formatter(mpl.ticker.StrMethodFormatter(\"{x:,.0f}\"))\n",
    "ax.axes.get_yaxis().set_ticklabels([])"
   ]
  },
  {
   "cell_type": "code",
   "execution_count": 19,
   "metadata": {},
   "outputs": [],
   "source": [
    "# Save to png.\n",
    "fig.savefig(fname=os.path.join('figures', 'uncertainty_propagation'), dpi=1000)"
   ]
  },
  {
   "cell_type": "code",
   "execution_count": null,
   "metadata": {},
   "outputs": [],
   "source": []
  }
 ],
 "metadata": {
  "kernelspec": {
   "display_name": "Python 3",
   "language": "python",
   "name": "python3"
  },
  "language_info": {
   "codemirror_mode": {
    "name": "ipython",
    "version": 3
   },
   "file_extension": ".py",
   "mimetype": "text/x-python",
   "name": "python",
   "nbconvert_exporter": "python",
   "pygments_lexer": "ipython3",
   "version": "3.7.0"
  }
 },
 "nbformat": 4,
 "nbformat_minor": 4
}
