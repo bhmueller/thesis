{
 "cells": [
  {
   "cell_type": "markdown",
   "metadata": {},
   "source": [
    "## Shapley effects for RC and $\\theta_{11}$"
   ]
  },
  {
   "cell_type": "code",
   "execution_count": 17,
   "metadata": {},
   "outputs": [],
   "source": [
    "import os\n",
    "import numpy as np\n",
    "import matplotlib.pyplot as plt\n",
    "from ruspy.estimation.estimation import estimate\n",
    "from ruspy.model_code.demand_function import get_demand \n",
    "from python.econsa_shapley import get_shapley\n",
    "from python.econsa_shapley import _r_condmvn\n",
    "from python.sampling import get_cov_and_mean_rc_theta_32\n",
    "#from python.conditional_sampling import x_all\n",
    "#from python.conditional_sampling import x_cond"
   ]
  },
  {
   "cell_type": "code",
   "execution_count": 3,
   "metadata": {},
   "outputs": [],
   "source": [
    "# Set simulating variables.\n",
    "disc_fac = 0.9999\n",
    "num_buses = 50\n",
    "num_periods = 120\n",
    "gridsize = 1000\n",
    "# We use the cost parameters and transition probabilities from the replication.\n",
    "params = np.array([10.07780762, 2.29417622])\n",
    "trans_probs = np.array([0.39189182, 0.59529371, 0.01281447])\n",
    "scale = 1e-3\n",
    "\n",
    "init_dict_simulation = {\n",
    "    \"simulation\": {\n",
    "        \"discount_factor\": disc_fac,\n",
    "        \"periods\": num_periods,\n",
    "        \"seed\": 123,\n",
    "        \"buses\": num_buses,\n",
    "    },\n",
    "    \"plot\": {\"gridsize\": gridsize},\n",
    "}"
   ]
  },
  {
   "cell_type": "code",
   "execution_count": 5,
   "metadata": {},
   "outputs": [],
   "source": [
    "# Calcualte objects necessary for the simulation process. See documentation for details.\n",
    "num_states = 200\n",
    "costs = calc_obs_costs(num_states, lin_cost, params, scale)\n",
    "\n",
    "trans_mat = create_transition_matrix(num_states, trans_probs)\n",
    "ev = calc_fixp(trans_mat, costs, disc_fac)[0]"
   ]
  },
  {
   "cell_type": "code",
   "execution_count": 6,
   "metadata": {},
   "outputs": [],
   "source": [
    "# Use one init_dict for get_demand() and estimate().\n",
    "init_dict_estimation = {\n",
    "    'model_specifications': {\n",
    "        'discount_factor': disc_fac,\n",
    "        'number_states': num_states,\n",
    "        'maint_cost_func': 'linear',\n",
    "        'cost_scale': 1e-3\n",
    "    },\n",
    "    'optimizer': {\n",
    "        'approach': 'NFXP',\n",
    "        'algorithm': 'scipy_L-BFGS-B',\n",
    "        'gradient': 'Yes'\n",
    "    },\n",
    "    \n",
    "}"
   ]
  },
  {
   "cell_type": "code",
   "execution_count": 8,
   "metadata": {},
   "outputs": [],
   "source": [
    "num_sim = 200\n",
    "cov, mean = get_cov_and_mean_rc_theta_32(num_sim,\n",
    "                                         ev, \n",
    "                                         costs, \n",
    "                                         trans_mat, \n",
    "                                         init_dict_simulation, \n",
    "                                         init_dict_estimation,\n",
    "                                        )\n",
    "np.save(os.path.join('data', 'cov_rc_theta_11'), cov)\n",
    "np.save(os.path.join('data', 'mean_rc_theta_11'), mean)"
   ]
  },
  {
   "cell_type": "code",
   "execution_count": 80,
   "metadata": {},
   "outputs": [],
   "source": [
    "cov = np.load(os.path.join('data', 'cov_rc_theta_11.npy'))\n",
    "mean = np.load(os.path.join('data', 'mean_rc_theta_11.npy'))"
   ]
  },
  {
   "cell_type": "markdown",
   "metadata": {},
   "source": [
    "Define functions `rust_model()`, and function arguments."
   ]
  },
  {
   "cell_type": "code",
   "execution_count": 75,
   "metadata": {},
   "outputs": [],
   "source": [
    "def x_all(n):\n",
    "    distribution = cp.MvNormal(mean, cov)\n",
    "    return distribution.sample(n)\n",
    "\n",
    "def x_cond(n, subset_j, subsetj_conditional, xjc):\n",
    "    if subsetj_conditional is None:\n",
    "        cov_int = np.array(cov)\n",
    "        cov_int = cov_int.take(subset_j, axis=1)\n",
    "        cov_int = cov_int[subset_j]\n",
    "        distribution = cp.MvNormal(mean[subset_j], cov_int)\n",
    "        return distribution.sample(n)\n",
    "    else:\n",
    "        return _r_condmvn(\n",
    "            n,\n",
    "            mean=mean,\n",
    "            cov=cov,\n",
    "            dependent_ind=subset_j,\n",
    "            given_ind=subsetj_conditional,\n",
    "            x_given=xjc,\n",
    "        )"
   ]
  },
  {
   "cell_type": "code",
   "execution_count": 95,
   "metadata": {},
   "outputs": [],
   "source": [
    "def rust_model(x):\n",
    "    if method == 'exact':\n",
    "        n_evaluations = n_output + np.math.factorial(n_inputs) * (n_inputs -1) * n_outer * n_inner\n",
    "    elif method == 'random':\n",
    "        n_evaluations = n_output + n_perms * (n_inputs -1) * n_outer * n_inner\n",
    "    demand_inputs = np.zeros((n_evaluations, 5))\n",
    "    demand_inputs[:, :3] = np.array([0.39189182, 0.59529371, 0.01281447])\n",
    "    demand_inputs[:, 3:] = x[:, :]\n",
    "    \n",
    "    demand_output = np.zeros((n_evaluations, 1))\n",
    "    \n",
    "    for sample in np.arange(n_evaluations):\n",
    "        demand_params = demand_inputs[sample, :]\n",
    "        demand_output[sample] = get_demand(init_dict_estimation, demand_dict, demand_params).iloc[0][0]\n",
    "        \n",
    "    return demand_output"
   ]
  },
  {
   "cell_type": "code",
   "execution_count": 98,
   "metadata": {},
   "outputs": [],
   "source": [
    "# Need demand at certain value of RC only.\n",
    "demand_dict = {\n",
    "    \"RC_lower_bound\": 11.5,\n",
    "    \"RC_upper_bound\": 11.5,\n",
    "    \"demand_evaluations\": 1,\n",
    "    \"tolerance\": 1e-10,\n",
    "    \"num_periods\": num_periods,\n",
    "    \"num_buses\": num_buses,\n",
    "}"
   ]
  },
  {
   "cell_type": "code",
   "execution_count": 96,
   "metadata": {},
   "outputs": [],
   "source": [
    "n_inputs = 2\n",
    "method = 'exact'\n",
    "np.random.seed(1234)\n",
    "\n",
    "if method == 'exact':\n",
    "    n_perms = None\n",
    "elif method == 'random':\n",
    "    n_perms = 10\n",
    "n_output = 10**3\n",
    "n_outer = 15\n",
    "n_inner = 3"
   ]
  },
  {
   "cell_type": "code",
   "execution_count": 99,
   "metadata": {},
   "outputs": [
    {
     "name": "stdout",
     "output_type": "stream",
     "text": [
      "Wall time: 6min 47s\n"
     ]
    }
   ],
   "source": [
    "%%time\n",
    "exact_shapley = get_shapley(method, rust_model, x_all, x_cond, n_perms, n_inputs, n_output, n_outer, n_inner)\n",
    "exact_shapley.rename(index={'X1': 'RC', 'X2': 'theta_11'}, inplace=True)"
   ]
  },
  {
   "cell_type": "code",
   "execution_count": 106,
   "metadata": {},
   "outputs": [
    {
     "data": {
      "text/html": [
       "<div>\n",
       "<style scoped>\n",
       "    .dataframe tbody tr th:only-of-type {\n",
       "        vertical-align: middle;\n",
       "    }\n",
       "\n",
       "    .dataframe tbody tr th {\n",
       "        vertical-align: top;\n",
       "    }\n",
       "\n",
       "    .dataframe thead th {\n",
       "        text-align: right;\n",
       "    }\n",
       "</style>\n",
       "<table border=\"1\" class=\"dataframe\">\n",
       "  <thead>\n",
       "    <tr style=\"text-align: right;\">\n",
       "      <th></th>\n",
       "      <th>Shapley effects</th>\n",
       "      <th>std. errors</th>\n",
       "      <th>CI_min</th>\n",
       "      <th>CI_max</th>\n",
       "    </tr>\n",
       "  </thead>\n",
       "  <tbody>\n",
       "    <tr>\n",
       "      <th>RC</th>\n",
       "      <td>0.449098</td>\n",
       "      <td>0.31756</td>\n",
       "      <td>-0.173320</td>\n",
       "      <td>1.071515</td>\n",
       "    </tr>\n",
       "    <tr>\n",
       "      <th>theta_11</th>\n",
       "      <td>0.550902</td>\n",
       "      <td>0.31756</td>\n",
       "      <td>-0.071515</td>\n",
       "      <td>1.173320</td>\n",
       "    </tr>\n",
       "  </tbody>\n",
       "</table>\n",
       "</div>"
      ],
      "text/plain": [
       "          Shapley effects  std. errors    CI_min    CI_max\n",
       "RC               0.449098      0.31756 -0.173320  1.071515\n",
       "theta_11         0.550902      0.31756 -0.071515  1.173320"
      ]
     },
     "execution_count": 106,
     "metadata": {},
     "output_type": "execute_result"
    }
   ],
   "source": [
    "exact_shapley"
   ]
  },
  {
   "cell_type": "code",
   "execution_count": null,
   "metadata": {},
   "outputs": [],
   "source": []
  }
 ],
 "metadata": {
  "kernelspec": {
   "display_name": "Python 3",
   "language": "python",
   "name": "python3"
  },
  "language_info": {
   "codemirror_mode": {
    "name": "ipython",
    "version": 3
   },
   "file_extension": ".py",
   "mimetype": "text/x-python",
   "name": "python",
   "nbconvert_exporter": "python",
   "pygments_lexer": "ipython3",
   "version": "3.7.0"
  }
 },
 "nbformat": 4,
 "nbformat_minor": 4
}
