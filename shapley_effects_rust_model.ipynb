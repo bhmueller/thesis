{
 "cells": [
  {
   "cell_type": "markdown",
   "metadata": {},
   "source": [
    "# Shapley effects for the Rust Model"
   ]
  },
  {
   "cell_type": "code",
   "execution_count": 1,
   "metadata": {},
   "outputs": [],
   "source": [
    "# Import statements as in simulation_convergence.ipynb.\n",
    "import matplotlib.pyplot as plt\n",
    "#import yaml\n",
    "import numpy as np\n",
    "from numpy.testing import assert_allclose\n",
    "from ruspy.simulation.simulation import simulate\n",
    "from ruspy.model_code.fix_point_alg import calc_fixp\n",
    "from ruspy.model_code.cost_functions import lin_cost\n",
    "from ruspy.model_code.cost_functions import calc_obs_costs\n",
    "from ruspy.estimation.estimation_transitions import create_transition_matrix\n",
    "\n",
    "# My imports.\n",
    "from ruspy.estimation.estimation import estimate\n",
    "from ruspy.model_code.demand_function import get_demand \n",
    "from python.econsa_shapley import get_shapley\n",
    "from python.econsa_shapley import _r_condmvn"
   ]
  },
  {
   "cell_type": "markdown",
   "metadata": {},
   "source": [
    "### Get Shapley effects for the Rust model\n",
    " 1. Calculate variance-covariance matrix and mean vector for input variables with and without $\\theta_{32}$.\n",
    " 2. Define functions `x_all()`, `x_cond()` and `rust_model()`, and function arguments.\n",
    " 3. Run `get_shapley()`."
   ]
  },
  {
   "cell_type": "code",
   "execution_count": 2,
   "metadata": {},
   "outputs": [],
   "source": [
    "# Set simulating variables.\n",
    "disc_fac = 0.9999\n",
    "num_buses = 50\n",
    "num_periods = 120\n",
    "gridsize = 1000\n",
    "# We use the cost parameters and transition probabilities from the replication.\n",
    "params = np.array([10.07780762, 2.29417622])\n",
    "trans_probs = np.array([0.39189182, 0.59529371, 0.01281447])\n",
    "scale = 1e-3\n",
    "\n",
    "init_dict_simulation = {\n",
    "    \"simulation\": {\n",
    "        \"discount_factor\": disc_fac,\n",
    "        \"periods\": num_periods,\n",
    "        \"seed\": 123,\n",
    "        \"buses\": num_buses,\n",
    "    },\n",
    "    \"plot\": {\"gridsize\": gridsize},\n",
    "}"
   ]
  },
  {
   "cell_type": "code",
   "execution_count": 3,
   "metadata": {},
   "outputs": [],
   "source": [
    "# Calucalte objects necessary for the simulation process. See documentation for details.\n",
    "num_states = 200\n",
    "costs = calc_obs_costs(num_states, lin_cost, params, scale)\n",
    "\n",
    "trans_mat = create_transition_matrix(num_states, trans_probs)\n",
    "ev = calc_fixp(trans_mat, costs, disc_fac)[0]"
   ]
  },
  {
   "cell_type": "code",
   "execution_count": 4,
   "metadata": {},
   "outputs": [],
   "source": [
    "# Use one init_dict for get_demand() and estimate().\n",
    "init_dict_estimation = {\n",
    "    'model_specifications': {\n",
    "        'discount_factor': disc_fac,\n",
    "        'number_states': num_states,\n",
    "        'maint_cost_func': 'linear',\n",
    "        'cost_scale': 1e-3\n",
    "    },\n",
    "    'optimizer': {\n",
    "        'approach': 'NFXP',\n",
    "        'algorithm': 'scipy_L-BFGS-B',\n",
    "        'gradient': 'Yes'\n",
    "    },\n",
    "    \n",
    "}"
   ]
  },
  {
   "cell_type": "code",
   "execution_count": 5,
   "metadata": {},
   "outputs": [],
   "source": [
    "# Function for simulating variance-covariance matrices and mean vectors.\n",
    "def get_cov_and_mean(num_sim,\n",
    "                     ev, \n",
    "                     costs, \n",
    "                     trans_mat, \n",
    "                     init_dict_simulation, \n",
    "                     init_dict_estimation\n",
    "                    ):\n",
    "    '''\n",
    "    Calculate variance-covariance matrix (cov) and mean vector (mean) of simulated data.\n",
    "    \n",
    "    Arguments\n",
    "    ----------------\n",
    "    num_sim: int\n",
    "        Number of simulations for the data from which cov and mean are calculated.\n",
    "    num_input_variables: int\n",
    "        Either 4 or 5. Calculate cov and mean for all five or only four variables.\n",
    "        \n",
    "    Returns\n",
    "    ----------------\n",
    "    cov: nd.array\n",
    "        Variance-covariance matrix of simulated data with shape (num_sim, num_input_variables).\n",
    "    mean: n.array\n",
    "        Mean vector of simulated data with shape (, num_input_variables).\n",
    "    '''\n",
    "    \n",
    "    parameter_estimates_4_inputs = np.zeros((num_sim, 4))\n",
    "    parameter_estimates_5_inputs = np.zeros((num_sim, 5))\n",
    "    \n",
    "    for i in np.arange(num_sim):\n",
    "        \n",
    "        init_dict_simulation['simulation']['seed'] = +i\n",
    "        \n",
    "        df = simulate(init_dict_simulation[\"simulation\"], ev, costs, trans_mat)\n",
    "        data = df[['state', 'decision', 'usage']].copy()\n",
    "        \n",
    "        result_transitions_nfxp, result_fixp_nfxp = estimate(init_dict_estimation, data)\n",
    "            \n",
    "        # Record only two of three transition probabilities i.o.t. avoid singularity of the covariance matrix.\n",
    "        parameter_estimates_4_inputs[i, :] = np.concatenate((result_transitions_nfxp['x'][:2], result_fixp_nfxp['x']))\n",
    "        # All five inputs.\n",
    "        parameter_estimates_5_inputs[i, :] = np.concatenate((result_transitions_nfxp['x'], result_fixp_nfxp['x']))\n",
    "        \n",
    "        assert_allclose(parameter_estimates_5_inputs[i, :2].sum(), 1.0, rtol=0.02)\n",
    "            \n",
    "    cov_4_inputs = np.cov(parameter_estimates_4_inputs.T)\n",
    "    mean_4_inputs = np.mean(parameter_estimates_4_inputs, axis=0)\n",
    "    \n",
    "    cov_5_inputs = np.cov(parameter_estimates_5_inputs.T)\n",
    "    mean_5_inputs = np.mean(parameter_estimates_5_inputs, axis=0)\n",
    "            \n",
    "    return cov_4_inputs, mean_4_inputs, cov_5_inputs, mean_5_inputs"
   ]
  },
  {
   "cell_type": "markdown",
   "metadata": {},
   "source": [
    "#### 1. Calculate variance-covariance matrices and mean vectors\n",
    "Due to singularity issues of the covariance matrix if all transition probabilities are simulated in the same simulation process, we need to simulate the two transition probabilities first ($\\theta_{30}$, $\\theta_{31}$) and calculate the third one from the other two."
   ]
  },
  {
   "cell_type": "code",
   "execution_count": 6,
   "metadata": {},
   "outputs": [],
   "source": [
    "# Define number of simulations.\n",
    "num_sim = 100"
   ]
  },
  {
   "cell_type": "code",
   "execution_count": 7,
   "metadata": {},
   "outputs": [
    {
     "name": "stdout",
     "output_type": "stream",
     "text": [
      "Wall time: 5min 16s\n"
     ]
    }
   ],
   "source": [
    "%%time\n",
    "\n",
    "cov_4_inputs, mean_4_inputs, cov_5_inputs, mean_5_inputs = get_cov_and_mean(num_sim, \n",
    "                                                                            ev, \n",
    "                                                                            costs, \n",
    "                                                                            trans_mat, \n",
    "                                                                            init_dict_simulation, \n",
    "                                                                            init_dict_estimation\n",
    "                                                                           )"
   ]
  },
  {
   "cell_type": "code",
   "execution_count": 8,
   "metadata": {},
   "outputs": [
    {
     "data": {
      "text/plain": [
       "array([[ 3.83524018e-05, -3.84560831e-05,  3.96808147e-04,\n",
       "         1.03823854e-04],\n",
       "       [-3.84560831e-05,  4.11072503e-05, -1.54448662e-04,\n",
       "        -1.20611625e-05],\n",
       "       [ 3.96808147e-04, -1.54448662e-04,  2.20057498e+00,\n",
       "         9.20980218e-01],\n",
       "       [ 1.03823854e-04, -1.20611625e-05,  9.20980218e-01,\n",
       "         4.30902457e-01]])"
      ]
     },
     "execution_count": 8,
     "metadata": {},
     "output_type": "execute_result"
    }
   ],
   "source": [
    "cov_4_inputs"
   ]
  },
  {
   "cell_type": "code",
   "execution_count": 9,
   "metadata": {},
   "outputs": [
    {
     "data": {
      "text/plain": [
       "array([ 0.39149667,  0.59529333, 10.64765122,  2.51636884])"
      ]
     },
     "execution_count": 9,
     "metadata": {},
     "output_type": "execute_result"
    }
   ],
   "source": [
    "mean_4_inputs"
   ]
  },
  {
   "cell_type": "code",
   "execution_count": 10,
   "metadata": {},
   "outputs": [
    {
     "data": {
      "text/plain": [
       "array([ 0.39149667,  0.59529333,  0.01321   , 10.64765122,  2.51636884])"
      ]
     },
     "execution_count": 10,
     "metadata": {},
     "output_type": "execute_result"
    }
   ],
   "source": [
    "mean_5_inputs"
   ]
  },
  {
   "cell_type": "markdown",
   "metadata": {},
   "source": [
    "#### 2. Define functions `x_all()`, `x_cond()` and `rust_model()`, and function arguments.\n",
    "The idea is to include all five input variables, i.e. $\\theta_{32}$ as well.\n",
    " - `x_all()` will need another specification working with the 4x4 covariance matrix only ($\\theta_{32}$ is calculated by $\\theta_{30}$ and $\\theta_{31}$).\n",
    " - `x_cond()` will need to change. If none or all indices of the transition probabilities are included in sj or sjc, one need to perform sampling differently. In all other cases sampling will work with a 5x5 covariance matrix. \n",
    " - `rust_model()` will be simplified since it now takes five inputs. No need of calculating $\\theta_{32}$ within the function as this is done in the sampling functions."
   ]
  },
  {
   "cell_type": "code",
   "execution_count": null,
   "metadata": {},
   "outputs": [],
   "source": [
    "def x_all(n):\n",
    "    samples = np.zeros((5, n))\n",
    "    parameter_samples = cp.MvNormal(mean_4, cov_4).sample(n)\n",
    "    samples[:2, :] = parameter_samples[:2, :]\n",
    "    samples[2, :] = 1 - np.sum(parameter_samples[:2, :])  # better sample from dist. via cov_int.take as below.\n",
    "    samples[3:, :] = parameter_samples[2:, :]\n",
    "    return samples"
   ]
  },
  {
   "cell_type": "code",
   "execution_count": null,
   "metadata": {},
   "outputs": [],
   "source": [
    "def x_cond(n, subset_j, subsetj_conditional, xjc):\n",
    "    if subsetj_conditional is None:\n",
    "        \n",
    "        if all(x in subset_j for x in [0, 1, 2]) == True:\n",
    "            \n",
    "            subset_j_new = subset_j.copy()\n",
    "            \n",
    "            # Drop value 2 from subset_j.\n",
    "            subset_j_new = subset_j_new[subset_j_new != 2]\n",
    "            \n",
    "            cov_int = np.array(cov_5_inputs)\n",
    "            cov_int = cov_int.take(subset_j_new, axis = 1)\n",
    "            cov_int = cov_int[subset_j_new]\n",
    "            distribution = cp.MvNormal(mean[subset_j_new], cov_int)\n",
    "            \n",
    "            # Sample of shape (len(subset_j_new), n).\n",
    "            auxiliary_sample = distribution.sample(n)\n",
    "            \n",
    "            # Initialize array for storing values for the returned sample.\n",
    "            out_sample = np.zeros((len(subset_j), n))\n",
    "            \n",
    "            # Get index where subset_j == 2.\n",
    "            index_theta_32 = np.where(subset_j==2)[0][0]\n",
    "            \n",
    "            # Check whether index where subset_j == 2 is first index in subset_j.\n",
    "            if index_theta_32 > 0:\n",
    "                out_sample[:index_theta_32, :] = auxiliary_sample[:index_theta_32, :]\n",
    "            else:\n",
    "                pass\n",
    "            #parameter_sample[np.where(subset_j==2), :] = 1 - np.sum(\n",
    "            #    (auxiliary_sample[np.where(subset_j==1), :], auxiliary_sample[np.where(subset_j==0), :])\n",
    "            #    )\n",
    "            \n",
    "            # Sample values for theta_32. Cannot do this like this if correlation \n",
    "            # coefficients w.r.t. theta_32 are not close to zero.\n",
    "            cov_int_theta_32 = np.array(cov_5_inputs).take(2, axis = 1)[2]\n",
    "            \n",
    "            distribution_theta_32 = cp.MvNormal(mean[2], cov_int_theta_32)\n",
    "            \n",
    "            out_sample[index_theta_32, :] = distribution_theta_32.sample(n)\n",
    "            \n",
    "            # Check whether index where subset_j == 2 is the last index in subset_j.\n",
    "            if index_theta_32 < (len(subset_j) - 1):\n",
    "                out_sample[(index_theta_32 + 1):, :] = auxiliary_sample[np.where(subset_j_new==2)[0][0]:, :]\n",
    "            else:\n",
    "                pass\n",
    "            \n",
    "            return parameter_sample\n",
    "            \n",
    "        else:\n",
    "            \n",
    "            cov_int = np.array(cov)\n",
    "            cov_int = cov_int.take(subset_j, axis = 1)\n",
    "            cov_int = cov_int[subset_j]\n",
    "            distribution = cp.MvNormal(mean[subset_j], cov_int)\n",
    "            \n",
    "            return distribution.sample(n)\n",
    "    \n",
    "    else:\n",
    "        \n",
    "        if all(x in subsetj_conditional for x in [0, 1, 2]) == True:\n",
    "            \n",
    "            \n",
    "            \n",
    "        else:\n",
    "            return _r_condmvn(\n",
    "                n, mean = mean_5_inputs, cov = cov_5_inputs, dependent_ind = subset_j, given_ind = subsetj_conditional, x_given = xjc\n",
    "            )"
   ]
  },
  {
   "cell_type": "code",
   "execution_count": null,
   "metadata": {},
   "outputs": [],
   "source": []
  },
  {
   "cell_type": "code",
   "execution_count": 23,
   "metadata": {},
   "outputs": [],
   "source": [
    "array_ones = np.ones(5)"
   ]
  },
  {
   "cell_type": "code",
   "execution_count": 43,
   "metadata": {},
   "outputs": [
    {
     "data": {
      "text/plain": [
       "array([1., 1., 1., 1.])"
      ]
     },
     "execution_count": 43,
     "metadata": {},
     "output_type": "execute_result"
    }
   ],
   "source": [
    "array_ones[:(np.where(subset_j==4)[0][0])]"
   ]
  },
  {
   "cell_type": "code",
   "execution_count": 47,
   "metadata": {},
   "outputs": [
    {
     "data": {
      "text/plain": [
       "4"
      ]
     },
     "execution_count": 47,
     "metadata": {},
     "output_type": "execute_result"
    }
   ],
   "source": [
    "len(subset_j_new)-1"
   ]
  },
  {
   "cell_type": "code",
   "execution_count": 45,
   "metadata": {},
   "outputs": [
    {
     "data": {
      "text/plain": [
       "(array([0], dtype=int64),)"
      ]
     },
     "execution_count": 45,
     "metadata": {},
     "output_type": "execute_result"
    }
   ],
   "source": [
    "np.where(subset_j[-1])"
   ]
  },
  {
   "cell_type": "code",
   "execution_count": 16,
   "metadata": {},
   "outputs": [],
   "source": [
    "subset_j = np.array([2, 0, 3, 1, 4])\n",
    "subset_j_new = subset_j.copy()"
   ]
  },
  {
   "cell_type": "code",
   "execution_count": 58,
   "metadata": {},
   "outputs": [
    {
     "data": {
      "text/plain": [
       "array([2, 0, 3, 1, 4])"
      ]
     },
     "execution_count": 58,
     "metadata": {},
     "output_type": "execute_result"
    }
   ],
   "source": [
    "subset_j_new"
   ]
  },
  {
   "cell_type": "code",
   "execution_count": 17,
   "metadata": {},
   "outputs": [],
   "source": [
    "subset_j_new = subset_j_new[subset_j_new != 2]"
   ]
  },
  {
   "cell_type": "code",
   "execution_count": 18,
   "metadata": {},
   "outputs": [
    {
     "data": {
      "text/plain": [
       "array([0, 3, 1, 4])"
      ]
     },
     "execution_count": 18,
     "metadata": {},
     "output_type": "execute_result"
    }
   ],
   "source": [
    "subset_j_new"
   ]
  },
  {
   "cell_type": "code",
   "execution_count": 61,
   "metadata": {},
   "outputs": [
    {
     "data": {
      "text/plain": [
       "array([0, 3, 1, 4])"
      ]
     },
     "execution_count": 61,
     "metadata": {},
     "output_type": "execute_result"
    }
   ],
   "source": [
    "subset_j_new"
   ]
  },
  {
   "cell_type": "code",
   "execution_count": 62,
   "metadata": {},
   "outputs": [],
   "source": [
    "#[subset_j_new[i] -1 if subset_j_new[i] > 2 else subset_j_new[i] for i in np.arange(4)]"
   ]
  },
  {
   "cell_type": "code",
   "execution_count": 63,
   "metadata": {},
   "outputs": [],
   "source": [
    "subset_j_new[np.where(subset_j_new==0)] = 1"
   ]
  },
  {
   "cell_type": "code",
   "execution_count": 64,
   "metadata": {},
   "outputs": [
    {
     "data": {
      "text/plain": [
       "array([1, 3, 1, 4])"
      ]
     },
     "execution_count": 64,
     "metadata": {},
     "output_type": "execute_result"
    }
   ],
   "source": [
    "subset_j_new"
   ]
  },
  {
   "cell_type": "code",
   "execution_count": null,
   "metadata": {},
   "outputs": [],
   "source": []
  }
 ],
 "metadata": {
  "kernelspec": {
   "display_name": "Python 3",
   "language": "python",
   "name": "python3"
  },
  "language_info": {
   "codemirror_mode": {
    "name": "ipython",
    "version": 3
   },
   "file_extension": ".py",
   "mimetype": "text/x-python",
   "name": "python",
   "nbconvert_exporter": "python",
   "pygments_lexer": "ipython3",
   "version": "3.7.0"
  }
 },
 "nbformat": 4,
 "nbformat_minor": 4
}
