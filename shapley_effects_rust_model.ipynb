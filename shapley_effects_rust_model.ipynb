{
 "cells": [
  {
   "cell_type": "markdown",
   "metadata": {},
   "source": [
    "# Shapley effects for the Rust Model"
   ]
  },
  {
   "cell_type": "code",
   "execution_count": 1,
   "metadata": {},
   "outputs": [],
   "source": [
    "import matplotlib.pyplot as plt\n",
    "#import yaml\n",
    "import numpy as np\n",
    "from ruspy.simulation.simulation import simulate\n",
    "from ruspy.model_code.fix_point_alg import calc_fixp\n",
    "from ruspy.model_code.cost_functions import lin_cost\n",
    "from ruspy.model_code.cost_functions import calc_obs_costs\n",
    "from ruspy.estimation.estimation_transitions import create_transition_matrix\n",
    "\n",
    "from python.econsa_shapley import get_shapley"
   ]
  },
  {
   "cell_type": "code",
   "execution_count": 2,
   "metadata": {},
   "outputs": [],
   "source": [
    "# Set simulating variables\n",
    "disc_fac = 0.9999\n",
    "num_buses = 100\n",
    "num_periods = 80000\n",
    "gridsize = 1000\n",
    "# We use the cost parameters and transition probabilities from the replication\n",
    "params = np.array([10.07780762, 2.29417622])\n",
    "trans_probs = np.array([0.39189182, 0.59529371, 0.01281447])\n",
    "scale = 1e-3\n",
    "\n",
    "init_dict = {\n",
    "    \"simulation\": {\n",
    "        \"discount_factor\": disc_fac,\n",
    "        \"periods\": num_periods,\n",
    "        \"seed\": 123,\n",
    "        \"buses\": num_buses,\n",
    "    },\n",
    "    \"plot\": {\"gridsize\": gridsize},\n",
    "}"
   ]
  },
  {
   "cell_type": "code",
   "execution_count": null,
   "metadata": {},
   "outputs": [],
   "source": []
  }
 ],
 "metadata": {
  "kernelspec": {
   "display_name": "Python 3",
   "language": "python",
   "name": "python3"
  },
  "language_info": {
   "codemirror_mode": {
    "name": "ipython",
    "version": 3
   },
   "file_extension": ".py",
   "mimetype": "text/x-python",
   "name": "python",
   "nbconvert_exporter": "python",
   "pygments_lexer": "ipython3",
   "version": "3.7.0"
  }
 },
 "nbformat": 4,
 "nbformat_minor": 4
}
