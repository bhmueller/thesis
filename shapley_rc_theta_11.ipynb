{
 "cells": [
  {
   "cell_type": "markdown",
   "metadata": {},
   "source": [
    "## Shapley effects for $RC$ and $\\theta_{11}$"
   ]
  },
  {
   "cell_type": "code",
   "execution_count": 1,
   "metadata": {},
   "outputs": [],
   "source": [
    "import os\n",
    "import profile\n",
    "import pickle\n",
    "import numpy as np\n",
    "import matplotlib.pyplot as plt\n",
    "import matplotlib as mpl\n",
    "import pandas as pd\n",
    "import seaborn as sns\n",
    "import chaospy as cp\n",
    "from functools import partial\n",
    "from joblib import Parallel, delayed\n",
    "from ruspy.estimation.estimation import estimate\n",
    "from ruspy.model_code.fix_point_alg import calc_fixp\n",
    "from ruspy.model_code.cost_functions import lin_cost\n",
    "from ruspy.model_code.cost_functions import calc_obs_costs\n",
    "from ruspy.estimation.estimation_transitions import create_transition_matrix\n",
    "from ruspy.model_code.demand_function import get_demand\n",
    "from econsa.shapley import get_shapley\n",
    "from python.auxiliary import rust_model_shapley\n",
    "from python.auxiliary import x_all_raw\n",
    "from python.auxiliary import x_cond_raw\n",
    "from python.auxiliary import simulate_cov_and_mean_rc_theta_11\n",
    "from python.auxiliary import approx_comp_time\n",
    "from python.auxiliary import compute_confidence_intervals\n",
    "from python.auxiliary import setup_rust_model_001"
   ]
  },
  {
   "cell_type": "code",
   "execution_count": 2,
   "metadata": {},
   "outputs": [],
   "source": [
    "run_simulation_cov_mean = False\n",
    "run_simulation_shapley_effects = False\n",
    "# run_get_shapley = True"
   ]
  },
  {
   "cell_type": "code",
   "execution_count": 3,
   "metadata": {},
   "outputs": [],
   "source": [
    "model_setup = setup_rust_model_001()\n",
    "params = model_setup['params']\n",
    "ev = model_setup['ev']\n",
    "costs = model_setup['costs']\n",
    "trans_probs = model_setup['trans_probs']\n",
    "trans_mat = model_setup['trans_mat']\n",
    "init_dict_simulation = model_setup['init_dict_simulation']\n",
    "init_dict_estimation = model_setup['init_dict_estimation']\n",
    "demand_dict = model_setup['demand_dict']"
   ]
  },
  {
   "cell_type": "code",
   "execution_count": 4,
   "metadata": {},
   "outputs": [
    {
     "output_type": "stream",
     "name": "stdout",
     "text": [
      "Wall time: 38 ms\n"
     ]
    }
   ],
   "source": [
    "%%time\n",
    "# Simulation of 5,000 samples takes 3h 27min. (When using older version of the simulaton function.)\n",
    "# Simulation of 10,000 samples takes 8h 33min 21s. (New version of function.)\n",
    "num_sim = 10 ** 4\n",
    "if run_simulation_cov_mean is True:\n",
    "    cov, mean = simulate_cov_and_mean_rc_theta_11(num_sim, ev, costs, trans_mat, init_dict_simulation, init_dict_estimation)\n",
    "    np.save(os.path.join('data', f'cov_rc_theta_11_{num_sim}'), cov)\n",
    "    np.save(os.path.join('data', f'mean_rc_theta_11_{num_sim}'), mean)\n",
    "elif run_simulation_cov_mean is False:\n",
    "    cov = np.load(os.path.join('data', f'cov_rc_theta_11_{num_sim}.npy'))\n",
    "    mean = np.load(os.path.join('data', f'mean_rc_theta_11_{num_sim}.npy'))\n",
    "else:\n",
    "    raise ValueError"
   ]
  },
  {
   "cell_type": "code",
   "execution_count": 6,
   "metadata": {},
   "outputs": [
    {
     "output_type": "execute_result",
     "data": {
      "text/plain": [
       "                   $RC$  $\\theta_{11}$\n",
       "$RC$           1.604736       0.605903\n",
       "$\\theta_{11}$  0.605903       0.273094"
      ],
      "text/html": "<div>\n<style scoped>\n    .dataframe tbody tr th:only-of-type {\n        vertical-align: middle;\n    }\n\n    .dataframe tbody tr th {\n        vertical-align: top;\n    }\n\n    .dataframe thead th {\n        text-align: right;\n    }\n</style>\n<table border=\"1\" class=\"dataframe\">\n  <thead>\n    <tr style=\"text-align: right;\">\n      <th></th>\n      <th>$RC$</th>\n      <th>$\\theta_{11}$</th>\n    </tr>\n  </thead>\n  <tbody>\n    <tr>\n      <th>$RC$</th>\n      <td>1.604736</td>\n      <td>0.605903</td>\n    </tr>\n    <tr>\n      <th>$\\theta_{11}$</th>\n      <td>0.605903</td>\n      <td>0.273094</td>\n    </tr>\n  </tbody>\n</table>\n</div>"
     },
     "metadata": {},
     "execution_count": 6
    }
   ],
   "source": [
    "cov_nice = pd.DataFrame(data=cov, index= ['$RC$', '$\\theta_{11}$'], columns=['$RC$', '$\\theta_{11}$'])\n",
    "cov_nice"
   ]
  },
  {
   "cell_type": "code",
   "execution_count": 7,
   "metadata": {},
   "outputs": [
    {
     "output_type": "execute_result",
     "data": {
      "text/plain": [
       "               Empirical mean  True mean\n",
       "$RC$                10.388616  10.077808\n",
       "$\\theta_{11}$        2.418207   2.294176"
      ],
      "text/html": "<div>\n<style scoped>\n    .dataframe tbody tr th:only-of-type {\n        vertical-align: middle;\n    }\n\n    .dataframe tbody tr th {\n        vertical-align: top;\n    }\n\n    .dataframe thead th {\n        text-align: right;\n    }\n</style>\n<table border=\"1\" class=\"dataframe\">\n  <thead>\n    <tr style=\"text-align: right;\">\n      <th></th>\n      <th>Empirical mean</th>\n      <th>True mean</th>\n    </tr>\n  </thead>\n  <tbody>\n    <tr>\n      <th>$RC$</th>\n      <td>10.388616</td>\n      <td>10.077808</td>\n    </tr>\n    <tr>\n      <th>$\\theta_{11}$</th>\n      <td>2.418207</td>\n      <td>2.294176</td>\n    </tr>\n  </tbody>\n</table>\n</div>"
     },
     "metadata": {},
     "execution_count": 7
    }
   ],
   "source": [
    "mean_nice = pd.DataFrame(data=np.concatenate((mean, params)).reshape([2, 2], order='F'), \n",
    "                         index= ['$RC$', '$\\theta_{11}$'], columns=['Empirical mean', 'True mean'])\n",
    "mean_nice"
   ]
  },
  {
   "cell_type": "code",
   "execution_count": 8,
   "metadata": {},
   "outputs": [],
   "source": [
    "# Test: save data frame as .csv.\n",
    "#mean_nice.to_pickle(path_or_buf=os.path.join('data', 'mean_nice'))"
   ]
  },
  {
   "cell_type": "markdown",
   "metadata": {},
   "source": [
    "#### Define function arguments for `get_shapley()`."
   ]
  },
  {
   "cell_type": "code",
   "execution_count": 5,
   "metadata": {},
   "outputs": [],
   "source": [
    "n_inputs = 2\n",
    "n_perms = None\n",
    "method = 'exact'\n",
    "np.random.seed(1234)"
   ]
  },
  {
   "cell_type": "markdown",
   "metadata": {},
   "source": [
    "#### Until here: arguments do not change."
   ]
  },
  {
   "cell_type": "code",
   "execution_count": 13,
   "metadata": {},
   "outputs": [],
   "source": [
    "# Define number of simulations.\n",
    "n_output = 10**2\n",
    "n_outer = 10\n",
    "n_inner = 3\n",
    "\n",
    "# Define model, and sampling functions.\n",
    "model = partial(\n",
    "    rust_model_shapley, method=method, n_perms=n_perms, n_inputs=n_inputs, n_output=n_output, n_outer=n_outer, n_inner=n_inner, trans_probs=trans_probs, \n",
    "    init_dict_estimation=init_dict_estimation, demand_dict=demand_dict, \n",
    ")\n",
    "x_all_partial = partial(x_all_raw, mean=params, cov=cov)\n",
    "x_cond_partial = partial(x_cond_raw, mean=params, cov=cov)"
   ]
  },
  {
   "cell_type": "code",
   "execution_count": 14,
   "metadata": {},
   "outputs": [
    {
     "output_type": "stream",
     "name": "stdout",
     "text": [
      "Wall time: 23.9 s\n"
     ]
    }
   ],
   "source": [
    "%%time\n",
    "# Using new version of rust_model_shapley which uses Joblib, one run takes about 23.9 s.\n",
    "# A single run. Time with three trans_probs: ~ 54 s.\n",
    "# With four trans_probs: ~ 19 m.\n",
    "\n",
    "exact_shapley = get_shapley(method, model, x_all_partial, x_cond_partial, n_perms, n_inputs, n_output, n_outer, n_inner)\n",
    "exact_shapley.rename(index={'X1': '$RC$', 'X2': '$\\theta_{11}$'}, inplace=True)"
   ]
  },
  {
   "source": [
    "## Run `get_shapley` for large number of samples."
   ],
   "cell_type": "markdown",
   "metadata": {}
  },
  {
   "cell_type": "code",
   "execution_count": 28,
   "metadata": {},
   "outputs": [
    {
     "output_type": "stream",
     "name": "stdout",
     "text": [
      " 70000 model evaluations \n approx.  5.055555555555555 hours \n approx. 303.3333333333333 minutes\n"
     ]
    }
   ],
   "source": [
    "# Define number of simulations.\n",
    "n_output = 10 ** 4\n",
    "n_outer = 10 ** 4\n",
    "n_inner = 3\n",
    "\n",
    "# Define model, and sampling functions.\n",
    "model = partial(\n",
    "    rust_model_shapley, method=method, n_perms=n_perms, n_inputs=n_inputs, n_output=n_output, n_outer=n_outer, n_inner=n_inner, trans_probs=trans_probs, \n",
    "    init_dict_estimation=init_dict_estimation, demand_dict=demand_dict, \n",
    ")\n",
    "x_all_partial = partial(x_all_raw, mean=params, cov=cov)\n",
    "x_cond_partial = partial(x_cond_raw, mean=params, cov=cov)\n",
    "\n",
    "# Duration for 100 evaluations.\n",
    "time_model_eval = 26\n",
    "approx_comp_time(time_model_eval, method, n_inputs, n_perms, n_output, n_outer, n_inner)"
   ]
  },
  {
   "cell_type": "code",
   "execution_count": 26,
   "metadata": {},
   "outputs": [
    {
     "output_type": "stream",
     "name": "stdout",
     "text": [
      "Wall time: 1h 31min 18s\n"
     ]
    }
   ],
   "source": [
    "%%time\n",
    "# n_v = 10 ** 4, n_o = 10 ** 3, n_i = 3 takes 38min 34s. std error = 0.297163. 16,000 model evals.\n",
    "# n_v = 10 ** 4, n_o = 10 ** 3, n_i = 10 takes 1h 31min 18s. std error = 0.29738. 30,000 model evals.\n",
    "\n",
    "np.random.seed(123)\n",
    "\n",
    "exact_shapley = get_shapley(method, model, x_all_partial, x_cond_partial, n_perms, n_inputs, n_output, n_outer, n_inner)\n",
    "exact_shapley.rename(index={'X1': '$RC$', 'X2': '$\\theta_{11}$'}, inplace=True)"
   ]
  },
  {
   "cell_type": "code",
   "execution_count": 27,
   "metadata": {},
   "outputs": [
    {
     "output_type": "execute_result",
     "data": {
      "text/plain": [
       "               Shapley effects  std. errors    CI_min    CI_max\n",
       "$RC$                  0.420558      0.29738 -0.162306  1.003422\n",
       "$\\theta_{11}$         0.579442      0.29738 -0.003422  1.162306"
      ],
      "text/html": "<div>\n<style scoped>\n    .dataframe tbody tr th:only-of-type {\n        vertical-align: middle;\n    }\n\n    .dataframe tbody tr th {\n        vertical-align: top;\n    }\n\n    .dataframe thead th {\n        text-align: right;\n    }\n</style>\n<table border=\"1\" class=\"dataframe\">\n  <thead>\n    <tr style=\"text-align: right;\">\n      <th></th>\n      <th>Shapley effects</th>\n      <th>std. errors</th>\n      <th>CI_min</th>\n      <th>CI_max</th>\n    </tr>\n  </thead>\n  <tbody>\n    <tr>\n      <th>$RC$</th>\n      <td>0.420558</td>\n      <td>0.29738</td>\n      <td>-0.162306</td>\n      <td>1.003422</td>\n    </tr>\n    <tr>\n      <th>$\\theta_{11}$</th>\n      <td>0.579442</td>\n      <td>0.29738</td>\n      <td>-0.003422</td>\n      <td>1.162306</td>\n    </tr>\n  </tbody>\n</table>\n</div>"
     },
     "metadata": {},
     "execution_count": 27
    }
   ],
   "source": [
    "exact_shapley"
   ]
  },
  {
   "cell_type": "code",
   "execution_count": 23,
   "metadata": {},
   "outputs": [
    {
     "output_type": "execute_result",
     "data": {
      "text/plain": [
       "               Shapley effects  std. errors    CI_min    CI_max\n",
       "$RC$                  0.420251     0.297163 -0.162187  1.002690\n",
       "$\\theta_{11}$         0.579749     0.297163 -0.002690  1.162187"
      ],
      "text/html": "<div>\n<style scoped>\n    .dataframe tbody tr th:only-of-type {\n        vertical-align: middle;\n    }\n\n    .dataframe tbody tr th {\n        vertical-align: top;\n    }\n\n    .dataframe thead th {\n        text-align: right;\n    }\n</style>\n<table border=\"1\" class=\"dataframe\">\n  <thead>\n    <tr style=\"text-align: right;\">\n      <th></th>\n      <th>Shapley effects</th>\n      <th>std. errors</th>\n      <th>CI_min</th>\n      <th>CI_max</th>\n    </tr>\n  </thead>\n  <tbody>\n    <tr>\n      <th>$RC$</th>\n      <td>0.420251</td>\n      <td>0.297163</td>\n      <td>-0.162187</td>\n      <td>1.002690</td>\n    </tr>\n    <tr>\n      <th>$\\theta_{11}$</th>\n      <td>0.579749</td>\n      <td>0.297163</td>\n      <td>-0.002690</td>\n      <td>1.162187</td>\n    </tr>\n  </tbody>\n</table>\n</div>"
     },
     "metadata": {},
     "execution_count": 23
    }
   ],
   "source": [
    "exact_shapley"
   ]
  },
  {
   "cell_type": "markdown",
   "metadata": {},
   "source": [
    "## Create 100 replicates of the Shapley effects for small simulation numbers."
   ]
  },
  {
   "cell_type": "code",
   "execution_count": 6,
   "metadata": {},
   "outputs": [
    {
     "output_type": "stream",
     "name": "stdout",
     "text": [
      "Wall time: 143 ms\n"
     ]
    }
   ],
   "source": [
    "%%time\n",
    "# n_replicates runs.\n",
    "\n",
    "# 100 replicates ~ 1 h 30 m.\n",
    "\n",
    "# 200 replicates ~ 2 h 37 m.\n",
    "\n",
    "np.random.seed(1234)\n",
    "\n",
    "n_replicates = 200\n",
    "\n",
    "if run_simulation_shapley_effects == True:\n",
    "    # For loop. Get a sense of how it works. Later get functions and run for larger number of simulations.\n",
    "    shapley_effects = {}\n",
    "    for i in np.arange(n_replicates):\n",
    "        np.random.seed(i)\n",
    "        exact_shapley = get_shapley(method, model, x_all_partial, x_cond_partial, n_perms, n_inputs, n_output, n_outer, n_inner)\n",
    "        exact_shapley.rename(index={'X1': '$RC$', 'X2': '$\\theta_{11}$'}, inplace=True)\n",
    "        shapley_effects[i] = exact_shapley\n",
    "        #print('Progress: Run', i + 1, 'of', n_replicates)\n",
    "    with open(os.path.join('data', f'shapley_effects_{n_replicates}_runs.pickle'), 'wb') as handle:\n",
    "        pickle.dump(shapley_effects, handle)\n",
    "else:\n",
    "    with open(os.path.join('data', f'shapley_effects_{n_replicates}_runs.pickle'), 'rb') as handle:\n",
    "        shapley_effects = pickle.load(handle)"
   ]
  },
  {
   "cell_type": "code",
   "execution_count": 7,
   "metadata": {},
   "outputs": [],
   "source": [
    "# Get data frame suitable for plotting.\n",
    "rc_shapley_effects = [shapley_effects[i]['Shapley effects']['$RC$'] for i in np.arange(n_replicates)]\n",
    "theta_shapley_effects = [shapley_effects[i]['Shapley effects']['$\\theta_{11}$'] for i in np.arange(n_replicates)]\n",
    "\n",
    "rc_shapley_effects_df = pd.DataFrame(data=rc_shapley_effects)\n",
    "rc_shapley_effects_df['input_variable'] = 'rc'\n",
    "\n",
    "theta_shapley_effects_df = pd.DataFrame(data=theta_shapley_effects)\n",
    "theta_shapley_effects_df['input_variable'] = 'theta'\n",
    "\n",
    "data = pd.concat([rc_shapley_effects_df, theta_shapley_effects_df], ignore_index=True)\n",
    "data.rename(columns={0: 'shapley_effect'}, inplace=True)"
   ]
  },
  {
   "cell_type": "code",
   "execution_count": 8,
   "metadata": {},
   "outputs": [],
   "source": [
    "# For calculation of variance use Bessel's correction (by specifying ddof=1 in np.var()).\n",
    "\n",
    "variance_rc_shapley_effects = np.var(rc_shapley_effects, ddof=1)\n",
    "mean_rc_shapley_effects = np.mean(rc_shapley_effects)\n",
    "\n",
    "variance_theta_shapley_effects = np.var(theta_shapley_effects, ddof=1)\n",
    "mean_theta_shapley_effects = np.mean(theta_shapley_effects)\n",
    "\n",
    "# Calc. std. errors. (std. dev. / sqrt(n)).\n",
    "se_rc_shapley_effects = np.sqrt(variance_rc_shapley_effects) / np.sqrt(n_replicates)\n",
    "\n",
    "se_theta_shapley_effects = np.sqrt(variance_theta_shapley_effects) / np.sqrt(n_replicates)\n",
    "\n",
    "# Critical value of the 95-percent confidence interval.\n",
    "crit_value = 1.96\n",
    "\n",
    "ci_rc = compute_confidence_intervals(mean_rc_shapley_effects, se_rc_shapley_effects, crit_value)\n",
    "\n",
    "ci_theta = compute_confidence_intervals(mean_theta_shapley_effects, se_theta_shapley_effects, crit_value)"
   ]
  },
  {
   "cell_type": "code",
   "execution_count": 9,
   "metadata": {},
   "outputs": [
    {
     "output_type": "execute_result",
     "data": {
      "text/plain": [
       "{'lower_bound': 0.41051943706753014, 'upper_bound': 0.42072878601656893}"
      ]
     },
     "metadata": {},
     "execution_count": 9
    }
   ],
   "source": [
    "ci_rc"
   ]
  },
  {
   "cell_type": "code",
   "execution_count": 10,
   "metadata": {},
   "outputs": [
    {
     "output_type": "execute_result",
     "data": {
      "text/plain": [
       "{'lower_bound': 0.5792712139834312, 'upper_bound': 0.5894805629324699}"
      ]
     },
     "metadata": {},
     "execution_count": 10
    }
   ],
   "source": [
    "ci_theta"
   ]
  },
  {
   "cell_type": "code",
   "execution_count": 13,
   "metadata": {},
   "outputs": [],
   "source": [
    "# Descriptives of the replicates.\n",
    "\n",
    "descriptives_data = np.array([[mean_rc_shapley_effects, \n",
    "                               se_rc_shapley_effects, \n",
    "                               ci_rc['lower_bound'], \n",
    "                               ci_rc['upper_bound']\n",
    "                              ],\n",
    "                              \n",
    "                              [mean_theta_shapley_effects, \n",
    "                               se_theta_shapley_effects, \n",
    "                               ci_theta['lower_bound'], \n",
    "                               ci_theta['upper_bound']\n",
    "                              ]\n",
    "                             ])\n",
    "\n",
    "descriptives_shapley_effects = pd.DataFrame(descriptives_data, \n",
    "                                            columns=['Mean', 'Std. errors', 'CI lower bound', 'CI upper bound'], \n",
    "                                            index=['$RC$', '$\\theta_{11}$']\n",
    "                                           )\n",
    "descriptives_shapley_effects.index.name = 'Shapley Effect'"
   ]
  },
  {
   "cell_type": "code",
   "execution_count": 14,
   "metadata": {},
   "outputs": [
    {
     "output_type": "execute_result",
     "data": {
      "text/plain": [
       "                    Mean  Std. errors  CI lower bound  CI upper bound\n",
       "Shapley Effect                                                       \n",
       "$RC$            0.415624     0.002604        0.410519        0.420729\n",
       "$\\theta_{11}$   0.584376     0.002604        0.579271        0.589481"
      ],
      "text/html": "<div>\n<style scoped>\n    .dataframe tbody tr th:only-of-type {\n        vertical-align: middle;\n    }\n\n    .dataframe tbody tr th {\n        vertical-align: top;\n    }\n\n    .dataframe thead th {\n        text-align: right;\n    }\n</style>\n<table border=\"1\" class=\"dataframe\">\n  <thead>\n    <tr style=\"text-align: right;\">\n      <th></th>\n      <th>Mean</th>\n      <th>Std. errors</th>\n      <th>CI lower bound</th>\n      <th>CI upper bound</th>\n    </tr>\n    <tr>\n      <th>Shapley Effect</th>\n      <th></th>\n      <th></th>\n      <th></th>\n      <th></th>\n    </tr>\n  </thead>\n  <tbody>\n    <tr>\n      <th>$RC$</th>\n      <td>0.415624</td>\n      <td>0.002604</td>\n      <td>0.410519</td>\n      <td>0.420729</td>\n    </tr>\n    <tr>\n      <th>$\\theta_{11}$</th>\n      <td>0.584376</td>\n      <td>0.002604</td>\n      <td>0.579271</td>\n      <td>0.589481</td>\n    </tr>\n  </tbody>\n</table>\n</div>"
     },
     "metadata": {},
     "execution_count": 14
    }
   ],
   "source": [
    "descriptives_shapley_effects"
   ]
  },
  {
   "cell_type": "code",
   "execution_count": 15,
   "metadata": {},
   "outputs": [
    {
     "output_type": "display_data",
     "data": {
      "text/plain": "<Figure size 432x288 with 1 Axes>",
      "image/svg+xml": "<?xml version=\"1.0\" encoding=\"utf-8\" standalone=\"no\"?>\r\n<!DOCTYPE svg PUBLIC \"-//W3C//DTD SVG 1.1//EN\"\r\n  \"http://www.w3.org/Graphics/SVG/1.1/DTD/svg11.dtd\">\r\n<svg height=\"264.709531pt\" version=\"1.1\" viewBox=\"0 0 389.045312 264.709531\" width=\"389.045312pt\" xmlns=\"http://www.w3.org/2000/svg\" xmlns:xlink=\"http://www.w3.org/1999/xlink\">\r\n <metadata>\r\n  <rdf:RDF xmlns:cc=\"http://creativecommons.org/ns#\" xmlns:dc=\"http://purl.org/dc/elements/1.1/\" xmlns:rdf=\"http://www.w3.org/1999/02/22-rdf-syntax-ns#\">\r\n   <cc:Work>\r\n    <dc:type rdf:resource=\"http://purl.org/dc/dcmitype/StillImage\"/>\r\n    <dc:date>2021-04-26T11:33:00.437676</dc:date>\r\n    <dc:format>image/svg+xml</dc:format>\r\n    <dc:creator>\r\n     <cc:Agent>\r\n      <dc:title>Matplotlib v3.4.1, https://matplotlib.org/</dc:title>\r\n     </cc:Agent>\r\n    </dc:creator>\r\n   </cc:Work>\r\n  </rdf:RDF>\r\n </metadata>\r\n <defs>\r\n  <style type=\"text/css\">*{stroke-linecap:butt;stroke-linejoin:round;}</style>\r\n </defs>\r\n <g id=\"figure_1\">\r\n  <g id=\"patch_1\">\r\n   <path d=\"M 0 264.709531 \r\nL 389.045312 264.709531 \r\nL 389.045312 0 \r\nL 0 0 \r\nz\r\n\" style=\"fill:none;\"/>\r\n  </g>\r\n  <g id=\"axes_1\">\r\n   <g id=\"patch_2\">\r\n    <path d=\"M 47.045313 228.218906 \r\nL 381.845313 228.218906 \r\nL 381.845313 10.778906 \r\nL 47.045313 10.778906 \r\nz\r\n\" style=\"fill:#ffffff;\"/>\r\n   </g>\r\n   <g id=\"patch_3\">\r\n    <path clip-path=\"url(#pa2422588de)\" d=\"M 63.785313 175.690108 \r\nL 197.705313 175.690108 \r\nL 197.705313 152.308789 \r\nL 63.785313 152.308789 \r\nL 63.785313 175.690108 \r\nz\r\n\" style=\"fill:#5875a4;stroke:#4c4c4c;stroke-linejoin:miter;stroke-width:1.5;\"/>\r\n   </g>\r\n   <g id=\"patch_4\">\r\n    <path clip-path=\"url(#pa2422588de)\" d=\"M 231.185313 86.689023 \r\nL 365.105312 86.689023 \r\nL 365.105312 63.307705 \r\nL 231.185313 63.307705 \r\nL 231.185313 86.689023 \r\nz\r\n\" style=\"fill:#cc8963;stroke:#4c4c4c;stroke-linejoin:miter;stroke-width:1.5;\"/>\r\n   </g>\r\n   <g id=\"matplotlib.axis_1\">\r\n    <g id=\"xtick_1\">\r\n     <g id=\"line2d_1\">\r\n      <defs>\r\n       <path d=\"M 0 0 \r\nL 0 3.5 \r\n\" id=\"m955087b367\" style=\"stroke:#000000;stroke-width:0.8;\"/>\r\n      </defs>\r\n      <g>\r\n       <use style=\"stroke:#000000;stroke-width:0.8;\" x=\"130.745313\" xlink:href=\"#m955087b367\" y=\"228.218906\"/>\r\n      </g>\r\n     </g>\r\n     <g id=\"text_1\">\r\n      <!-- rc -->\r\n      <g transform=\"translate(126.580469 242.376719)scale(0.1 -0.1)\">\r\n       <defs>\r\n        <path d=\"M 416 0 \r\nL 416 3319 \r\nL 922 3319 \r\nL 922 2816 \r\nQ 1116 3169 1280 3281 \r\nQ 1444 3394 1641 3394 \r\nQ 1925 3394 2219 3213 \r\nL 2025 2691 \r\nQ 1819 2813 1613 2813 \r\nQ 1428 2813 1281 2702 \r\nQ 1134 2591 1072 2394 \r\nQ 978 2094 978 1738 \r\nL 978 0 \r\nL 416 0 \r\nz\r\n\" id=\"ArialMT-72\" transform=\"scale(0.015625)\"/>\r\n        <path d=\"M 2588 1216 \r\nL 3141 1144 \r\nQ 3050 572 2676 248 \r\nQ 2303 -75 1759 -75 \r\nQ 1078 -75 664 370 \r\nQ 250 816 250 1647 \r\nQ 250 2184 428 2587 \r\nQ 606 2991 970 3192 \r\nQ 1334 3394 1763 3394 \r\nQ 2303 3394 2647 3120 \r\nQ 2991 2847 3088 2344 \r\nL 2541 2259 \r\nQ 2463 2594 2264 2762 \r\nQ 2066 2931 1784 2931 \r\nQ 1359 2931 1093 2626 \r\nQ 828 2322 828 1663 \r\nQ 828 994 1084 691 \r\nQ 1341 388 1753 388 \r\nQ 2084 388 2306 591 \r\nQ 2528 794 2588 1216 \r\nz\r\n\" id=\"ArialMT-63\" transform=\"scale(0.015625)\"/>\r\n       </defs>\r\n       <use xlink:href=\"#ArialMT-72\"/>\r\n       <use x=\"33.300781\" xlink:href=\"#ArialMT-63\"/>\r\n      </g>\r\n     </g>\r\n    </g>\r\n    <g id=\"xtick_2\">\r\n     <g id=\"line2d_2\">\r\n      <g>\r\n       <use style=\"stroke:#000000;stroke-width:0.8;\" x=\"298.145313\" xlink:href=\"#m955087b367\" y=\"228.218906\"/>\r\n      </g>\r\n     </g>\r\n     <g id=\"text_2\">\r\n      <!-- theta -->\r\n      <g transform=\"translate(287.025781 242.376719)scale(0.1 -0.1)\">\r\n       <defs>\r\n        <path d=\"M 1650 503 \r\nL 1731 6 \r\nQ 1494 -44 1306 -44 \r\nQ 1000 -44 831 53 \r\nQ 663 150 594 308 \r\nQ 525 466 525 972 \r\nL 525 2881 \r\nL 113 2881 \r\nL 113 3319 \r\nL 525 3319 \r\nL 525 4141 \r\nL 1084 4478 \r\nL 1084 3319 \r\nL 1650 3319 \r\nL 1650 2881 \r\nL 1084 2881 \r\nL 1084 941 \r\nQ 1084 700 1114 631 \r\nQ 1144 563 1211 522 \r\nQ 1278 481 1403 481 \r\nQ 1497 481 1650 503 \r\nz\r\n\" id=\"ArialMT-74\" transform=\"scale(0.015625)\"/>\r\n        <path d=\"M 422 0 \r\nL 422 4581 \r\nL 984 4581 \r\nL 984 2938 \r\nQ 1378 3394 1978 3394 \r\nQ 2347 3394 2619 3248 \r\nQ 2891 3103 3008 2847 \r\nQ 3125 2591 3125 2103 \r\nL 3125 0 \r\nL 2563 0 \r\nL 2563 2103 \r\nQ 2563 2525 2380 2717 \r\nQ 2197 2909 1863 2909 \r\nQ 1613 2909 1392 2779 \r\nQ 1172 2650 1078 2428 \r\nQ 984 2206 984 1816 \r\nL 984 0 \r\nL 422 0 \r\nz\r\n\" id=\"ArialMT-68\" transform=\"scale(0.015625)\"/>\r\n        <path d=\"M 2694 1069 \r\nL 3275 997 \r\nQ 3138 488 2766 206 \r\nQ 2394 -75 1816 -75 \r\nQ 1088 -75 661 373 \r\nQ 234 822 234 1631 \r\nQ 234 2469 665 2931 \r\nQ 1097 3394 1784 3394 \r\nQ 2450 3394 2872 2941 \r\nQ 3294 2488 3294 1666 \r\nQ 3294 1616 3291 1516 \r\nL 816 1516 \r\nQ 847 969 1125 678 \r\nQ 1403 388 1819 388 \r\nQ 2128 388 2347 550 \r\nQ 2566 713 2694 1069 \r\nz\r\nM 847 1978 \r\nL 2700 1978 \r\nQ 2663 2397 2488 2606 \r\nQ 2219 2931 1791 2931 \r\nQ 1403 2931 1139 2672 \r\nQ 875 2413 847 1978 \r\nz\r\n\" id=\"ArialMT-65\" transform=\"scale(0.015625)\"/>\r\n        <path d=\"M 2588 409 \r\nQ 2275 144 1986 34 \r\nQ 1697 -75 1366 -75 \r\nQ 819 -75 525 192 \r\nQ 231 459 231 875 \r\nQ 231 1119 342 1320 \r\nQ 453 1522 633 1644 \r\nQ 813 1766 1038 1828 \r\nQ 1203 1872 1538 1913 \r\nQ 2219 1994 2541 2106 \r\nQ 2544 2222 2544 2253 \r\nQ 2544 2597 2384 2738 \r\nQ 2169 2928 1744 2928 \r\nQ 1347 2928 1158 2789 \r\nQ 969 2650 878 2297 \r\nL 328 2372 \r\nQ 403 2725 575 2942 \r\nQ 747 3159 1072 3276 \r\nQ 1397 3394 1825 3394 \r\nQ 2250 3394 2515 3294 \r\nQ 2781 3194 2906 3042 \r\nQ 3031 2891 3081 2659 \r\nQ 3109 2516 3109 2141 \r\nL 3109 1391 \r\nQ 3109 606 3145 398 \r\nQ 3181 191 3288 0 \r\nL 2700 0 \r\nQ 2613 175 2588 409 \r\nz\r\nM 2541 1666 \r\nQ 2234 1541 1622 1453 \r\nQ 1275 1403 1131 1340 \r\nQ 988 1278 909 1158 \r\nQ 831 1038 831 891 \r\nQ 831 666 1001 516 \r\nQ 1172 366 1500 366 \r\nQ 1825 366 2078 508 \r\nQ 2331 650 2450 897 \r\nQ 2541 1088 2541 1459 \r\nL 2541 1666 \r\nz\r\n\" id=\"ArialMT-61\" transform=\"scale(0.015625)\"/>\r\n       </defs>\r\n       <use xlink:href=\"#ArialMT-74\"/>\r\n       <use x=\"27.783203\" xlink:href=\"#ArialMT-68\"/>\r\n       <use x=\"83.398438\" xlink:href=\"#ArialMT-65\"/>\r\n       <use x=\"139.013672\" xlink:href=\"#ArialMT-74\"/>\r\n       <use x=\"166.796875\" xlink:href=\"#ArialMT-61\"/>\r\n      </g>\r\n     </g>\r\n    </g>\r\n    <g id=\"text_3\">\r\n     <!-- input_variable -->\r\n     <g transform=\"translate(183.314844 255.522031)scale(0.1 -0.1)\">\r\n      <defs>\r\n       <path d=\"M 425 3934 \r\nL 425 4581 \r\nL 988 4581 \r\nL 988 3934 \r\nL 425 3934 \r\nz\r\nM 425 0 \r\nL 425 3319 \r\nL 988 3319 \r\nL 988 0 \r\nL 425 0 \r\nz\r\n\" id=\"ArialMT-69\" transform=\"scale(0.015625)\"/>\r\n       <path d=\"M 422 0 \r\nL 422 3319 \r\nL 928 3319 \r\nL 928 2847 \r\nQ 1294 3394 1984 3394 \r\nQ 2284 3394 2536 3286 \r\nQ 2788 3178 2913 3003 \r\nQ 3038 2828 3088 2588 \r\nQ 3119 2431 3119 2041 \r\nL 3119 0 \r\nL 2556 0 \r\nL 2556 2019 \r\nQ 2556 2363 2490 2533 \r\nQ 2425 2703 2258 2804 \r\nQ 2091 2906 1866 2906 \r\nQ 1506 2906 1245 2678 \r\nQ 984 2450 984 1813 \r\nL 984 0 \r\nL 422 0 \r\nz\r\n\" id=\"ArialMT-6e\" transform=\"scale(0.015625)\"/>\r\n       <path d=\"M 422 -1272 \r\nL 422 3319 \r\nL 934 3319 \r\nL 934 2888 \r\nQ 1116 3141 1344 3267 \r\nQ 1572 3394 1897 3394 \r\nQ 2322 3394 2647 3175 \r\nQ 2972 2956 3137 2557 \r\nQ 3303 2159 3303 1684 \r\nQ 3303 1175 3120 767 \r\nQ 2938 359 2589 142 \r\nQ 2241 -75 1856 -75 \r\nQ 1575 -75 1351 44 \r\nQ 1128 163 984 344 \r\nL 984 -1272 \r\nL 422 -1272 \r\nz\r\nM 931 1641 \r\nQ 931 1000 1190 694 \r\nQ 1450 388 1819 388 \r\nQ 2194 388 2461 705 \r\nQ 2728 1022 2728 1688 \r\nQ 2728 2322 2467 2637 \r\nQ 2206 2953 1844 2953 \r\nQ 1484 2953 1207 2617 \r\nQ 931 2281 931 1641 \r\nz\r\n\" id=\"ArialMT-70\" transform=\"scale(0.015625)\"/>\r\n       <path d=\"M 2597 0 \r\nL 2597 488 \r\nQ 2209 -75 1544 -75 \r\nQ 1250 -75 995 37 \r\nQ 741 150 617 320 \r\nQ 494 491 444 738 \r\nQ 409 903 409 1263 \r\nL 409 3319 \r\nL 972 3319 \r\nL 972 1478 \r\nQ 972 1038 1006 884 \r\nQ 1059 663 1231 536 \r\nQ 1403 409 1656 409 \r\nQ 1909 409 2131 539 \r\nQ 2353 669 2445 892 \r\nQ 2538 1116 2538 1541 \r\nL 2538 3319 \r\nL 3100 3319 \r\nL 3100 0 \r\nL 2597 0 \r\nz\r\n\" id=\"ArialMT-75\" transform=\"scale(0.015625)\"/>\r\n       <path d=\"M -97 -1272 \r\nL -97 -866 \r\nL 3631 -866 \r\nL 3631 -1272 \r\nL -97 -1272 \r\nz\r\n\" id=\"ArialMT-5f\" transform=\"scale(0.015625)\"/>\r\n       <path d=\"M 1344 0 \r\nL 81 3319 \r\nL 675 3319 \r\nL 1388 1331 \r\nQ 1503 1009 1600 663 \r\nQ 1675 925 1809 1294 \r\nL 2547 3319 \r\nL 3125 3319 \r\nL 1869 0 \r\nL 1344 0 \r\nz\r\n\" id=\"ArialMT-76\" transform=\"scale(0.015625)\"/>\r\n       <path d=\"M 941 0 \r\nL 419 0 \r\nL 419 4581 \r\nL 981 4581 \r\nL 981 2947 \r\nQ 1338 3394 1891 3394 \r\nQ 2197 3394 2470 3270 \r\nQ 2744 3147 2920 2923 \r\nQ 3097 2700 3197 2384 \r\nQ 3297 2069 3297 1709 \r\nQ 3297 856 2875 390 \r\nQ 2453 -75 1863 -75 \r\nQ 1275 -75 941 416 \r\nL 941 0 \r\nz\r\nM 934 1684 \r\nQ 934 1088 1097 822 \r\nQ 1363 388 1816 388 \r\nQ 2184 388 2453 708 \r\nQ 2722 1028 2722 1663 \r\nQ 2722 2313 2464 2622 \r\nQ 2206 2931 1841 2931 \r\nQ 1472 2931 1203 2611 \r\nQ 934 2291 934 1684 \r\nz\r\n\" id=\"ArialMT-62\" transform=\"scale(0.015625)\"/>\r\n       <path d=\"M 409 0 \r\nL 409 4581 \r\nL 972 4581 \r\nL 972 0 \r\nL 409 0 \r\nz\r\n\" id=\"ArialMT-6c\" transform=\"scale(0.015625)\"/>\r\n      </defs>\r\n      <use xlink:href=\"#ArialMT-69\"/>\r\n      <use x=\"22.216797\" xlink:href=\"#ArialMT-6e\"/>\r\n      <use x=\"77.832031\" xlink:href=\"#ArialMT-70\"/>\r\n      <use x=\"133.447266\" xlink:href=\"#ArialMT-75\"/>\r\n      <use x=\"189.0625\" xlink:href=\"#ArialMT-74\"/>\r\n      <use x=\"216.845703\" xlink:href=\"#ArialMT-5f\"/>\r\n      <use x=\"272.460938\" xlink:href=\"#ArialMT-76\"/>\r\n      <use x=\"322.460938\" xlink:href=\"#ArialMT-61\"/>\r\n      <use x=\"378.076172\" xlink:href=\"#ArialMT-72\"/>\r\n      <use x=\"411.376953\" xlink:href=\"#ArialMT-69\"/>\r\n      <use x=\"433.59375\" xlink:href=\"#ArialMT-61\"/>\r\n      <use x=\"489.208984\" xlink:href=\"#ArialMT-62\"/>\r\n      <use x=\"544.824219\" xlink:href=\"#ArialMT-6c\"/>\r\n      <use x=\"567.041016\" xlink:href=\"#ArialMT-65\"/>\r\n     </g>\r\n    </g>\r\n   </g>\r\n   <g id=\"matplotlib.axis_2\">\r\n    <g id=\"ytick_1\">\r\n     <g id=\"line2d_3\">\r\n      <defs>\r\n       <path d=\"M 0 0 \r\nL -3.5 0 \r\n\" id=\"m74623be9e5\" style=\"stroke:#000000;stroke-width:0.8;\"/>\r\n      </defs>\r\n      <g>\r\n       <use style=\"stroke:#000000;stroke-width:0.8;\" x=\"47.045313\" xlink:href=\"#m74623be9e5\" y=\"228.218906\"/>\r\n      </g>\r\n     </g>\r\n     <g id=\"text_4\">\r\n      <!-- 0.30 -->\r\n      <g transform=\"translate(20.584375 231.797812)scale(0.1 -0.1)\">\r\n       <defs>\r\n        <path d=\"M 266 2259 \r\nQ 266 3072 433 3567 \r\nQ 600 4063 929 4331 \r\nQ 1259 4600 1759 4600 \r\nQ 2128 4600 2406 4451 \r\nQ 2684 4303 2865 4023 \r\nQ 3047 3744 3150 3342 \r\nQ 3253 2941 3253 2259 \r\nQ 3253 1453 3087 958 \r\nQ 2922 463 2592 192 \r\nQ 2263 -78 1759 -78 \r\nQ 1097 -78 719 397 \r\nQ 266 969 266 2259 \r\nz\r\nM 844 2259 \r\nQ 844 1131 1108 757 \r\nQ 1372 384 1759 384 \r\nQ 2147 384 2411 759 \r\nQ 2675 1134 2675 2259 \r\nQ 2675 3391 2411 3762 \r\nQ 2147 4134 1753 4134 \r\nQ 1366 4134 1134 3806 \r\nQ 844 3388 844 2259 \r\nz\r\n\" id=\"ArialMT-30\" transform=\"scale(0.015625)\"/>\r\n        <path d=\"M 581 0 \r\nL 581 641 \r\nL 1222 641 \r\nL 1222 0 \r\nL 581 0 \r\nz\r\n\" id=\"ArialMT-2e\" transform=\"scale(0.015625)\"/>\r\n        <path d=\"M 269 1209 \r\nL 831 1284 \r\nQ 928 806 1161 595 \r\nQ 1394 384 1728 384 \r\nQ 2125 384 2398 659 \r\nQ 2672 934 2672 1341 \r\nQ 2672 1728 2419 1979 \r\nQ 2166 2231 1775 2231 \r\nQ 1616 2231 1378 2169 \r\nL 1441 2663 \r\nQ 1497 2656 1531 2656 \r\nQ 1891 2656 2178 2843 \r\nQ 2466 3031 2466 3422 \r\nQ 2466 3731 2256 3934 \r\nQ 2047 4138 1716 4138 \r\nQ 1388 4138 1169 3931 \r\nQ 950 3725 888 3313 \r\nL 325 3413 \r\nQ 428 3978 793 4289 \r\nQ 1159 4600 1703 4600 \r\nQ 2078 4600 2393 4439 \r\nQ 2709 4278 2876 4000 \r\nQ 3044 3722 3044 3409 \r\nQ 3044 3113 2884 2869 \r\nQ 2725 2625 2413 2481 \r\nQ 2819 2388 3044 2092 \r\nQ 3269 1797 3269 1353 \r\nQ 3269 753 2831 336 \r\nQ 2394 -81 1725 -81 \r\nQ 1122 -81 723 278 \r\nQ 325 638 269 1209 \r\nz\r\n\" id=\"ArialMT-33\" transform=\"scale(0.015625)\"/>\r\n       </defs>\r\n       <use xlink:href=\"#ArialMT-30\"/>\r\n       <use x=\"55.615234\" xlink:href=\"#ArialMT-2e\"/>\r\n       <use x=\"83.398438\" xlink:href=\"#ArialMT-33\"/>\r\n       <use x=\"139.013672\" xlink:href=\"#ArialMT-30\"/>\r\n      </g>\r\n     </g>\r\n    </g>\r\n    <g id=\"ytick_2\">\r\n     <g id=\"line2d_4\">\r\n      <g>\r\n       <use style=\"stroke:#000000;stroke-width:0.8;\" x=\"47.045313\" xlink:href=\"#m74623be9e5\" y=\"201.038906\"/>\r\n      </g>\r\n     </g>\r\n     <g id=\"text_5\">\r\n      <!-- 0.35 -->\r\n      <g transform=\"translate(20.584375 204.617813)scale(0.1 -0.1)\">\r\n       <defs>\r\n        <path d=\"M 266 1200 \r\nL 856 1250 \r\nQ 922 819 1161 601 \r\nQ 1400 384 1738 384 \r\nQ 2144 384 2425 690 \r\nQ 2706 997 2706 1503 \r\nQ 2706 1984 2436 2262 \r\nQ 2166 2541 1728 2541 \r\nQ 1456 2541 1237 2417 \r\nQ 1019 2294 894 2097 \r\nL 366 2166 \r\nL 809 4519 \r\nL 3088 4519 \r\nL 3088 3981 \r\nL 1259 3981 \r\nL 1013 2750 \r\nQ 1425 3038 1878 3038 \r\nQ 2478 3038 2890 2622 \r\nQ 3303 2206 3303 1553 \r\nQ 3303 931 2941 478 \r\nQ 2500 -78 1738 -78 \r\nQ 1113 -78 717 272 \r\nQ 322 622 266 1200 \r\nz\r\n\" id=\"ArialMT-35\" transform=\"scale(0.015625)\"/>\r\n       </defs>\r\n       <use xlink:href=\"#ArialMT-30\"/>\r\n       <use x=\"55.615234\" xlink:href=\"#ArialMT-2e\"/>\r\n       <use x=\"83.398438\" xlink:href=\"#ArialMT-33\"/>\r\n       <use x=\"139.013672\" xlink:href=\"#ArialMT-35\"/>\r\n      </g>\r\n     </g>\r\n    </g>\r\n    <g id=\"ytick_3\">\r\n     <g id=\"line2d_5\">\r\n      <g>\r\n       <use style=\"stroke:#000000;stroke-width:0.8;\" x=\"47.045313\" xlink:href=\"#m74623be9e5\" y=\"173.858906\"/>\r\n      </g>\r\n     </g>\r\n     <g id=\"text_6\">\r\n      <!-- 0.40 -->\r\n      <g transform=\"translate(20.584375 177.437812)scale(0.1 -0.1)\">\r\n       <defs>\r\n        <path d=\"M 2069 0 \r\nL 2069 1097 \r\nL 81 1097 \r\nL 81 1613 \r\nL 2172 4581 \r\nL 2631 4581 \r\nL 2631 1613 \r\nL 3250 1613 \r\nL 3250 1097 \r\nL 2631 1097 \r\nL 2631 0 \r\nL 2069 0 \r\nz\r\nM 2069 1613 \r\nL 2069 3678 \r\nL 634 1613 \r\nL 2069 1613 \r\nz\r\n\" id=\"ArialMT-34\" transform=\"scale(0.015625)\"/>\r\n       </defs>\r\n       <use xlink:href=\"#ArialMT-30\"/>\r\n       <use x=\"55.615234\" xlink:href=\"#ArialMT-2e\"/>\r\n       <use x=\"83.398438\" xlink:href=\"#ArialMT-34\"/>\r\n       <use x=\"139.013672\" xlink:href=\"#ArialMT-30\"/>\r\n      </g>\r\n     </g>\r\n    </g>\r\n    <g id=\"ytick_4\">\r\n     <g id=\"line2d_6\">\r\n      <g>\r\n       <use style=\"stroke:#000000;stroke-width:0.8;\" x=\"47.045313\" xlink:href=\"#m74623be9e5\" y=\"146.678906\"/>\r\n      </g>\r\n     </g>\r\n     <g id=\"text_7\">\r\n      <!-- 0.45 -->\r\n      <g transform=\"translate(20.584375 150.257812)scale(0.1 -0.1)\">\r\n       <use xlink:href=\"#ArialMT-30\"/>\r\n       <use x=\"55.615234\" xlink:href=\"#ArialMT-2e\"/>\r\n       <use x=\"83.398438\" xlink:href=\"#ArialMT-34\"/>\r\n       <use x=\"139.013672\" xlink:href=\"#ArialMT-35\"/>\r\n      </g>\r\n     </g>\r\n    </g>\r\n    <g id=\"ytick_5\">\r\n     <g id=\"line2d_7\">\r\n      <g>\r\n       <use style=\"stroke:#000000;stroke-width:0.8;\" x=\"47.045313\" xlink:href=\"#m74623be9e5\" y=\"119.498906\"/>\r\n      </g>\r\n     </g>\r\n     <g id=\"text_8\">\r\n      <!-- 0.50 -->\r\n      <g transform=\"translate(20.584375 123.077812)scale(0.1 -0.1)\">\r\n       <use xlink:href=\"#ArialMT-30\"/>\r\n       <use x=\"55.615234\" xlink:href=\"#ArialMT-2e\"/>\r\n       <use x=\"83.398438\" xlink:href=\"#ArialMT-35\"/>\r\n       <use x=\"139.013672\" xlink:href=\"#ArialMT-30\"/>\r\n      </g>\r\n     </g>\r\n    </g>\r\n    <g id=\"ytick_6\">\r\n     <g id=\"line2d_8\">\r\n      <g>\r\n       <use style=\"stroke:#000000;stroke-width:0.8;\" x=\"47.045313\" xlink:href=\"#m74623be9e5\" y=\"92.318906\"/>\r\n      </g>\r\n     </g>\r\n     <g id=\"text_9\">\r\n      <!-- 0.55 -->\r\n      <g transform=\"translate(20.584375 95.897812)scale(0.1 -0.1)\">\r\n       <use xlink:href=\"#ArialMT-30\"/>\r\n       <use x=\"55.615234\" xlink:href=\"#ArialMT-2e\"/>\r\n       <use x=\"83.398438\" xlink:href=\"#ArialMT-35\"/>\r\n       <use x=\"139.013672\" xlink:href=\"#ArialMT-35\"/>\r\n      </g>\r\n     </g>\r\n    </g>\r\n    <g id=\"ytick_7\">\r\n     <g id=\"line2d_9\">\r\n      <g>\r\n       <use style=\"stroke:#000000;stroke-width:0.8;\" x=\"47.045313\" xlink:href=\"#m74623be9e5\" y=\"65.138906\"/>\r\n      </g>\r\n     </g>\r\n     <g id=\"text_10\">\r\n      <!-- 0.60 -->\r\n      <g transform=\"translate(20.584375 68.717812)scale(0.1 -0.1)\">\r\n       <defs>\r\n        <path d=\"M 3184 3459 \r\nL 2625 3416 \r\nQ 2550 3747 2413 3897 \r\nQ 2184 4138 1850 4138 \r\nQ 1581 4138 1378 3988 \r\nQ 1113 3794 959 3422 \r\nQ 806 3050 800 2363 \r\nQ 1003 2672 1297 2822 \r\nQ 1591 2972 1913 2972 \r\nQ 2475 2972 2870 2558 \r\nQ 3266 2144 3266 1488 \r\nQ 3266 1056 3080 686 \r\nQ 2894 316 2569 119 \r\nQ 2244 -78 1831 -78 \r\nQ 1128 -78 684 439 \r\nQ 241 956 241 2144 \r\nQ 241 3472 731 4075 \r\nQ 1159 4600 1884 4600 \r\nQ 2425 4600 2770 4297 \r\nQ 3116 3994 3184 3459 \r\nz\r\nM 888 1484 \r\nQ 888 1194 1011 928 \r\nQ 1134 663 1356 523 \r\nQ 1578 384 1822 384 \r\nQ 2178 384 2434 671 \r\nQ 2691 959 2691 1453 \r\nQ 2691 1928 2437 2201 \r\nQ 2184 2475 1800 2475 \r\nQ 1419 2475 1153 2201 \r\nQ 888 1928 888 1484 \r\nz\r\n\" id=\"ArialMT-36\" transform=\"scale(0.015625)\"/>\r\n       </defs>\r\n       <use xlink:href=\"#ArialMT-30\"/>\r\n       <use x=\"55.615234\" xlink:href=\"#ArialMT-2e\"/>\r\n       <use x=\"83.398438\" xlink:href=\"#ArialMT-36\"/>\r\n       <use x=\"139.013672\" xlink:href=\"#ArialMT-30\"/>\r\n      </g>\r\n     </g>\r\n    </g>\r\n    <g id=\"ytick_8\">\r\n     <g id=\"line2d_10\">\r\n      <g>\r\n       <use style=\"stroke:#000000;stroke-width:0.8;\" x=\"47.045313\" xlink:href=\"#m74623be9e5\" y=\"37.958906\"/>\r\n      </g>\r\n     </g>\r\n     <g id=\"text_11\">\r\n      <!-- 0.65 -->\r\n      <g transform=\"translate(20.584375 41.537812)scale(0.1 -0.1)\">\r\n       <use xlink:href=\"#ArialMT-30\"/>\r\n       <use x=\"55.615234\" xlink:href=\"#ArialMT-2e\"/>\r\n       <use x=\"83.398438\" xlink:href=\"#ArialMT-36\"/>\r\n       <use x=\"139.013672\" xlink:href=\"#ArialMT-35\"/>\r\n      </g>\r\n     </g>\r\n    </g>\r\n    <g id=\"ytick_9\">\r\n     <g id=\"line2d_11\">\r\n      <g>\r\n       <use style=\"stroke:#000000;stroke-width:0.8;\" x=\"47.045313\" xlink:href=\"#m74623be9e5\" y=\"10.778906\"/>\r\n      </g>\r\n     </g>\r\n     <g id=\"text_12\">\r\n      <!-- 0.70 -->\r\n      <g transform=\"translate(20.584375 14.357812)scale(0.1 -0.1)\">\r\n       <defs>\r\n        <path d=\"M 303 3981 \r\nL 303 4522 \r\nL 3269 4522 \r\nL 3269 4084 \r\nQ 2831 3619 2401 2847 \r\nQ 1972 2075 1738 1259 \r\nQ 1569 684 1522 0 \r\nL 944 0 \r\nQ 953 541 1156 1306 \r\nQ 1359 2072 1739 2783 \r\nQ 2119 3494 2547 3981 \r\nL 303 3981 \r\nz\r\n\" id=\"ArialMT-37\" transform=\"scale(0.015625)\"/>\r\n       </defs>\r\n       <use xlink:href=\"#ArialMT-30\"/>\r\n       <use x=\"55.615234\" xlink:href=\"#ArialMT-2e\"/>\r\n       <use x=\"83.398438\" xlink:href=\"#ArialMT-37\"/>\r\n       <use x=\"139.013672\" xlink:href=\"#ArialMT-30\"/>\r\n      </g>\r\n     </g>\r\n    </g>\r\n    <g id=\"text_13\">\r\n     <!-- shapley_effect -->\r\n     <g transform=\"translate(14.479687 151.652813)rotate(-90)scale(0.1 -0.1)\">\r\n      <defs>\r\n       <path d=\"M 197 991 \r\nL 753 1078 \r\nQ 800 744 1014 566 \r\nQ 1228 388 1613 388 \r\nQ 2000 388 2187 545 \r\nQ 2375 703 2375 916 \r\nQ 2375 1106 2209 1216 \r\nQ 2094 1291 1634 1406 \r\nQ 1016 1563 777 1677 \r\nQ 538 1791 414 1992 \r\nQ 291 2194 291 2438 \r\nQ 291 2659 392 2848 \r\nQ 494 3038 669 3163 \r\nQ 800 3259 1026 3326 \r\nQ 1253 3394 1513 3394 \r\nQ 1903 3394 2198 3281 \r\nQ 2494 3169 2634 2976 \r\nQ 2775 2784 2828 2463 \r\nL 2278 2388 \r\nQ 2241 2644 2061 2787 \r\nQ 1881 2931 1553 2931 \r\nQ 1166 2931 1000 2803 \r\nQ 834 2675 834 2503 \r\nQ 834 2394 903 2306 \r\nQ 972 2216 1119 2156 \r\nQ 1203 2125 1616 2013 \r\nQ 2213 1853 2448 1751 \r\nQ 2684 1650 2818 1456 \r\nQ 2953 1263 2953 975 \r\nQ 2953 694 2789 445 \r\nQ 2625 197 2315 61 \r\nQ 2006 -75 1616 -75 \r\nQ 969 -75 630 194 \r\nQ 291 463 197 991 \r\nz\r\n\" id=\"ArialMT-73\" transform=\"scale(0.015625)\"/>\r\n       <path d=\"M 397 -1278 \r\nL 334 -750 \r\nQ 519 -800 656 -800 \r\nQ 844 -800 956 -737 \r\nQ 1069 -675 1141 -563 \r\nQ 1194 -478 1313 -144 \r\nQ 1328 -97 1363 -6 \r\nL 103 3319 \r\nL 709 3319 \r\nL 1400 1397 \r\nQ 1534 1031 1641 628 \r\nQ 1738 1016 1872 1384 \r\nL 2581 3319 \r\nL 3144 3319 \r\nL 1881 -56 \r\nQ 1678 -603 1566 -809 \r\nQ 1416 -1088 1222 -1217 \r\nQ 1028 -1347 759 -1347 \r\nQ 597 -1347 397 -1278 \r\nz\r\n\" id=\"ArialMT-79\" transform=\"scale(0.015625)\"/>\r\n       <path d=\"M 556 0 \r\nL 556 2881 \r\nL 59 2881 \r\nL 59 3319 \r\nL 556 3319 \r\nL 556 3672 \r\nQ 556 4006 616 4169 \r\nQ 697 4388 901 4523 \r\nQ 1106 4659 1475 4659 \r\nQ 1713 4659 2000 4603 \r\nL 1916 4113 \r\nQ 1741 4144 1584 4144 \r\nQ 1328 4144 1222 4034 \r\nQ 1116 3925 1116 3625 \r\nL 1116 3319 \r\nL 1763 3319 \r\nL 1763 2881 \r\nL 1116 2881 \r\nL 1116 0 \r\nL 556 0 \r\nz\r\n\" id=\"ArialMT-66\" transform=\"scale(0.015625)\"/>\r\n      </defs>\r\n      <use xlink:href=\"#ArialMT-73\"/>\r\n      <use x=\"50\" xlink:href=\"#ArialMT-68\"/>\r\n      <use x=\"105.615234\" xlink:href=\"#ArialMT-61\"/>\r\n      <use x=\"161.230469\" xlink:href=\"#ArialMT-70\"/>\r\n      <use x=\"216.845703\" xlink:href=\"#ArialMT-6c\"/>\r\n      <use x=\"239.0625\" xlink:href=\"#ArialMT-65\"/>\r\n      <use x=\"294.677734\" xlink:href=\"#ArialMT-79\"/>\r\n      <use x=\"344.677734\" xlink:href=\"#ArialMT-5f\"/>\r\n      <use x=\"400.292969\" xlink:href=\"#ArialMT-65\"/>\r\n      <use x=\"455.908203\" xlink:href=\"#ArialMT-66\"/>\r\n      <use x=\"481.941406\" xlink:href=\"#ArialMT-66\"/>\r\n      <use x=\"509.724609\" xlink:href=\"#ArialMT-65\"/>\r\n      <use x=\"565.339844\" xlink:href=\"#ArialMT-63\"/>\r\n      <use x=\"615.339844\" xlink:href=\"#ArialMT-74\"/>\r\n     </g>\r\n    </g>\r\n   </g>\r\n   <g id=\"line2d_12\">\r\n    <path clip-path=\"url(#pa2422588de)\" d=\"M 130.745313 175.690108 \r\nL 130.745313 205.898535 \r\n\" style=\"fill:none;stroke:#4c4c4c;stroke-linecap:round;stroke-width:1.5;\"/>\r\n   </g>\r\n   <g id=\"line2d_13\">\r\n    <path clip-path=\"url(#pa2422588de)\" d=\"M 130.745313 152.308789 \r\nL 130.745313 134.566913 \r\n\" style=\"fill:none;stroke:#4c4c4c;stroke-linecap:round;stroke-width:1.5;\"/>\r\n   </g>\r\n   <g id=\"line2d_14\">\r\n    <path clip-path=\"url(#pa2422588de)\" d=\"M 97.265313 205.898535 \r\nL 164.225313 205.898535 \r\n\" style=\"fill:none;stroke:#4c4c4c;stroke-linecap:round;stroke-width:1.5;\"/>\r\n   </g>\r\n   <g id=\"line2d_15\">\r\n    <path clip-path=\"url(#pa2422588de)\" d=\"M 97.265313 134.566913 \r\nL 164.225313 134.566913 \r\n\" style=\"fill:none;stroke:#4c4c4c;stroke-linecap:round;stroke-width:1.5;\"/>\r\n   </g>\r\n   <g id=\"line2d_16\">\r\n    <defs>\r\n     <path d=\"M 0 3.535534 \r\nL 2.12132 0 \r\nL 0 -3.535534 \r\nL -2.12132 0 \r\nz\r\n\" id=\"m4cab5cddfd\" style=\"stroke:#4c4c4c;stroke-linejoin:miter;\"/>\r\n    </defs>\r\n    <g clip-path=\"url(#pa2422588de)\">\r\n     <use style=\"fill:#4c4c4c;stroke:#4c4c4c;stroke-linejoin:miter;\" x=\"130.745313\" xlink:href=\"#m4cab5cddfd\" y=\"211.978217\"/>\r\n     <use style=\"fill:#4c4c4c;stroke:#4c4c4c;stroke-linejoin:miter;\" x=\"130.745313\" xlink:href=\"#m4cab5cddfd\" y=\"328.75433\"/>\r\n     <use style=\"fill:#4c4c4c;stroke:#4c4c4c;stroke-linejoin:miter;\" x=\"130.745313\" xlink:href=\"#m4cab5cddfd\" y=\"211.173662\"/>\r\n     <use style=\"fill:#4c4c4c;stroke:#4c4c4c;stroke-linejoin:miter;\" x=\"130.745313\" xlink:href=\"#m4cab5cddfd\" y=\"212.812573\"/>\r\n    </g>\r\n   </g>\r\n   <g id=\"line2d_17\">\r\n    <path clip-path=\"url(#pa2422588de)\" d=\"M 298.145313 86.689023 \r\nL 298.145313 104.430899 \r\n\" style=\"fill:none;stroke:#4c4c4c;stroke-linecap:round;stroke-width:1.5;\"/>\r\n   </g>\r\n   <g id=\"line2d_18\">\r\n    <path clip-path=\"url(#pa2422588de)\" d=\"M 298.145313 63.307705 \r\nL 298.145313 33.099278 \r\n\" style=\"fill:none;stroke:#4c4c4c;stroke-linecap:round;stroke-width:1.5;\"/>\r\n   </g>\r\n   <g id=\"line2d_19\">\r\n    <path clip-path=\"url(#pa2422588de)\" d=\"M 264.665313 104.430899 \r\nL 331.625313 104.430899 \r\n\" style=\"fill:none;stroke:#4c4c4c;stroke-linecap:round;stroke-width:1.5;\"/>\r\n   </g>\r\n   <g id=\"line2d_20\">\r\n    <path clip-path=\"url(#pa2422588de)\" d=\"M 264.665313 33.099278 \r\nL 331.625313 33.099278 \r\n\" style=\"fill:none;stroke:#4c4c4c;stroke-linecap:round;stroke-width:1.5;\"/>\r\n   </g>\r\n   <g id=\"line2d_21\">\r\n    <g clip-path=\"url(#pa2422588de)\">\r\n     <use style=\"fill:#4c4c4c;stroke:#4c4c4c;stroke-linejoin:miter;\" x=\"298.145313\" xlink:href=\"#m4cab5cddfd\" y=\"27.019596\"/>\r\n     <use style=\"fill:#4c4c4c;stroke:#4c4c4c;stroke-linejoin:miter;\" x=\"298.145313\" xlink:href=\"#m4cab5cddfd\" y=\"-1\"/>\r\n     <use style=\"fill:#4c4c4c;stroke:#4c4c4c;stroke-linejoin:miter;\" x=\"298.145313\" xlink:href=\"#m4cab5cddfd\" y=\"-1\"/>\r\n     <use style=\"fill:#4c4c4c;stroke:#4c4c4c;stroke-linejoin:miter;\" x=\"298.145313\" xlink:href=\"#m4cab5cddfd\" y=\"27.824151\"/>\r\n     <use style=\"fill:#4c4c4c;stroke:#4c4c4c;stroke-linejoin:miter;\" x=\"298.145313\" xlink:href=\"#m4cab5cddfd\" y=\"26.18524\"/>\r\n    </g>\r\n   </g>\r\n   <g id=\"line2d_22\">\r\n    <path clip-path=\"url(#pa2422588de)\" d=\"M 63.785313 161.21675 \r\nL 197.705313 161.21675 \r\n\" style=\"fill:none;stroke:#4c4c4c;stroke-linecap:round;stroke-width:1.5;\"/>\r\n   </g>\r\n   <g id=\"line2d_23\">\r\n    <path clip-path=\"url(#pa2422588de)\" d=\"M 231.185313 77.781062 \r\nL 365.105312 77.781062 \r\n\" style=\"fill:none;stroke:#4c4c4c;stroke-linecap:round;stroke-width:1.5;\"/>\r\n   </g>\r\n   <g id=\"patch_5\">\r\n    <path d=\"M 47.045313 228.218906 \r\nL 47.045313 10.778906 \r\n\" style=\"fill:none;stroke:#000000;stroke-linecap:square;stroke-linejoin:miter;stroke-width:0.8;\"/>\r\n   </g>\r\n   <g id=\"patch_6\">\r\n    <path d=\"M 381.845313 228.218906 \r\nL 381.845313 10.778906 \r\n\" style=\"fill:none;stroke:#000000;stroke-linecap:square;stroke-linejoin:miter;stroke-width:0.8;\"/>\r\n   </g>\r\n   <g id=\"patch_7\">\r\n    <path d=\"M 47.045313 228.218906 \r\nL 381.845313 228.218906 \r\n\" style=\"fill:none;stroke:#000000;stroke-linecap:square;stroke-linejoin:miter;stroke-width:0.8;\"/>\r\n   </g>\r\n   <g id=\"patch_8\">\r\n    <path d=\"M 47.045313 10.778906 \r\nL 381.845313 10.778906 \r\n\" style=\"fill:none;stroke:#000000;stroke-linecap:square;stroke-linejoin:miter;stroke-width:0.8;\"/>\r\n   </g>\r\n  </g>\r\n </g>\r\n <defs>\r\n  <clipPath id=\"pa2422588de\">\r\n   <rect height=\"217.44\" width=\"334.8\" x=\"47.045313\" y=\"10.778906\"/>\r\n  </clipPath>\r\n </defs>\r\n</svg>\r\n",
      "image/png": "[encoded data removed]"
     },
     "metadata": {
      "needs_background": "light"
     }
    }
   ],
   "source": [
    "fig, ax = plt.subplots()\n",
    "sns.set_theme(style='whitegrid')\n",
    "ax.set(ylim=(0.3, 0.7))\n",
    "ax = sns.boxplot(x=data['input_variable'], y=data['shapley_effect'])"
   ]
  },
  {
   "cell_type": "code",
   "execution_count": 16,
   "metadata": {},
   "outputs": [],
   "source": [
    "fig.savefig(fname=os.path.join('figures', f'boxplot_shapley_effects_{n_replicates}'), dpi=1000)"
   ]
  },
  {
   "cell_type": "markdown",
   "metadata": {},
   "source": [
    "Alternative visualisation of the Shapley effects."
   ]
  },
  {
   "cell_type": "code",
   "execution_count": 48,
   "metadata": {},
   "outputs": [],
   "source": [
    "plot_dict = {\n",
    "    0: 'RC',\n",
    "    1: 'theta'\n",
    "}"
   ]
  },
  {
   "cell_type": "code",
   "execution_count": 49,
   "metadata": {},
   "outputs": [],
   "source": [
    "array_shapley_effects = np.array([rc_shapley_effects, theta_shapley_effects])"
   ]
  },
  {
   "cell_type": "code",
   "execution_count": 52,
   "metadata": {},
   "outputs": [
    {
     "name": "stderr",
     "output_type": "stream",
     "text": [
      "C:\\Users\\admin\\anaconda3\\envs\\thesis-benedikt\\lib\\site-packages\\seaborn\\distributions.py:2551: FutureWarning: `distplot` is a deprecated function and will be removed in a future version. Please adapt your code to use either `displot` (a figure-level function with similar flexibility) or `histplot` (an axes-level function for histograms).\n",
      "  warnings.warn(msg, FutureWarning)\n",
      "C:\\Users\\admin\\anaconda3\\envs\\thesis-benedikt\\lib\\site-packages\\seaborn\\distributions.py:2551: FutureWarning: `distplot` is a deprecated function and will be removed in a future version. Please adapt your code to use either `displot` (a figure-level function with similar flexibility) or `histplot` (an axes-level function for histograms).\n",
      "  warnings.warn(msg, FutureWarning)\n"
     ]
    },
    {
     "data": {
      "image/png": "[encoded data removed]",
      "text/plain": [
       "<Figure size 432x288 with 2 Axes>"
      ]
     },
     "metadata": {
      "needs_background": "light"
     },
     "output_type": "display_data"
    }
   ],
   "source": [
    "fig, ax = plt.subplots(1, 2)\n",
    "\n",
    "\n",
    "#sns.distplot(theta_shapley_effects, ax=ax[1])\n",
    "\n",
    "for k, v in plot_dict.items():\n",
    "    sns.distplot(array_shapley_effects[k], ax=ax[k])\n",
    "    \n",
    "    ax[k].set_xlabel(r\"${v}$\")\n",
    "    ax[k].set_ylabel(r\"$f_{v}$\")\n",
    "    \n",
    "    ax[k].axvline(x=np.mean(array_shapley_effects[k]), ymin=0, ymax=1, color='red')\n",
    "    #ax[0].axvline(x=mean_rc_shapley_effects, ymin=0, ymax=1, color='red')\n",
    "\n",
    "    #ax[1].axvline(x=mean_theta_shapley_effects, ymin=0, ymax=1, color='grey')\n",
    "\n",
    "    ax[k].xaxis.set_major_formatter(mpl.ticker.StrMethodFormatter(\"{x:,.0f}\"))\n",
    "    ax[k].axes.get_yaxis().set_ticklabels([])"
   ]
  },
  {
   "cell_type": "markdown",
   "metadata": {},
   "source": [
    "## Run `get_shapley()` for different sample sizes."
   ]
  },
  {
   "cell_type": "markdown",
   "metadata": {},
   "source": [
    "Run for large no. of MC runs."
   ]
  },
  {
   "cell_type": "code",
   "execution_count": 11,
   "metadata": {},
   "outputs": [
    {
     "name": "stdout",
     "output_type": "stream",
     "text": [
      " 5000 model evaluations \n",
      " approx.  0.4861111111111111 hours \n",
      " approx. 29.166666666666668 minutes\n"
     ]
    }
   ],
   "source": [
    "n_output = 10**3\n",
    "n_outer = 10**2\n",
    "n_inner = 20\n",
    "# Time in s for 100 model evaluations.\n",
    "time_model_eval = 35\n",
    "approx_comp_time(time_model_eval, method, n_inputs, n_perms, n_output, n_outer, n_inner)"
   ]
  },
  {
   "cell_type": "code",
   "execution_count": 12,
   "metadata": {},
   "outputs": [
    {
     "name": "stdout",
     "output_type": "stream",
     "text": [
      "Wall time: 33min 15s\n"
     ]
    }
   ],
   "source": [
    "%%time\n",
    "\n",
    "exact_shapley = get_shapley(method, rust_model, x_all, x_cond, n_perms, n_inputs, n_output, n_outer, n_inner)\n",
    "exact_shapley.rename(index={'X1': '$RC$', 'X2': '$\\theta_{11}$'}, inplace=True)"
   ]
  },
  {
   "cell_type": "code",
   "execution_count": 13,
   "metadata": {},
   "outputs": [
    {
     "data": {
      "text/html": [
       "<div>\n",
       "<style scoped>\n",
       "    .dataframe tbody tr th:only-of-type {\n",
       "        vertical-align: middle;\n",
       "    }\n",
       "\n",
       "    .dataframe tbody tr th {\n",
       "        vertical-align: top;\n",
       "    }\n",
       "\n",
       "    .dataframe thead th {\n",
       "        text-align: right;\n",
       "    }\n",
       "</style>\n",
       "<table border=\"1\" class=\"dataframe\">\n",
       "  <thead>\n",
       "    <tr style=\"text-align: right;\">\n",
       "      <th></th>\n",
       "      <th>Shapley effects</th>\n",
       "      <th>std. errors</th>\n",
       "      <th>CI_min</th>\n",
       "      <th>CI_max</th>\n",
       "    </tr>\n",
       "  </thead>\n",
       "  <tbody>\n",
       "    <tr>\n",
       "      <th>RC</th>\n",
       "      <td>0.422186</td>\n",
       "      <td>0.29853</td>\n",
       "      <td>-0.162934</td>\n",
       "      <td>1.007305</td>\n",
       "    </tr>\n",
       "    <tr>\n",
       "      <th>theta_11</th>\n",
       "      <td>0.577814</td>\n",
       "      <td>0.29853</td>\n",
       "      <td>-0.007305</td>\n",
       "      <td>1.162934</td>\n",
       "    </tr>\n",
       "  </tbody>\n",
       "</table>\n",
       "</div>"
      ],
      "text/plain": [
       "          Shapley effects  std. errors    CI_min    CI_max\n",
       "RC               0.422186      0.29853 -0.162934  1.007305\n",
       "theta_11         0.577814      0.29853 -0.007305  1.162934"
      ]
     },
     "execution_count": 13,
     "metadata": {},
     "output_type": "execute_result"
    }
   ],
   "source": [
    "exact_shapley"
   ]
  },
  {
   "cell_type": "markdown",
   "metadata": {},
   "source": [
    "Another try with even larger no.s"
   ]
  },
  {
   "cell_type": "code",
   "execution_count": 20,
   "metadata": {},
   "outputs": [
    {
     "name": "stdout",
     "output_type": "stream",
     "text": [
      " 9000 model evaluations \n",
      " approx.  0.925 hours \n",
      " approx. 55.5 minutes\n"
     ]
    }
   ],
   "source": [
    "n_output = 10**3\n",
    "n_outer = 10**2\n",
    "n_inner = 40\n",
    "# Time in s for 100 model evaluations.\n",
    "time_model_eval = 37\n",
    "approx_comp_time(time_model_eval, method, n_inputs, n_perms, n_output, n_outer, n_inner)"
   ]
  },
  {
   "cell_type": "code",
   "execution_count": 18,
   "metadata": {},
   "outputs": [
    {
     "name": "stdout",
     "output_type": "stream",
     "text": [
      "Wall time: 1h 3min 57s\n"
     ]
    }
   ],
   "source": [
    "%%time\n",
    "\n",
    "exact_shapley = get_shapley(method, rust_model, x_all, x_cond, n_perms, n_inputs, n_output, n_outer, n_inner)\n",
    "exact_shapley.rename(index={'X1': '$RC$', 'X2': '$\\theta_{11}$'}, inplace=True)"
   ]
  },
  {
   "cell_type": "code",
   "execution_count": 19,
   "metadata": {},
   "outputs": [
    {
     "data": {
      "text/html": [
       "<div>\n",
       "<style scoped>\n",
       "    .dataframe tbody tr th:only-of-type {\n",
       "        vertical-align: middle;\n",
       "    }\n",
       "\n",
       "    .dataframe tbody tr th {\n",
       "        vertical-align: top;\n",
       "    }\n",
       "\n",
       "    .dataframe thead th {\n",
       "        text-align: right;\n",
       "    }\n",
       "</style>\n",
       "<table border=\"1\" class=\"dataframe\">\n",
       "  <thead>\n",
       "    <tr style=\"text-align: right;\">\n",
       "      <th></th>\n",
       "      <th>Shapley effects</th>\n",
       "      <th>std. errors</th>\n",
       "      <th>CI_min</th>\n",
       "      <th>CI_max</th>\n",
       "    </tr>\n",
       "  </thead>\n",
       "  <tbody>\n",
       "    <tr>\n",
       "      <th>RC</th>\n",
       "      <td>0.413136</td>\n",
       "      <td>0.292131</td>\n",
       "      <td>-0.159441</td>\n",
       "      <td>0.985713</td>\n",
       "    </tr>\n",
       "    <tr>\n",
       "      <th>theta_11</th>\n",
       "      <td>0.586864</td>\n",
       "      <td>0.292131</td>\n",
       "      <td>0.014287</td>\n",
       "      <td>1.159441</td>\n",
       "    </tr>\n",
       "  </tbody>\n",
       "</table>\n",
       "</div>"
      ],
      "text/plain": [
       "          Shapley effects  std. errors    CI_min    CI_max\n",
       "RC               0.413136     0.292131 -0.159441  0.985713\n",
       "theta_11         0.586864     0.292131  0.014287  1.159441"
      ]
     },
     "execution_count": 19,
     "metadata": {},
     "output_type": "execute_result"
    }
   ],
   "source": [
    "exact_shapley"
   ]
  },
  {
   "cell_type": "code",
   "execution_count": 18,
   "metadata": {},
   "outputs": [],
   "source": [
    "list_num_sim = [{'n_output': 10**3, 'n_outer': 15, 'n_inner': 3}, \n",
    "                {'n_output': 10**3, 'n_outer': 15, 'n_inner': 5}, \n",
    "                {'n_output': 10**3, 'n_outer': 15, 'n_inner': 7}, \n",
    "                {'n_output': 10**3, 'n_outer': 20, 'n_inner': 3}, \n",
    "                {'n_output': 10**3, 'n_outer': 20, 'n_inner': 7}]"
   ]
  },
  {
   "cell_type": "code",
   "execution_count": 12,
   "metadata": {},
   "outputs": [
    {
     "name": "stdout",
     "output_type": "stream",
     "text": [
      "Wall time: 6min 44s\n"
     ]
    }
   ],
   "source": [
    "%%time\n",
    "\n",
    "exact_shapley = get_shapley(method, rust_model, x_all, x_cond, n_perms, n_inputs, n_output, n_outer, n_inner)\n",
    "exact_shapley.rename(index={'X1': '$RC$', 'X2': '$\\theta_{11}$'}, inplace=True)"
   ]
  },
  {
   "cell_type": "code",
   "execution_count": 13,
   "metadata": {},
   "outputs": [
    {
     "data": {
      "text/html": [
       "<div>\n",
       "<style scoped>\n",
       "    .dataframe tbody tr th:only-of-type {\n",
       "        vertical-align: middle;\n",
       "    }\n",
       "\n",
       "    .dataframe tbody tr th {\n",
       "        vertical-align: top;\n",
       "    }\n",
       "\n",
       "    .dataframe thead th {\n",
       "        text-align: right;\n",
       "    }\n",
       "</style>\n",
       "<table border=\"1\" class=\"dataframe\">\n",
       "  <thead>\n",
       "    <tr style=\"text-align: right;\">\n",
       "      <th></th>\n",
       "      <th>Shapley effects</th>\n",
       "      <th>std. errors</th>\n",
       "      <th>CI_min</th>\n",
       "      <th>CI_max</th>\n",
       "    </tr>\n",
       "  </thead>\n",
       "  <tbody>\n",
       "    <tr>\n",
       "      <th>RC</th>\n",
       "      <td>0.425934</td>\n",
       "      <td>0.301181</td>\n",
       "      <td>-0.164381</td>\n",
       "      <td>1.016249</td>\n",
       "    </tr>\n",
       "    <tr>\n",
       "      <th>theta_11</th>\n",
       "      <td>0.574066</td>\n",
       "      <td>0.301181</td>\n",
       "      <td>-0.016249</td>\n",
       "      <td>1.164381</td>\n",
       "    </tr>\n",
       "  </tbody>\n",
       "</table>\n",
       "</div>"
      ],
      "text/plain": [
       "          Shapley effects  std. errors    CI_min    CI_max\n",
       "RC               0.425934     0.301181 -0.164381  1.016249\n",
       "theta_11         0.574066     0.301181 -0.016249  1.164381"
      ]
     },
     "execution_count": 13,
     "metadata": {},
     "output_type": "execute_result"
    }
   ],
   "source": [
    "exact_shapley"
   ]
  },
  {
   "cell_type": "markdown",
   "metadata": {},
   "source": [
    "Try with larger no. of MC runs."
   ]
  },
  {
   "cell_type": "code",
   "execution_count": 29,
   "metadata": {},
   "outputs": [
    {
     "name": "stdout",
     "output_type": "stream",
     "text": [
      "Wall time: 11min 22s\n"
     ]
    }
   ],
   "source": [
    "%%time\n",
    "n_output = 10**2\n",
    "n_outer = 40\n",
    "n_inner = 20\n",
    "exact_shapley = get_shapley(method, rust_model, x_all, x_cond, n_perms, n_inputs, n_output, n_outer, n_inner)\n",
    "exact_shapley.rename(index={'X1': '$RC$', 'X2': '$\\theta_{11}$'}, inplace=True)"
   ]
  },
  {
   "cell_type": "code",
   "execution_count": 30,
   "metadata": {},
   "outputs": [
    {
     "data": {
      "text/html": [
       "<div>\n",
       "<style scoped>\n",
       "    .dataframe tbody tr th:only-of-type {\n",
       "        vertical-align: middle;\n",
       "    }\n",
       "\n",
       "    .dataframe tbody tr th {\n",
       "        vertical-align: top;\n",
       "    }\n",
       "\n",
       "    .dataframe thead th {\n",
       "        text-align: right;\n",
       "    }\n",
       "</style>\n",
       "<table border=\"1\" class=\"dataframe\">\n",
       "  <thead>\n",
       "    <tr style=\"text-align: right;\">\n",
       "      <th></th>\n",
       "      <th>Shapley effects</th>\n",
       "      <th>std. errors</th>\n",
       "      <th>CI_min</th>\n",
       "      <th>CI_max</th>\n",
       "    </tr>\n",
       "  </thead>\n",
       "  <tbody>\n",
       "    <tr>\n",
       "      <th>RC</th>\n",
       "      <td>0.437425</td>\n",
       "      <td>0.309306</td>\n",
       "      <td>-0.168815</td>\n",
       "      <td>1.043666</td>\n",
       "    </tr>\n",
       "    <tr>\n",
       "      <th>theta_11</th>\n",
       "      <td>0.562575</td>\n",
       "      <td>0.309306</td>\n",
       "      <td>-0.043666</td>\n",
       "      <td>1.168815</td>\n",
       "    </tr>\n",
       "  </tbody>\n",
       "</table>\n",
       "</div>"
      ],
      "text/plain": [
       "          Shapley effects  std. errors    CI_min    CI_max\n",
       "RC               0.437425     0.309306 -0.168815  1.043666\n",
       "theta_11         0.562575     0.309306 -0.043666  1.168815"
      ]
     },
     "execution_count": 30,
     "metadata": {},
     "output_type": "execute_result"
    }
   ],
   "source": [
    "exact_shapley"
   ]
  },
  {
   "cell_type": "code",
   "execution_count": 27,
   "metadata": {},
   "outputs": [
    {
     "data": {
      "text/html": [
       "<div>\n",
       "<style scoped>\n",
       "    .dataframe tbody tr th:only-of-type {\n",
       "        vertical-align: middle;\n",
       "    }\n",
       "\n",
       "    .dataframe tbody tr th {\n",
       "        vertical-align: top;\n",
       "    }\n",
       "\n",
       "    .dataframe thead th {\n",
       "        text-align: right;\n",
       "    }\n",
       "</style>\n",
       "<table border=\"1\" class=\"dataframe\">\n",
       "  <thead>\n",
       "    <tr style=\"text-align: right;\">\n",
       "      <th></th>\n",
       "      <th>Shapley effects</th>\n",
       "      <th>std. errors</th>\n",
       "      <th>CI_min</th>\n",
       "      <th>CI_max</th>\n",
       "    </tr>\n",
       "  </thead>\n",
       "  <tbody>\n",
       "    <tr>\n",
       "      <th>RC</th>\n",
       "      <td>0.386826</td>\n",
       "      <td>0.273527</td>\n",
       "      <td>-0.149287</td>\n",
       "      <td>0.922939</td>\n",
       "    </tr>\n",
       "    <tr>\n",
       "      <th>theta_11</th>\n",
       "      <td>0.613174</td>\n",
       "      <td>0.273527</td>\n",
       "      <td>0.077061</td>\n",
       "      <td>1.149287</td>\n",
       "    </tr>\n",
       "  </tbody>\n",
       "</table>\n",
       "</div>"
      ],
      "text/plain": [
       "          Shapley effects  std. errors    CI_min    CI_max\n",
       "RC               0.386826     0.273527 -0.149287  0.922939\n",
       "theta_11         0.613174     0.273527  0.077061  1.149287"
      ]
     },
     "execution_count": 27,
     "metadata": {},
     "output_type": "execute_result"
    }
   ],
   "source": [
    "exact_shapley"
   ]
  },
  {
   "cell_type": "markdown",
   "metadata": {},
   "source": [
    "#### Run the following code over night "
   ]
  },
  {
   "cell_type": "code",
   "execution_count": 54,
   "metadata": {},
   "outputs": [
    {
     "name": "stdout",
     "output_type": "stream",
     "text": [
      " 88000 model evaluations \n",
      " approx.  9.777777777777779 hours \n",
      " approx. 586.6666666666667 minutes\n"
     ]
    }
   ],
   "source": [
    "n_output = 20**3\n",
    "n_outer = 20**2\n",
    "n_inner = 10**2\n",
    "# Time in s for 100 model evaluations.\n",
    "time_model_eval = 40\n",
    "approx_comp_time(time_model_eval, method, n_inputs, n_perms, n_output, n_outer, n_inner)"
   ]
  },
  {
   "cell_type": "code",
   "execution_count": null,
   "metadata": {},
   "outputs": [],
   "source": [
    "exact_shapley = get_shapley(method, rust_model, x_all, x_cond, n_perms, n_inputs, n_output, n_outer, n_inner)\n",
    "exact_shapley.rename(index={'X1': '$RC$', 'X2': '$\\theta_{11}$'}, inplace=True)"
   ]
  },
  {
   "cell_type": "markdown",
   "metadata": {},
   "source": [
    "#### Run for $RC_{fixed}$ close to true $RC$"
   ]
  },
  {
   "cell_type": "code",
   "execution_count": 12,
   "metadata": {},
   "outputs": [],
   "source": [
    "# Need demand at certain value of RC only.  Note RC is scaled by 1e-03.\n",
    "demand_dict = {\n",
    "    \"RC_lower_bound\": 10.0,\n",
    "    \"RC_upper_bound\": 10.0,\n",
    "    \"demand_evaluations\": 1,\n",
    "    \"tolerance\": 1e-10,\n",
    "    \"num_periods\": num_periods,\n",
    "    \"num_buses\": num_buses,\n",
    "}"
   ]
  },
  {
   "cell_type": "code",
   "execution_count": 13,
   "metadata": {},
   "outputs": [
    {
     "name": "stdout",
     "output_type": "stream",
     "text": [
      "Wall time: 5min 10s\n"
     ]
    }
   ],
   "source": [
    "%%time\n",
    "n_output = 10**3\n",
    "n_outer = 15\n",
    "n_inner = 3\n",
    "exact_shapley = get_shapley(method, rust_model, x_all, x_cond, n_perms, n_inputs, n_output, n_outer, n_inner)\n",
    "exact_shapley.rename(index={'X1': '$RC$', 'X2': '$\\theta_{11}$'}, inplace=True)"
   ]
  },
  {
   "cell_type": "code",
   "execution_count": 14,
   "metadata": {},
   "outputs": [
    {
     "data": {
      "text/html": [
       "<div>\n",
       "<style scoped>\n",
       "    .dataframe tbody tr th:only-of-type {\n",
       "        vertical-align: middle;\n",
       "    }\n",
       "\n",
       "    .dataframe tbody tr th {\n",
       "        vertical-align: top;\n",
       "    }\n",
       "\n",
       "    .dataframe thead th {\n",
       "        text-align: right;\n",
       "    }\n",
       "</style>\n",
       "<table border=\"1\" class=\"dataframe\">\n",
       "  <thead>\n",
       "    <tr style=\"text-align: right;\">\n",
       "      <th></th>\n",
       "      <th>Shapley effects</th>\n",
       "      <th>std. errors</th>\n",
       "      <th>CI_min</th>\n",
       "      <th>CI_max</th>\n",
       "    </tr>\n",
       "  </thead>\n",
       "  <tbody>\n",
       "    <tr>\n",
       "      <th>RC</th>\n",
       "      <td>0.425773</td>\n",
       "      <td>0.301067</td>\n",
       "      <td>-0.164318</td>\n",
       "      <td>1.015864</td>\n",
       "    </tr>\n",
       "    <tr>\n",
       "      <th>theta_11</th>\n",
       "      <td>0.574227</td>\n",
       "      <td>0.301067</td>\n",
       "      <td>-0.015864</td>\n",
       "      <td>1.164318</td>\n",
       "    </tr>\n",
       "  </tbody>\n",
       "</table>\n",
       "</div>"
      ],
      "text/plain": [
       "          Shapley effects  std. errors    CI_min    CI_max\n",
       "RC               0.425773     0.301067 -0.164318  1.015864\n",
       "theta_11         0.574227     0.301067 -0.015864  1.164318"
      ]
     },
     "execution_count": 14,
     "metadata": {},
     "output_type": "execute_result"
    }
   ],
   "source": [
    "exact_shapley"
   ]
  },
  {
   "cell_type": "markdown",
   "metadata": {},
   "source": [
    "## Uncertainty Propagation\n",
    "Inspection of the distribution of the implied demand at certain $RC_{fixed}$."
   ]
  },
  {
   "cell_type": "code",
   "execution_count": 14,
   "metadata": {},
   "outputs": [],
   "source": [
    "# Sample data.\n",
    "num_sim_demand = 10 ** 5\n",
    "input_variables = cp.MvNormal(params, cov).sample(num_sim_demand).T"
   ]
  },
  {
   "cell_type": "code",
   "execution_count": 15,
   "metadata": {},
   "outputs": [],
   "source": [
    "get_demand_partial = partial(get_demand, init_dict=init_dict_estimation, demand_dict=demand_dict)\n",
    "def get_demand_mapping(x):\n",
    "    return get_demand_partial(demand_params=x).iloc[0]['demand']"
   ]
  },
  {
   "cell_type": "code",
   "execution_count": 16,
   "metadata": {},
   "outputs": [],
   "source": [
    "demand_inputs = np.zeros((num_sim_demand, 5))\n",
    "demand_inputs[:, :3] = np.array([0.39189182, 0.59529371, 0.01281447])\n",
    "demand_inputs[:, 3:] = input_variables[:, :]"
   ]
  },
  {
   "cell_type": "code",
   "execution_count": 8,
   "metadata": {},
   "outputs": [
    {
     "output_type": "stream",
     "name": "stdout",
     "text": [
      "Wall time: 3min 16s\n"
     ]
    }
   ],
   "source": [
    "%%time\n",
    "# Use Joblib.\n",
    "n_cores = os.cpu_count()\n",
    "implied_demand = Parallel(n_jobs=n_cores)(\n",
    "        delayed(get_demand_mapping)(inp) for inp in demand_inputs\n",
    "    )\n",
    "# implied_demand = np.array(list(map(get_demand_mapping, demand_inputs)))"
   ]
  },
  {
   "cell_type": "code",
   "execution_count": 9,
   "metadata": {},
   "outputs": [],
   "source": [
    "true_demand_params = np.concatenate((trans_probs, params))\n",
    "true_implied_demand = get_demand(init_dict_estimation, demand_dict, true_demand_params).iloc[0]['demand']"
   ]
  },
  {
   "cell_type": "code",
   "execution_count": 10,
   "metadata": {},
   "outputs": [
    {
     "output_type": "execute_result",
     "data": {
      "text/plain": [
       "59.08876072857218"
      ]
     },
     "metadata": {},
     "execution_count": 10
    }
   ],
   "source": [
    "true_implied_demand"
   ]
  },
  {
   "cell_type": "code",
   "execution_count": 11,
   "metadata": {},
   "outputs": [],
   "source": [
    "# mean_implied_demand = np.mean(implied_demand)"
   ]
  },
  {
   "cell_type": "code",
   "execution_count": 12,
   "metadata": {},
   "outputs": [
    {
     "output_type": "stream",
     "name": "stderr",
     "text": [
      "C:\\Users\\admin\\anaconda3\\envs\\thesis-benedikt\\lib\\site-packages\\seaborn\\distributions.py:2557: FutureWarning: `distplot` is a deprecated function and will be removed in a future version. Please adapt your code to use either `displot` (a figure-level function with similar flexibility) or `histplot` (an axes-level function for histograms).\n  warnings.warn(msg, FutureWarning)\n"
     ]
    },
    {
     "output_type": "execute_result",
     "data": {
      "text/plain": [
       "[Text(0, 0.0, ''),\n",
       " Text(0, 0.01, ''),\n",
       " Text(0, 0.02, ''),\n",
       " Text(0, 0.03, ''),\n",
       " Text(0, 0.04, ''),\n",
       " Text(0, 0.05, ''),\n",
       " Text(0, 0.06, ''),\n",
       " Text(0, 0.07, ''),\n",
       " Text(0, 0.08, '')]"
      ]
     },
     "metadata": {},
     "execution_count": 12
    },
    {
     "output_type": "display_data",
     "data": {
      "text/plain": "<Figure size 432x288 with 1 Axes>",
      "image/svg+xml": "<?xml version=\"1.0\" encoding=\"utf-8\" standalone=\"no\"?>\r\n<!DOCTYPE svg PUBLIC \"-//W3C//DTD SVG 1.1//EN\"\r\n  \"http://www.w3.org/Graphics/SVG/1.1/DTD/svg11.dtd\">\r\n<svg height=\"262.19625pt\" version=\"1.1\" viewBox=\"0 0 369.878125 262.19625\" width=\"369.878125pt\" xmlns=\"http://www.w3.org/2000/svg\" xmlns:xlink=\"http://www.w3.org/1999/xlink\">\r\n <metadata>\r\n  <rdf:RDF xmlns:cc=\"http://creativecommons.org/ns#\" xmlns:dc=\"http://purl.org/dc/elements/1.1/\" xmlns:rdf=\"http://www.w3.org/1999/02/22-rdf-syntax-ns#\">\r\n   <cc:Work>\r\n    <dc:type rdf:resource=\"http://purl.org/dc/dcmitype/StillImage\"/>\r\n    <dc:date>2021-04-26T23:48:30.377436</dc:date>\r\n    <dc:format>image/svg+xml</dc:format>\r\n    <dc:creator>\r\n     <cc:Agent>\r\n      <dc:title>Matplotlib v3.4.1, https://matplotlib.org/</dc:title>\r\n     </cc:Agent>\r\n    </dc:creator>\r\n   </cc:Work>\r\n  </rdf:RDF>\r\n </metadata>\r\n <defs>\r\n  <style type=\"text/css\">*{stroke-linecap:butt;stroke-linejoin:round;}</style>\r\n </defs>\r\n <g id=\"figure_1\">\r\n  <g id=\"patch_1\">\r\n   <path d=\"M 0 262.19625 \r\nL 369.878125 262.19625 \r\nL 369.878125 0 \r\nL 0 0 \r\nz\r\n\" style=\"fill:none;\"/>\r\n  </g>\r\n  <g id=\"axes_1\">\r\n   <g id=\"patch_2\">\r\n    <path d=\"M 27.878125 224.64 \r\nL 362.678125 224.64 \r\nL 362.678125 7.2 \r\nL 27.878125 7.2 \r\nz\r\n\" style=\"fill:#ffffff;\"/>\r\n   </g>\r\n   <g id=\"patch_3\">\r\n    <path clip-path=\"url(#p694900a85d)\" d=\"M 69.320635 224.64 \r\nL 78.650819 224.64 \r\nL 78.650819 222.885036 \r\nL 69.320635 222.885036 \r\nz\r\n\" style=\"fill:#1f77b4;opacity:0.4;\"/>\r\n   </g>\r\n   <g id=\"patch_4\">\r\n    <path clip-path=\"url(#p694900a85d)\" d=\"M 78.650819 224.64 \r\nL 87.981004 224.64 \r\nL 87.981004 221.130073 \r\nL 78.650819 221.130073 \r\nz\r\n\" style=\"fill:#1f77b4;opacity:0.4;\"/>\r\n   </g>\r\n   <g id=\"patch_5\">\r\n    <path clip-path=\"url(#p694900a85d)\" d=\"M 87.981004 224.64 \r\nL 97.311188 224.64 \r\nL 97.311188 219.375109 \r\nL 87.981004 219.375109 \r\nz\r\n\" style=\"fill:#1f77b4;opacity:0.4;\"/>\r\n   </g>\r\n   <g id=\"patch_6\">\r\n    <path clip-path=\"url(#p694900a85d)\" d=\"M 97.311188 224.64 \r\nL 106.641373 224.64 \r\nL 106.641373 222.885036 \r\nL 97.311188 222.885036 \r\nz\r\n\" style=\"fill:#1f77b4;opacity:0.4;\"/>\r\n   </g>\r\n   <g id=\"patch_7\">\r\n    <path clip-path=\"url(#p694900a85d)\" d=\"M 106.641373 224.64 \r\nL 115.971557 224.64 \r\nL 115.971557 219.375109 \r\nL 106.641373 219.375109 \r\nz\r\n\" style=\"fill:#1f77b4;opacity:0.4;\"/>\r\n   </g>\r\n   <g id=\"patch_8\">\r\n    <path clip-path=\"url(#p694900a85d)\" d=\"M 115.971557 224.64 \r\nL 125.301741 224.64 \r\nL 125.301741 221.130073 \r\nL 115.971557 221.130073 \r\nz\r\n\" style=\"fill:#1f77b4;opacity:0.4;\"/>\r\n   </g>\r\n   <g id=\"patch_9\">\r\n    <path clip-path=\"url(#p694900a85d)\" d=\"M 125.301741 224.64 \r\nL 134.631926 224.64 \r\nL 134.631926 200.070508 \r\nL 125.301741 200.070508 \r\nz\r\n\" style=\"fill:#1f77b4;opacity:0.4;\"/>\r\n   </g>\r\n   <g id=\"patch_10\">\r\n    <path clip-path=\"url(#p694900a85d)\" d=\"M 134.631926 224.64 \r\nL 143.96211 224.64 \r\nL 143.96211 196.560581 \r\nL 134.631926 196.560581 \r\nz\r\n\" style=\"fill:#1f77b4;opacity:0.4;\"/>\r\n   </g>\r\n   <g id=\"patch_11\">\r\n    <path clip-path=\"url(#p694900a85d)\" d=\"M 143.96211 224.64 \r\nL 153.292295 224.64 \r\nL 153.292295 171.99109 \r\nL 143.96211 171.99109 \r\nz\r\n\" style=\"fill:#1f77b4;opacity:0.4;\"/>\r\n   </g>\r\n   <g id=\"patch_12\">\r\n    <path clip-path=\"url(#p694900a85d)\" d=\"M 153.292295 224.64 \r\nL 162.622479 224.64 \r\nL 162.622479 161.461308 \r\nL 153.292295 161.461308 \r\nz\r\n\" style=\"fill:#1f77b4;opacity:0.4;\"/>\r\n   </g>\r\n   <g id=\"patch_13\">\r\n    <path clip-path=\"url(#p694900a85d)\" d=\"M 162.622479 224.64 \r\nL 171.952664 224.64 \r\nL 171.952664 136.891816 \r\nL 162.622479 136.891816 \r\nz\r\n\" style=\"fill:#1f77b4;opacity:0.4;\"/>\r\n   </g>\r\n   <g id=\"patch_14\">\r\n    <path clip-path=\"url(#p694900a85d)\" d=\"M 171.952664 224.64 \r\nL 181.282848 224.64 \r\nL 181.282848 115.832252 \r\nL 171.952664 115.832252 \r\nz\r\n\" style=\"fill:#1f77b4;opacity:0.4;\"/>\r\n   </g>\r\n   <g id=\"patch_15\">\r\n    <path clip-path=\"url(#p694900a85d)\" d=\"M 181.282848 224.64 \r\nL 190.613033 224.64 \r\nL 190.613033 84.242906 \r\nL 181.282848 84.242906 \r\nz\r\n\" style=\"fill:#1f77b4;opacity:0.4;\"/>\r\n   </g>\r\n   <g id=\"patch_16\">\r\n    <path clip-path=\"url(#p694900a85d)\" d=\"M 190.613033 224.64 \r\nL 199.943217 224.64 \r\nL 199.943217 93.017724 \r\nL 190.613033 93.017724 \r\nz\r\n\" style=\"fill:#1f77b4;opacity:0.4;\"/>\r\n   </g>\r\n   <g id=\"patch_17\">\r\n    <path clip-path=\"url(#p694900a85d)\" d=\"M 199.943217 224.64 \r\nL 209.273402 224.64 \r\nL 209.273402 36.858886 \r\nL 199.943217 36.858886 \r\nz\r\n\" style=\"fill:#1f77b4;opacity:0.4;\"/>\r\n   </g>\r\n   <g id=\"patch_18\">\r\n    <path clip-path=\"url(#p694900a85d)\" d=\"M 209.273402 224.64 \r\nL 218.603586 224.64 \r\nL 218.603586 17.554286 \r\nL 209.273402 17.554286 \r\nz\r\n\" style=\"fill:#1f77b4;opacity:0.4;\"/>\r\n   </g>\r\n   <g id=\"patch_19\">\r\n    <path clip-path=\"url(#p694900a85d)\" d=\"M 218.603586 224.64 \r\nL 227.933771 224.64 \r\nL 227.933771 40.368814 \r\nL 218.603586 40.368814 \r\nz\r\n\" style=\"fill:#1f77b4;opacity:0.4;\"/>\r\n   </g>\r\n   <g id=\"patch_20\">\r\n    <path clip-path=\"url(#p694900a85d)\" d=\"M 227.933771 224.64 \r\nL 237.263955 224.64 \r\nL 237.263955 43.878741 \r\nL 227.933771 43.878741 \r\nz\r\n\" style=\"fill:#1f77b4;opacity:0.4;\"/>\r\n   </g>\r\n   <g id=\"patch_21\">\r\n    <path clip-path=\"url(#p694900a85d)\" d=\"M 237.263955 224.64 \r\nL 246.59414 224.64 \r\nL 246.59414 96.527651 \r\nL 237.263955 96.527651 \r\nz\r\n\" style=\"fill:#1f77b4;opacity:0.4;\"/>\r\n   </g>\r\n   <g id=\"patch_22\">\r\n    <path clip-path=\"url(#p694900a85d)\" d=\"M 246.59414 224.64 \r\nL 255.924324 224.64 \r\nL 255.924324 121.097143 \r\nL 246.59414 121.097143 \r\nz\r\n\" style=\"fill:#1f77b4;opacity:0.4;\"/>\r\n   </g>\r\n   <g id=\"patch_23\">\r\n    <path clip-path=\"url(#p694900a85d)\" d=\"M 255.924324 224.64 \r\nL 265.254509 224.64 \r\nL 265.254509 175.501017 \r\nL 255.924324 175.501017 \r\nz\r\n\" style=\"fill:#1f77b4;opacity:0.4;\"/>\r\n   </g>\r\n   <g id=\"patch_24\">\r\n    <path clip-path=\"url(#p694900a85d)\" d=\"M 265.254509 224.64 \r\nL 274.584693 224.64 \r\nL 274.584693 200.070508 \r\nL 265.254509 200.070508 \r\nz\r\n\" style=\"fill:#1f77b4;opacity:0.4;\"/>\r\n   </g>\r\n   <g id=\"patch_25\">\r\n    <path clip-path=\"url(#p694900a85d)\" d=\"M 274.584693 224.64 \r\nL 283.914877 224.64 \r\nL 283.914877 205.3354 \r\nL 274.584693 205.3354 \r\nz\r\n\" style=\"fill:#1f77b4;opacity:0.4;\"/>\r\n   </g>\r\n   <g id=\"patch_26\">\r\n    <path clip-path=\"url(#p694900a85d)\" d=\"M 283.914877 224.64 \r\nL 293.245062 224.64 \r\nL 293.245062 215.865182 \r\nL 283.914877 215.865182 \r\nz\r\n\" style=\"fill:#1f77b4;opacity:0.4;\"/>\r\n   </g>\r\n   <g id=\"patch_27\">\r\n    <path clip-path=\"url(#p694900a85d)\" d=\"M 293.245062 224.64 \r\nL 302.575246 224.64 \r\nL 302.575246 222.885036 \r\nL 293.245062 222.885036 \r\nz\r\n\" style=\"fill:#1f77b4;opacity:0.4;\"/>\r\n   </g>\r\n   <g id=\"patch_28\">\r\n    <path clip-path=\"url(#p694900a85d)\" d=\"M 302.575246 224.64 \r\nL 311.905431 224.64 \r\nL 311.905431 224.64 \r\nL 302.575246 224.64 \r\nz\r\n\" style=\"fill:#1f77b4;opacity:0.4;\"/>\r\n   </g>\r\n   <g id=\"patch_29\">\r\n    <path clip-path=\"url(#p694900a85d)\" d=\"M 311.905431 224.64 \r\nL 321.235615 224.64 \r\nL 321.235615 222.885036 \r\nL 311.905431 222.885036 \r\nz\r\n\" style=\"fill:#1f77b4;opacity:0.4;\"/>\r\n   </g>\r\n   <g id=\"matplotlib.axis_1\">\r\n    <g id=\"xtick_1\">\r\n     <g id=\"line2d_1\">\r\n      <defs>\r\n       <path d=\"M 0 0 \r\nL 0 3.5 \r\n\" id=\"m24543f1052\" style=\"stroke:#000000;stroke-width:0.8;\"/>\r\n      </defs>\r\n      <g>\r\n       <use style=\"stroke:#000000;stroke-width:0.8;\" x=\"48.357372\" xlink:href=\"#m24543f1052\" y=\"224.64\"/>\r\n      </g>\r\n     </g>\r\n     <g id=\"text_1\">\r\n      <!-- 30 -->\r\n      <g transform=\"translate(41.994872 239.238437)scale(0.1 -0.1)\">\r\n       <defs>\r\n        <path d=\"M 2597 2516 \r\nQ 3050 2419 3304 2112 \r\nQ 3559 1806 3559 1356 \r\nQ 3559 666 3084 287 \r\nQ 2609 -91 1734 -91 \r\nQ 1441 -91 1130 -33 \r\nQ 819 25 488 141 \r\nL 488 750 \r\nQ 750 597 1062 519 \r\nQ 1375 441 1716 441 \r\nQ 2309 441 2620 675 \r\nQ 2931 909 2931 1356 \r\nQ 2931 1769 2642 2001 \r\nQ 2353 2234 1838 2234 \r\nL 1294 2234 \r\nL 1294 2753 \r\nL 1863 2753 \r\nQ 2328 2753 2575 2939 \r\nQ 2822 3125 2822 3475 \r\nQ 2822 3834 2567 4026 \r\nQ 2313 4219 1838 4219 \r\nQ 1578 4219 1281 4162 \r\nQ 984 4106 628 3988 \r\nL 628 4550 \r\nQ 988 4650 1302 4700 \r\nQ 1616 4750 1894 4750 \r\nQ 2613 4750 3031 4423 \r\nQ 3450 4097 3450 3541 \r\nQ 3450 3153 3228 2886 \r\nQ 3006 2619 2597 2516 \r\nz\r\n\" id=\"DejaVuSans-33\" transform=\"scale(0.015625)\"/>\r\n        <path d=\"M 2034 4250 \r\nQ 1547 4250 1301 3770 \r\nQ 1056 3291 1056 2328 \r\nQ 1056 1369 1301 889 \r\nQ 1547 409 2034 409 \r\nQ 2525 409 2770 889 \r\nQ 3016 1369 3016 2328 \r\nQ 3016 3291 2770 3770 \r\nQ 2525 4250 2034 4250 \r\nz\r\nM 2034 4750 \r\nQ 2819 4750 3233 4129 \r\nQ 3647 3509 3647 2328 \r\nQ 3647 1150 3233 529 \r\nQ 2819 -91 2034 -91 \r\nQ 1250 -91 836 529 \r\nQ 422 1150 422 2328 \r\nQ 422 3509 836 4129 \r\nQ 1250 4750 2034 4750 \r\nz\r\n\" id=\"DejaVuSans-30\" transform=\"scale(0.015625)\"/>\r\n       </defs>\r\n       <use xlink:href=\"#DejaVuSans-33\"/>\r\n       <use x=\"63.623047\" xlink:href=\"#DejaVuSans-30\"/>\r\n      </g>\r\n     </g>\r\n    </g>\r\n    <g id=\"xtick_2\">\r\n     <g id=\"line2d_2\">\r\n      <g>\r\n       <use style=\"stroke:#000000;stroke-width:0.8;\" x=\"104.224368\" xlink:href=\"#m24543f1052\" y=\"224.64\"/>\r\n      </g>\r\n     </g>\r\n     <g id=\"text_2\">\r\n      <!-- 40 -->\r\n      <g transform=\"translate(97.861868 239.238437)scale(0.1 -0.1)\">\r\n       <defs>\r\n        <path d=\"M 2419 4116 \r\nL 825 1625 \r\nL 2419 1625 \r\nL 2419 4116 \r\nz\r\nM 2253 4666 \r\nL 3047 4666 \r\nL 3047 1625 \r\nL 3713 1625 \r\nL 3713 1100 \r\nL 3047 1100 \r\nL 3047 0 \r\nL 2419 0 \r\nL 2419 1100 \r\nL 313 1100 \r\nL 313 1709 \r\nL 2253 4666 \r\nz\r\n\" id=\"DejaVuSans-34\" transform=\"scale(0.015625)\"/>\r\n       </defs>\r\n       <use xlink:href=\"#DejaVuSans-34\"/>\r\n       <use x=\"63.623047\" xlink:href=\"#DejaVuSans-30\"/>\r\n      </g>\r\n     </g>\r\n    </g>\r\n    <g id=\"xtick_3\">\r\n     <g id=\"line2d_3\">\r\n      <g>\r\n       <use style=\"stroke:#000000;stroke-width:0.8;\" x=\"160.091365\" xlink:href=\"#m24543f1052\" y=\"224.64\"/>\r\n      </g>\r\n     </g>\r\n     <g id=\"text_3\">\r\n      <!-- 50 -->\r\n      <g transform=\"translate(153.728865 239.238437)scale(0.1 -0.1)\">\r\n       <defs>\r\n        <path d=\"M 691 4666 \r\nL 3169 4666 \r\nL 3169 4134 \r\nL 1269 4134 \r\nL 1269 2991 \r\nQ 1406 3038 1543 3061 \r\nQ 1681 3084 1819 3084 \r\nQ 2600 3084 3056 2656 \r\nQ 3513 2228 3513 1497 \r\nQ 3513 744 3044 326 \r\nQ 2575 -91 1722 -91 \r\nQ 1428 -91 1123 -41 \r\nQ 819 9 494 109 \r\nL 494 744 \r\nQ 775 591 1075 516 \r\nQ 1375 441 1709 441 \r\nQ 2250 441 2565 725 \r\nQ 2881 1009 2881 1497 \r\nQ 2881 1984 2565 2268 \r\nQ 2250 2553 1709 2553 \r\nQ 1456 2553 1204 2497 \r\nQ 953 2441 691 2322 \r\nL 691 4666 \r\nz\r\n\" id=\"DejaVuSans-35\" transform=\"scale(0.015625)\"/>\r\n       </defs>\r\n       <use xlink:href=\"#DejaVuSans-35\"/>\r\n       <use x=\"63.623047\" xlink:href=\"#DejaVuSans-30\"/>\r\n      </g>\r\n     </g>\r\n    </g>\r\n    <g id=\"xtick_4\">\r\n     <g id=\"line2d_4\">\r\n      <g>\r\n       <use style=\"stroke:#000000;stroke-width:0.8;\" x=\"215.958362\" xlink:href=\"#m24543f1052\" y=\"224.64\"/>\r\n      </g>\r\n     </g>\r\n     <g id=\"text_4\">\r\n      <!-- 60 -->\r\n      <g transform=\"translate(209.595862 239.238437)scale(0.1 -0.1)\">\r\n       <defs>\r\n        <path d=\"M 2113 2584 \r\nQ 1688 2584 1439 2293 \r\nQ 1191 2003 1191 1497 \r\nQ 1191 994 1439 701 \r\nQ 1688 409 2113 409 \r\nQ 2538 409 2786 701 \r\nQ 3034 994 3034 1497 \r\nQ 3034 2003 2786 2293 \r\nQ 2538 2584 2113 2584 \r\nz\r\nM 3366 4563 \r\nL 3366 3988 \r\nQ 3128 4100 2886 4159 \r\nQ 2644 4219 2406 4219 \r\nQ 1781 4219 1451 3797 \r\nQ 1122 3375 1075 2522 \r\nQ 1259 2794 1537 2939 \r\nQ 1816 3084 2150 3084 \r\nQ 2853 3084 3261 2657 \r\nQ 3669 2231 3669 1497 \r\nQ 3669 778 3244 343 \r\nQ 2819 -91 2113 -91 \r\nQ 1303 -91 875 529 \r\nQ 447 1150 447 2328 \r\nQ 447 3434 972 4092 \r\nQ 1497 4750 2381 4750 \r\nQ 2619 4750 2861 4703 \r\nQ 3103 4656 3366 4563 \r\nz\r\n\" id=\"DejaVuSans-36\" transform=\"scale(0.015625)\"/>\r\n       </defs>\r\n       <use xlink:href=\"#DejaVuSans-36\"/>\r\n       <use x=\"63.623047\" xlink:href=\"#DejaVuSans-30\"/>\r\n      </g>\r\n     </g>\r\n    </g>\r\n    <g id=\"xtick_5\">\r\n     <g id=\"line2d_5\">\r\n      <g>\r\n       <use style=\"stroke:#000000;stroke-width:0.8;\" x=\"271.825358\" xlink:href=\"#m24543f1052\" y=\"224.64\"/>\r\n      </g>\r\n     </g>\r\n     <g id=\"text_5\">\r\n      <!-- 70 -->\r\n      <g transform=\"translate(265.462858 239.238437)scale(0.1 -0.1)\">\r\n       <defs>\r\n        <path d=\"M 525 4666 \r\nL 3525 4666 \r\nL 3525 4397 \r\nL 1831 0 \r\nL 1172 0 \r\nL 2766 4134 \r\nL 525 4134 \r\nL 525 4666 \r\nz\r\n\" id=\"DejaVuSans-37\" transform=\"scale(0.015625)\"/>\r\n       </defs>\r\n       <use xlink:href=\"#DejaVuSans-37\"/>\r\n       <use x=\"63.623047\" xlink:href=\"#DejaVuSans-30\"/>\r\n      </g>\r\n     </g>\r\n    </g>\r\n    <g id=\"xtick_6\">\r\n     <g id=\"line2d_6\">\r\n      <g>\r\n       <use style=\"stroke:#000000;stroke-width:0.8;\" x=\"327.692355\" xlink:href=\"#m24543f1052\" y=\"224.64\"/>\r\n      </g>\r\n     </g>\r\n     <g id=\"text_6\">\r\n      <!-- 80 -->\r\n      <g transform=\"translate(321.329855 239.238437)scale(0.1 -0.1)\">\r\n       <defs>\r\n        <path d=\"M 2034 2216 \r\nQ 1584 2216 1326 1975 \r\nQ 1069 1734 1069 1313 \r\nQ 1069 891 1326 650 \r\nQ 1584 409 2034 409 \r\nQ 2484 409 2743 651 \r\nQ 3003 894 3003 1313 \r\nQ 3003 1734 2745 1975 \r\nQ 2488 2216 2034 2216 \r\nz\r\nM 1403 2484 \r\nQ 997 2584 770 2862 \r\nQ 544 3141 544 3541 \r\nQ 544 4100 942 4425 \r\nQ 1341 4750 2034 4750 \r\nQ 2731 4750 3128 4425 \r\nQ 3525 4100 3525 3541 \r\nQ 3525 3141 3298 2862 \r\nQ 3072 2584 2669 2484 \r\nQ 3125 2378 3379 2068 \r\nQ 3634 1759 3634 1313 \r\nQ 3634 634 3220 271 \r\nQ 2806 -91 2034 -91 \r\nQ 1263 -91 848 271 \r\nQ 434 634 434 1313 \r\nQ 434 1759 690 2068 \r\nQ 947 2378 1403 2484 \r\nz\r\nM 1172 3481 \r\nQ 1172 3119 1398 2916 \r\nQ 1625 2713 2034 2713 \r\nQ 2441 2713 2670 2916 \r\nQ 2900 3119 2900 3481 \r\nQ 2900 3844 2670 4047 \r\nQ 2441 4250 2034 4250 \r\nQ 1625 4250 1398 4047 \r\nQ 1172 3844 1172 3481 \r\nz\r\n\" id=\"DejaVuSans-38\" transform=\"scale(0.015625)\"/>\r\n       </defs>\r\n       <use xlink:href=\"#DejaVuSans-38\"/>\r\n       <use x=\"63.623047\" xlink:href=\"#DejaVuSans-30\"/>\r\n      </g>\r\n     </g>\r\n    </g>\r\n    <g id=\"text_7\">\r\n     <!-- $Y$ -->\r\n     <g transform=\"translate(192.178125 252.916562)scale(0.1 -0.1)\">\r\n      <defs>\r\n       <path d=\"M 403 4666 \r\nL 1081 4666 \r\nL 1953 2747 \r\nL 3616 4666 \r\nL 4325 4666 \r\nL 2209 2222 \r\nL 1778 0 \r\nL 1147 0 \r\nL 1575 2222 \r\nL 403 4666 \r\nz\r\n\" id=\"DejaVuSans-Oblique-59\" transform=\"scale(0.015625)\"/>\r\n      </defs>\r\n      <use transform=\"translate(0 0.09375)\" xlink:href=\"#DejaVuSans-Oblique-59\"/>\r\n     </g>\r\n    </g>\r\n   </g>\r\n   <g id=\"matplotlib.axis_2\">\r\n    <g id=\"ytick_1\">\r\n     <g id=\"line2d_7\">\r\n      <defs>\r\n       <path d=\"M 0 0 \r\nL -3.5 0 \r\n\" id=\"m59441bffde\" style=\"stroke:#000000;stroke-width:0.8;\"/>\r\n      </defs>\r\n      <g>\r\n       <use style=\"stroke:#000000;stroke-width:0.8;\" x=\"27.878125\" xlink:href=\"#m59441bffde\" y=\"224.64\"/>\r\n      </g>\r\n     </g>\r\n    </g>\r\n    <g id=\"ytick_2\">\r\n     <g id=\"line2d_8\">\r\n      <g>\r\n       <use style=\"stroke:#000000;stroke-width:0.8;\" x=\"27.878125\" xlink:href=\"#m59441bffde\" y=\"195.330863\"/>\r\n      </g>\r\n     </g>\r\n    </g>\r\n    <g id=\"ytick_3\">\r\n     <g id=\"line2d_9\">\r\n      <g>\r\n       <use style=\"stroke:#000000;stroke-width:0.8;\" x=\"27.878125\" xlink:href=\"#m59441bffde\" y=\"166.021725\"/>\r\n      </g>\r\n     </g>\r\n    </g>\r\n    <g id=\"ytick_4\">\r\n     <g id=\"line2d_10\">\r\n      <g>\r\n       <use style=\"stroke:#000000;stroke-width:0.8;\" x=\"27.878125\" xlink:href=\"#m59441bffde\" y=\"136.712588\"/>\r\n      </g>\r\n     </g>\r\n    </g>\r\n    <g id=\"ytick_5\">\r\n     <g id=\"line2d_11\">\r\n      <g>\r\n       <use style=\"stroke:#000000;stroke-width:0.8;\" x=\"27.878125\" xlink:href=\"#m59441bffde\" y=\"107.40345\"/>\r\n      </g>\r\n     </g>\r\n    </g>\r\n    <g id=\"ytick_6\">\r\n     <g id=\"line2d_12\">\r\n      <g>\r\n       <use style=\"stroke:#000000;stroke-width:0.8;\" x=\"27.878125\" xlink:href=\"#m59441bffde\" y=\"78.094313\"/>\r\n      </g>\r\n     </g>\r\n    </g>\r\n    <g id=\"ytick_7\">\r\n     <g id=\"line2d_13\">\r\n      <g>\r\n       <use style=\"stroke:#000000;stroke-width:0.8;\" x=\"27.878125\" xlink:href=\"#m59441bffde\" y=\"48.785175\"/>\r\n      </g>\r\n     </g>\r\n    </g>\r\n    <g id=\"ytick_8\">\r\n     <g id=\"line2d_14\">\r\n      <g>\r\n       <use style=\"stroke:#000000;stroke-width:0.8;\" x=\"27.878125\" xlink:href=\"#m59441bffde\" y=\"19.476038\"/>\r\n      </g>\r\n     </g>\r\n    </g>\r\n    <g id=\"text_8\">\r\n     <!-- $f_Y$ -->\r\n     <g transform=\"translate(14.798438 119.97)rotate(-90)scale(0.1 -0.1)\">\r\n      <defs>\r\n       <path d=\"M 3059 4863 \r\nL 2969 4384 \r\nL 2419 4384 \r\nQ 2106 4384 1964 4261 \r\nQ 1822 4138 1753 3809 \r\nL 1691 3500 \r\nL 2638 3500 \r\nL 2553 3053 \r\nL 1606 3053 \r\nL 1013 0 \r\nL 434 0 \r\nL 1031 3053 \r\nL 481 3053 \r\nL 563 3500 \r\nL 1113 3500 \r\nL 1159 3744 \r\nQ 1278 4363 1576 4613 \r\nQ 1875 4863 2516 4863 \r\nL 3059 4863 \r\nz\r\n\" id=\"DejaVuSans-Oblique-66\" transform=\"scale(0.015625)\"/>\r\n      </defs>\r\n      <use transform=\"translate(0 0.015625)\" xlink:href=\"#DejaVuSans-Oblique-66\"/>\r\n      <use transform=\"translate(35.205078 -16.390625)scale(0.7)\" xlink:href=\"#DejaVuSans-Oblique-59\"/>\r\n     </g>\r\n    </g>\r\n   </g>\r\n   <g id=\"line2d_15\">\r\n    <path clip-path=\"url(#p694900a85d)\" d=\"M 43.096307 224.631656 \r\nL 52.2731 224.525475 \r\nL 58.390962 224.270957 \r\nL 66.038289 223.720249 \r\nL 78.274014 222.615735 \r\nL 90.509738 221.407289 \r\nL 96.6276 221.110748 \r\nL 104.274927 220.823683 \r\nL 107.333858 220.47269 \r\nL 110.392789 219.843833 \r\nL 113.45172 218.844039 \r\nL 114.981186 218.173862 \r\nL 116.510651 217.373366 \r\nL 118.040117 216.431708 \r\nL 119.569582 215.341342 \r\nL 121.099048 214.099526 \r\nL 124.157979 211.179394 \r\nL 127.21691 207.758502 \r\nL 130.275841 203.968871 \r\nL 134.864237 197.823842 \r\nL 139.452634 191.251024 \r\nL 144.04103 184.265279 \r\nL 147.099961 179.324552 \r\nL 150.158892 174.025869 \r\nL 153.217823 168.207885 \r\nL 156.276755 161.774033 \r\nL 159.335686 154.78435 \r\nL 165.453548 139.952345 \r\nL 179.218737 106.227104 \r\nL 182.277668 99.356105 \r\nL 185.336599 93.016835 \r\nL 191.454461 80.816432 \r\nL 194.513392 74.081502 \r\nL 197.572323 66.667976 \r\nL 203.690185 51.175967 \r\nL 206.749116 44.224707 \r\nL 208.278582 41.195891 \r\nL 209.808047 38.552909 \r\nL 211.337513 36.359404 \r\nL 212.866978 34.67498 \r\nL 214.396444 33.550644 \r\nL 215.925909 33.022855 \r\nL 217.455375 33.107927 \r\nL 218.98484 33.798835 \r\nL 220.514306 35.065881 \r\nL 222.043771 36.861677 \r\nL 223.573237 39.129551 \r\nL 225.102702 41.813423 \r\nL 226.632168 44.866665 \r\nL 228.161633 48.2577 \r\nL 229.691099 51.970936 \r\nL 231.220564 56.002962 \r\nL 234.279495 65.025034 \r\nL 237.338427 75.244534 \r\nL 240.397358 86.358492 \r\nL 251.103616 127.005237 \r\nL 257.221478 151.157661 \r\nL 261.809875 168.970234 \r\nL 264.868806 179.469081 \r\nL 266.398271 184.075389 \r\nL 267.927737 188.205619 \r\nL 269.457202 191.860985 \r\nL 270.986668 195.068533 \r\nL 272.516133 197.874376 \r\nL 274.045599 200.335485 \r\nL 275.575064 202.511637 \r\nL 277.10453 204.458852 \r\nL 280.163461 207.848045 \r\nL 283.222392 210.767148 \r\nL 286.281323 213.347576 \r\nL 289.340254 215.644442 \r\nL 292.399185 217.676901 \r\nL 295.458116 219.441809 \r\nL 298.517047 220.919714 \r\nL 301.575978 222.08738 \r\nL 304.634909 222.934544 \r\nL 307.69384 223.476625 \r\nL 310.752771 223.759636 \r\nL 315.341167 223.864304 \r\nL 324.517961 223.931996 \r\nL 344.401012 224.617689 \r\nL 347.459943 224.631698 \r\nL 347.459943 224.631698 \r\n\" style=\"fill:none;stroke:#1f77b4;stroke-linecap:square;stroke-width:1.5;\"/>\r\n   </g>\r\n   <g id=\"line2d_16\">\r\n    <path clip-path=\"url(#p694900a85d)\" d=\"M 210.867542 224.64 \r\nL 210.867542 7.2 \r\n\" style=\"fill:none;stroke:#ff0000;stroke-linecap:square;stroke-width:1.5;\"/>\r\n   </g>\r\n   <g id=\"patch_30\">\r\n    <path d=\"M 27.878125 224.64 \r\nL 27.878125 7.2 \r\n\" style=\"fill:none;stroke:#000000;stroke-linecap:square;stroke-linejoin:miter;stroke-width:0.8;\"/>\r\n   </g>\r\n   <g id=\"patch_31\">\r\n    <path d=\"M 362.678125 224.64 \r\nL 362.678125 7.2 \r\n\" style=\"fill:none;stroke:#000000;stroke-linecap:square;stroke-linejoin:miter;stroke-width:0.8;\"/>\r\n   </g>\r\n   <g id=\"patch_32\">\r\n    <path d=\"M 27.878125 224.64 \r\nL 362.678125 224.64 \r\n\" style=\"fill:none;stroke:#000000;stroke-linecap:square;stroke-linejoin:miter;stroke-width:0.8;\"/>\r\n   </g>\r\n   <g id=\"patch_33\">\r\n    <path d=\"M 27.878125 7.2 \r\nL 362.678125 7.2 \r\n\" style=\"fill:none;stroke:#000000;stroke-linecap:square;stroke-linejoin:miter;stroke-width:0.8;\"/>\r\n   </g>\r\n  </g>\r\n </g>\r\n <defs>\r\n  <clipPath id=\"p694900a85d\">\r\n   <rect height=\"217.44\" width=\"334.8\" x=\"27.878125\" y=\"7.2\"/>\r\n  </clipPath>\r\n </defs>\r\n</svg>\r\n",
      "image/png": "[encoded data removed]"
     },
     "metadata": {
      "needs_background": "light"
     }
    }
   ],
   "source": [
    "fig, ax = plt.subplots()\n",
    "\n",
    "sns.distplot(implied_demand)\n",
    "\n",
    "ax.set_xlabel(r\"$Y$\")\n",
    "ax.set_ylabel(r\"$f_Y$\")\n",
    "\n",
    "ax.axvline(x=true_implied_demand, ymin=0, ymax=1, color='red')\n",
    "\n",
    "# ax.axvline(x=mean_implied_demand, ymin=0, ymax=1, color='grey')\n",
    "\n",
    "ax.xaxis.set_major_formatter(mpl.ticker.StrMethodFormatter(\"{x:,.0f}\"))\n",
    "ax.axes.get_yaxis().set_ticklabels([])"
   ]
  },
  {
   "cell_type": "code",
   "execution_count": 13,
   "metadata": {},
   "outputs": [],
   "source": [
    "# Save to png.\n",
    "fig.savefig(fname=os.path.join('figures', f'uncertainty_propagation_{num_sim_demand}'), dpi=1000)"
   ]
  },
  {
   "cell_type": "code",
   "execution_count": null,
   "metadata": {},
   "outputs": [],
   "source": []
  }
 ],
 "metadata": {
  "kernelspec": {
   "name": "python370jvsc74a57bd0d89e2721f98c1df3868e6784986dc10ee38e72585cfa58f4adb5d8075f4e0acf",
   "display_name": "Python 3.7.0 64-bit ('thesis-benedikt': conda)"
  },
  "language_info": {
   "codemirror_mode": {
    "name": "ipython",
    "version": 3
   },
   "file_extension": ".py",
   "mimetype": "text/x-python",
   "name": "python",
   "nbconvert_exporter": "python",
   "pygments_lexer": "ipython3",
   "version": "3.7.0"
  }
 },
 "nbformat": 4,
 "nbformat_minor": 4
}