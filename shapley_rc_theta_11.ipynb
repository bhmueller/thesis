{
 "cells": [
  {
   "cell_type": "markdown",
   "metadata": {},
   "source": [
    "## Shapley effects for $RC$ and $\\theta_{11}$"
   ]
  },
  {
   "cell_type": "code",
   "execution_count": 1,
   "metadata": {},
   "outputs": [],
   "source": [
    "import os\n",
    "import numpy as np\n",
    "import matplotlib.pyplot as plt\n",
    "import matplotlib as mpl\n",
    "import pandas as pd\n",
    "import seaborn as sns\n",
    "import profile\n",
    "import pickle\n",
    "from functools import partial\n",
    "from ruspy.estimation.estimation import estimate\n",
    "from ruspy.model_code.fix_point_alg import calc_fixp\n",
    "from ruspy.model_code.cost_functions import lin_cost\n",
    "from ruspy.model_code.cost_functions import calc_obs_costs\n",
    "from ruspy.estimation.estimation_transitions import create_transition_matrix\n",
    "from ruspy.model_code.demand_function import get_demand\n",
    "from econsa.shapley import get_shapley\n",
    "from python.auxiliary import rust_model_shapley\n",
    "from python.auxiliary import x_all_raw\n",
    "from python.auxiliary import x_cond_raw\n",
    "from python.auxiliary import simulate_cov_and_mean_rc_theta_11\n",
    "from python.auxiliary import approx_comp_time\n",
    "from python.auxiliary import compute_confidence_intervals\n",
    "from python.auxiliary import setup_rust_model_001"
   ]
  },
  {
   "cell_type": "code",
   "execution_count": 3,
   "metadata": {},
   "outputs": [],
   "source": [
    "run_simulation_cov_mean = False\n",
    "run_simulation_shapley_effects = False"
   ]
  },
  {
   "cell_type": "code",
   "execution_count": 4,
   "metadata": {},
   "outputs": [],
   "source": [
    "model_setup = setup_rust_model_001()\n",
    "params = model_setup['params']\n",
    "ev = model_setup['ev']\n",
    "costs = model_setup['costs']\n",
    "trans_probs = model_setup['trans_probs']\n",
    "trans_mat = model_setup['trans_mat']\n",
    "init_dict_simulation = model_setup['init_dict_simulation']\n",
    "init_dict_estimation = model_setup['init_dict_estimation']\n",
    "demand_dict = model_setup['demand_dict']"
   ]
  },
  {
   "cell_type": "code",
   "execution_count": 5,
   "metadata": {},
   "outputs": [
    {
     "output_type": "stream",
     "name": "stdout",
     "text": [
      "Wall time: 8h 33min 21s\n"
     ]
    }
   ],
   "source": [
    "%%time\n",
    "# Simulation of 5000 samples takes 3h 27min. (When using older version of the simulaton function.)\n",
    "# Simulation of 10,000 samples takes 8h 33min 21s. (New version of function.)\n",
    "num_sim = 10 ** 4\n",
    "if run_simulation_cov_mean is True:\n",
    "    cov, mean = simulate_cov_and_mean_rc_theta_11(num_sim, ev, costs, trans_mat, init_dict_simulation, init_dict_estimation)\n",
    "    np.save(os.path.join('data', f'cov_rc_theta_11_{num_sim}'), cov)\n",
    "    np.save(os.path.join('data', f'mean_rc_theta_11_{num_sim}'), mean)\n",
    "elif run_simulation_cov_mean is False:\n",
    "    cov = np.load(os.path.join('data', f'cov_rc_theta_11_{num_sim}.npy'))\n",
    "    mean = np.load(os.path.join('data', f'mean_rc_theta_11_{num_sim}.npy'))\n",
    "else:\n",
    "    raise ValueError"
   ]
  },
  {
   "cell_type": "code",
   "execution_count": 7,
   "metadata": {},
   "outputs": [
    {
     "name": "stdout",
     "output_type": "stream",
     "text": [
      "If n_sim = 10,000, I need 8.333333333333334 hours\n"
     ]
    },
    {
     "data": {
      "text/plain": [
       "10.05"
      ]
     },
     "execution_count": 7,
     "metadata": {},
     "output_type": "execute_result"
    }
   ],
   "source": [
    "# 50 min (conservative estimate) per 1,000 simulations. From 1,000 to 2,000 I did 0.05 better.\n",
    "print('If n_sim = 10,000, I need', 50 * 10 / 60, 'hours')\n",
    "# Assume always by 0.05 closer to true value for 1,000 more sim.s.\n",
    "10.5 - 0.05 * 9\n",
    "# If this was true, should approach true value with 10,000 sim.s."
   ]
  },
  {
   "cell_type": "code",
   "execution_count": 5,
   "metadata": {},
   "outputs": [],
   "source": [
    "cov_nice = pd.DataFrame(data=cov, index= ['$RC$', '$\\theta_{11}$'], columns=['$RC$', '$\\theta_{11}$'])"
   ]
  },
  {
   "cell_type": "code",
   "execution_count": 6,
   "metadata": {},
   "outputs": [
    {
     "output_type": "execute_result",
     "data": {
      "text/plain": [
       "                   $RC$  $\\theta_{11}$\n",
       "$RC$           1.618139       0.611463\n",
       "$\\theta_{11}$  0.611463       0.274842"
      ],
      "text/html": "<div>\n<style scoped>\n    .dataframe tbody tr th:only-of-type {\n        vertical-align: middle;\n    }\n\n    .dataframe tbody tr th {\n        vertical-align: top;\n    }\n\n    .dataframe thead th {\n        text-align: right;\n    }\n</style>\n<table border=\"1\" class=\"dataframe\">\n  <thead>\n    <tr style=\"text-align: right;\">\n      <th></th>\n      <th>$RC$</th>\n      <th>$\\theta_{11}$</th>\n    </tr>\n  </thead>\n  <tbody>\n    <tr>\n      <th>$RC$</th>\n      <td>1.618139</td>\n      <td>0.611463</td>\n    </tr>\n    <tr>\n      <th>$\\theta_{11}$</th>\n      <td>0.611463</td>\n      <td>0.274842</td>\n    </tr>\n  </tbody>\n</table>\n</div>"
     },
     "metadata": {},
     "execution_count": 6
    }
   ],
   "source": [
    "cov_nice"
   ]
  },
  {
   "cell_type": "code",
   "execution_count": 13,
   "metadata": {},
   "outputs": [],
   "source": [
    "mean_nice = pd.DataFrame(data=np.concatenate((mean, params)).reshape([2, 2], order='F'), \n",
    "                         index= ['$RC$', '$\\theta_{11}$'], columns=['Empirical mean', 'True mean'])"
   ]
  },
  {
   "cell_type": "code",
   "execution_count": 14,
   "metadata": {},
   "outputs": [
    {
     "output_type": "execute_result",
     "data": {
      "text/plain": [
       "               Empirical mean  True mean\n",
       "$RC$                10.417342  10.077808\n",
       "$\\theta_{11}$        2.426993   2.294176"
      ],
      "text/html": "<div>\n<style scoped>\n    .dataframe tbody tr th:only-of-type {\n        vertical-align: middle;\n    }\n\n    .dataframe tbody tr th {\n        vertical-align: top;\n    }\n\n    .dataframe thead th {\n        text-align: right;\n    }\n</style>\n<table border=\"1\" class=\"dataframe\">\n  <thead>\n    <tr style=\"text-align: right;\">\n      <th></th>\n      <th>Empirical mean</th>\n      <th>True mean</th>\n    </tr>\n  </thead>\n  <tbody>\n    <tr>\n      <th>$RC$</th>\n      <td>10.417342</td>\n      <td>10.077808</td>\n    </tr>\n    <tr>\n      <th>$\\theta_{11}$</th>\n      <td>2.426993</td>\n      <td>2.294176</td>\n    </tr>\n  </tbody>\n</table>\n</div>"
     },
     "metadata": {},
     "execution_count": 14
    }
   ],
   "source": [
    "mean_nice"
   ]
  },
  {
   "cell_type": "code",
   "execution_count": 10,
   "metadata": {},
   "outputs": [],
   "source": [
    "cov = np.load(os.path.join('data', f'cov_rc_theta_11_{num_sim}.npy'))\n",
    "mean = np.load(os.path.join('data', f'mean_rc_theta_11_{num_sim}.npy'))"
   ]
  },
  {
   "cell_type": "code",
   "execution_count": 11,
   "metadata": {},
   "outputs": [
    {
     "output_type": "execute_result",
     "data": {
      "text/plain": [
       "array([[1.61813869, 0.61146314],\n",
       "       [0.61146314, 0.2748418 ]])"
      ]
     },
     "metadata": {},
     "execution_count": 11
    }
   ],
   "source": [
    "cov"
   ]
  },
  {
   "cell_type": "code",
   "execution_count": 12,
   "metadata": {},
   "outputs": [
    {
     "output_type": "execute_result",
     "data": {
      "text/plain": [
       "array([10.417342 ,  2.4269934])"
      ]
     },
     "metadata": {},
     "execution_count": 12
    }
   ],
   "source": [
    "mean"
   ]
  },
  {
   "cell_type": "code",
   "execution_count": 12,
   "metadata": {},
   "outputs": [],
   "source": [
    "# Test: save data frame as .csv.\n",
    "#mean_nice.to_pickle(path_or_buf=os.path.join('data', 'mean_nice'))"
   ]
  },
  {
   "cell_type": "markdown",
   "metadata": {},
   "source": [
    "#### Define function arguments for `get_shapley()`."
   ]
  },
  {
   "cell_type": "code",
   "execution_count": 14,
   "metadata": {},
   "outputs": [],
   "source": [
    "n_inputs = 2\n",
    "n_perms = None\n",
    "method = 'exact'\n",
    "np.random.seed(1234)"
   ]
  },
  {
   "cell_type": "markdown",
   "metadata": {},
   "source": [
    "#### Until here: arguments do not change."
   ]
  },
  {
   "cell_type": "code",
   "execution_count": 20,
   "metadata": {},
   "outputs": [],
   "source": [
    "# Define number of simulations.\n",
    "n_output = 10**2\n",
    "n_outer = 10\n",
    "n_inner = 3\n",
    "\n",
    "# Define model, and sampling functions.\n",
    "model = partial(\n",
    "    rust_model_shapley, method=method, n_perms=n_perms, n_inputs=n_inputs, n_output=n_output, n_outer=n_outer, n_inner=n_inner, trans_probs=trans_probs, \n",
    "    init_dict_estimation=init_dict_estimation, demand_dict=demand_dict, \n",
    ")\n",
    "x_all_partial = partial(x_all, mean=mean, cov=cov)\n",
    "x_cond_partial = partial(x_cond, mean=mean, cov=cov)"
   ]
  },
  {
   "cell_type": "code",
   "execution_count": 21,
   "metadata": {},
   "outputs": [
    {
     "name": "stdout",
     "output_type": "stream",
     "text": [
      "Wall time: 51.4 s\n"
     ]
    }
   ],
   "source": [
    "%%time\n",
    "# A single run. Time with three trans_probs: ~ 54 s.\n",
    "# With four trans_probs: ~ 19 m.\n",
    "\n",
    "exact_shapley = get_shapley(method, model, x_all_partial, x_cond_partial, n_perms, n_inputs, n_output, n_outer, n_inner)\n",
    "exact_shapley.rename(index={'X1': '$RC$', 'X2': '$\\theta_{11}$'}, inplace=True)"
   ]
  },
  {
   "cell_type": "markdown",
   "metadata": {},
   "source": [
    "## Create 100 replicates of the Shapley effects for small simulation numbers."
   ]
  },
  {
   "cell_type": "code",
   "execution_count": 6,
   "metadata": {},
   "outputs": [
    {
     "name": "stdout",
     "output_type": "stream",
     "text": [
      "Wall time: 147 ms\n"
     ]
    }
   ],
   "source": [
    "%%time\n",
    "# n_replicates runs.\n",
    "\n",
    "# 100 replicates ~ 1 h 30 m.\n",
    "\n",
    "# 200 replicates ~ 2 h 37 m.\n",
    "\n",
    "np.random.seed(1234)\n",
    "\n",
    "n_replicates = 200\n",
    "\n",
    "if run_simulation_shapley_effects == True:\n",
    "    # For loop. Get a sense of how it works. Later get functions and run for larger number of simulations.\n",
    "    shapley_effects = {}\n",
    "    for i in np.arange(n_replicates):\n",
    "        np.random.seed(i)\n",
    "        exact_shapley = get_shapley(method, model, x_all_partial, x_cond_partial, n_perms, n_inputs, n_output, n_outer, n_inner)\n",
    "        exact_shapley.rename(index={'X1': '$RC$', 'X2': '$\\theta_{11}$'}, inplace=True)\n",
    "        shapley_effects[i] = exact_shapley\n",
    "        #print('Progress: Run', i + 1, 'of', n_replicates)\n",
    "    with open(os.path.join('data', f'shapley_effects_{n_replicates}_runs.pickle'), 'wb') as handle:\n",
    "        pickle.dump(shapley_effects, handle)\n",
    "else:\n",
    "    with open(os.path.join('data', f'shapley_effects_{n_replicates}_runs.pickle'), 'rb') as handle:\n",
    "        shapley_effects = pickle.load(handle)"
   ]
  },
  {
   "cell_type": "code",
   "execution_count": 7,
   "metadata": {},
   "outputs": [],
   "source": [
    "# Get data frame suitable for plotting.\n",
    "rc_shapley_effects = [shapley_effects[i]['Shapley effects']['$RC$'] for i in np.arange(n_replicates)]\n",
    "theta_shapley_effects = [shapley_effects[i]['Shapley effects']['$\\theta_{11}$'] for i in np.arange(n_replicates)]\n",
    "\n",
    "rc_shapley_effects_df = pd.DataFrame(data=rc_shapley_effects)\n",
    "rc_shapley_effects_df['input_variable'] = 'rc'\n",
    "\n",
    "theta_shapley_effects_df = pd.DataFrame(data=theta_shapley_effects)\n",
    "theta_shapley_effects_df['input_variable'] = 'theta'\n",
    "\n",
    "data = pd.concat([rc_shapley_effects_df, theta_shapley_effects_df], ignore_index=True)\n",
    "data.rename(columns={0: 'shapley_effect'}, inplace=True)"
   ]
  },
  {
   "cell_type": "code",
   "execution_count": 16,
   "metadata": {},
   "outputs": [],
   "source": [
    "variance_rc_shapley_effects = np.var(rc_shapley_effects)\n",
    "mean_rc_shapley_effects = np.mean(rc_shapley_effects)\n",
    "\n",
    "variance_theta_shapley_effects = np.var(theta_shapley_effects)\n",
    "mean_theta_shapley_effects = np.mean(theta_shapley_effects)\n",
    "\n",
    "# Critical value of the 95-percent confidence interval.\n",
    "crit_value = 1.96\n",
    "\n",
    "ci_rc = compute_confidence_intervals(mean_rc_shapley_effects, \n",
    "                                     variance_rc_shapley_effects,\n",
    "                                    crit_value,\n",
    "                                    )\n",
    "ci_theta = compute_confidence_intervals(mean_theta_shapley_effects, \n",
    "                                        variance_theta_shapley_effects,\n",
    "                                        crit_value,\n",
    "                                       )"
   ]
  },
  {
   "cell_type": "code",
   "execution_count": 34,
   "metadata": {},
   "outputs": [
    {
     "data": {
      "text/plain": [
       "0.34361381646786493"
      ]
     },
     "execution_count": 34,
     "metadata": {},
     "output_type": "execute_result"
    }
   ],
   "source": [
    "ci_rc['lower_bound']"
   ]
  },
  {
   "cell_type": "code",
   "execution_count": 18,
   "metadata": {},
   "outputs": [
    {
     "data": {
      "text/plain": [
       "{'lower_bound': 0.5123655933837659, 'upper_bound': 0.6563861835321352}"
      ]
     },
     "execution_count": 18,
     "metadata": {},
     "output_type": "execute_result"
    }
   ],
   "source": [
    "ci_theta"
   ]
  },
  {
   "cell_type": "code",
   "execution_count": 35,
   "metadata": {},
   "outputs": [],
   "source": [
    "# Descriptives of the replicates.\n",
    "\n",
    "descriptives_data = np.array([[mean_rc_shapley_effects, \n",
    "                               variance_rc_shapley_effects, \n",
    "                               ci_rc['lower_bound'], \n",
    "                               ci_rc['upper_bound']\n",
    "                              ],\n",
    "                              \n",
    "                              [mean_theta_shapley_effects, \n",
    "                               variance_theta_shapley_effects, \n",
    "                               ci_theta['lower_bound'], \n",
    "                               ci_theta['upper_bound']\n",
    "                              ]\n",
    "                             ])\n",
    "\n",
    "descriptives_shapley_effects = pd.DataFrame(descriptives_data, \n",
    "                                            columns=['Mean', 'Variance', 'CI lower bound', 'CI upper bound'], \n",
    "                                            index=['$RC$', '$\\theta_{11}$']\n",
    "                                           )\n",
    "descriptives_shapley_effects.index.name = 'Shapley Effect'"
   ]
  },
  {
   "cell_type": "code",
   "execution_count": 36,
   "metadata": {},
   "outputs": [
    {
     "data": {
      "text/html": [
       "<div>\n",
       "<style scoped>\n",
       "    .dataframe tbody tr th:only-of-type {\n",
       "        vertical-align: middle;\n",
       "    }\n",
       "\n",
       "    .dataframe tbody tr th {\n",
       "        vertical-align: top;\n",
       "    }\n",
       "\n",
       "    .dataframe thead th {\n",
       "        text-align: right;\n",
       "    }\n",
       "</style>\n",
       "<table border=\"1\" class=\"dataframe\">\n",
       "  <thead>\n",
       "    <tr style=\"text-align: right;\">\n",
       "      <th></th>\n",
       "      <th>Mean</th>\n",
       "      <th>Variance</th>\n",
       "      <th>CI lower bound</th>\n",
       "      <th>CI upper bound</th>\n",
       "    </tr>\n",
       "    <tr>\n",
       "      <th>Shapley Effect</th>\n",
       "      <th></th>\n",
       "      <th></th>\n",
       "      <th></th>\n",
       "      <th></th>\n",
       "    </tr>\n",
       "  </thead>\n",
       "  <tbody>\n",
       "    <tr>\n",
       "      <th>$RC$</th>\n",
       "      <td>0.415624</td>\n",
       "      <td>0.00135</td>\n",
       "      <td>0.343614</td>\n",
       "      <td>0.487634</td>\n",
       "    </tr>\n",
       "    <tr>\n",
       "      <th>$\\theta_{11}$</th>\n",
       "      <td>0.584376</td>\n",
       "      <td>0.00135</td>\n",
       "      <td>0.512366</td>\n",
       "      <td>0.656386</td>\n",
       "    </tr>\n",
       "  </tbody>\n",
       "</table>\n",
       "</div>"
      ],
      "text/plain": [
       "                    Mean  Variance  CI lower bound  CI upper bound\n",
       "Shapley Effect                                                    \n",
       "$RC$            0.415624   0.00135        0.343614        0.487634\n",
       "$\\theta_{11}$   0.584376   0.00135        0.512366        0.656386"
      ]
     },
     "execution_count": 36,
     "metadata": {},
     "output_type": "execute_result"
    }
   ],
   "source": [
    "descriptives_shapley_effects"
   ]
  },
  {
   "cell_type": "code",
   "execution_count": 56,
   "metadata": {},
   "outputs": [
    {
     "data": {
      "image/png": "[encoded data removed]",
      "text/plain": [
       "<Figure size 432x288 with 1 Axes>"
      ]
     },
     "metadata": {},
     "output_type": "display_data"
    }
   ],
   "source": [
    "fig, ax = plt.subplots()\n",
    "sns.set_theme(style='whitegrid')\n",
    "ax.set(ylim=(0.3, 0.7))\n",
    "ax = sns.boxplot(x=data['input_variable'], y=data['shapley_effect'])"
   ]
  },
  {
   "cell_type": "code",
   "execution_count": 57,
   "metadata": {},
   "outputs": [],
   "source": [
    "fig.savefig(fname=os.path.join('figures', 'boxplot_shapley_effects'), dpi=1000)"
   ]
  },
  {
   "cell_type": "markdown",
   "metadata": {},
   "source": [
    "Alternative visualisation of the Shapley effects."
   ]
  },
  {
   "cell_type": "code",
   "execution_count": 48,
   "metadata": {},
   "outputs": [],
   "source": [
    "plot_dict = {\n",
    "    0: 'RC',\n",
    "    1: 'theta'\n",
    "}"
   ]
  },
  {
   "cell_type": "code",
   "execution_count": 49,
   "metadata": {},
   "outputs": [],
   "source": [
    "array_shapley_effects = np.array([rc_shapley_effects, theta_shapley_effects])"
   ]
  },
  {
   "cell_type": "code",
   "execution_count": 52,
   "metadata": {},
   "outputs": [
    {
     "name": "stderr",
     "output_type": "stream",
     "text": [
      "C:\\Users\\admin\\anaconda3\\envs\\thesis-benedikt\\lib\\site-packages\\seaborn\\distributions.py:2551: FutureWarning: `distplot` is a deprecated function and will be removed in a future version. Please adapt your code to use either `displot` (a figure-level function with similar flexibility) or `histplot` (an axes-level function for histograms).\n",
      "  warnings.warn(msg, FutureWarning)\n",
      "C:\\Users\\admin\\anaconda3\\envs\\thesis-benedikt\\lib\\site-packages\\seaborn\\distributions.py:2551: FutureWarning: `distplot` is a deprecated function and will be removed in a future version. Please adapt your code to use either `displot` (a figure-level function with similar flexibility) or `histplot` (an axes-level function for histograms).\n",
      "  warnings.warn(msg, FutureWarning)\n"
     ]
    },
    {
     "data": {
      "image/png": "[encoded data removed]",
      "text/plain": [
       "<Figure size 432x288 with 2 Axes>"
      ]
     },
     "metadata": {
      "needs_background": "light"
     },
     "output_type": "display_data"
    }
   ],
   "source": [
    "fig, ax = plt.subplots(1, 2)\n",
    "\n",
    "\n",
    "#sns.distplot(theta_shapley_effects, ax=ax[1])\n",
    "\n",
    "for k, v in plot_dict.items():\n",
    "    sns.distplot(array_shapley_effects[k], ax=ax[k])\n",
    "    \n",
    "    ax[k].set_xlabel(r\"${v}$\")\n",
    "    ax[k].set_ylabel(r\"$f_{v}$\")\n",
    "    \n",
    "    ax[k].axvline(x=np.mean(array_shapley_effects[k]), ymin=0, ymax=1, color='red')\n",
    "    #ax[0].axvline(x=mean_rc_shapley_effects, ymin=0, ymax=1, color='red')\n",
    "\n",
    "    #ax[1].axvline(x=mean_theta_shapley_effects, ymin=0, ymax=1, color='grey')\n",
    "\n",
    "    ax[k].xaxis.set_major_formatter(mpl.ticker.StrMethodFormatter(\"{x:,.0f}\"))\n",
    "    ax[k].axes.get_yaxis().set_ticklabels([])"
   ]
  },
  {
   "cell_type": "markdown",
   "metadata": {},
   "source": [
    "## Run `get_shapley()` for different sample sizes."
   ]
  },
  {
   "cell_type": "markdown",
   "metadata": {},
   "source": [
    "Run for large no. of MC runs."
   ]
  },
  {
   "cell_type": "code",
   "execution_count": 11,
   "metadata": {},
   "outputs": [
    {
     "name": "stdout",
     "output_type": "stream",
     "text": [
      " 5000 model evaluations \n",
      " approx.  0.4861111111111111 hours \n",
      " approx. 29.166666666666668 minutes\n"
     ]
    }
   ],
   "source": [
    "n_output = 10**3\n",
    "n_outer = 10**2\n",
    "n_inner = 20\n",
    "# Time in s for 100 model evaluations.\n",
    "time_model_eval = 35\n",
    "approx_comp_time(time_model_eval, method, n_inputs, n_perms, n_output, n_outer, n_inner)"
   ]
  },
  {
   "cell_type": "code",
   "execution_count": 12,
   "metadata": {},
   "outputs": [
    {
     "name": "stdout",
     "output_type": "stream",
     "text": [
      "Wall time: 33min 15s\n"
     ]
    }
   ],
   "source": [
    "%%time\n",
    "\n",
    "exact_shapley = get_shapley(method, rust_model, x_all, x_cond, n_perms, n_inputs, n_output, n_outer, n_inner)\n",
    "exact_shapley.rename(index={'X1': '$RC$', 'X2': '$\\theta_{11}$'}, inplace=True)"
   ]
  },
  {
   "cell_type": "code",
   "execution_count": 13,
   "metadata": {},
   "outputs": [
    {
     "data": {
      "text/html": [
       "<div>\n",
       "<style scoped>\n",
       "    .dataframe tbody tr th:only-of-type {\n",
       "        vertical-align: middle;\n",
       "    }\n",
       "\n",
       "    .dataframe tbody tr th {\n",
       "        vertical-align: top;\n",
       "    }\n",
       "\n",
       "    .dataframe thead th {\n",
       "        text-align: right;\n",
       "    }\n",
       "</style>\n",
       "<table border=\"1\" class=\"dataframe\">\n",
       "  <thead>\n",
       "    <tr style=\"text-align: right;\">\n",
       "      <th></th>\n",
       "      <th>Shapley effects</th>\n",
       "      <th>std. errors</th>\n",
       "      <th>CI_min</th>\n",
       "      <th>CI_max</th>\n",
       "    </tr>\n",
       "  </thead>\n",
       "  <tbody>\n",
       "    <tr>\n",
       "      <th>RC</th>\n",
       "      <td>0.422186</td>\n",
       "      <td>0.29853</td>\n",
       "      <td>-0.162934</td>\n",
       "      <td>1.007305</td>\n",
       "    </tr>\n",
       "    <tr>\n",
       "      <th>theta_11</th>\n",
       "      <td>0.577814</td>\n",
       "      <td>0.29853</td>\n",
       "      <td>-0.007305</td>\n",
       "      <td>1.162934</td>\n",
       "    </tr>\n",
       "  </tbody>\n",
       "</table>\n",
       "</div>"
      ],
      "text/plain": [
       "          Shapley effects  std. errors    CI_min    CI_max\n",
       "RC               0.422186      0.29853 -0.162934  1.007305\n",
       "theta_11         0.577814      0.29853 -0.007305  1.162934"
      ]
     },
     "execution_count": 13,
     "metadata": {},
     "output_type": "execute_result"
    }
   ],
   "source": [
    "exact_shapley"
   ]
  },
  {
   "cell_type": "markdown",
   "metadata": {},
   "source": [
    "Another try with even larger no.s"
   ]
  },
  {
   "cell_type": "code",
   "execution_count": 20,
   "metadata": {},
   "outputs": [
    {
     "name": "stdout",
     "output_type": "stream",
     "text": [
      " 9000 model evaluations \n",
      " approx.  0.925 hours \n",
      " approx. 55.5 minutes\n"
     ]
    }
   ],
   "source": [
    "n_output = 10**3\n",
    "n_outer = 10**2\n",
    "n_inner = 40\n",
    "# Time in s for 100 model evaluations.\n",
    "time_model_eval = 37\n",
    "approx_comp_time(time_model_eval, method, n_inputs, n_perms, n_output, n_outer, n_inner)"
   ]
  },
  {
   "cell_type": "code",
   "execution_count": 18,
   "metadata": {},
   "outputs": [
    {
     "name": "stdout",
     "output_type": "stream",
     "text": [
      "Wall time: 1h 3min 57s\n"
     ]
    }
   ],
   "source": [
    "%%time\n",
    "\n",
    "exact_shapley = get_shapley(method, rust_model, x_all, x_cond, n_perms, n_inputs, n_output, n_outer, n_inner)\n",
    "exact_shapley.rename(index={'X1': '$RC$', 'X2': '$\\theta_{11}$'}, inplace=True)"
   ]
  },
  {
   "cell_type": "code",
   "execution_count": 19,
   "metadata": {},
   "outputs": [
    {
     "data": {
      "text/html": [
       "<div>\n",
       "<style scoped>\n",
       "    .dataframe tbody tr th:only-of-type {\n",
       "        vertical-align: middle;\n",
       "    }\n",
       "\n",
       "    .dataframe tbody tr th {\n",
       "        vertical-align: top;\n",
       "    }\n",
       "\n",
       "    .dataframe thead th {\n",
       "        text-align: right;\n",
       "    }\n",
       "</style>\n",
       "<table border=\"1\" class=\"dataframe\">\n",
       "  <thead>\n",
       "    <tr style=\"text-align: right;\">\n",
       "      <th></th>\n",
       "      <th>Shapley effects</th>\n",
       "      <th>std. errors</th>\n",
       "      <th>CI_min</th>\n",
       "      <th>CI_max</th>\n",
       "    </tr>\n",
       "  </thead>\n",
       "  <tbody>\n",
       "    <tr>\n",
       "      <th>RC</th>\n",
       "      <td>0.413136</td>\n",
       "      <td>0.292131</td>\n",
       "      <td>-0.159441</td>\n",
       "      <td>0.985713</td>\n",
       "    </tr>\n",
       "    <tr>\n",
       "      <th>theta_11</th>\n",
       "      <td>0.586864</td>\n",
       "      <td>0.292131</td>\n",
       "      <td>0.014287</td>\n",
       "      <td>1.159441</td>\n",
       "    </tr>\n",
       "  </tbody>\n",
       "</table>\n",
       "</div>"
      ],
      "text/plain": [
       "          Shapley effects  std. errors    CI_min    CI_max\n",
       "RC               0.413136     0.292131 -0.159441  0.985713\n",
       "theta_11         0.586864     0.292131  0.014287  1.159441"
      ]
     },
     "execution_count": 19,
     "metadata": {},
     "output_type": "execute_result"
    }
   ],
   "source": [
    "exact_shapley"
   ]
  },
  {
   "cell_type": "code",
   "execution_count": 18,
   "metadata": {},
   "outputs": [],
   "source": [
    "list_num_sim = [{'n_output': 10**3, 'n_outer': 15, 'n_inner': 3}, \n",
    "                {'n_output': 10**3, 'n_outer': 15, 'n_inner': 5}, \n",
    "                {'n_output': 10**3, 'n_outer': 15, 'n_inner': 7}, \n",
    "                {'n_output': 10**3, 'n_outer': 20, 'n_inner': 3}, \n",
    "                {'n_output': 10**3, 'n_outer': 20, 'n_inner': 7}]"
   ]
  },
  {
   "cell_type": "code",
   "execution_count": 12,
   "metadata": {},
   "outputs": [
    {
     "name": "stdout",
     "output_type": "stream",
     "text": [
      "Wall time: 6min 44s\n"
     ]
    }
   ],
   "source": [
    "%%time\n",
    "\n",
    "exact_shapley = get_shapley(method, rust_model, x_all, x_cond, n_perms, n_inputs, n_output, n_outer, n_inner)\n",
    "exact_shapley.rename(index={'X1': '$RC$', 'X2': '$\\theta_{11}$'}, inplace=True)"
   ]
  },
  {
   "cell_type": "code",
   "execution_count": 13,
   "metadata": {},
   "outputs": [
    {
     "data": {
      "text/html": [
       "<div>\n",
       "<style scoped>\n",
       "    .dataframe tbody tr th:only-of-type {\n",
       "        vertical-align: middle;\n",
       "    }\n",
       "\n",
       "    .dataframe tbody tr th {\n",
       "        vertical-align: top;\n",
       "    }\n",
       "\n",
       "    .dataframe thead th {\n",
       "        text-align: right;\n",
       "    }\n",
       "</style>\n",
       "<table border=\"1\" class=\"dataframe\">\n",
       "  <thead>\n",
       "    <tr style=\"text-align: right;\">\n",
       "      <th></th>\n",
       "      <th>Shapley effects</th>\n",
       "      <th>std. errors</th>\n",
       "      <th>CI_min</th>\n",
       "      <th>CI_max</th>\n",
       "    </tr>\n",
       "  </thead>\n",
       "  <tbody>\n",
       "    <tr>\n",
       "      <th>RC</th>\n",
       "      <td>0.425934</td>\n",
       "      <td>0.301181</td>\n",
       "      <td>-0.164381</td>\n",
       "      <td>1.016249</td>\n",
       "    </tr>\n",
       "    <tr>\n",
       "      <th>theta_11</th>\n",
       "      <td>0.574066</td>\n",
       "      <td>0.301181</td>\n",
       "      <td>-0.016249</td>\n",
       "      <td>1.164381</td>\n",
       "    </tr>\n",
       "  </tbody>\n",
       "</table>\n",
       "</div>"
      ],
      "text/plain": [
       "          Shapley effects  std. errors    CI_min    CI_max\n",
       "RC               0.425934     0.301181 -0.164381  1.016249\n",
       "theta_11         0.574066     0.301181 -0.016249  1.164381"
      ]
     },
     "execution_count": 13,
     "metadata": {},
     "output_type": "execute_result"
    }
   ],
   "source": [
    "exact_shapley"
   ]
  },
  {
   "cell_type": "markdown",
   "metadata": {},
   "source": [
    "Try with larger no. of MC runs."
   ]
  },
  {
   "cell_type": "code",
   "execution_count": 29,
   "metadata": {},
   "outputs": [
    {
     "name": "stdout",
     "output_type": "stream",
     "text": [
      "Wall time: 11min 22s\n"
     ]
    }
   ],
   "source": [
    "%%time\n",
    "n_output = 10**2\n",
    "n_outer = 40\n",
    "n_inner = 20\n",
    "exact_shapley = get_shapley(method, rust_model, x_all, x_cond, n_perms, n_inputs, n_output, n_outer, n_inner)\n",
    "exact_shapley.rename(index={'X1': '$RC$', 'X2': '$\\theta_{11}$'}, inplace=True)"
   ]
  },
  {
   "cell_type": "code",
   "execution_count": 30,
   "metadata": {},
   "outputs": [
    {
     "data": {
      "text/html": [
       "<div>\n",
       "<style scoped>\n",
       "    .dataframe tbody tr th:only-of-type {\n",
       "        vertical-align: middle;\n",
       "    }\n",
       "\n",
       "    .dataframe tbody tr th {\n",
       "        vertical-align: top;\n",
       "    }\n",
       "\n",
       "    .dataframe thead th {\n",
       "        text-align: right;\n",
       "    }\n",
       "</style>\n",
       "<table border=\"1\" class=\"dataframe\">\n",
       "  <thead>\n",
       "    <tr style=\"text-align: right;\">\n",
       "      <th></th>\n",
       "      <th>Shapley effects</th>\n",
       "      <th>std. errors</th>\n",
       "      <th>CI_min</th>\n",
       "      <th>CI_max</th>\n",
       "    </tr>\n",
       "  </thead>\n",
       "  <tbody>\n",
       "    <tr>\n",
       "      <th>RC</th>\n",
       "      <td>0.437425</td>\n",
       "      <td>0.309306</td>\n",
       "      <td>-0.168815</td>\n",
       "      <td>1.043666</td>\n",
       "    </tr>\n",
       "    <tr>\n",
       "      <th>theta_11</th>\n",
       "      <td>0.562575</td>\n",
       "      <td>0.309306</td>\n",
       "      <td>-0.043666</td>\n",
       "      <td>1.168815</td>\n",
       "    </tr>\n",
       "  </tbody>\n",
       "</table>\n",
       "</div>"
      ],
      "text/plain": [
       "          Shapley effects  std. errors    CI_min    CI_max\n",
       "RC               0.437425     0.309306 -0.168815  1.043666\n",
       "theta_11         0.562575     0.309306 -0.043666  1.168815"
      ]
     },
     "execution_count": 30,
     "metadata": {},
     "output_type": "execute_result"
    }
   ],
   "source": [
    "exact_shapley"
   ]
  },
  {
   "cell_type": "code",
   "execution_count": 27,
   "metadata": {},
   "outputs": [
    {
     "data": {
      "text/html": [
       "<div>\n",
       "<style scoped>\n",
       "    .dataframe tbody tr th:only-of-type {\n",
       "        vertical-align: middle;\n",
       "    }\n",
       "\n",
       "    .dataframe tbody tr th {\n",
       "        vertical-align: top;\n",
       "    }\n",
       "\n",
       "    .dataframe thead th {\n",
       "        text-align: right;\n",
       "    }\n",
       "</style>\n",
       "<table border=\"1\" class=\"dataframe\">\n",
       "  <thead>\n",
       "    <tr style=\"text-align: right;\">\n",
       "      <th></th>\n",
       "      <th>Shapley effects</th>\n",
       "      <th>std. errors</th>\n",
       "      <th>CI_min</th>\n",
       "      <th>CI_max</th>\n",
       "    </tr>\n",
       "  </thead>\n",
       "  <tbody>\n",
       "    <tr>\n",
       "      <th>RC</th>\n",
       "      <td>0.386826</td>\n",
       "      <td>0.273527</td>\n",
       "      <td>-0.149287</td>\n",
       "      <td>0.922939</td>\n",
       "    </tr>\n",
       "    <tr>\n",
       "      <th>theta_11</th>\n",
       "      <td>0.613174</td>\n",
       "      <td>0.273527</td>\n",
       "      <td>0.077061</td>\n",
       "      <td>1.149287</td>\n",
       "    </tr>\n",
       "  </tbody>\n",
       "</table>\n",
       "</div>"
      ],
      "text/plain": [
       "          Shapley effects  std. errors    CI_min    CI_max\n",
       "RC               0.386826     0.273527 -0.149287  0.922939\n",
       "theta_11         0.613174     0.273527  0.077061  1.149287"
      ]
     },
     "execution_count": 27,
     "metadata": {},
     "output_type": "execute_result"
    }
   ],
   "source": [
    "exact_shapley"
   ]
  },
  {
   "cell_type": "markdown",
   "metadata": {},
   "source": [
    "#### Run the following code over night "
   ]
  },
  {
   "cell_type": "code",
   "execution_count": 54,
   "metadata": {},
   "outputs": [
    {
     "name": "stdout",
     "output_type": "stream",
     "text": [
      " 88000 model evaluations \n",
      " approx.  9.777777777777779 hours \n",
      " approx. 586.6666666666667 minutes\n"
     ]
    }
   ],
   "source": [
    "n_output = 20**3\n",
    "n_outer = 20**2\n",
    "n_inner = 10**2\n",
    "# Time in s for 100 model evaluations.\n",
    "time_model_eval = 40\n",
    "approx_comp_time(time_model_eval, method, n_inputs, n_perms, n_output, n_outer, n_inner)"
   ]
  },
  {
   "cell_type": "code",
   "execution_count": null,
   "metadata": {},
   "outputs": [],
   "source": [
    "exact_shapley = get_shapley(method, rust_model, x_all, x_cond, n_perms, n_inputs, n_output, n_outer, n_inner)\n",
    "exact_shapley.rename(index={'X1': '$RC$', 'X2': '$\\theta_{11}$'}, inplace=True)"
   ]
  },
  {
   "cell_type": "markdown",
   "metadata": {},
   "source": [
    "#### Run for $RC_{fixed}$ close to true $RC$"
   ]
  },
  {
   "cell_type": "code",
   "execution_count": 12,
   "metadata": {},
   "outputs": [],
   "source": [
    "# Need demand at certain value of RC only.  Note RC is scaled by 1e-03.\n",
    "demand_dict = {\n",
    "    \"RC_lower_bound\": 10.0,\n",
    "    \"RC_upper_bound\": 10.0,\n",
    "    \"demand_evaluations\": 1,\n",
    "    \"tolerance\": 1e-10,\n",
    "    \"num_periods\": num_periods,\n",
    "    \"num_buses\": num_buses,\n",
    "}"
   ]
  },
  {
   "cell_type": "code",
   "execution_count": 13,
   "metadata": {},
   "outputs": [
    {
     "name": "stdout",
     "output_type": "stream",
     "text": [
      "Wall time: 5min 10s\n"
     ]
    }
   ],
   "source": [
    "%%time\n",
    "n_output = 10**3\n",
    "n_outer = 15\n",
    "n_inner = 3\n",
    "exact_shapley = get_shapley(method, rust_model, x_all, x_cond, n_perms, n_inputs, n_output, n_outer, n_inner)\n",
    "exact_shapley.rename(index={'X1': '$RC$', 'X2': '$\\theta_{11}$'}, inplace=True)"
   ]
  },
  {
   "cell_type": "code",
   "execution_count": 14,
   "metadata": {},
   "outputs": [
    {
     "data": {
      "text/html": [
       "<div>\n",
       "<style scoped>\n",
       "    .dataframe tbody tr th:only-of-type {\n",
       "        vertical-align: middle;\n",
       "    }\n",
       "\n",
       "    .dataframe tbody tr th {\n",
       "        vertical-align: top;\n",
       "    }\n",
       "\n",
       "    .dataframe thead th {\n",
       "        text-align: right;\n",
       "    }\n",
       "</style>\n",
       "<table border=\"1\" class=\"dataframe\">\n",
       "  <thead>\n",
       "    <tr style=\"text-align: right;\">\n",
       "      <th></th>\n",
       "      <th>Shapley effects</th>\n",
       "      <th>std. errors</th>\n",
       "      <th>CI_min</th>\n",
       "      <th>CI_max</th>\n",
       "    </tr>\n",
       "  </thead>\n",
       "  <tbody>\n",
       "    <tr>\n",
       "      <th>RC</th>\n",
       "      <td>0.425773</td>\n",
       "      <td>0.301067</td>\n",
       "      <td>-0.164318</td>\n",
       "      <td>1.015864</td>\n",
       "    </tr>\n",
       "    <tr>\n",
       "      <th>theta_11</th>\n",
       "      <td>0.574227</td>\n",
       "      <td>0.301067</td>\n",
       "      <td>-0.015864</td>\n",
       "      <td>1.164318</td>\n",
       "    </tr>\n",
       "  </tbody>\n",
       "</table>\n",
       "</div>"
      ],
      "text/plain": [
       "          Shapley effects  std. errors    CI_min    CI_max\n",
       "RC               0.425773     0.301067 -0.164318  1.015864\n",
       "theta_11         0.574227     0.301067 -0.015864  1.164318"
      ]
     },
     "execution_count": 14,
     "metadata": {},
     "output_type": "execute_result"
    }
   ],
   "source": [
    "exact_shapley"
   ]
  },
  {
   "cell_type": "markdown",
   "metadata": {},
   "source": [
    "## Uncertainty Propagation\n",
    "Inspection of the distribution of the implied demand at certain $RC_{fixed}$."
   ]
  },
  {
   "cell_type": "code",
   "execution_count": 7,
   "metadata": {},
   "outputs": [],
   "source": [
    "# Sample data.\n",
    "n_sim_demand = 1000\n",
    "input_variables = cp.MvNormal(mean, cov).sample(n_sim_demand).T"
   ]
  },
  {
   "cell_type": "code",
   "execution_count": 8,
   "metadata": {},
   "outputs": [],
   "source": [
    "# Need demand at certain value of RC only.  Note RC is scaled by 1e-03.\n",
    "demand_dict = {\n",
    "    \"RC_lower_bound\": 11.5,\n",
    "    \"RC_upper_bound\": 11.5,\n",
    "    \"demand_evaluations\": 1,\n",
    "    \"tolerance\": 1e-10,\n",
    "    \"num_periods\": num_periods,\n",
    "    \"num_buses\": num_buses,\n",
    "}"
   ]
  },
  {
   "cell_type": "code",
   "execution_count": 9,
   "metadata": {},
   "outputs": [],
   "source": [
    "get_demand_partial = partial(get_demand, init_dict=init_dict_estimation, demand_dict=demand_dict)\n",
    "def get_demand_mapping(x):\n",
    "    return get_demand_partial(demand_params=x).iloc[0]['demand']"
   ]
  },
  {
   "cell_type": "code",
   "execution_count": 10,
   "metadata": {},
   "outputs": [],
   "source": [
    "demand_inputs = np.zeros((n_sim_demand, 5))\n",
    "demand_inputs[:, :3] = np.array([0.39189182, 0.59529371, 0.01281447])\n",
    "demand_inputs[:, 3:] = input_variables[:, :]"
   ]
  },
  {
   "cell_type": "code",
   "execution_count": 11,
   "metadata": {},
   "outputs": [
    {
     "name": "stdout",
     "output_type": "stream",
     "text": [
      "Wall time: 6min 39s\n"
     ]
    }
   ],
   "source": [
    "%%time\n",
    "implied_demand = np.array(list(map(get_demand_mapping, demand_inputs)))"
   ]
  },
  {
   "cell_type": "code",
   "execution_count": 12,
   "metadata": {},
   "outputs": [],
   "source": [
    "true_demand_params = np.concatenate((trans_probs, params))\n",
    "true_implied_demand = get_demand(init_dict_estimation, demand_dict, true_demand_params).iloc[0]['demand']"
   ]
  },
  {
   "cell_type": "code",
   "execution_count": 13,
   "metadata": {},
   "outputs": [
    {
     "data": {
      "text/plain": [
       "59.08876063087759"
      ]
     },
     "execution_count": 13,
     "metadata": {},
     "output_type": "execute_result"
    }
   ],
   "source": [
    "true_implied_demand"
   ]
  },
  {
   "cell_type": "code",
   "execution_count": 14,
   "metadata": {},
   "outputs": [],
   "source": [
    "mean_implied_demand = np.mean(implied_demand)"
   ]
  },
  {
   "cell_type": "code",
   "execution_count": 16,
   "metadata": {},
   "outputs": [
    {
     "name": "stderr",
     "output_type": "stream",
     "text": [
      "C:\\Users\\admin\\anaconda3\\envs\\thesis-benedikt\\lib\\site-packages\\seaborn\\distributions.py:2551: FutureWarning: `distplot` is a deprecated function and will be removed in a future version. Please adapt your code to use either `displot` (a figure-level function with similar flexibility) or `histplot` (an axes-level function for histograms).\n",
      "  warnings.warn(msg, FutureWarning)\n"
     ]
    },
    {
     "data": {
      "text/plain": [
       "[Text(0, 0.0, ''),\n",
       " Text(0, 0.01, ''),\n",
       " Text(0, 0.02, ''),\n",
       " Text(0, 0.03, ''),\n",
       " Text(0, 0.04, ''),\n",
       " Text(0, 0.05, ''),\n",
       " Text(0, 0.06, ''),\n",
       " Text(0, 0.07, ''),\n",
       " Text(0, 0.08, '')]"
      ]
     },
     "execution_count": 16,
     "metadata": {},
     "output_type": "execute_result"
    },
    {
     "data": {
      "image/png": "[encoded data removed]",
      "text/plain": [
       "<Figure size 432x288 with 1 Axes>"
      ]
     },
     "metadata": {
      "needs_background": "light"
     },
     "output_type": "display_data"
    }
   ],
   "source": [
    "fig, ax = plt.subplots()\n",
    "\n",
    "sns.distplot(implied_demand)\n",
    "\n",
    "ax.set_xlabel(r\"$Y$\")\n",
    "ax.set_ylabel(r\"$f_Y$\")\n",
    "\n",
    "ax.axvline(x=true_implied_demand, ymin=0, ymax=1, color='red')\n",
    "\n",
    "ax.axvline(x=mean_implied_demand, ymin=0, ymax=1, color='grey')\n",
    "\n",
    "ax.xaxis.set_major_formatter(mpl.ticker.StrMethodFormatter(\"{x:,.0f}\"))\n",
    "ax.axes.get_yaxis().set_ticklabels([])"
   ]
  },
  {
   "cell_type": "code",
   "execution_count": 19,
   "metadata": {},
   "outputs": [],
   "source": [
    "# Save to png.\n",
    "fig.savefig(fname=os.path.join('figures', 'uncertainty_propagation'), dpi=1000)"
   ]
  },
  {
   "cell_type": "code",
   "execution_count": null,
   "metadata": {},
   "outputs": [],
   "source": []
  }
 ],
 "metadata": {
  "kernelspec": {
   "name": "python370jvsc74a57bd0d89e2721f98c1df3868e6784986dc10ee38e72585cfa58f4adb5d8075f4e0acf",
   "display_name": "Python 3.7.0 64-bit ('thesis-benedikt': conda)"
  },
  "language_info": {
   "codemirror_mode": {
    "name": "ipython",
    "version": 3
   },
   "file_extension": ".py",
   "mimetype": "text/x-python",
   "name": "python",
   "nbconvert_exporter": "python",
   "pygments_lexer": "ipython3",
   "version": "3.7.0"
  }
 },
 "nbformat": 4,
 "nbformat_minor": 4
}