{
 "cells": [
  {
   "cell_type": "markdown",
   "metadata": {},
   "source": [
    "# Predictive validity of Morris indices for sensitivity analysis"
   ]
  },
  {
   "cell_type": "markdown",
   "metadata": {},
   "source": [
    "This notebook replicates the analysis and the results of my master thesis."
   ]
  },
  {
   "cell_type": "markdown",
   "metadata": {},
   "source": [
    "# Motivation\n",
    "\n",
    "What is sensitivity analysis?\n",
    "\n",
    "Why is it important?\n",
    "\n",
    "What role does it play in Economics?\n",
    "\n",
    "What are Shapley effects?\n",
    " - Theory\n",
    "\n",
    "What are Morris indices?\n",
    " - Theory"
   ]
  },
  {
   "cell_type": "markdown",
   "metadata": {},
   "source": [
    "Import packages needed in the replication of my analysis. "
   ]
  },
  {
   "cell_type": "code",
   "execution_count": 2,
   "metadata": {},
   "outputs": [],
   "source": [
    "#import matplotlib.pyplot as plt\n",
    "import pandas as pd\n",
    "import numpy as np\n",
    "import chaospy as cp\n",
    "import seaborn as sns\n",
    "\n",
    "# Since module econsa not yet published import from auxiliary file.\n",
    "#from econsa.shapley import get_shapley\n",
    "from python.econsa_shapley import get_shapley\n",
    "#from econsa.shapley import _r_condmvn\n",
    "from python.econsa_shapley import _r_condmvn\n",
    "\n",
    "#from ruspy.estimation.estimation import estimate\n",
    "#from ruspy.model_code.demand_function import get_demand"
   ]
  },
  {
   "cell_type": "code",
   "execution_count": null,
   "metadata": {},
   "outputs": [],
   "source": [
    "# Import data.\n",
    "#data ="
   ]
  },
  {
   "cell_type": "markdown",
   "metadata": {},
   "source": [
    "## Shapley effects\n",
    "\n",
    "As a benchmark, I calculate Shapley effects for the Rust model (Rust 1987). To this end, I utilise the ruspy package (ref!) as well as the get_shapley method of the econsa package (ref!)."
   ]
  },
  {
   "cell_type": "code",
   "execution_count": null,
   "metadata": {},
   "outputs": [],
   "source": [
    "# Function inputs: mean and covariance matrix inputs.\n",
    "# Take number of inputs, empirical mean and covariance matrix from Rust (1987).\n",
    "'''\n",
    "n_inputs = \n",
    "mean = \n",
    "cov =\n",
    "'''"
   ]
  },
  {
   "cell_type": "code",
   "execution_count": null,
   "metadata": {},
   "outputs": [],
   "source": [
    "# Implement model specification and solution method (use MPEC instead of NFXP algorithm).\n",
    "'''\n",
    "init_dict_nfxp = {\n",
    "    \"model_specifications\": {\n",
    "        \"discount_factor\": 0.9999,\n",
    "        \"number_states\": 90,\n",
    "        \"maint_cost_func\": \"linear\",\n",
    "        \"cost_scale\": 1e-3,\n",
    "    },\n",
    "    \"optimizer\": {\n",
    "        \"approach\": \"NFXP\",\n",
    "        \"algorithm\": \"scipy_L-BFGS-B\",\n",
    "        \"gradient\": \"Yes\",\n",
    "    },\n",
    "}\n",
    "'''"
   ]
  },
  {
   "cell_type": "code",
   "execution_count": null,
   "metadata": {},
   "outputs": [],
   "source": [
    "# Run the model.\n",
    "'''\n",
    "result_transitions_nfxp, result_fixp_nfxp = estimate(init_dict_nfxp, data)\n",
    "model = result_fixp_nfxp\n",
    "'''"
   ]
  },
  {
   "cell_type": "code",
   "execution_count": null,
   "metadata": {},
   "outputs": [],
   "source": [
    "# Functions for conditional sampling. This was copied from econsa's documentation.\n",
    "def x_all(n):\n",
    "    distribution = cp.MvNormal(mean, cov)\n",
    "    return distribution.sample(n)\n",
    "\n",
    "def x_cond(n, subset_j, subsetj_conditional, xjc):\n",
    "    if subsetj_conditional is None:\n",
    "        cov_int = np.array(cov)\n",
    "        cov_int = cov_int.take(subset_j, axis = 1)\n",
    "        cov_int = cov_int[subset_j]\n",
    "        distribution = cp.MvNormal(mean[subset_j], cov_int)\n",
    "        return distribution.sample(n)\n",
    "    else:\n",
    "        return _r_condmvn(n, mean = mean, cov = cov, dependent_ind = subset_j, given_ind = subsetj_conditional, x_given = xjc)"
   ]
  },
  {
   "cell_type": "code",
   "execution_count": null,
   "metadata": {},
   "outputs": [],
   "source": []
  },
  {
   "cell_type": "markdown",
   "metadata": {},
   "source": [
    "## Elementary effects\n",
    "\n",
    "Elementary, Watson."
   ]
  },
  {
   "cell_type": "code",
   "execution_count": null,
   "metadata": {},
   "outputs": [],
   "source": []
  },
  {
   "cell_type": "markdown",
   "metadata": {},
   "source": [
    "## Comparison of Shapley and Elementary effects\n",
    "\n",
    "Elementary."
   ]
  },
  {
   "cell_type": "code",
   "execution_count": null,
   "metadata": {},
   "outputs": [],
   "source": []
  },
  {
   "cell_type": "markdown",
   "metadata": {},
   "source": [
    "# References"
   ]
  },
  {
   "cell_type": "markdown",
   "metadata": {},
   "source": [
    " - ruspy\n",
    " - econsa"
   ]
  },
  {
   "cell_type": "code",
   "execution_count": null,
   "metadata": {},
   "outputs": [],
   "source": []
  }
 ],
 "metadata": {
  "kernelspec": {
   "display_name": "Python 3",
   "language": "python",
   "name": "python3"
  },
  "language_info": {
   "codemirror_mode": {
    "name": "ipython",
    "version": 3
   },
   "file_extension": ".py",
   "mimetype": "text/x-python",
   "name": "python",
   "nbconvert_exporter": "python",
   "pygments_lexer": "ipython3",
   "version": "3.8.3-final"
  }
 },
 "nbformat": 4,
 "nbformat_minor": 4
}